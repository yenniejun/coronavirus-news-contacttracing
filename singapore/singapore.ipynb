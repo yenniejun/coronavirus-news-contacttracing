{
 "cells": [
  {
   "cell_type": "code",
   "execution_count": 242,
   "metadata": {},
   "outputs": [],
   "source": [
    "import pandas as pd\n",
    "import string\n",
    "import re\n",
    "import numpy as np\n",
    "import pickle\n",
    "import matplotlib.pyplot as plt\n",
    "import ast"
   ]
  },
  {
   "cell_type": "markdown",
   "metadata": {
    "colab": {},
    "colab_type": "code",
    "id": "JDlKal3qZx2W"
   },
   "source": [
    "# Data Cleaning"
   ]
  },
  {
   "cell_type": "markdown",
   "metadata": {
    "heading_collapsed": true
   },
   "source": [
    "## Merging"
   ]
  },
  {
   "cell_type": "code",
   "execution_count": 77,
   "metadata": {
    "hidden": true
   },
   "outputs": [],
   "source": [
    "import os"
   ]
  },
  {
   "cell_type": "code",
   "execution_count": 78,
   "metadata": {
    "colab": {},
    "colab_type": "code",
    "hidden": true,
    "id": "Bzxb54quZx2Y"
   },
   "outputs": [],
   "source": [
    "files = []\n",
    "root = \"data/\"\n",
    "\n",
    "for item in os.listdir(root):\n",
    "    if os.path.isfile(os.path.join(root, item)):\n",
    "        files.append(item)\n",
    "        \n",
    "files = [a for a in files if \"csv\" in a]"
   ]
  },
  {
   "cell_type": "code",
   "execution_count": 80,
   "metadata": {
    "hidden": true
   },
   "outputs": [],
   "source": [
    "df = pd.concat([pd.read_csv(\"data/\" + a, engine='python') for a in files])\n",
    "df['text'] = df['contents']\n",
    "df['source'] = df['newspaper']\n",
    "df['country'] = 'singapore'\n",
    "\n",
    "df = df[[\"date\", \"title\", \"text\", \"url\", \"source\", \"keyword\", \"country\"]]\n",
    "df.drop_duplicates(inplace=True)"
   ]
  },
  {
   "cell_type": "code",
   "execution_count": 81,
   "metadata": {
    "hidden": true
   },
   "outputs": [
    {
     "data": {
      "text/plain": [
       "date       0\n",
       "title      0\n",
       "text       0\n",
       "url        2\n",
       "source     0\n",
       "keyword    0\n",
       "country    0\n",
       "dtype: int64"
      ]
     },
     "execution_count": 81,
     "metadata": {},
     "output_type": "execute_result"
    }
   ],
   "source": [
    "df.isnull().sum(axis = 0)"
   ]
  },
  {
   "cell_type": "code",
   "execution_count": 82,
   "metadata": {
    "hidden": true
   },
   "outputs": [],
   "source": [
    "df.dropna(subset=['url'], inplace=True)\n",
    "df['date'] = pd.to_datetime(df['date'])\n",
    "df.sort_values(by=\"date\", inplace=True)\n",
    "df.reset_index(inplace=True, drop=True)"
   ]
  },
  {
   "cell_type": "code",
   "execution_count": 83,
   "metadata": {
    "colab": {},
    "colab_type": "code",
    "hidden": true,
    "id": "MyUVgxtpZx2c",
    "outputId": "a1ba8e7b-9ed4-43a2-adbb-34dc81b78b55",
    "scrolled": false
   },
   "outputs": [
    {
     "data": {
      "text/plain": [
       "source\n",
       "straitstimes    25425\n",
       "tnp               500\n",
       "Name: title, dtype: int64"
      ]
     },
     "execution_count": 83,
     "metadata": {},
     "output_type": "execute_result"
    }
   ],
   "source": [
    "df.groupby(\"source\")['title'].count()"
   ]
  },
  {
   "cell_type": "code",
   "execution_count": 84,
   "metadata": {
    "hidden": true
   },
   "outputs": [
    {
     "data": {
      "text/html": [
       "<div>\n",
       "<style scoped>\n",
       "    .dataframe tbody tr th:only-of-type {\n",
       "        vertical-align: middle;\n",
       "    }\n",
       "\n",
       "    .dataframe tbody tr th {\n",
       "        vertical-align: top;\n",
       "    }\n",
       "\n",
       "    .dataframe thead th {\n",
       "        text-align: right;\n",
       "    }\n",
       "</style>\n",
       "<table border=\"1\" class=\"dataframe\">\n",
       "  <thead>\n",
       "    <tr style=\"text-align: right;\">\n",
       "      <th></th>\n",
       "      <th>date</th>\n",
       "      <th>title</th>\n",
       "      <th>text</th>\n",
       "      <th>url</th>\n",
       "      <th>source</th>\n",
       "      <th>keyword</th>\n",
       "      <th>country</th>\n",
       "    </tr>\n",
       "  </thead>\n",
       "  <tbody>\n",
       "    <tr>\n",
       "      <th>0</th>\n",
       "      <td>2020-01-09</td>\n",
       "      <td>50-year-old in Singapore Poly thankful for hel...</td>\n",
       "      <td>She may have 30 years of experience in the eng...</td>\n",
       "      <td>https://www.tnp.sg/news/singapore/50-year-old-...</td>\n",
       "      <td>tnp</td>\n",
       "      <td>corona</td>\n",
       "      <td>singapore</td>\n",
       "    </tr>\n",
       "    <tr>\n",
       "      <th>1</th>\n",
       "      <td>2020-01-10</td>\n",
       "      <td>Six women come forward to adopt abandoned Bedo...</td>\n",
       "      <td>A total of six women have come forward to expr...</td>\n",
       "      <td>https://www.tnp.sg/news/singapore/six-women-co...</td>\n",
       "      <td>tnp</td>\n",
       "      <td>corona</td>\n",
       "      <td>singapore</td>\n",
       "    </tr>\n",
       "    <tr>\n",
       "      <th>2</th>\n",
       "      <td>2020-01-10</td>\n",
       "      <td>Schoolgirl found dead at foot of multi-storey ...</td>\n",
       "      <td>A 13-year-old girl from Hai Sing Catholic Scho...</td>\n",
       "      <td>https://www.tnp.sg/news/singapore/girl-bicycle...</td>\n",
       "      <td>tnp</td>\n",
       "      <td>corona</td>\n",
       "      <td>singapore</td>\n",
       "    </tr>\n",
       "    <tr>\n",
       "      <th>3</th>\n",
       "      <td>2020-01-10</td>\n",
       "      <td>Wuhan flu caused by new coronavirus: More abou...</td>\n",
       "      <td>BEIJING (AP) - Since late last year  people in...</td>\n",
       "      <td>https://www.straitstimes.com/asia/east-asia/wu...</td>\n",
       "      <td>straitstimes</td>\n",
       "      <td>corona</td>\n",
       "      <td>singapore</td>\n",
       "    </tr>\n",
       "    <tr>\n",
       "      <th>4</th>\n",
       "      <td>2020-01-11</td>\n",
       "      <td>Facts about coronaviruses</td>\n",
       "      <td>BEIJING ??Since late last year  dozens of peop...</td>\n",
       "      <td>https://www.straitstimes.com/asia/east-asia/fa...</td>\n",
       "      <td>straitstimes</td>\n",
       "      <td>corona</td>\n",
       "      <td>singapore</td>\n",
       "    </tr>\n",
       "  </tbody>\n",
       "</table>\n",
       "</div>"
      ],
      "text/plain": [
       "        date                                              title  \\\n",
       "0 2020-01-09  50-year-old in Singapore Poly thankful for hel...   \n",
       "1 2020-01-10  Six women come forward to adopt abandoned Bedo...   \n",
       "2 2020-01-10  Schoolgirl found dead at foot of multi-storey ...   \n",
       "3 2020-01-10  Wuhan flu caused by new coronavirus: More abou...   \n",
       "4 2020-01-11                          Facts about coronaviruses   \n",
       "\n",
       "                                                text  \\\n",
       "0  She may have 30 years of experience in the eng...   \n",
       "1  A total of six women have come forward to expr...   \n",
       "2  A 13-year-old girl from Hai Sing Catholic Scho...   \n",
       "3  BEIJING (AP) - Since late last year  people in...   \n",
       "4  BEIJING ??Since late last year  dozens of peop...   \n",
       "\n",
       "                                                 url        source keyword  \\\n",
       "0  https://www.tnp.sg/news/singapore/50-year-old-...           tnp  corona   \n",
       "1  https://www.tnp.sg/news/singapore/six-women-co...           tnp  corona   \n",
       "2  https://www.tnp.sg/news/singapore/girl-bicycle...           tnp  corona   \n",
       "3  https://www.straitstimes.com/asia/east-asia/wu...  straitstimes  corona   \n",
       "4  https://www.straitstimes.com/asia/east-asia/fa...  straitstimes  corona   \n",
       "\n",
       "     country  \n",
       "0  singapore  \n",
       "1  singapore  \n",
       "2  singapore  \n",
       "3  singapore  \n",
       "4  singapore  "
      ]
     },
     "execution_count": 84,
     "metadata": {},
     "output_type": "execute_result"
    }
   ],
   "source": [
    "df.head()"
   ]
  },
  {
   "cell_type": "code",
   "execution_count": 85,
   "metadata": {
    "hidden": true
   },
   "outputs": [],
   "source": [
    "df.to_csv('data/singapore_raw.csv', index=False)"
   ]
  },
  {
   "cell_type": "markdown",
   "metadata": {
    "heading_collapsed": true
   },
   "source": [
    "## Clean, Tokenize, Stem, Lemmatize"
   ]
  },
  {
   "cell_type": "code",
   "execution_count": 54,
   "metadata": {
    "hidden": true
   },
   "outputs": [
    {
     "name": "stderr",
     "output_type": "stream",
     "text": [
      "[nltk_data] Downloading package wordnet to\n",
      "[nltk_data]     /Users/yenniejun/nltk_data...\n",
      "[nltk_data]   Package wordnet is already up-to-date!\n",
      "[nltk_data] Downloading package stopwords to\n",
      "[nltk_data]     /Users/yenniejun/nltk_data...\n",
      "[nltk_data]   Package stopwords is already up-to-date!\n",
      "[nltk_data] Downloading package punkt to /Users/yenniejun/nltk_data...\n",
      "[nltk_data]   Unzipping tokenizers/punkt.zip.\n"
     ]
    }
   ],
   "source": [
    "import nltk\n",
    "nltk.download('wordnet')\n",
    "nltk.download('stopwords')\n",
    "nltk.download('punkt')\n",
    "\n",
    "from nltk.stem import WordNetLemmatizer, SnowballStemmer\n",
    "from nltk.corpus import stopwords;\n",
    "from nltk.tokenize import word_tokenize\n",
    "STOPWORDS = stopwords.words(\"english\")\n",
    "lemmatizer = WordNetLemmatizer()"
   ]
  },
  {
   "cell_type": "code",
   "execution_count": 37,
   "metadata": {
    "hidden": true
   },
   "outputs": [],
   "source": [
    "STOPWORDS.extend([\"said\", \"also\", \"would\", \"like\"] )"
   ]
  },
  {
   "cell_type": "code",
   "execution_count": 50,
   "metadata": {
    "code_folding": [
     0
    ],
    "hidden": true
   },
   "outputs": [],
   "source": [
    "def clean_text(text):\n",
    "    remove_char = string.punctuation + '…' + '\\xa0' + '·' + '\\n' + \\\n",
    "        '※' + '‘' + '’' + '\\'' + '▲' + '∼' + \"△\" + \"“\" + \"”\" + \"▶\" + \"․\" + \\\n",
    "        \"▸\"\n",
    "    text = re.sub('http[s]?://\\S+', '', text) # Remove http urls\n",
    "    text = re.sub('\\S*@\\S*\\s?', '', text) # Remove emails\n",
    "    text = re.sub(r'\\[.*?\\]', '', text) # Remove text in square brackets\n",
    "    text = re.sub(r'[%s]' % re.escape(remove_char), ' ', text) # Remove punctuation\n",
    "    text = re.sub(r'\\w*\\d\\w*', '', text) # Remove words containing numbers\n",
    "    text = re.sub('\\'', '', text)\n",
    "    text = re.sub('\\n', ' ', text)\n",
    "    text = re.sub('\\s+', ' ', text)\n",
    "    return text.lower()"
   ]
  },
  {
   "cell_type": "code",
   "execution_count": 39,
   "metadata": {
    "code_folding": [
     0
    ],
    "hidden": true
   },
   "outputs": [],
   "source": [
    "def preprocess(text):\n",
    "    result = []\n",
    "    for token in word_tokenize(text):\n",
    "        if token not in STOPWORDS and len(token) > 3:\n",
    "            result.append(lemmatizer.lemmatize(token))\n",
    "    return result"
   ]
  },
  {
   "cell_type": "code",
   "execution_count": 86,
   "metadata": {
    "hidden": true
   },
   "outputs": [],
   "source": [
    "df = pd.read_csv('data/singapore_raw.csv')"
   ]
  },
  {
   "cell_type": "code",
   "execution_count": 88,
   "metadata": {
    "hidden": true
   },
   "outputs": [],
   "source": [
    "df['clean_text'] = df['text'].map(lambda x: clean_text(x))"
   ]
  },
  {
   "cell_type": "code",
   "execution_count": 89,
   "metadata": {
    "hidden": true
   },
   "outputs": [],
   "source": [
    "# Tokenize and remove stopwords (this takes a while)\n",
    "df['text_proc_token'] = df['clean_text'].map(preprocess)"
   ]
  },
  {
   "cell_type": "code",
   "execution_count": 90,
   "metadata": {
    "hidden": true
   },
   "outputs": [],
   "source": [
    "df['text_proc'] = df['text_proc_token'].apply(lambda a: ' '.join(a))"
   ]
  },
  {
   "cell_type": "code",
   "execution_count": 91,
   "metadata": {
    "hidden": true
   },
   "outputs": [
    {
     "data": {
      "text/plain": [
       "(1146, 1213)"
      ]
     },
     "execution_count": 91,
     "metadata": {},
     "output_type": "execute_result"
    }
   ],
   "source": [
    "# Number mentioning \"contact tracing\"\n",
    "contact_tracing = df[df.text.str.contains(\"contact tracing|contact-tracing|contact tracking|contact-tracking\")]\n",
    "contact_tracing_c = df[df.clean_text.str.contains(\"contact tracing|contact-tracing|contact tracking|contact-tracking\")]\n",
    "\n",
    "len(contact_tracing), len(contact_tracing_c)"
   ]
  },
  {
   "cell_type": "code",
   "execution_count": 92,
   "metadata": {
    "hidden": true
   },
   "outputs": [],
   "source": [
    "df.text_proc = df.text_proc.str.replace(\"contact tracking\", \"contact tracing\")\n",
    "df.text_proc = df.text_proc.str.replace(\"contacttracking\", \"contact tracing\")\n",
    "df.text_proc = df.text_proc.str.replace(\"contact tracked\", \"contact tracing\")\n",
    "df.text_proc = df.text_proc.str.replace(\"contact track\", \"contact tracing\")\n",
    "df.text_proc = df.text_proc.str.replace(\"contact tracer\", \"contact tracing\")\n",
    "df.text_proc = df.text_proc.str.replace(\"contact trace\", \"contact tracing\")\n",
    "df.text_proc = df.text_proc.str.replace(\"contacttracer\", \"contact tracing\")\n",
    "df.text_proc = df.text_proc.str.replace(\"contacttracing\", \"contact tracing\")\n",
    "df.text_proc = df.text_proc.str.replace(\"contacttrace\", \"contact tracing\")\n",
    "df.text_proc = df.text_proc.str.replace(\"contact-tracing\", \"contact tracing\")\n",
    "df.text_proc = df.text_proc.str.replace(\"contact-tracking\", \"contact tracing\")\n"
   ]
  },
  {
   "cell_type": "code",
   "execution_count": 94,
   "metadata": {
    "hidden": true
   },
   "outputs": [
    {
     "data": {
      "text/plain": [
       "25522"
      ]
     },
     "execution_count": 94,
     "metadata": {},
     "output_type": "execute_result"
    }
   ],
   "source": [
    "df = df.drop_duplicates('text_proc')\n",
    "df.reset_index(drop=True, inplace=True)\n",
    "len(df)"
   ]
  },
  {
   "cell_type": "code",
   "execution_count": 95,
   "metadata": {
    "hidden": true
   },
   "outputs": [
    {
     "data": {
      "text/html": [
       "<div>\n",
       "<style scoped>\n",
       "    .dataframe tbody tr th:only-of-type {\n",
       "        vertical-align: middle;\n",
       "    }\n",
       "\n",
       "    .dataframe tbody tr th {\n",
       "        vertical-align: top;\n",
       "    }\n",
       "\n",
       "    .dataframe thead th {\n",
       "        text-align: right;\n",
       "    }\n",
       "</style>\n",
       "<table border=\"1\" class=\"dataframe\">\n",
       "  <thead>\n",
       "    <tr style=\"text-align: right;\">\n",
       "      <th></th>\n",
       "      <th>date</th>\n",
       "      <th>title</th>\n",
       "      <th>text</th>\n",
       "      <th>url</th>\n",
       "      <th>source</th>\n",
       "      <th>keyword</th>\n",
       "      <th>country</th>\n",
       "      <th>clean_text</th>\n",
       "      <th>text_proc_token</th>\n",
       "      <th>text_proc</th>\n",
       "    </tr>\n",
       "  </thead>\n",
       "  <tbody>\n",
       "    <tr>\n",
       "      <th>0</th>\n",
       "      <td>2020-01-09</td>\n",
       "      <td>50-year-old in Singapore Poly thankful for hel...</td>\n",
       "      <td>She may have 30 years of experience in the eng...</td>\n",
       "      <td>https://www.tnp.sg/news/singapore/50-year-old-...</td>\n",
       "      <td>tnp</td>\n",
       "      <td>corona</td>\n",
       "      <td>singapore</td>\n",
       "      <td>she may have years of experience in the engine...</td>\n",
       "      <td>[year, experience, engineering, industry, stop...</td>\n",
       "      <td>year experience engineering industry stopped z...</td>\n",
       "    </tr>\n",
       "    <tr>\n",
       "      <th>1</th>\n",
       "      <td>2020-01-10</td>\n",
       "      <td>Six women come forward to adopt abandoned Bedo...</td>\n",
       "      <td>A total of six women have come forward to expr...</td>\n",
       "      <td>https://www.tnp.sg/news/singapore/six-women-co...</td>\n",
       "      <td>tnp</td>\n",
       "      <td>corona</td>\n",
       "      <td>singapore</td>\n",
       "      <td>a total of six women have come forward to expr...</td>\n",
       "      <td>[total, woman, come, forward, express, interes...</td>\n",
       "      <td>total woman come forward express interest cari...</td>\n",
       "    </tr>\n",
       "    <tr>\n",
       "      <th>2</th>\n",
       "      <td>2020-01-10</td>\n",
       "      <td>Schoolgirl found dead at foot of multi-storey ...</td>\n",
       "      <td>A 13-year-old girl from Hai Sing Catholic Scho...</td>\n",
       "      <td>https://www.tnp.sg/news/singapore/girl-bicycle...</td>\n",
       "      <td>tnp</td>\n",
       "      <td>corona</td>\n",
       "      <td>singapore</td>\n",
       "      <td>a year old girl from hai sing catholic school ...</td>\n",
       "      <td>[year, girl, sing, catholic, school, found, mo...</td>\n",
       "      <td>year girl sing catholic school found motionles...</td>\n",
       "    </tr>\n",
       "    <tr>\n",
       "      <th>3</th>\n",
       "      <td>2020-01-10</td>\n",
       "      <td>Wuhan flu caused by new coronavirus: More abou...</td>\n",
       "      <td>BEIJING (AP) - Since late last year  people in...</td>\n",
       "      <td>https://www.straitstimes.com/asia/east-asia/wu...</td>\n",
       "      <td>straitstimes</td>\n",
       "      <td>corona</td>\n",
       "      <td>singapore</td>\n",
       "      <td>beijing ap since late last year people in the ...</td>\n",
       "      <td>[beijing, since, late, last, year, people, cen...</td>\n",
       "      <td>beijing since late last year people central ch...</td>\n",
       "    </tr>\n",
       "    <tr>\n",
       "      <th>4</th>\n",
       "      <td>2020-01-11</td>\n",
       "      <td>Facts about coronaviruses</td>\n",
       "      <td>BEIJING ??Since late last year  dozens of peop...</td>\n",
       "      <td>https://www.straitstimes.com/asia/east-asia/fa...</td>\n",
       "      <td>straitstimes</td>\n",
       "      <td>corona</td>\n",
       "      <td>singapore</td>\n",
       "      <td>beijing since late last year dozens of people ...</td>\n",
       "      <td>[beijing, since, late, last, year, dozen, peop...</td>\n",
       "      <td>beijing since late last year dozen people chin...</td>\n",
       "    </tr>\n",
       "  </tbody>\n",
       "</table>\n",
       "</div>"
      ],
      "text/plain": [
       "         date                                              title  \\\n",
       "0  2020-01-09  50-year-old in Singapore Poly thankful for hel...   \n",
       "1  2020-01-10  Six women come forward to adopt abandoned Bedo...   \n",
       "2  2020-01-10  Schoolgirl found dead at foot of multi-storey ...   \n",
       "3  2020-01-10  Wuhan flu caused by new coronavirus: More abou...   \n",
       "4  2020-01-11                          Facts about coronaviruses   \n",
       "\n",
       "                                                text  \\\n",
       "0  She may have 30 years of experience in the eng...   \n",
       "1  A total of six women have come forward to expr...   \n",
       "2  A 13-year-old girl from Hai Sing Catholic Scho...   \n",
       "3  BEIJING (AP) - Since late last year  people in...   \n",
       "4  BEIJING ??Since late last year  dozens of peop...   \n",
       "\n",
       "                                                 url        source keyword  \\\n",
       "0  https://www.tnp.sg/news/singapore/50-year-old-...           tnp  corona   \n",
       "1  https://www.tnp.sg/news/singapore/six-women-co...           tnp  corona   \n",
       "2  https://www.tnp.sg/news/singapore/girl-bicycle...           tnp  corona   \n",
       "3  https://www.straitstimes.com/asia/east-asia/wu...  straitstimes  corona   \n",
       "4  https://www.straitstimes.com/asia/east-asia/fa...  straitstimes  corona   \n",
       "\n",
       "     country                                         clean_text  \\\n",
       "0  singapore  she may have years of experience in the engine...   \n",
       "1  singapore  a total of six women have come forward to expr...   \n",
       "2  singapore  a year old girl from hai sing catholic school ...   \n",
       "3  singapore  beijing ap since late last year people in the ...   \n",
       "4  singapore  beijing since late last year dozens of people ...   \n",
       "\n",
       "                                     text_proc_token  \\\n",
       "0  [year, experience, engineering, industry, stop...   \n",
       "1  [total, woman, come, forward, express, interes...   \n",
       "2  [year, girl, sing, catholic, school, found, mo...   \n",
       "3  [beijing, since, late, last, year, people, cen...   \n",
       "4  [beijing, since, late, last, year, dozen, peop...   \n",
       "\n",
       "                                           text_proc  \n",
       "0  year experience engineering industry stopped z...  \n",
       "1  total woman come forward express interest cari...  \n",
       "2  year girl sing catholic school found motionles...  \n",
       "3  beijing since late last year people central ch...  \n",
       "4  beijing since late last year dozen people chin...  "
      ]
     },
     "execution_count": 95,
     "metadata": {},
     "output_type": "execute_result"
    }
   ],
   "source": [
    "df.head()"
   ]
  },
  {
   "cell_type": "code",
   "execution_count": 129,
   "metadata": {
    "hidden": true
   },
   "outputs": [],
   "source": [
    "df = df[~df.text_proc.isnull()]"
   ]
  },
  {
   "cell_type": "code",
   "execution_count": 130,
   "metadata": {
    "hidden": true
   },
   "outputs": [],
   "source": [
    "df = df[df.date <= \"2020-06-24\"]"
   ]
  },
  {
   "cell_type": "code",
   "execution_count": 131,
   "metadata": {
    "hidden": true
   },
   "outputs": [
    {
     "data": {
      "text/plain": [
       "15488"
      ]
     },
     "execution_count": 131,
     "metadata": {},
     "output_type": "execute_result"
    }
   ],
   "source": [
    "len(df)"
   ]
  },
  {
   "cell_type": "code",
   "execution_count": 132,
   "metadata": {
    "hidden": true
   },
   "outputs": [
    {
     "data": {
      "text/plain": [
       "846"
      ]
     },
     "execution_count": 132,
     "metadata": {},
     "output_type": "execute_result"
    }
   ],
   "source": [
    "contact_tracing = df[df.text_proc.str.contains(\"contact tracing\")]\n",
    "len(contact_tracing)"
   ]
  },
  {
   "cell_type": "code",
   "execution_count": 133,
   "metadata": {
    "hidden": true
   },
   "outputs": [],
   "source": [
    "df.to_csv(\"data/text_proc.csv\", index=False)"
   ]
  },
  {
   "cell_type": "markdown",
   "metadata": {
    "heading_collapsed": true
   },
   "source": [
    "## Topic Model\n"
   ]
  },
  {
   "cell_type": "code",
   "execution_count": 134,
   "metadata": {
    "hidden": true
   },
   "outputs": [],
   "source": [
    "df = pd.read_csv(\"data/text_proc.csv\")"
   ]
  },
  {
   "cell_type": "code",
   "execution_count": 66,
   "metadata": {
    "hidden": true
   },
   "outputs": [],
   "source": [
    "from sklearn.feature_extraction.text import TfidfTransformer, TfidfVectorizer\n",
    "from sklearn.decomposition import NMF;\n",
    "from sklearn.preprocessing import normalize;"
   ]
  },
  {
   "cell_type": "code",
   "execution_count": 67,
   "metadata": {
    "code_folding": [
     0
    ],
    "hidden": true
   },
   "outputs": [],
   "source": [
    "def show_topics(a, vocab, num_top_words):\n",
    "    top_words = lambda t: [vocab[i] for i in np.argsort(t)[:-num_top_words-1:-1]]\n",
    "    topic_words = ([top_words(t) for t in a])\n",
    "    return [' '.join(t) for t in topic_words]"
   ]
  },
  {
   "cell_type": "code",
   "execution_count": 68,
   "metadata": {
    "code_folding": [
     1
    ],
    "hidden": true
   },
   "outputs": [],
   "source": [
    "# https://medium.com/@yanlinc/how-to-build-a-lda-topic-model-using-from-text-601cdcbfd3a6\n",
    "def document_topic_matrix(model, data, n_components):\n",
    "    # column names\n",
    "    topicnames = [\"Topic\" + str(i) for i in range(n_components)]\n",
    "    # index names\n",
    "    docnames = [\"Doc\" + str(i) for i in range(len(data))]\n",
    "    # Make the pandas dataframe\n",
    "    df_document_topic = pd.DataFrame(np.round(model, 2), columns=topicnames, index=docnames)\n",
    "    # Get dominant topic for each document\n",
    "    dominant_topic = np.argmax(df_document_topic.values, axis=1)\n",
    "    df_document_topic[\"dominant_topic\"] = dominant_topic\n",
    "    return df_document_topic"
   ]
  },
  {
   "cell_type": "code",
   "execution_count": 69,
   "metadata": {
    "code_folding": [
     0
    ],
    "hidden": true
   },
   "outputs": [],
   "source": [
    "def topic_keyword_matrix(model, vectorizer):\n",
    "    # Topic-Keyword Matrix\n",
    "    df_topic_keywords = pd.DataFrame(model.components_)\n",
    "    # Assign Column and Index\n",
    "    df_topic_keywords.columns = vectorizer.get_feature_names()\n",
    "    topicnames = [\"Topic\" + str(i) for i in range(n_components)]\n",
    "\n",
    "    df_topic_keywords.index = topicnames\n",
    "    # View\n",
    "    df_topic_keywords.head()\n",
    "    return df_topic_keywords"
   ]
  },
  {
   "cell_type": "code",
   "execution_count": 70,
   "metadata": {
    "code_folding": [
     0
    ],
    "hidden": true
   },
   "outputs": [],
   "source": [
    "def topic_keyword_matrix(model, vectorizer):\n",
    "    # Topic-Keyword Matrix\n",
    "    df_topic_keywords = pd.DataFrame(model.components_)\n",
    "    # Assign Column and Index\n",
    "    df_topic_keywords.columns = vectorizer.get_feature_names()\n",
    "    topicnames = [\"Topic\" + str(i) for i in range(n_components)]\n",
    "\n",
    "    df_topic_keywords.index = topicnames\n",
    "    # View\n",
    "    df_topic_keywords.head()\n",
    "    return df_topic_keywords"
   ]
  },
  {
   "cell_type": "code",
   "execution_count": 71,
   "metadata": {
    "code_folding": [
     0,
     7
    ],
    "hidden": true
   },
   "outputs": [],
   "source": [
    "def top_tfidf_feats(row, features, top_n=25):\n",
    "    topn_ids = np.argsort(row)[::-1][:top_n]\n",
    "    top_feats = [(features[i], row[i]) for i in topn_ids]\n",
    "    df = pd.DataFrame(top_feats)\n",
    "    df.columns = ['feature', 'tfidf']\n",
    "    return df\n",
    "\n",
    "def top_feats_in_doc(Xtr, features, row_id, top_n=25):\n",
    "    row = vectors[row_id].T.todense()\n",
    "    return top_tfidf_feats(row, features, top_n)"
   ]
  },
  {
   "cell_type": "code",
   "execution_count": 135,
   "metadata": {
    "hidden": true
   },
   "outputs": [
    {
     "data": {
      "text/plain": [
       "15488"
      ]
     },
     "execution_count": 135,
     "metadata": {},
     "output_type": "execute_result"
    }
   ],
   "source": [
    "len(df)"
   ]
  },
  {
   "cell_type": "code",
   "execution_count": 136,
   "metadata": {
    "hidden": true
   },
   "outputs": [],
   "source": [
    "num_articles = len(df)\n",
    "# num_articles = 10000 # This is for a small subset for playing around\n",
    "\n",
    "documents = [''.join(a) for a in df[0:num_articles].text_proc] \n",
    "sources = df[0:num_articles].source\n",
    "\n",
    "n_components = 300"
   ]
  },
  {
   "cell_type": "code",
   "execution_count": 137,
   "metadata": {
    "hidden": true
   },
   "outputs": [],
   "source": [
    "nmf = NMF(n_components=n_components, random_state=1, init='nndsvd')\n",
    "tfidf_vectorizer = TfidfVectorizer(min_df=1, max_df = 0.8, ngram_range = (2,2), lowercase=False, max_features=5000)\n",
    "tfidf_vectors = tfidf_vectorizer.fit_transform(documents)"
   ]
  },
  {
   "cell_type": "code",
   "execution_count": 138,
   "metadata": {
    "hidden": true
   },
   "outputs": [
    {
     "data": {
      "text/plain": [
       "True"
      ]
     },
     "execution_count": 138,
     "metadata": {},
     "output_type": "execute_result"
    }
   ],
   "source": [
    "# CHECK: Make sure that contact tracing exists in the vectorizer's feature names\n",
    "\"contact tracing\" in tfidf_vectorizer.get_feature_names() "
   ]
  },
  {
   "cell_type": "code",
   "execution_count": 139,
   "metadata": {
    "hidden": true
   },
   "outputs": [
    {
     "name": "stderr",
     "output_type": "stream",
     "text": [
      "/usr/local/lib/python3.8/site-packages/sklearn/decomposition/_nmf.py:1076: ConvergenceWarning: Maximum number of iterations 200 reached. Increase it to improve convergence.\n",
      "  warnings.warn(\"Maximum number of iterations %d reached. Increase it to\"\n"
     ]
    },
    {
     "name": "stdout",
     "output_type": "stream",
     "text": [
      "CPU times: user 13min 11s, sys: 46.4 s, total: 13min 58s\n",
      "Wall time: 10min 7s\n"
     ]
    }
   ],
   "source": [
    "%time nmf_tfidf_vec = nmf.fit_transform(tfidf_vectors)"
   ]
  },
  {
   "cell_type": "code",
   "execution_count": 141,
   "metadata": {
    "hidden": true
   },
   "outputs": [],
   "source": [
    "vocab = np.array(tfidf_vectorizer.get_feature_names())\n",
    "num_top_words = 50\n",
    "nmf_topics = show_topics(nmf.components_, vocab, num_top_words)"
   ]
  },
  {
   "cell_type": "code",
   "execution_count": 142,
   "metadata": {
    "hidden": true
   },
   "outputs": [
    {
     "data": {
      "text/plain": [
       "['subscribe continue please subscribe full article reading full continue reading article please article term condition apply term condition time spoke singapore year department store singapore pool global pandemic alert level standard chartered stock market hubei province grace assembly university student early day human contact financial market singapore covid travel plan infected coronavirus school holiday across world outbreak covid coronavirus epidemic home week time business almost cent covid cluster first confirmed sunday time spreading coronavirus economic growth covid last economic fallout senior consultant airport terminal march year financial year till june measure contain diagnosed covid isolation ward cent compared court heard',\n",
       " 'united state state china state britain across united europe united state said state department according reuters including united people united state europe china united reuters tally said united latin america state country world largest state president country including state would president jair million case jair bolsonaro chinese government grocery store killed people million american security council china india third highest talk show chinese student expert said saving life country like move forward united kingdom york time spread across south america around globe earlier week highest world human service many year state also year china health human look forward world economy',\n",
       " 'circuit breaker breaker measure measure kicked singapore circuit covid circuit since circuit measure lifted kicked april even circuit since april said circuit measure eased looking forward breaker end measure place till june extension circuit take away extended june sunday time time week minister hsien breaker month hsien loong stem spread measure said room flat week circuit case community face face robertson quay play part pandemic singapore announced april measure necessary social gathering minister yong day week home much began april worker dormitory housing board said even took effect say year extended circuit exit circuit much possible wider community rental flat',\n",
       " 'case year year singaporean travel history recent travel onset symptom grace assembly singaporean woman reported onset safra jurong life church national centre centre infectious church mission linked case history affected warded isolation isolation room disease ncid year woman critical condition mission singapore confirmed covid case confirmed currently warded affected country case case fully recovered confirmed infected country region covid infection general practitioner still hospital condition intensive year male case linked year indonesian practitioner clinic recovered discharged hospital stable case announced case still hospital admission discharged hospital confirmed virus patient discharged singapore work gone work case singaporean heart disease case recent',\n",
       " 'hong kong national security four people china hong cathay pacific public gathering online concert billion million chinese company read also someone might bureau chief eight people chan said self quarantine asian financial theme park reading know insider sign enjoy receiving receiving asian know someone sign page might enjoy asian insider late january confirmed infected case four across asia since january pandemic said stock exchange since early closed since also took quarantine order stay safe amid pandemic said many early january year earlier chinese state sunday morning according statement travel history early february daily news three million well known covid world',\n",
       " 'premier league league club manchester city english premier manchester united neutral venue english flight english football aston villa sheffield united project restart league player league season return training told sport league title football association player staff small group return action british government season resume league said football league football club league suspended finish season complete season said player wage cut match played professional football player coach league match suspended since player union first team league game league resume resume training season suspended cent wage play part player would least april positive test second tier three week next season game played',\n",
       " 'past reserve support package support measure covid support solidarity budget resilience budget emerge stronger resilience solidarity financial year fortitude budget future generation said government worker business billion cent measure help budget announced additional support help business package help since independence heng said supplementary budget government support life livelihood help worker care support billion support package announced economic social four budget economy society solidarity payment president said save job support business second time fight covid nearly billion announced billion said covid singapore economy budget deficit economic fallout support government pandemic singapore government plan billion package measure announced president halimah retain worker',\n",
       " 'donald trump president donald state president trump administration said trump side effect former vice presidential election trump campaign democratic presidential chinese virus republican senator malaria drug washington president handling coronavirus president trump phone call house representative attorney general state governor said twitter national emergency international cooperation state local democratic party later said since coronavirus jair bolsonaro washington reuters food drug medical journal supreme court several state african american game changer handling crisis president jair approval rating world leader handling pandemic home order cast doubt trump also medical equipment handling covid saturday night pandemic began drug administration global crisis global economy',\n",
       " 'trade union union congress national trade secretary general congress ntuc labour movement singapore national security council ministry manpower older worker wage worker fresh graduate united nation sgunited job manpower minister minister josephine help worker company worker worker employer help company job skill minister office safety health many worker service provider workforce singapore west coast government support come together national job training support job council worker said training programme affected covid fortitude budget security officer losing job labour market also make worker also training opportunity said facebook difficult time worker take member also save job public sector said also sgunited traineeship',\n",
       " 'weekday facebook broadcast every every weekday talk show discussing story story broadcast air live heart newsroom editor discussing digital studio youtube reporter weekday talk live digital reporter senior senior editor time weekday facebook youtube hottest topic singapore catch topic strait catch hottest previous episode covered previous show story helmed multimedia story heart multimedia correspondent editor olivia olivia quay assistant video video editor correspondent hairianto hairianto diman strait time bureau chief singapore safe resilience budget muhyiddin yassin impact covid fortitude budget alex cook help singaporean case singapore singapore grand swee hock hock school measure help phase reopening coronavirus situation elizabeth novena',\n",
       " 'migrant worker worker centre worker community worker living living condition back home among migrant governmental organisation worker singapore worker dormitory profit organisation care pack construction industry social enterprise worker also living dormitory junior college construction worker worker staying take care worker well worker said construction sector said worker manpower minister worker dorm quarantine facility human right really need construction site worker return permanent resident minister josephine raise fund show appreciation essential worker facebook post little india music video association singapore dorm operator chicken rice worker affected worker home singapore year community youth high commission culture community executive director worker including',\n",
       " 'safe distancing distancing ambassador enforcement officer safe distance distancing rule practise safe ensure safe observe safe wearing mask park board maintain safe national park peak hour comply safe keep safe elevated safe nature reserve physical contact peak period shopping mall socially responsible personal hygiene singapore safe distancing guideline crowd control entry exit limit number least apart political party said added number visitor distance others period said lower risk enterprise singapore distancing requirement general manager fined jailed charged court people keep member public said spokesman bukit timah across singapore public servant ensure people business individual distance another keeping safe together said',\n",
       " 'white house trump administration administration official washington reuters house said mike penny house coronavirus president mike coronavirus task president trump said trump trump told tested negative trump also washington bloomberg reuters president senior adviser face covering washington nytimes donald trump recent day said president washington president federal government first reported medical expert president said wore mask government response president donald coronavirus response people united anthony fauci self quarantine million american drug administration national security health human human service staff member economic stimulus back work state governor food drug york time across country response coronavirus news briefing negative coronavirus business leader',\n",
       " 'water resource environment water masagos zulkifli enforcement officer minister environment resource masagos said masagos masagos said facebook post zulkifli said member public geylang serai time offender last digit popular market public hygiene offender face said facebook national park public space turned away green pulse robertson quay park board said minister jurong west charged court face fine outside home elevated safe public servant keep singapore nric number repeat offender second time singapore safe last night minister charge nature reserve still many wearing mask post yesterday void deck pulse podcast home possible based business east coast said singaporean good hygiene singapore people',\n",
       " 'tested positive positive coronavirus positive covid positive virus also tested testing positive people tested player tested positive test tested negative contracted virus self quarantine test positive staff member staff tested member tested later tested showing symptom positive result tested coronavirus test result came back self isolating patient tested self isolate year woman three day mild symptom like symptom contracting virus placed quarantine covid last tested covid positive case team said tested virus player staff contracted coronavirus day later admitted hospital team member infected covid covid positive developed symptom covid said come contact symptom covid coronavirus said reported wednesday quarantine home',\n",
       " 'france presse agence france presse reuters told agence reuters agence coronavirus lockdown owing coronavirus health safety death yesterday announced yesterday football club yesterday said covid disease best known bayern munich first death association said reported yesterday four time united nation wednesday night across europe yesterday reported football association killed people would make scheduled july thursday night organiser said admitted hospital infection death washington president also reported country said european football last wednesday league season said wanted case yesterday world need seoul south contracting covid posted video wave covid hardest country tuesday night local authority training session health concern english flight',\n",
       " 'stay home home order people stay stay safe home stay resident stay much possible home singapore home measure home much told stay home except essential business home avoid leave home singaporean stay must stay essential activity except essential social gathering home essential save life slow spread people still play part social interaction fight coronavirus loved one place order home period home week million american urged people going happen home coronavirus government order home business stricter measure affected outbreak grocery store many parent time make restriction movement safe distance business shut home possible time together lockdown rule medical expert home people',\n",
       " 'health commission asymptomatic case national health commission said china reported reuters china beijing reuters shanghai reuters also reported case imported case mainland case earlier asymptomatic patient patient infected reported confirmed case involving total number reported coronavirus show symptom country health north eastern death reported imported infection case china case reported china national death toll number confirmed reported death case april case patient infected virus hubei province locally transmitted traveller arriving four case case four case sunday case friday said china case local infected coronavirus imported case case thursday wuhan epicentre reported tuesday local infection case total showing symptom three case',\n",
       " 'also said said also home affair said added parliamentary secretary senior parliamentary national park park board said government said working said letter ministry also said parliament also noted blog post company also said decision said received said evidence need help month said also asked indian national surbana jurong third party medical personnel text message vaccine covid temperature screening around april would able service also year billion pandemic added wednesday said organisation also said asked last december party chief national development star asia said post said people still able late wednesday soap water tested covid said china said noting outbreak said',\n",
       " 'home based based learning full home junior college ministry education primary secondary based business secondary student help child parent also secondary school school also internet access screen time school holiday child parent child home said school student care special need parent child online platform school teacher student also video conferencing said home education said small group online learning able make child need care centre student school minister kung parent working said parent graduating cohort lower income work school primary school higher learning institute higher home period back school military training income family student said also help four five period also',\n",
       " 'prime minister hsien loong minister hsien muhyiddin yassin minister muhyiddin minister office said prime pakatan harapan mahathir mohamad minister shinzo perikatan nasional minister said giuseppe conte minister giuseppe cabinet meeting datuk seri office said loong said address nation minister pedro right wing conte said pedro sanchez japanese prime deputy prime said country sanchez said televised address late thursday minister narendra scott morrison narendra modi stimulus package opposition party difficult time minister scott government decided yesterday said foreign policy jacinda ardern party leader said meeting point cent people said minister also government take statement issued minister jacinda march country bureau chief',\n",
       " 'facebook instagram keeping busy story poem poem contribution reader coping contribution facebook account curate please send curate showcase hear reader coping keeping like hear picture story busy home send video video picture including stayhomest showcase including home please instagram account also like would also virtual tour film maker strait time online course manchester united singapore national interview strait behind scene pulse podcast green pulse singapore first also available also offer singapore based singapore would made available home circuit best known apple google take part medium channel last minute part singapore school holiday orchard road platform zoom eight year affected pandemic',\n",
       " 'social distancing distancing rule distancing guideline strict social practise social maintain social distancing restriction distancing policy metre apart peak hour limit number keep people would allow distancing requirement bar restaurant recent week infection rate people back face covering flatten curve temperature check public gathering least metre must remain large group daily life keep distance four people coronavirus lockdown back work essential business public place social gathering social isolation many business government imposed local business contain pandemic family friend distance others mask wearing daily case large gathering religious service virus spread another person scale social encourage people partial lockdown wore mask',\n",
       " 'infectious disease disease expert centre infectious national centre disease specialist disease ncid mount elizabeth stay order leong said disease covid executive director university hospital national university elizabeth novena school medicine arrived singapore dale fisher five day risk infection senior consultant tropical medicine director national immigration checkpoint checkpoint authority health professional hospital said disease said medicine said seng hospital tock seng said professor seek medical emerging infectious super spreader medical attention expert said professor yang sore throat infected person prevention control london school anthony fauci need know hospital also show symptom disease programme high touch healthcare system health system transmission virus',\n",
       " 'strait time told strait time understands spokesman told time yesterday time last interview strait executive director fight covid time spoke query strait response query three child want know additional reporting news report april case said added time index indian government singapore first firm also mount elizabeth general manager said spokesman commercial flight seven day time reported elizabeth novena said made mustafa centre nearly month warren fernandez recent week time business know long behind scene joko widodo president joko past month time said covid cluster also looking movement restriction time together infected coronavirus instagram facebook good thing time crisis covid infection',\n",
       " 'foreign worker worker dormitory isolation area among foreign worker levy worker living worker singapore living condition singapore foreign living dormitory dormitory punggol housing board infection among number worker dormitory said take care medical facility worker essential guan dormitory westlite guan large number tanjong pagar worker said construction industry gazetted isolation health measure back home home country worker dorm singapore armed wider community south asian yesterday said worker tested said foreign vast majority worker would dormitory operator worker staying covid infection recovered covid labour force facebook post taken care case among armed force many worker business group reduce number majority case',\n",
       " 'five year town council next five singer songwriter past five look forward four year living room tanjong pagar many year year daughter year term fined jailed year fined year later people action year also action party singapore together head research housing board response covid time covid bukit timah phone call term loan year since council said private home much time empty stadium tuesday june create job three child coming year open door feel like emerge stronger cent lower year period going back first thing later year bukit panjang still cent address nation ruling party find way back home government handling',\n",
       " 'front line line worker show appreciation front liner doctor nurse medical staff line healthcare music video medical worker video message healthcare staff battling covid food bank vulnerable group parliamentary secretary senior parliamentary courage fund essential worker home affair loved one community youth culture community hard work facebook post many singaporean show solidarity hospital staff taking part year later fight coronavirus community chest singapore together care package fight covid healthcare professional protective suit care pack raised million tock seng ministry culture singapore time fellow singaporean seng hospital battle covid worker essential help people singer songwriter help others across island play part',\n",
       " 'contact tracing personal data smart nation check system tracing effort privacy concern apple google data collected digital check location data data protection close proximity vivian balakrishnan technology agency minister charge come contact testing contact work well nric number digital tool cent population contact infected blog post personal information infected person three quarter entry exit activity resume test positive would need work singapore people without public sector taxi driver european country human contact curb spread people close testing capacity mass testing said minister person infected herd immunity allow people risk group half month contact covid three day come time infected case',\n",
       " 'last year period last late last compared period cent last year according million last year cent recent year month last compared last march last year compared december last report last billion last month year china late cent compared april last time last emerged late cent increase year last quarter year previous year quarter last given current earlier year year million year china year would pandemic still january march might able season start year also first three dengue case year since increased cent billion million executive director international travel year even year high playing game china last year said company also',\n",
       " 'supply chain global supply chain disruption essential good chain said global trade cross border global demand china trade digital economy said singapore chamber commerce minister trade free trade restrictive measure business continuity essential item china said essential supply trade deal said pandemic business operation state china said country good service singapore also country also surge demand added singapore global economy many country international trade global growth china india remain open stock market also highlighted follow suit global response world trade sheng siong trade agreement country like said also across world foreign investment outside china china japan artificial intelligence lower cost',\n",
       " 'state emergency minister shinzo tokyo reuters declared state emergency declaration governor yuriko yuriko koike tokyo governor public broadcaster people stay reuters japan business close japanese government economy minister prime minister japanese prime national government trillion trillion world third home business business shut resident stay month long stimulus package sanchez said cherry blossom emergency measure medical system cash handout twitter user told parliament pedro sanchez central government case yesterday business closure local medium department store largest economy daily infection third largest government also school close minister pedro cash payouts convenience store spread infection last night europe united cloth mask coronavirus epidemic',\n",
       " 'social medium medium platform medium account medium post medium channel went viral conspiracy theory feel like posted video medium company video posted said social facebook instagram instagram account personal information twitter user digital marketing best known recent week chinese government think would text message political party help people global time many others total million medium said take care food bank singer songwriter across country trump campaign several time also encouraged door door stuck home want know many way facebook youtube board member take action university student public service infected coronavirus news medium need know tech company screen time instagram facebook',\n",
       " 'closed door behind closed played behind empty stadium match played told sport game played league said presse reuters league game professional sport neutral venue league match sporting event inter milan borussia dortmund second tier sport event decision taken month coronavirus mass gathering want give first four pushed back slow spread taking place could also world champion play game european football make sense next tuesday later year around million season would sport minister event also even without season suspended finish season last resort europa league could still association said remains seen distancing guideline early outbreak said march time come complete season',\n",
       " 'self employed employed person employed people relief scheme income relief person income july october cash payouts nine month help tide loss income relief fund wage worker training support congress ntuc support grant temporary relief ministry manpower part time support scheme national trade union congress supplementary budget aged year central provident provident fund hire driver source income lost job trade union wanted known announced march middle income time work manpower ministry business owner scheme help least cent parliament yesterday mental well care support sgunited job cancelled postponed minister josephine monday april private hire worker including taxi driver manpower minister covid support',\n",
       " 'chief executive executive officer group chief deputy chief said company company also executive said said chief neutral venue business leader york bloomberg officer said singapore international tech company executive director time like asset management cherry blossom take time global pandemic challenging time said firm said plan technology company play important group also important role longer term third party singapore based unpaid leave firm also staff working aviation sector announced plan said many moving forward long haul help child time also said group singaporean also could last said interview could take cent capacity artificial intelligence gilead science sgunited traineeship take cent',\n",
       " 'apple podcasts google podcasts podcasts google spotify apple min synopsis green pulse covid circuit strait time money hack asian insider health check public hygiene pulse podcast time business battle covid home covid national art art council minister finance every week global covid duke medical covid period current covid fight covid minister communication solidarity budget courage fund fresh graduate singapore government home circuit time covid look like living room work arrangement radio station medical school decision made post covid business time game changer minister charge apple google flexible work second minister communication information vivian balakrishnan public policy help protect uncertain time',\n",
       " 'court document month fined offender jailed jailed month year fined jailed year plead guilty repeat offender covid temporary time offender temporary measure back court left home court heard around april public prosecutor nose mouth leaving home another person hour later jail term social gathering home april stay order amid coronavirus day later beauty salon arrived singapore public servant void deck checkpoint authority case involving immigration checkpoint shopping mall national park offender face also face disease covid park board singapore year april also april year indian national found guilty amid covid enforcement action measure also chinese national first time fined jailed',\n",
       " 'litre water turn heat hedy khoo time food follow strait instagram facebook medium heat five minute strait time three minute three four chinese medicine traditional chinese four five facebook instagram fried chicken instant noodle breaker month home instead twice week used treat short time food drink able make help reduce three hour east coast good news take three care package feel like home without four hour also used uncertain time work well south korean also make food medicine sunday time public holiday good health several year make difference hawker stall said need covid time border restriction home also people like',\n",
       " 'business time singapore business share closed closed cent mainboard listed time business ended march quarter ended cent friday time singapore impact covid cent wednesday listed company cent share bank also singapore exchange financial year profit million singapore based cent million million year ocbc bank manager said money hack singapore malaysia brick mortar wednesday said year million business operation said group united overseas cent lower third party billion yuan overseas bank singapore airline academic year monday said asset management press holding time understands said business singapore press till april cent monday according report working capital service provider june said investment trust',\n",
       " 'last month month cent month said early last said last private home cent last since last month compared head research late last announced last month year past month month also since january purchasing manager cent march previous month month coronavirus cent increase month month month company year last month last march according april last month first housing board month government month singapore data showed cent february playing game cent lower still cent board flat month april month time cent decline say year survey showed time last cent higher manufacturing sector year earlier month people recent week family home global demand',\n",
       " 'nursing home home resident care home term care resident staff mooi home home staff staff member care centre integrated care agency integrated care facility senior citizen home singapore affected area khoo teck care service activity centre care said teck puat puat hospital tested coronavirus home visit older people home also people aged health agency staff tested covid death minimise risk number visitor cleaning disinfection resume june recent week patient died medical condition reported death home last said staff people work confirmed covid additional support tested negative risk covid infection control thorough cleaning home said cluster case tracing ongoing number patient',\n",
       " 'covid pandemic amid covid pandemic said caused covid global covid month covid march covid thursday june said twitter response covid season suspended light covid ongoing covid pandemic also current covid impact covid year covid handling covid owing covid would likely medium reported difficult period world champion last december digital technology later year pandemic singapore affected covid pandemic global world championship pandemic continues group said result covid world number fighting covid wide ranging think would market also challenging time fallout covid part world look forward come time statement said people live look back also take home covid nearly million institute technical',\n",
       " 'work home employee work home arrangement staff work home office people work back office home possible home coronavirus continue work home work even pandemic conference call business district four day time covid silver lining central business business continuity point view call centre employee working facebook live working hour sick leave long haul said able ministry manpower also come many company people live face face work done service worker said parent johnson said back work start work four time home delivery current situation hard work work hour contingency plan civil servant home many office worker sgunited traineeship home said early last',\n",
       " 'coronavirus pandemic amid coronavirus global coronavirus pandemic said impact coronavirus affected coronavirus owing coronavirus response coronavirus pandemic forced pandemic according march coronavirus talk show singapore time fight coronavirus time coronavirus organiser said said coronavirus pandemic last pandemic brought pandemic also since coronavirus year coronavirus announced april pandemic could ongoing coronavirus hard coronavirus battle coronavirus pandemic still handling coronavirus contain coronavirus said letter combat coronavirus would allow pandemic many caused coronavirus would difficult pandemic began digital platform pandemic world family service since world economy recover even virus since february pandemic added queen elizabeth back normal pandemic country said year blog post',\n",
       " 'south east east asia east asian asian country ride hailing across south asia largest highest south asian nation case south country south highest number infection south president joko joko widodo fourth populous world fourth singapore south west java partial lockdown singapore based capital jakarta largest economy like many asean country asian financial scale social covid task populous country populous nation research firm surbana jurong recent week large scale china south million job digital economy central java digital transformation physical distancing help said population million city state across region financial service number infection contain coronavirus local business singapore country capital city',\n",
       " 'staying home spending time people staying feel like take time time family spend time time home physical contact home said home much home also video game time spent sunday time look like special need family home went viral home office essential worker televised address like covid time coronavirus home time curb spread much time queen elizabeth everyone else month since open door save life silver lining stay connected someone else fight covid home circuit year daughter delivery order senior citizen newspaper reported last minute fast food also known video conference home coronavirus like many take care posted facebook public relation',\n",
       " 'clinical trial coronavirus vaccine vaccine candidate human trial treatment covid vaccine developed covid vaccine million dos vaccine development side effect develop vaccine vaccine covid gilead science pharmaceutical company immune response safe effective antiviral drug research development used treat drug administration food drug treat covid vaccine coronavirus treatment vaccine early stage effective vaccine malaria drug oxford university institute health take year covid treatment development vaccine medical journal university oxford state owned prevent infection china national large scale emergency authorisation study published research institute researcher said vaccine treatment treatment coronavirus neutralising antibody phase three vaccine available medical research medical school national institute',\n",
       " 'food delivery delivery platform delivery service food beverage delivery rider takeaway delivery third party delivery order hawker stall enterprise singapore deliver food ride hailing beverage outlet since last facebook group cent increase food centre restaurant owner food outlet food item increased demand since january increased cent comply safe surge demand digital marketing fast food home delivery sunday time revenue stream digital solution four people general manager customer also last thursday percentage point increase number business model food drink time understands since late also launched online platform business also challenging time online shopping including singapore distancing guideline also available also increased',\n",
       " 'grand prix without spectator singapore grand world champion season start world championship back back cancelled postponed time world organiser said postponed cancelled video game sporting event back track told sport mass gathering ticket sale team member health safety first world green light would make british government july august quarantine period member tested coming week closed door final decision later year said team would remain march april brought forward looking forward singapore airline real life make sense june also least four league season middle east also expected level playing country worst scheduled july sport event likely remain managing director would normally',\n",
       " 'said statement statement said statement yesterday statement thursday statement added statement tuesday statement friday statement wednesday body said league said governing body statement monday statement sunday statement last organiser said office said pushed back uncertain time according statement safety well statement issued tuesday april thursday march announced monday prize money health safety cent workforce working group pandemic brought look forward later date tokyo olympics travel demand reuters agence june july staff tested green light case involving market condition qantas airway country since diagnostic test research development global coronavirus march said washington bloomberg fight coronavirus second time firm said late march',\n",
       " 'ministry health health said medical service director medical said ministry respiratory symptom service kenneth case singapore health announced reduce risk professor kenneth health director safra jurong singapore ministry minister yong health well also advised associate professor respiratory infection yesterday ministry public hospital also encouraged singapore confirmed travel advisory said working dedicated facility measure reduce precautionary measure acute respiratory technology research fast food risk transmission also cancelled member public singapore singapore case confirmed social activity healthcare institution said patient covid related government agency yesterday said sunday april saturday march sick leave activity centre phone call infected coronavirus ministry also science technology',\n",
       " 'covid situation current covid centre covid look forward academic year singapore covid situation said would also defence minister institute technical technical education executive committee health safety situation singapore situation improves made available event also working closely even covid global covid light covid digital transformation coronavirus situation also able ministry manpower general public also important outbreak response take account singapore singapore need continue address nation time time child parent difficult period ongoing covid public hospital singapore university year covid singapore singaporean also given latest measure solidarity payment brick mortar singapore since political party online shopping fresh produce bill passed commercial flight',\n",
       " 'social family family development relief fund temporary relief development desmond minister social ministry social lost job support grant covid support desmond said facebook post service office student care development said cash grant said minister video link said facebook financial assistance care centre care hotline middle income assistance scheme post yesterday permanent resident need help individual family national care said also courage fund month three said ministry said added social service help family support said singapore resident also receive singapore citizen second minister vulnerable community citizen permanent singaporean permanent national development take action emerging stronger people association april june joint statement',\n",
       " 'foreign affair ministry foreign foreign minister affair said singapore ministry vivian balakrishnan airline flight return home singapore government back singapore singapore china said singapore return singapore commercial flight four year cross border singapore resident high commission statement yesterday turned away malaysian government last night yesterday said returning home closed border part china essential travel back home home said health assembly foreign policy look forward said foreign travel country come home home affair country region health protocol international organisation behind scene committee said returning singapore state department returned home posted facebook bring back malaysian worker statement said executive committee upon arrival',\n",
       " 'last week said last week said unemployment benefit announced last jobless claim week according week government reported last since last government last week also federal reserve week would week since week coronavirus three day report last cent last week country covid last said interview good thing said concerned testing positive washington bloomberg york bloomberg time last right group tuesday night financial time increased risk league club english premier week time least cent ten thousand second round week case recent week four week playing game conference call come said news reported temperature check case last home staff bar restaurant year even',\n",
       " 'general election political party next general election held opposition party election department held april election covid action party people action worker party party said april next ruling party special arrangement democratic party party chief secretary general minister hsien hsien loong department said loong said large group bishan payoh west coast singapore people door door precaution taken covid measure called government singapore reopening east coast phase singapore tuesday june nine day three minute since independence health safety home visit necessary precaution five people impact economy government take must take year term bukit batok party leader member parliament fighting covid pandemic said',\n",
       " 'foreign ministry ministry spokesman chinese foreign zhao lijian spokesman zhao china foreign said china foreign minister conspiracy theory president jinping chinese government communist party press briefing chinese official chinese virus reuters china foreign policy chinese president beijing reuters china said trade deal beijing china daily briefing global time belt road ministry official virus china city wuhan question whether chinese national origin virus state medium said chinese european union washington post coronavirus epidemic china would international community country china national security china also coronavirus spreading international study prevention control virus emerged virus originated state department said twitter said report york time',\n",
       " 'confirmed case number confirmed reported confirmed total confirmed first confirmed case virus suspected case contact confirmed said confirmed case rose developed symptom case mainland case said case also country reported three death case increased death virus metropolitan area lower number case china covid task case found case country international airport case earlier case fatality later tested case thursday virus also imported infection growth rate traveller arriving case tuesday come contact half country urged people cluster infection april number case infection case novel government ordered virus spreading measure would asymptomatic case isolation room confirmed infected past day case monday confirmed coronavirus',\n",
       " 'hari raya raya aidilfitri geylang serai fasting month home town month ramadan central java president joko west java joko widodo back home previous year popular market scale social holy month last digit return home cause covid coronavirus cause movement curb look forward curb spread public holiday measure curb home family nric number returning home large scale affair minister shaking hand long queue capital jakarta year million cabinet meeting jakarta post confined home populous nation rural area health well jurong west home based people association highest south across country light covid virtual tour epicentre outbreak said year family said singapore circuit',\n",
       " 'small medium medium sized sized enterprise enterprise smes cash flow enterprise singapore working capital help small digital solution business owner digital marketing business model digital transformation finance company bridging loan singapore business minister state loan programme level playing playing field relief measure rental relief industry player commercial property help business help firm package help business also business said flexible work help company said bank made available many company food beverage remote working senior minister scheme help work arrangement said many billion loan stay afloat support business property rebate said help affected covid economic fallout stimulus package eligible tenant firm also',\n",
       " 'coronavirus outbreak amid coronavirus since coronavirus contain coronavirus outbreak country affected coronavirus march coronavirus outbreak singapore worst coronavirus monday march response coronavirus outbreak could wednesday march impact coronavirus across country best known curb coronavirus event cancelled outbreak also ongoing coronavirus music festival handling coronavirus outbreak said outbreak many outbreak china decision made month coronavirus fallout coronavirus global coronavirus outbreak response killed people country coronavirus sporting event battle coronavirus country recorded several country concern coronavirus mass gathering epicentre coronavirus measure help singapore coronavirus combat coronavirus entering country announced budget sunday march economic social outbreak began outbreak government three day virus spreading',\n",
       " 'wear mask wearing mask mask wearing mask public people wear required wear nose mouth mask said must wear outside home face covering mask time special need around april keep distance said mask wear face make sense crowded place physical distancing disease expert safe distance convenience store public place find difficult group people leave home public space medical mask wearing face maintain social also required wore mask temperature check healthy people risk transmission safety measure offender face nature reserve distance others bukit timah public area said need much possible must also food drink back school time offender sport singapore reduce risk',\n",
       " 'public health health expert health emergency health agency health measure health system health risk health said diagnostic test health safety school public state local health economic death rate coronavirus test private sector health care expert said best practice infected virus public healthcare government official widespread testing global public cent population health issue home order health concern official also washington state medical association mortality rate people need said important said public health professional become infected response pandemic health human people would reopen economy spread disease social economic wrote twitter virus also washington nytimes intellectual property university washington source infection virus transmission',\n",
       " 'asia news news network news medium time medium partner asia medium partner network alliance member strait alliance news jakarta post medium organisation post asia star asia strait time china daily large scale president joko social restriction human right scale social physical distancing petaling jaya pakatan harapan central java government must coronavirus disease medical equipment economic crisis free trade health protocol west java virtual meeting global pandemic datuk seri high level president trump joko widodo fight virus southeast asia health facility business usual government need beijing china house representative public transportation foreign investment research institute health economic time government disease covid',\n",
       " 'cruise ship princess cruise diamond princess cruise line passenger crew public broadcaster said passenger tokyo reuters respiratory illness turned away like symptom south wale western australia later tested symptom coronavirus showing symptom travel history flight china temperature screening reuters japan virus including suspected case recovered covid northern italy foreign national singapore last last day sunday march port authority health condition economy minister health check person person tested coronavirus minister shinzo case including reuters bloomberg people stay spreading virus community spread sent home last thursday tuesday march daily increase east coast coronavirus spreading monday march school close according data covid last',\n",
       " 'changi airport airport group airport terminal aviation sector singapore airline international transport aviation authority khaw boon transport association minister khaw suspend operation transport minister civil aviation boon said town council authority singapore group said khaw said takeaway delivery passenger flight airline flight stay order cent drop infrastructure project customer service commerce platform term visitor also noted fast food aviation industry essential supply scientific evidence public area upon arrival facebook post staff working travel demand help worker home delivery australia zealand director general since february short term remain open small number public prosecutor time singapore last three passenger crew also allow',\n",
       " 'police said found guilty fined jailed said police jailed year police also jail term member public year fined bank account year woman public servant singapore police high commission take action said video charged court covid related said take took place also warned comply safe said saturday communication information statement thursday singapore year group people overseas bank police force year singaporean school closure statement yesterday singaporean woman false information covid circuit received call statement sunday measure including said facebook would take number daily face fine essential activity back court good personal control order leave home civil servant current covid large group',\n",
       " 'public transport train bus transport operator peak hour land transport transport authority khaw said transport minister mask public minister khaw khaw boon university social cent since social science five minute singapore university return work encourage people fall cent coming week people still walter theseira major city mask wearing government need train station post pandemic said facebook distance another maintain safe fallen cent many city said public north east even circuit situation singapore good enough operator said bar restaurant face covering resume june essential worker reported case outbreak started singapore reopening boon said reduce risk long queue people return much cent',\n",
       " 'cent cent cent respectively closed cent mainboard listed unemployment rate share closed cent friday jumped cent rapid test cent stake cent higher cent wednesday monday said rose cent rate cent first day cent monday monthly wage point cent cent year year period health science thursday said dropped cent climbed cent ocbc bank cent increase cost saving much cent government support estate investment investment trust singapore exchange close cent gained cent gross monthly european union month cent cent rise china hong cent last cent drop month compared primary school increase cent full year ended march balance sheet quarter ended researcher said',\n",
       " 'national basketball basketball association regular season play offs player association major league walt disney training camp conference call player union general manager first round sport league play game according report health safety come back season resume reported thursday safety protocol want play reported wednesday march coronavirus seven week executive director professional sport season would player coach player staff next season game would earlier week playing game covid test said team positive test football league make decision team said player tested positive covid safety measure player would positive coronavirus york reuters finish season said player five time suspended march home without',\n",
       " 'around world people around country around world including world said government around many country world people sunday time asian insider part world coronavirus lockdown current crisis united nation billion people ten thousand healthcare system stuck home never seen month later across globe global pandemic virus could virus spread late night cooped home world also emerged china country territory school closure coronavirus vaccine whole world real life coronavirus spread across world around globe took place pharmaceutical company family friend several year city like coronavirus emerged singapore time april year made available including united would want measure could sporting event financial market',\n",
       " 'mental health institute mental health issue care hotline health condition national care mental well social isolation face face need help health professional community service health problem social worker help people agency integrated integrated care family friend executive director company also also known prolonged period health check period time toll coronavirus family singapore self isolating could also health well senior consultant loved one activity centre among people physical activity teck puat puat hospital impact covid khoo teck medical centre taking care people live chan said increase number thing like expert warn make feel said felt social interaction covid period healthcare institution',\n",
       " 'home notice stay home immigration checkpoint checkpoint authority serve stay quarantine order entering singapore returned singapore stay order serving stay travel history leave absence dedicated facility permanent resident returning singapore place residence left home jailed month disease covid leave home asean country singapore resident arrived singapore fined jailed allowed leave singapore march singapore citizen return singapore state britain lower cost remain home false information charged court term visitor text message resident long home day member public construction sector chinese national citizen permanent return home last day march april recent travel construction work also required back singapore home period private hire',\n",
       " 'grand slam french open governing body prize money since world semi final world number make decision early march pushed back june july organiser said time since relief fund health safety paris reuters open said come together july august lower level contain spread body said said video player would decision whether said year back court infected million owing coronavirus since early going ahead working together four month week later look forward year world said coronavirus think going video posted would start said also would allow coronavirus shutdown final decision taking part fund help virus infected said think early last raised million',\n",
       " 'champion league europa league next season governing body european football bayern munich league game borussia dortmund league title league match working group executive committee complete season manchester united suspended march football league million euro game played across europe season suspended july august body said finish season football association league season june july inter milan second tier pushed back march coronavirus season would would also serological test semi final manchester city play offs said meeting decision made home team paris reuters later month sheffield united coronavirus symptom impact covid national team city across contracted coronavirus come back european country football club',\n",
       " 'long term short term term pas resident long term care term visitor pas holder singapore resident care facility asset management permanent resident care home renewable energy citizen permanent could also singapore citizen relief package future generation balance sheet dedicated facility british government travel advisory recent year longer term individual business middle class back home bounce back returning singapore know long singapore covid business model allowed enter take long trillion trillion governing body company like outbreak also entering singapore year according peace mind fully recovered government agency said plan economy society public hospital return singapore close cent fresh produce northern italy',\n",
       " 'test kit rapid test diagnostic test antibody test covid test testing capacity coronavirus test food drug chain reaction polymerase chain drug administration health science million test reaction test testing kit said test false negative false positive emergency authorisation medical equipment covid testing genetic material european union positive result commerce platform test said singapore exchange financial impact science technology singapore based test coronavirus test covid test people city across coronavirus testing infected people country like mass testing population million number test test result company would health department technology research president joko prof said test done test conducted widespread testing pharmaceutical company',\n",
       " 'facebook page facebook post said facebook wrote facebook child aged time singapore facebook user communication information home affair affair minister posted facebook five minute said government singapore government raise fund minister shanmugam chinese year show solidarity singapore national child parent difficult time art culture related covid said post would require least three ministry added among thing radio station executive director affected coronavirus game played instagram account effort curb recent month social enterprise monday night financial support daily life took place facebook group table tennis washing hand keeping busy delivery platform monday april minister communication also required said separate good health',\n",
       " 'morrison said scott morrison minister scott south wale sydney reuters state territory said australia populous state australian prime prime minister reuters australia australian government distancing restriction western australia medical officer chief medical international student federal government told australian gathering people state premier border closure trading partner state government australia said unemployment rate told radio australia zealand community transmission public gathering reserve bank said state several state recent day three decade second populous said televised strict social across country recent year economy would recorded case said government single digit closed border keep child restaurant cafe worth billion returning overseas child home',\n",
       " 'billion billion billion year cent billion worth billion around billion loss billion billion last cost billion billion loan cent stake market value declined comment travel industry stimulus package international student transport association international transport trade deal economic stimulus estimated billion nearly cent billion cent nearly billion announced billion executive said billion stimulus fiscal year wage subsidy billion dollar billion baht airline industry finance minister disruption caused total billion recent year much cent covid infection year billion reserve bank bank said said outbreak caused covid rescue package london bloomberg million worker said late said reuters billion package nine year many company',\n",
       " 'trade industry chan said chan chun chun sing industry minister minister chan said chan sing said ministry trade minister trade industry chan said singapore essential good singapore china digital economy essential item said minister industry said global supply singapore also intellectual property trade agreement facebook post added singapore said facebook amid covid singapore economy added government remain open free trade point time coming month country also country said minister also essential business international trade worker singapore world largest also need national broadcast would affect longer term singapore foreign restrictive measure economic development pandemic country people including said added infrastructure project',\n",
       " 'london reuters reuters britain reuters british queen elizabeth united kingdom hancock said matt hancock season start tuesday june world champion season suspended said twitter thursday june aston villa asked government minister said care home manchester city real life self isolate issue said legal action june said wednesday june said finding july august time world sheffield united newspaper reported told radio right said social gathering event would took part daily news back back statement tuesday mild symptom oxford university sunday time english football self isolating pushed back pandemic brought decide whether health social professional football ten thousand video game newspaper said',\n",
       " 'spread coronavirus curb spread contain spread prevent spread stem spread slow spread stop spread limit spread effort contain fight spread measure curb measure contain part effort coronavirus government halt spread control spread coronavirus said effort curb fasting month coronavirus also saturday march thursday march part measure enhanced measure coronavirus infected self isolate monday march said measure rapid spread continue operate nationwide lockdown second populous large gathering movement people lockdown imposed essential travel grocery store coronavirus could many way school university contact people declared state friday prayer home since measure prevent measure take latest measure government announced fear coronavirus help fight',\n",
       " 'member state european union european commission video conference free trade european country asean country italy spain health assembly foreign minister trade agreement trade deal economic recovery czech republic france italy euro zone since world united nation response pandemic country including health emergency government source germany france country like recession since cross border state also global health vaccine developed commission said french president european central state china world leader later month german chancellor northern italy response covid vaccine treatment playing field european nation international cooperation also called treatment vaccine seven year pharmaceutical company trading partner president emmanuel security council across europe',\n",
       " 'billion euro euro billion european commission euro zone million euro finance minister italy spain european union minister giuseppe giuseppe conte conte said german government european central commission said rescue package british airway economic output paris reuters france germany bar restaurant around billion worst affected spain france development vaccine said twitter european country measure help impact coronavirus spain italy tourism industry according official online sale country like sars virus shrink cent economy minister second quarter coming day biggest economy tourism sector seen reuters said interview monday march restart economy support economy said government interior ministry plan reopen help firm since world',\n",
       " 'minimum order delivery charge fried chicken delivery order home delivery chicken rice takeaway delivery cent food good enough food centre least four much needed thought would also come early month looking forward past week would give time also delivery platform would also much le three day take opportunity little india four people home last geylang serai sent home peak hour also offer time since much better time food long line work well five minute retail sale want give best known central business trying time business district past month late last three quarter month circuit among others last weekend commerce platform',\n",
       " 'home grown singer songwriter last thursday music video best known coming together time singapore initiative help practise social sunday time music festival marina sand open letter singapore first singapore based march covid raise fund across singapore local community real life even pandemic diagnostic test online store battling covid early last food beverage online concert good thing cash flow would able facebook instagram home stay three hour effort help fried chicken singapore singapore also taking covid related cancelled postponed time food including singapore singapore food also available early april time like people across player coach measure also previous year spotify apple',\n",
       " 'first time time since time year time offender since world time month case first year history time three offender face sport league since early repeat offender take part week first organiser said month first time people april first living room text message public holiday difficult time time week early march editor chief also made since outbreak seven week daily case lockdown began yesterday first said south four hour previous year people return metre apart thought would global covid film maker game played empty stadium feel like seven year china economy since late back school help people hard time make difference',\n",
       " 'three month first three month year last three month covid next three period last past three compared period wednesday june year compared containment measure month three friday june cent first within three january march increased cent housing board april june compared last month march month first thursday june month june month lockdown service sector south carolina month last within month sheffield united month coronavirus lost job least month month said grew cent board flat help company cent increase first round another three tourism industry covid spread every week covid related game played feel like land transport year period firm said',\n",
       " 'coronavirus case confirmed coronavirus number coronavirus reported coronavirus case country case confirmed first coronavirus recorded coronavirus total infection case reported number confirmed case monday case wednesday case sunday malaysia reported case since spike coronavirus case recorded rising number case south case detected highest number daily increase case friday restricted movement case first shanghai reuters centre said case continue reported death case saturday said number death country country reported also reported increase number nearly cent recent day reported first regional government capital city state including measure taken case thursday according health said people continue rise world largest risk infection data showed',\n",
       " 'taking total jakarta reuters achmad yurianto ministry official indonesia reported people tested asian country people recovered reported coronavirus country health fourth populous world fourth east asian reported death president joko case taking joko widodo total people populous country said health number fatality asian nation west java biggest daily populous nation health ministry related death total number outside china country said covid task also reported coronavirus death country reported coronavirus infection central java reported monday reported saturday scale social case health coronavirus related saturday june capital jakarta social restriction tested virus fasting month case country cabinet meeting rapid test highest number',\n",
       " 'north korea north korean south korean state medium security council united nation seoul reuters read also quarantine measure president moon asian insider human right president jinping said confirmed thousand people cent population bureau chief sign page receiving asian reading know insider sign enjoy receiving someone might might enjoy border closure since april know someone reported last public event worker party country reported global pandemic national security newspaper reported around people ruling party across border first detected closing border earlier year state department closed border chinese president group said confirmed infection said cent medical expert said former north eastern stay safe',\n",
       " 'york city cuomo said governor andrew andrew cuomo york state bill blasio mayor bill blasio said york governor york reuters according reuters reuters tally federal government home order daily briefing health department essential business york nytimes said saturday academic year reopening economy said state phased reopening health expert state official state governor illness caused health care respiratory illness city official essential worker medical centre coronavirus related state would restaurant bar hospital bed face covering million resident highly contagious feel like said daily department health across city said interview said going grocery store school closed state health related death reopening business',\n",
       " 'family member loved one immediate family said family friend family people time quarantine order three day time family extended family contracted virus parent grandparent member said board flat socially responsible family friend leong said housing board staff member fewer people home family social gathering contracted covid video clip elderly parent different household member also civil servant three hour member household last sunday vulnerable group challenging time older people queen elizabeth told paper year later taken care self isolating meet friend video link void deck announced wednesday people coming said make return home would still closed border university student parent child',\n",
       " 'take place scheduled take music festival health safety cancelled postponed every year also cancelled place april event cancelled year history executive director sport event organiser said result coronavirus covid relief going ahead event would must take large scale would take large gathering tokyo olympics year since executive committee global pandemic play offs marina sand april april come first look forward also take year would taking place year coronavirus pandemic brought situation singapore european football would first time period time year measure place place said taken place safety protocol golf club ensure safety ahead planned remain place took place event also',\n",
       " 'source said government source look like declined comment source told quoted saying covid restriction restriction lifted least year private equity york reuters said interview impact pandemic said still berlin reuters seen reuters said letter standard chartered said even caused coronavirus cabin crew growth target senior management european country matter said personal data long haul complete season german government aviation industry billion loan state premier likely take budget deficit department store year prison could result april according streaming service decision making contain spread tuesday june total million world biggest walt disney trillion yuan statement said take time would allow slow spread',\n",
       " 'real madrid real life madrid reuters league title video game conference call player coach first team sunday june became first manchester city five week sanchez said minister pedro raise money pedro sanchez player tested medical facility first half empty stadium would take played behind worst country match played football club singapore time important thing return action return training champion league italy spain family friend took part best known player would take three would continue year told manchester united couple week help ease monday april video conference playing field next day early march place like could happen living room compared last',\n",
       " 'university singapore national university singapore management management university nanyang technological technological university associate professor singapore university social science final year academic year fresh graduate university said said student university hospital university social institute technology first year sgunited traineeship business school student also student said international student year student singapore business full time time like covid measure artificial intelligence singapore said school medicine could also research institute post pandemic help student online course science technology work closely institute technical technical education singapore national said professor research fellow real time said good singapore country come together dale fisher le likely sunday time',\n",
       " 'circuit breaker breaker period home circuit period end start circuit post circuit extended circuit covid circuit month circuit week circuit since start end june transport authority delivery service period said even circuit land transport extension circuit across island special need started april phase post extended june period april exit circuit since circuit period also housing board june july began april said circuit phase singapore private home different household till june month first school holiday much time april last facebook live child aged artistic director would able people home month long measure also people able child school four week june said',\n",
       " 'million barrel cent barrel brent crude world biggest around cent much cent record million across globe cent last world economy biggest economy monday april global demand coming month analyst said cent global cent previous saudi arabia year coronavirus around million global economy pandemic continues group said almost cent decline cent global market full capacity lowest since cent wednesday biggest daily standard chartered economic recovery lowest level chief economist coronavirus lockdown impact virus york bloomberg almost million singapore strait cent since firm said week april economic fallout singapore time bright spot since early world third nearly cent said reuters dropped cent',\n",
       " 'respiratory syndrome acute respiratory severe acute syndrome sars sars outbreak middle east east respiratory courage fund disease outbreak respiratory infection sars virus wuhan virus online concert outbreak response people infected respiratory symptom coronavirus disease said professor killed people seng hospital tock seng five day question whether infected people college london risk covid cause covid immune response central china late january virus spread tourism sector mask protective defence force across world human transmission alert level human human executive director public place infected person asian financial super spreader home without said doctor covid infection country territory fever cough fatality rate must also',\n",
       " 'pocket money school pocket money fund income family time school child youth home singapore strait time raise fund business time secondary student fund raising many family affected outbreak warren fernandez editor chief time business care pack lower income affected covid part time singer songwriter primary secondary fund help general manager fund support need help music video hawker stall first year help people challenging time effort help help affected solidarity payment said many facebook user raise money singaporean stay help child room flat financial assistance nric number singaporean also covid period school child people need young child continue provide make difference',\n",
       " 'south korea south korean seoul reuters president moon korea reported outside china reuters south korea centre china south japan south seoul south prevention kcdc trillion billion case south italy iran said south korea japan late february reported case cluster infection fourth largest told briefing outbreak control widespread testing early outbreak country south first day cent south china japan infection south credit card china italy east respiratory largest economy concern coronavirus supplementary budget fast track country total democratic party said government country including professional sport number infection ruling party total infection daily case first country middle east single digit infected people',\n",
       " 'ministry said said ministry interior ministry patient recovered said total education ministry ministry added foreign ministry bringing total separate statement finance ministry asian country said separate statement said aircraft carrier year woman contractual obligation according ministry could spread school staff said south last night measure would account cent around country german government said without return home healthcare institution come home johor baru respiratory infection total death interior minister also allowed infected virus country worst infection first last hour next tuesday would allow manpower ministry official told tuesday said religious gathering day said people health east asian healthcare facility said late',\n",
       " 'covid outbreak amid covid outbreak said said covid singapore covid news report coming year outbreak singapore outbreak also recent year impact covid measure taken unprecedented crisis early april said prof choa kang outbreak control cherry blossom taxi driver health economic economic social difficult time text message showing sign warren fernandez chinese people sunday time editor chief fight covid since early contain covid since covid digital marketing current situation measure announced fairprice outlet cent total affected covid better understand next season ongoing covid combat covid took place business said statement said outbreak many presidential election response covid income household singapore government',\n",
       " 'essential service remain open service worker considered essential worker essential working essential providing essential work essential stay open service provider economic sector tuesday april continue operate essential worker service said security officer ministry trade measure announced service including month long stricter measure service also four week offender face face face could used deemed essential malaysian worker hair salon break chain student care food establishment time offender service like government agency allowed operate business allowed face fine food grocery care centre parent working response query next tuesday treatment covid care service delivery rider except essential work well practise safe trade industry',\n",
       " 'virgin australia private equity qantas airway singapore airline matter said domestic market time world nearly billion sydney reuters group said asset management second biggest long haul declined comment aviation industry domestic flight high level australia said coronavirus related normal time financial year hundred million second round aviation sector manager said according statement reuters bloomberg party said person said time soon familiar matter said plan small number full year return normal said australia australian government high quality cent stake million dollar medium report good said foreseeable future next phase world champion global travel british government third party airline said international flight',\n",
       " 'second wave wave infection wave coronavirus fear second prevent second wave covid first wave across country lockdown measure easing restriction back normal infection could infection rate recent week ease lockdown covid infection could lead spike case lifting restriction case past economic social return normal economic recovery cluster infection life livelihood normal life past week number infection school reopen reported infection ease restriction local infection lift restriction said country urged people easing lockdown said briefing state also case local restart economy record number european country case first said state high school news briefing strict lockdown many state asymptomatic case case could',\n",
       " 'next year year covid year next organising committee later year april next told australian tokyo olympics event would month later yuriko koike cast doubt come back governor yuriko year would cost billion resume training global economy additional cost owing coronavirus hotel room every year said year look forward medium term technical education institute technical japanese government held april said expected year said became first said going able return decision made year coronavirus back singapore pushed back vaccine candidate tokyo game told sport medical expert older worker year could recent year coming year said interview year also ticket sale tough time',\n",
       " 'official said government official senior official condition anonymity state official state department city official said official least people ministry official official told administration official said trump department health health human human service trump administration coronavirus test according official said meeting office said year prison federal government said number said joint south korean health agency home million video conference chinese official positive case said parliament killed people officer said quarantine day government help city government bring back returning home testing positive united nation said call several day school university monday march spike coronavirus medical personnel washington nytimes people killed largest city',\n",
       " 'million million million year prize money governing body raised million million last donated million around million million dollar table tennis football league cent million relief fund total million covid relief raise fund loss million year million home coronavirus coronavirus shutdown standard chartered academic year take cent raise money almost million player union step forward million american estimated million wage cut cost cutting financial year plead guilty cent staff fund help wide ranging basis point billion year owing coronavirus cutting measure food bank four year financial assistance cent wage caused covid football club time major playing field level playing profit organisation',\n",
       " 'coronavirus infection infection death number coronavirus asian insider wave coronavirus read also number infection infection rate confirmed coronavirus tokyo reuters sign page someone might insider sign enjoy receiving reading know receiving asian might enjoy know someone european country infection among south asia risk coronavirus bureau chief infection reported highest number ease restriction spike coronavirus country million patient died daily increase country reported restriction movement died coronavirus infection also increase number high risk reported saturday measure aimed ten thousand infection country placed quarantine next day public broadcaster lowest since first coronavirus death virus stay indoors world third economy already recent day',\n",
       " 'safe management management measure measure place check system must also resume june digital check singapore reopening ensure safe phase singapore temperature screening enterprise singapore closed public employer must public holiday group five real time must ensure employee working response query five people beverage outlet high touch mask time working hour general manager june said minimise risk social gathering crowd control first phase covid transmission ministry education people gathering must continue ensure safety ministry manpower food beverage physical interaction graduating cohort remote working safety measure prolonged period least apart also encouraged allowed resume risk covid face face transmission covid group people',\n",
       " 'healthcare worker line healthcare care package chicken rice healthcare institution doctor nurse care patient centre infectious self isolating medical association healthcare system national centre worker also courage fund worker singapore worker community seng hospital tock seng singapore based toll coronavirus worker said worker working profit organisation worker infected lower income fight covid high risk film maker public hospital hard work fighting coronavirus public healthcare local business many time people singapore healthcare sector healthcare staff healthcare professional medical staff disease ncid medical facility worker family also asked posted video said told many way global coronavirus front line health science donated million',\n",
       " 'said wednesday wednesday march wednesday june wednesday morning wednesday said toll covid organisation said minister said covid vaccine highly contagious told sport country including halt spread continue operate across globe underlying health conspiracy theory year world house said said move vaccine covid federal reserve fast spreading first major wednesday night australia said doctor said tuesday night suspected case said expected said facebook china said social enterprise thousand people health condition covid could could result radio station coronavirus shutdown step taken killed people small number country billion quarantine measure think would staff member said wanted announced wednesday player union safety well',\n",
       " 'next month month said early next amid pandemic coming month month also within next cent next important thing month april cost cutting month cent movie theatre work together trillion trillion ahead planned month june could take cent month school holiday take longer scheduled july government announced month three part time working together west coast going ahead customer service take cent economy going wealth management time major owing coronavirus every three around cent could come pushed back cutting measure another month month would school reopen coronavirus lockdown good time year time package announced also receive across united would open said expected',\n",
       " 'trump said president donald donald trump said trump reuters president washington reuters washington president president said health expert trump told federal government trump also trade deal washington bloomberg reopen economy million american said want said united said twitter people united said president washington post coronavirus task home order deadly coronavirus virus said andrew cuomo asked whether daily briefing said state medical equipment said daily people country fight coronavirus would happen global health press briefing could lead going work government would million job battle virus reuters agence pandemic many killed people university washington around country contracting covid spread deadly covid virus',\n",
       " 'rental rebate property rebate property owner rental relief commercial property month rent eligible tenant food beverage residential property announced budget relief package support measure month month month many association singapore timely manner operating hour measure help national park cash flow half month support package month cent shopping mall park board orchard road cent next retail food take cent affected pandemic government agency help business restaurant owner singapore international takeaway delivery investment trust community chest trying time also take affected covid april cent badly affected estate investment package help manager said show solidarity airport group entertainment venue much cent cent month',\n",
       " 'said tuesday tuesday march tuesday april tuesday june coronavirus epidemic tuesday said british airway containment measure reported tuesday announced tuesday press briefing positive test around cent case monday march coronavirus case tuesday qantas airway monday said late monday tuesday morning league said affected coronavirus statement tuesday office said toll coronavirus also closed coronavirus infected tuesday night announced march drastic measure world second moving forward april would last hour going forward said could worker singapore without spectator lockdown measure paris reuters said april agency said president emmanuel singapore singapore organisation said virus case people killed emmanuel macron sydney reuters house representative',\n",
       " 'protective equipment personal protective protective gear care home infection control care worker mask glove medical worker amid covid doctor nurse defence force health care mask protective medical equipment testing kit medical professional medical device million mask medical staff required wear emergency department sunday time medical mask died covid country including health system back home face face suspected case since outbreak medical association dominic raab donated million treat patient member public said going fight covid profit organisation told sunday country said also continue said doctor also provided according official control measure coming week would help medical system medical supply within hour',\n",
       " 'wednesday april reported wednesday case wednesday april said statement wednesday announced wednesday said wednesday april reported brought forward people home group said told radio april government recent week might able work done home coronavirus highly contagious university said pandemic still covid circuit care home april would previously announced said government service said month long human right home stay south korean discharged hospital prevention control coronavirus testing ministry also family home later said three child fight covid latest figure week lockdown said company year many three day told parliament medium group team said working group lockdown would singer songwriter late wednesday',\n",
       " 'support scheme job support cent wage wage subsidy local employee monthly wage gross monthly wage support food service enhanced job local worker provident fund aviation tourism central provident worker levy retain worker tourism sector supplementary budget service provider cent first save job aviation sector employer also nine month first announced business owner eight month help company permanent resident help firm singaporean permanent support business service sector government support cent local cash flow scheme help resume operation company need least cent cost saving july october total billion resilience budget would want cent food announced last period said lower income april first',\n",
       " 'saudi arabia united arab arab emirate month ramadan fasting month middle east interior ministry united nation limit spread fear coronavirus ten thousand private sector fight coronavirus friday prayer across world state medium combat coronavirus respiratory disease health system finance minister international community state news year million take part economic crisis state owned spread deadly governmental organisation said group human right estimated billion digital technology lowest level right group statement said late april stringent lockdown economic impact public private commercial flight spike infection said twitter global response fast spreading could also highest number time year take care still working told sport',\n",
       " 'said would would take would also march said would make would allow would continue would begin would provide ten thousand would return online concert treasury secretary would likely return normal would work going ahead sporting event said state airline industry place order day said government support service said state said spreading virus university california would start least people said plan pandemic world said feel york nytimes qantas airway australian government announced plan would difficult chief minister would able wednesday said situation said would allowed help keep reuters australia thousand people year prison saying would profit organisation would probably later month',\n",
       " 'said monday monday march monday april monday june coming day announced monday johnson said covid treatment ryan said organiser said tokyo reuters monday said march according coronavirus lockdown monday morning coronavirus government country health said plan mike ryan statement monday outbreak country case monday month later remained open xinfadi market self isolate cent monday positive coronavirus later year york reuters coronavirus epidemic agency said late monday body said country said remain open case country first country death recorded impact coronavirus told press would need within week amid global washington reuters reuters china concern coronavirus prevent infection newspaper reported want play',\n",
       " 'immune system immune response cause covid covid vaccine virus cause sars virus said prof could help genetic material antibody test le likely early stage severe symptom recovered covid cent patient york nytimes medical centre virus said medical condition infection said human trial associate professor also found blood pressure recovered patient said study response virus study published toll covid fight covid covid infection deadly disease coronavirus cause patient covid fight virus develop vaccine disease said treatment vaccine people recovered could used older people could also prevent infection side effect chinese medicine infected coronavirus people coronavirus mild symptom day later study found',\n",
       " 'earlier month said earlier like many said twitter take part robertson quay announced earlier bill passed also take talk show move come around billion month said bukit batok said like month people returning home pandemic according tested coronavirus round clock data protection york time choa kang since january time family pushed back also known travel industry easing restriction uncertain time risk infection service also senior parliamentary parliamentary secretary public life suspended since said student time last according local month coronavirus practitioner clinic contracting covid march coronavirus risk contracting amid pandemic june said also apply reported infection next tuesday worker party',\n",
       " 'gross domestic domestic product stimulus package cent gross budget deficit fiscal stimulus economic growth finance minister trillion trillion cent contraction shrink cent economic stimulus economic crisis finance ministry year cent growth target second quarter billion stimulus great depression monetary fund international monetary around cent economic output fiscal monetary supplementary budget fiscal year tourism industry cent country stimulus measure largest economy economy could since great consumer spending package announced government bond unemployment rate biggest economy account cent trillion billion government spending economy shrank said government growth forecast economic impact cent last contract cent monetary policy emergency measure government central cent singapore',\n",
       " 'covid case confirmed covid number covid reported covid case singapore fined jailed number daily case country singapore pool case detected case yesterday hospital bed jailed year case among population million case including civil servant found guilty first covid case recorded spread disease case announced case said case found case april tamil nadu mass gathering mild symptom said number earlier week standard operating operating procedure daily update single digit case number fight coronavirus singapore covid case people second largest active case total covid spike case double digit highest daily highest number mask wearing worst affected case monday number confirmed said singapore',\n",
       " 'first quarter quarter year second quarter cent first year earlier cent billion fourth quarter full year quarter last ended march cent million quarter ended january march million year cent quarter economy shrank rose cent first three profit million percentage point month year bank said third quarter cent drop loss million year first plunged cent shrank cent period last cent growth cent contraction contraction since said expects march cent compared cent year period cent rise domestic demand china economy world biggest lockdown imposed million billion cent compared research firm billion yuan growth forecast since first compared year labour market first month',\n",
       " 'climate change fossil fuel green pulse renewable energy pulse podcast united nation economic recovery global economy public hygiene stimulus package minister environment every year world leader economic growth post pandemic could help since lockdown restriction lifted pandemic could study published could also trust government health system open letter financial institution wild animal world largest keep people health risk said letter response covid future said many city infrastructure project must also home country across world country lockdown industry said business usual human right create job past decade crisis could emerging stronger global economic food security south asia trillion trillion crisis also',\n",
       " 'surgical mask cloth mask mask made million mask production line mask wearing said mask mask said mask hand protective gear reusable mask medical staff home singapore elizabeth novena leong said mount elizabeth sunday time vulnerable group come contact hospital said short supply year government respiratory droplet community chest wuhan virus grocery shopping said company health insurance protect people look like company also medical worker singapore china outbreak many press release according report government also fight covid singapore university government working department health trump administration meet need earlier year help fight singapore government face covering work also also likely much needed',\n",
       " 'real estate estate investment investment trust cash flow manager said head research shopping mall singapore exchange office building ended march stock market residential property closed cent near term quarter ended singapore south virtual tour worth billion data compiled market value commercial property cent friday private home could also impact covid across singapore time index million year chinese national people feel cent february home said decline cent across asia cent million hundred million housing board stock exchange public space balance sheet still early according data affected covid march cent medium term private equity singapore government profit million share closed show appreciation',\n",
       " 'general meeting annual general singapore exchange raise fund association singapore virtual meeting cent share least week company also listed company week ahead also give executive director advisory issued statement said limit number need time large scale joint statement year company financial year mass gathering stricter measure government agency said president ocbc bank among thing also likely said company month company full year would need make easier secondary student sheng siong year singapore soon possible said bank situation improves said current increase cent bank said must take monetary authority current covid football association group said digital service make difficult primary secondary',\n",
       " 'super rugby south africa governing body coronavirus shutdown professional sport coronavirus lockdown said player game played body said ticket sale would better australia said player would travel ban seven week entering country australia zealand player union told radio cent staff distancing requirement player association march coronavirus later year said know three hour saturday june answer question really want could come season suspended earlier week suspended march said south government imposed border control owing covid much needed team said chief executive national team nationwide lockdown covid restriction self isolate month covid month month around globe national park lockdown restriction health protocol',\n",
       " 'company said said company listed company contracted virus many company company also york bloomberg coronavirus related could come month company walt disney cruise line blog post mainboard listed said working among first singapore pool face covering said make said received cent stake fiscal year said expects government order monday april research development senior management year company much cent pandemic forced billion cent year billion early stage monday said company like open door firm said company would world largest march april twitter user right time would continue european country late wednesday group said help prevent disruption caused contracted covid british airway',\n",
       " 'since march suspended since lockdown since march coronavirus place since march covid league suspended minister pedro pedro sanchez lowest daily nationwide lockdown complete season normal life sanchez said lowest since home order return normal home since trump campaign lockdown measure madrid reuters coming day closed since first thing feel safe ended march football league case scenario remain place financial impact general manager local health march april least metre food medicine reported death home except back work professional football ease lockdown leave home york reuters since april time week essential business easing restriction daily death return training four year neutral venue',\n",
       " 'swab test test result school staff test positive covid test test done tested negative test covid negative covid general practitioner test negative test conducted practitioner clinic polymerase chain chain reaction test coronavirus public hospital coronavirus test quarantine centre sport hall came back within hour respiratory infection said test reaction test felt like positive test johor baru upon arrival mandatory quarantine false positive science technology quarantine order positive covid test said day later northern italy essential business since january sore throat national centre long line private hospital centre infectious entering singapore employee work staff tested negative coronavirus negative virus covid testing',\n",
       " 'told reporter trump told would allow south wale government spokesman cabinet meeting billion baht point view daily briefing conference call people tested said according populous state four time case country yuriko koike economy minister tokyo governor stay open official told year told said president governor yuriko reuters japan tested virus week time said think coronavirus said could afford border control armed force came back cathay pacific take part prevent second possible said medical mask month long infected people capital city area also coronavirus restriction artificial intelligence urging people coronavirus country country million effort help state premier state would measure aimed',\n",
       " 'spokesman said said spokesman said student spokesman told spokesman added government spokesman said school response query told paper action taken query strait ministry spokesman student said time work company also first year downing street others said online sale said customer cutting measure robertson quay cost cutting customer service credit card severely affected almost half said response wanted known term loan geylang serai coming day staff member declined comment also known school university said received said early come forward continue operate first reported around cent play part said adding continue work different country cent increase past week said also light covid',\n",
       " 'coronavirus crisis coronavirus lockdown home coronavirus centre said sunday april german government crisis said people around compared last april reported government could rescue package paris reuters also likely response coronavirus back normal past year impact coronavirus could also talk show state owned food outlet living room said coronavirus last hour take year travel demand tuesday april really want thursday said conte said difficult decision crisis government government help open letter people close owing coronavirus lost job move would global coronavirus urged government million last cent rise market condition amid coronavirus people across time work monday april year company right wing',\n",
       " 'said thursday thursday april thursday march thursday june case thursday announced thursday antibody test statement thursday reported thursday organiser said late thursday coronavirus epidemic spokesman added movie theatre central java unemployment benefit virus cause free food early march number daily jobless claim late wednesday cent workforce ahead planned daily death thursday said virus killed said however hancock said told press nearly people test carried case april manchester city matt hancock confirmed coronavirus shanghai reuters theme park last resort china daily scheduled july killed nearly washington reuters earlier week declined comment reuters china since april market said emergency response health problem',\n",
       " 'health minister minister yong minister said said health yong said health system matt hancock jair bolsonaro president jair hancock said told briefing first case shaking hand ministry task multi ministry medical service chair multi gathering people said minister care home said singapore state health virtual meeting high risk coronavirus country handling outbreak foreign national country health flattening curve social activity mild symptom case said latin america coronavirus said said saturday would need cabinet meeting continue rise border control death virus international airport lockdown restriction since outbreak director medical told parliament confirmed first positive virus said patient rate infection essential worker',\n",
       " 'video conferencing supreme court conferencing platform video conference platform zoom attorney general video link said chief among thing online class face face conference call considered essential fitness studio profit organisation point view daily routine company also four year plead guilty combat spread risk transmission real time exit circuit measure combat also continue said year covid time make difference four hour implement measure must take trump campaign last day joint statement temporarily closed likely remain artistic director minimise risk past day right wing also available measure said said president social responsibility parent also even circuit student also virtual meeting video clip',\n",
       " 'airline said cabin crew singapore airline cathay pacific unpaid leave airline industry travel demand passenger flight transport association international transport british airway aviation industry long haul sydney reuters qantas airway national carrier credit card loss billion aviation sector association said global travel coming week said passenger government support international airport billion million cent capacity said last impact coronavirus year according march said border restriction airline flight take cent financial year prolonged period seen reuters within next declined comment northern italy state owned senior management domestic flight business travel taking step singapore singapore bloomberg news senior vice financial assistance billion year',\n",
       " 'small business trillion trillion unemployment benefit loan programme state local help small business owner house representative stimulus package washington reuters treasury secretary federal reserve republican senator trump administration ride hailing relief package billion dollar help business economic stimulus jobless claim billion loan programme help million job business including coronavirus response working capital nearly billion business need million american financial market also includes pandemic would would include sick leave rescue package financial service relief measure lost job federal government would come local government nearly third coronavirus testing leader said would return analyst said online store total billion said online measure would',\n",
       " 'caused coronavirus disease caused covid disease covid respiratory respiratory disease caused virus illness caused respiratory illness washington reuters caused novel reuters tally according reuters died covid patient covid school closure death covid vaccine covid related covid news briefing symptom covid fever cough covid illness treatment vaccine protective gear viral load virus spread outbreak covid among people several country infected covid cuomo said treatment covid pandemic began infected coronavirus severe case medical centre highest south cause covid save life department said treat covid population million said referring losing job coronavirus people people could related coronavirus many country coronavirus killed said twitter',\n",
       " 'george floyd life matter black life african american police brutality thousand people north carolina past week trump campaign tuesday june ten thousand told radio took part taken place mass gathering wednesday june saturday june thursday june march also former vice police chief police officer wearing face city across late april across united coronavirus restriction major city democratic presidential monday june died covid february march late last recorded case recent week took place across country face covering recovered covid said late large gathering case number south wale sheffield united league game week coronavirus trump also around country legal action daily case',\n",
       " 'asia pacific pacific region wealth management asian country case scenario including singapore transport association international transport security council world bank japan south asset management million job stay connected worst case growth rate percentage point year cent china hong month covid economic growth music festival cent lower back office billion year said report developing country recent month could make financial service state china chief economist food drink global market large number week said singapore country help worker balance sheet least cent aviation industry director general people life australia zealand global economic home circuit said china across asia senior vice almost people',\n",
       " 'spread virus contain spread slow spread stop spread virus spread stem spread virus said curb spread halt spread rapid spread large gathering spread disease control spread effort contain public gathering healthcare system combat spread prevent spread several day measure contain early march best known slowing spread country europe virus people limit spread thursday march coronavirus symptom imposed lockdown measure taken closing school virus according could spread community spread aircraft carrier york time number infection sporting event study said virus would reopening school several week virus killed killed people case virus reduce spread worker essential fight virus public place said expected',\n",
       " 'covid crisis affected covid crisis also free food amid covid crisis said current covid crisis many paris reuters handling covid response covid friday june support family next season said covid year world family singapore play important current situation member public government handling socially responsible year covid political leader want make organiser said initiative help fund support tackling covid year student take step lost job family life many country food said trying time economic downturn caused covid take opportunity rescue package many singaporean encourage people reported thursday silver lining said parliament essential worker primary pupil group activity friday april medium channel',\n",
       " 'art council art group national art art culture culture community artistic director community youth ministry culture online concert general manager singapore international facebook youtube revenue stream executive director group also virtual tour covid circuit executive officer cancelled postponed part government digital platform challenging time nine year apple google association singapore also seen told parliament silver lining safety well online platform difficult time till april many others government support parliament yesterday support package circuit breaker april cent platform zoom package announced void deck also cancelled people living statement added eight year amid coronavirus tanjong pagar earlier year ongoing coronavirus later date',\n",
       " 'last friday last thursday said last announced last last wednesday friday said since last last tuesday added said year told friday night tamil nadu friday april tested coronavirus take home like symptom york time centre also food outlet nature reserve pandemic last national park measure announced senior citizen play important came effect across nation also asked would allowed five day online class covid last said sale coronavirus spread family home week later bukit batok several hundred stayed home turned away make feel people gathering virus last additional reporting according report people life also announced placed quarantine west java statement last',\n",
       " 'kuala lumpur lumpur malaysia religious gathering malaysia reported muhyiddin yassin malaysian government minister muhyiddin wholesale market movement curb reported coronavirus malaysia said pakatan harapan secretary general highest number datuk seri mahathir mohamad mass gathering perikatan nasional said malaysia march april world championship march said total lockdown dengue case minister ismail much cent partial lockdown police chief case linked restricted movement also reported decision made international trade last thursday total infection number fatality also urged essential business infection south said late said facebook essential good reported case east asia make cent long haul hisham abdullah help country next three several country',\n",
       " 'many people people would look like like many feel like people dying people want people across said many people going time think three hour home many people tested last monday provident fund loved one safe distance pandemic many people including time people video message year many people feel lost job herd immunity know many year later delivery rider make feel people still group people said people people live outbreak coronavirus talk show medical condition past week higher risk everyone else show appreciation home said facebook user would make across singapore central provident going work people working still many long period',\n",
       " 'said friday friday march friday april friday june organisation said paris reuters announced friday spread disease statement friday emergency authorisation reported friday earlier week friday said late thursday daily briefing cent friday european union york state beijing reuters aircraft carrier washington reuters case friday mike ryan reuters japan said seen matt hancock told briefing friday night trump administration department said manager said fight spread confirmed infection later date seen reuters spread infection illness caused several day temporary closure including united tokyo reuters posted facebook border restriction health secretary early next said already confirmed coronavirus league title would return working group',\n",
       " 'madam halimah president halimah halimah yacob facebook post said facebook post yesterday minister hsien hsien loong said madam said president past reserve based business child youth continue support worker family virtual tour said post chain transmission covid related yesterday said tuesday june job council related covid muslim community service agency crisis like look like bill passed work together general secretary company worker vulnerable group stay safe silver lining business worker break chain labour movement fund raising measure announced tested covid combat covid also apply every singaporean said move special need support another ongoing coronavirus home staff virus said national job',\n",
       " 'news agency agency reported medium reported state news local medium state medium died coronavirus agency said quoted saying reported sunday medium said tokyo reuters news reported reported saturday infected coronavirus death coronavirus friday prayer saturday april first death reported thursday foreign minister death virus contain spread according official hubei province year march reported infection school university united arab arab emirate according local past hour thursday march fiscal year reported total across country told local person said fighting coronavirus infected virus reported tuesday since april coronavirus infected election held sunday march case country virus including across world national team reported yesterday',\n",
       " 'food supply food security singapore food fruit vegetable food agency cent food fresh produce panic buying food item food bank nanyang technological technological university national park continue work park board could also cent country every country association said technology research part singapore supermarket chain said professor third largest university said remained stable joint statement food market month said high tech meet need pulse podcast country region food essential choa kang many country government effort also launched would continue time crisis said malaysia office building grocery store chain disruption ongoing covid outbreak covid various country global market part country green pulse',\n",
       " 'toilet paper panic buying instant noodle supermarket chain long queue south wale grocery store disease outbreak year daughter outbreak response infected people people around response system coronavirus infected chinese year food item support another police also people worldwide stay healthy fear coronavirus convenience store sheng siong staff member monday night fresh produce also called hand sanitisers sydney reuters essential good urged people people feel people want short supply alert level retail sale move forward posted video tuesday night went viral fairprice outlet normal time self isolate four month every year tuesday march month ahead wednesday march brought forward hand sanitiser',\n",
       " 'face shield mask face return school wear face school reopen protective gear primary secondary medical worker temasek foundation technical education institute technical primary school safety measure exit strategy also given young child required wear graduating cohort medical condition back school staff also prevent spread school child food drink people know child school child aged staff child soap water junior college personal hygiene help child protective suit early childhood three four precaution taken production line ministry education season suspended also offer medical equipment food establishment must wear le likely march case help ease senior director virus death measure also senior consultant',\n",
       " 'sport facility sport singapore swimming pool national sport sport hall fitness studio sport centre training session singapore sport table tennis physical distancing resume training community youth culture community country club phase post post circuit physical activity national team time week additional reporting group activity small group training programme group five football association looking forward training opportunity also advised measure announced jurong west sport event twice week look forward remain open facility including player coach four time different household given green measure place singapore announced green light friday june mixed martial martial art people going association singapore could help also include',\n",
       " 'next week week said early next contractual obligation said government return training past week four month next tuesday distancing requirement mass gathering small group prize money singapore time play game week government medical facility take step week coronavirus late night would also academic year second phase health measure professional sport said continue disruption caused player would week also week would league game next monday restaurant cafe covid measure fruit vegetable state health temasek foundation country also quarantine measure rate infection early april return school three four empty stadium week lockdown week first european country four day back school measure announced',\n",
       " 'care facility singapore expo community care surbana jurong mild symptom isolation facility facility singapore community isolation risk factor medical care facility said term care lower risk healthcare professional patient mild infection control control measure medical team work done hospital community singapore armed facebook user medical service care patient armed force singapore south statement wednesday quarantine facility director medical late wednesday wednesday night statement issued false positive covid patient tanjong pagar temasek foundation private hospital service kenneth committee said working singapore agency task infected covid ensure safety national development check podcast minister yong minister josephine clinically well manpower minister listen health',\n",
       " 'even though much better past month said could league title people like covid time family friend every time could still make feel done well like many wearing mask world biggest help keep spreading virus said even business allowed march year month coronavirus silver lining year many almost every difficult period together said family home home instead result covid much time film maker work well every singaporean court heard many others le likely group five taking place look back community service month even time month country first playing game time think economy could global pandemic last wednesday said think also offer',\n",
       " 'tedros adhanom adhanom ghebreyesus director general general tedros tedros said ryan said ghebreyesus said chief tedros mike ryan human transmission said country organisation said human human health agency outside china global health world health health system health organisation save life case reported south america global response infected million said director country still suspected case health emergency chain transmission pandemic said handling pandemic community transmission told briefing virtual meeting case outside break chain medical mask international organisation italy iran lifting restriction response coronavirus killed people social economic medium briefing fight virus said case said china health facility reuters tally first wave',\n",
       " 'authority singapore monetary authority financial institution relief measure cash flow singapore said working capital term loan financial service health insurance loan programme finance company credit card bridging loan ocbc bank bank singapore bank said measure help measure announced association singapore also apply port authority overseas bank united overseas measure rolled said bank fallout covid relief package residential property among measure prize money fresh graduate singapore announced money hack service sector bank account economic fallout april june among others every month wealth management standard chartered across world economic downturn minus cent help affected total million individual business near term health policy',\n",
       " 'three year next three last three past three choa kang past year feel like construction site year fined year prison nine year said agency year later stock market also want three million ongoing covid year april people globally turned away take three jurong west took part also urged year daughter near term dengue case year cent announced monday court document state government film maker infection among year covid five people also mean singapore international government also step towards infected million authority announced said wong much time moving forward year compared year national couple month felt like increase number statement added',\n",
       " 'soya sauce medium heat instant noodle turn heat three minute time like fast food three quarter help prevent litre water chicken rice minimum order also known cent food three four north eastern look like delivery platform also offer three hour coming week south west time come silver lining north east loved one help keep really need medical centre even circuit every time four hour need keep takeaway delivery want make many way first step good hygiene medium sized cent first period also special need year first since last music video four five longer period post circuit growing number last tuesday',\n",
       " 'remain closed allowed reopen allowed resume business allowed resume operation traditional chinese chinese medicine hair salon coronavirus lockdown fast food allowed open food beverage measure place safety measure place worship phase reopening retail outlet easing restriction takeaway delivery first phase also allowed four week three phase said business still allowed home based remain suspended online sale resume business business reopen check system remain shut digital check food outlet department store enclosed space exit circuit bar restaurant allowed operate second phase retail shop community transmission beverage outlet least four since april service centre business activity activity allowed reopen business stay closed',\n",
       " 'cyber security personal information personal data text message intellectual property third party emergency response singapore said data protection artificial intelligence credit card covid related take advantage said covid business continuity information technology could used mean people fresh graduate said expert business operation january march training programme full year government official among measure cent share worker must market condition essential business measure combat government agency joint venture said online aim help blog post article edited work said phone call people working firm said research development keep business communication information tech company said take pandemic said even covid someone else ministry education',\n",
       " 'hand sanitiser temasek foundation hand sanitisers mask hand care pack community club shopping mall come together next monday front liner association singapore high touch bukit panjang started april said time vulnerable group attorney general singapore country rental flat taxi driver football association food bank vulnerable people community isolation singapore said customer service care centre also available also give time crisis covid related isolation facility socially responsible feel safe twice daily safety measure temperature taken year told difficult time told paper bank singapore home team country region medical leave free food people association coming together also given stay safe show appreciation',\n",
       " 'health service national health british government matt hancock doctor nurse save life raise money health secretary league player play part show appreciation fight coronavirus last thursday state health raised million loved one scientific adviser game changer hancock said difficult time also allowed united kingdom said wanted difficult period across country help fight college london reuters britain healthcare service care home discharged hospital london school fund raising said staff department health life saving face face help support government imposed apple google death coronavirus since world service said foreseeable future lockdown measure service also second tier fight virus made clear move come',\n",
       " 'working home flexible work work arrangement human resource employee working continue working remote working young child home week people working staff working home would spending time home since home also family life call centre back office spend time screen time time together family singapore past week company also time family work done face face said working home covid many company make feel cent increase leave home year say home time office said mental well office worker going work home work half hour many parent coming month found cent day week work hour working hour parent child also help parent working',\n",
       " 'spread covid curb spread prevent spread measure curb stem spread stop spread control spread socially responsible measure taken stricter measure slow spread reduce spread covid singapore covid said lockdown measure combat spread measure prevent later month part measure monday april effort curb covid also four week covid disease contain spread support government risk covid jakarta post limit spread flatten curve covid virus community spread infection case solidarity payment transport authority singapore safe could take maintain safe help prevent post asia land transport going ahead enforcement action keep people month long self quarantine said letter face fine immediate effect said people',\n",
       " 'said yesterday case yesterday singapore said said reuters keat said yesterday morning announced yesterday reported first yesterday case yesterday said yesterday bringing yesterday reported reported yesterday office said train station country said reuters agence care support yesterday also bank account year earlier bloomberg reuters april next wong said death yesterday bank also commerce platform speaking reporter beijing china took effect port authority boon said precautionary measure josephine said manpower said chief executive government agency minimise risk said state within minute vast majority remain suspended season resume next day business time cent billion wang said worker said also announced responding question',\n",
       " 'case death reported case case including including death recorded case death yesterday million case health system country case death country death covid total case surge case south asia case reported country recorded late march million resident population million nearly case death according country europe south africa hundred people coronavirus task death case place worship rise case easing restriction case scenario worst case country world according government fight virus south wale country reported community transmission death virus death said large number contain virus healthcare system czech republic case past outside china part country affected country large crowd coronavirus infected europe united',\n",
       " 'covid patient treat covid treatment covid medical journal treating covid blood pressure patient said patient covid study published side effect care patient used treat centre infectious public hospital private hospital patient hospital patient need national centre hospital said increased risk critical care contact covid patient singapore gilead science recovered covid patient also antiviral drug patient severe quarantine facility said finding covid treatment disease ncid number covid said covid viral load said hospital also used drug administration hospital also study found medical centre patient died malaria drug food drug number patient effective treatment scientific evidence cent covid severe covid treat patient',\n",
       " 'task force multi ministry ministry task force said covid task coronavirus task chair task agency task emerging stronger inter agency wong chair minister national force tackling minister yong singapore together chair multi house coronavirus group chief joko widodo manpower ministry vulnerable community president joko development lawrence emerge stronger help singapore medical service reduce risk handling covid director medical virus spread jakarta post singapore armed tackling covid easing measure open letter trade association government agency ease restriction local transmission worker business said world among others government effort scale social measure announced said noting service kenneth help country minister social walter theseira',\n",
       " 'last saturday saturday night video posted said last said video last wednesday contracting virus last thursday took part three hour since last within three daily news last monday home also confirmed infection yesterday said also urged real life saturday april time reported statement last sunday morning announced last affected pandemic three million infected coronavirus affected coronavirus semi final bar restaurant fund raising raised million reported last positive covid said referring hotel room lockdown lifted hand washing news report five day home singapore past five saturday morning hour later government order report last reuters bloomberg saturday june medical expert took place',\n",
       " 'request comment respond request immediately respond chinese government early stage seen reuters familiar matter could come downing street washington reuters much cent stock exchange health human human service group chief chief operating operating officer health department day later reported tuesday domestic flight badly affected many country chinese official previously announced said letter medium company business travel part economy next step cent world late thursday april according state health stop spread local health pandemic forced also warned local official second biggest large part taken place chinese company week quarantine surged cent early january face challenge united nation said virus said recent',\n",
       " 'make sure want make making sure three time need make medical service director medical prof said said health professor kenneth associate professor real life said trump service kenneth ministry director said also five minute fast food world champion time make come back older people first four said want health director within three measure place everyone else rate infection would take much time take care neutral venue test result false positive right thing state governor would need production line life saving number covid come home digital transformation fruit vegetable real time time think also want want know much le help child',\n",
       " 'press conference said press virtual press told press conference yesterday director medical medical service press briefing prof said professor kenneth service kenneth wednesday march city government associate professor match played large scale said added said health minister yong ministry director government would foreign minister ryan said health director said virtual online concert viral load friday prayer community transmission said public number test several country government official member also washington president country including press release ministry task said government local medium metre apart mild symptom mexico city multi ministry government also country still would allowed london bloomberg tuesday march spread disease',\n",
       " 'without fan without spectator first major football league bayern munich major sport martial art mixed martial sport league empty stadium major league borussia dortmund league resume professional sport come back want play became first sport event playing game season resume play game event would return action game played south carolina sporting event league game health safety time major berlin reuters green light even without first four league said told sport said hoped every week resume june first round large gathering world number european football become first month covid prize money stay away looking forward professional football march covid match played',\n",
       " 'report said human right according report said report medium report united nation said police highest level pandemic likely right group newspaper said local medium national security people time newspaper reported world bank government official pandemic according virus country report last trump administration location data would need country government early last private company said three record high china also covid related said according official told called government australia zealand taken place disease like april year people killed said foreign could even medium outlet london bloomberg league player said despite social activity year come reported monday covid country said government intellectual property',\n",
       " 'said sunday sunday april sunday march sunday june statement said paris reuters beijing reuters reported sunday case sunday sunday said sunday night bar restaurant film festival video link people killed gathering people next season lockdown imposed much possible saturday night group said city official sunday morning public place posted video closed public organiser said coronavirus vaccine week said muis said german government minister said coronavirus lockdown closure school virus country city government said call country case mass testing home possible fever cough health agency statement sunday airline said national emergency told news said video home family essential business impact coronavirus',\n",
       " 'post covid covid world twitter user need support digital transformation live work medium platform world people look like singapore post singapore must post pandemic singapore together emerging stronger brick mortar emerge stronger world said wealth management people feel covid said year student private sector people also covid singapore customer service public sector singapore management management university good idea international cooperation every singaporean global economy digital technology singapore still everyday life economy society said interview large part time time great depression profit organisation international travel create job ground halt monday june singapore could since great pandemic including could become three five',\n",
       " 'distancing measure measure place safe distancing comply safe measure said measure implemented measure also elevated safe five people social distancing measure introduced face fine measure imposed measure including time offender measure announced said police government agency physical distancing offender face measure prevent across singapore four five robertson quay west java large scale also issued social activity latest measure work hour home possible civil servant back normal physical interaction school workplace decision making repeat offender face face measure rolled told strait military training tuesday april deliver food stem spread year woman door door many country scale social measure could flattening curve',\n",
       " 'video call loved one said year look like looking forward sunday time real life coronavirus situation online class feel like back home time week york time video game half hour people want almost every circuit breaker year mother year say look forward friend family living room late april time home five day five minute give people video conferencing three hour stay connected virtual tour thought would many job make feel life said home without activity like eight year phone call text message city like family life family friend spend time also give march also screen time late night around people',\n",
       " 'wong said national development lawrence wong development minister minister lawrence said wong multi ministry chair multi wong chair ministry task said national force tackling minister national development lawrence minister yong medium conference worker dormitory essential travel entering singapore conference yesterday testing capacity outbreak said chair task tackling covid social gathering said authority virtual press singapore resident said government resume activity responding question last night personal hygiene precaution taken singapore malaysia beverage outlet health measure second phase first phase phase reopening social activity said medium contact others continue work singaporean must five people super spreader life livelihood dedicated facility said virtual',\n",
       " 'pas holder work pas work pass term pas ministry manpower permanent resident working singapore singapore work resident long place residence singaporean permanent entering singapore return singapore singapore said singaporean work citizen permanent travel plan term visitor returning singapore singapore ministry said employer singapore malaysia leave absence employer must travel advisory said work manpower said travel history worker affected measure include tuas view case work come back singapore resident singapore citizen robertson quay yesterday ministry home day upon arrival allowed return said singaporean malaysian worker false information converted dormitory medical treatment permit pas work singapore allowed enter coronavirus situation also suspended',\n",
       " 'long time take long time said looking forward many year world championship going take difficult time time need tough time back foot testing positive come back complication covid return normal every singaporean said government home delivery came back step forward even pandemic global economy year later minister hsien silver lining soon possible hsien loong take care announced would bukit timah loong said think going working hard said going trillion dollar grocery shopping coronavirus lockdown said month time added died complication challenging time support business covid last stuck home time many world also take time international trade fellow singaporean national park',\n",
       " 'authority said transport authority land transport local medium local authority stay order statement said checkpoint authority immigration checkpoint medium reported elevated safe attorney general travel history person person enforcement action treat covid joint statement take step maintain safe guan dormitory help company april june disease covid month first arrived singapore port authority told local plead guilty essential travel north eastern thousand people confirmed coronavirus resident also back work died virus according local infection since local infection northern italy also told remain home statement yesterday building construction isolation area national institute construction authority year prison ministry manpower cluster infection least people',\n",
       " 'work permit permit holder outside dormitory singaporean work community facility hospital community staying dormitory discharged yesterday permit pas case cent pas holder worker staying another case death covid complication covid died cause case yesterday case outside died complication case work cluster dormitory daily average vast majority case imported week week case singaporean fully recovered confirmed covid case past patient discharged eight case announced yesterday local case construction industry total covid confirmed coronavirus case among condition intensive construction sector known cluster yesterday case incubation period bringing total worker levy cause death said confirmed country total past day among singaporean linked known',\n",
       " 'wash hand hand washing personal hygiene washing hand good hygiene soap water hygiene practice public hygiene practise social keep distance infected person fight coronavirus person person good personal hand sanitiser year later said social said evidence help protect self isolating protect people covid virus said make could help community service drug administration food said virus spreading food drug fever cough health concern public place medical attention much possible said people first person respiratory droplet global coronavirus several time spread disease went viral last thursday town council case virus outbreak singapore said study stay away good idea prevent spread video posted',\n",
       " 'health authority local health apple google city million south west infected people cluster infection test positive said local health department covid symptom false information medical staff among measure location data country health authority said covid test side effect prevention control case including food centre local infection authority also urgent need come contact case case real time lockdown lifted country china national health better understand according local press briefing test carried infection since suspected case friday march reported first said health health check high profile contact people return work four week around country april number also reported state health authority announced',\n",
       " 'singapore tourism tourism board joint statement board said enterprise singapore singapore singapore shopping mall said joint term visitor short term orchard road cruise line distancing ambassador last night singapore said singapore grand entertainment venue convenience store tourism industry operating hour tourism sector statement last health safety health well food beverage staff member number visitor statement yesterday tourist attraction group chief help business border restriction business individual precautionary measure common area temperature screening respiratory illness entering singapore government agency sars outbreak cent drop statement said digital transformation look forward travel history coming week assistance scheme least four group said become first',\n",
       " 'hawker centre food centre centre market national environment environment agency public hygiene food establishment hygiene standard food beverage peak period beverage outlet hawker stall must also centre said centre also coffee shop jurong west implement measure maintain safe every hour food agency entry exit theme park urged people people keep remain open personal hygiene singapore food iswaran said also continue keep safe come back safe distance limit number open business said added group said socially responsible making sure public area help reduce least apart said business much needed good hygiene government support market also transmission covid current situation people continue',\n",
       " 'financial crisis global financial asian financial global economy since global international monetary monetary fund emerging market world economy financial market federal reserve chief economist economic growth great depression largest economy developing country world bank reuters poll trillion trillion economy already major economy growth forecast global recession purchasing manager economic impact cent growth trillion dollar financial system impact coronavirus global pandemic bounce back crisis said contract cent global growth growth rate second largest worst case many country global economic since great economy said containment measure level since impact covid case scenario lowest level cent year whole world health system economy expected',\n",
       " 'people died died covid died virus least people died coronavirus across country died disease said people coronavirus death would also care home european country nearly people number death total people last hour outbreak began year infected mortality rate president vladimir vladimir putin began december coronavirus epidemic dengue case virus spread three people regional government death rate patient died home said loved one infected million reported case december last highest number virus last many country ministry data daily increase centre said lowest daily case people case virus coronavirus related covid death worst affected four people case confirmed infected people data show',\n",
       " 'boris johnson minister boris prime minister downing street british prime johnson said coronavirus lockdown said johnson dominic raab reuters british british government united kingdom matt hancock hancock said foreign secretary office said london bloomberg chief medical medical officer lockdown rule scientific adviser self isolating european union senior adviser college london imperial college covid symptom health secretary lockdown measure worst country opposition party european country newspaper reported care home death rate government response newspaper said queen elizabeth address nation party leader country europe stringent lockdown return work testing positive ease lockdown told radio three week said government handling pandemic antibody test',\n",
       " 'world health health organisation health assembly organisation said united nation many country global health according world international community said world global response organisation also decision making medical journal mike ryan pandemic world time world fight virus china world pandemic killed international cooperation health system world need secretary general killed people virus cause infected person response pandemic treatment vaccine world bank effective vaccine coronavirus response handling coronavirus covid response international organisation reduce risk foreign minister security council dale fisher cause covid world said across globe global public sporting event spread country singapore time global pandemic le likely origin virus virus said',\n",
       " 'national institute institute allergy allergy infectious anthony fauci fauci said director national infectious disease fauci director institute health food drug drug administration washington reuters federal government human service gilead science health human emergency authorisation disease said coronavirus task think going home order house coronavirus malaria drug medium account department health health expert disease expert severe covid highly contagious york time trump administration number patient going happen antiviral drug reopening economy high profile killed people could lead respiratory disease coronavirus response stock market coronavirus spread also warned health care reopen business people united month ahead said state made clear positive test',\n",
       " 'chinese city city wuhan late last central chinese virus first first emerged emerged late hubei province china late first detected central city state medium medical worker chinese year coronavirus first emerged china wuhan china killed people outbreak first human transmission origin virus wuhan virus virus emerged human human first reported year holiday coronavirus emerged long line beijing china wild animal response covid china virus china coronavirus communist party according reuters wuhan epicentre coronavirus epidemic chinese state chinese authority spread country late january outbreak began strict lockdown trading partner case virus deadly coronavirus last december wuhan city international community died virus',\n",
       " 'intensive care care unit care bed patient intensive critical care number patient critical condition healthcare system medical staff condition intensive care patient serious case health system heart attack death rate discharged yesterday cent patient hospital bed covid illness hospital admission doctor nurse medical condition patient need case discharged europe united life saving still hospital death covid wuhan china doctor said short supply paris reuters care said dominic raab death recorded hospital said case total contracting virus virus emerged italy spain emergency room said year public hospital family said sunday evening downing street coronavirus symptom three week medical professional president emmanuel',\n",
       " 'ismail sabri datuk seri sabri yaakob seri ismail senior minister star asia minister ismail asia news news network standard operating operating procedure quarantine centre mandatory quarantine petaling jaya said senior return home returning abroad defence minister allowed return daily briefing minister said said daily high commission total fatality covid testing june said working singapore said said reported death would allowed also reported education ministry security council said malaysia human resource upon arrival ministry also work singapore singapore ministry malaysian worker quarantine home entering country three hour working group quarantine period affair minister returning overseas entry point said press back singapore',\n",
       " 'face mask wearing face wear face mask public people wear mask protective face covering cloth mask mask made mask said czech republic senior citizen medical mask must wear coronavirus restriction safe distance posted video hand sanitisers video posted million mask hand washing public place mask hand protective gear general public wednesday march mask glove business usual donated million coronavirus epidemic ease lockdown temperature check keep safe ten thousand essential item outbreak covid distance others short supply risk infection high quality health safety stay safe court document march year mass gathering said year shopping mall people including since february also working',\n",
       " 'vice president former vice president mike mike penny senior vice trump campaign democratic presidential democratic party firm said said trump north carolina said coronavirus high profile presidential election african american service provider fund raising wall street hard coronavirus take cent full year president trump family service washington state cost saving handling crisis impact covid european commission york reuters team also fourth quarter online platform compared year raise billion secretary state short term think would bright spot trump administration would include coronavirus according make difference approval rating food service recent day group chief past week caused pandemic diagnostic test said week',\n",
       " 'disease control control prevention centre disease korea centre prevention kcdc prevention said seoul reuters reuters south korea reported told briefing outside china total infection virus spread toll rose self quarantine face covering infected person cluster infection least people call centre daily case seoul south infection among wholesale market deputy director york nytimes director centre reported coronavirus quarantine rule asia largest showing symptom reported case south korean control said virus first distancing guideline developed symptom least four reopening school metropolitan area washing hand reuters reported cruise line infection said wild animal case reported outbreak virus maintain social fourth largest first case',\n",
       " 'tour france three week pushed back sport minister large crowd world champion four time paris reuters week lockdown time like many way sporting event cancelled postponed governing body next three thursday april june july week later another three tokyo olympic people coming early april largest city around million nearly third said early organiser said confined home would likely said know public gathering president emmanuel emmanuel macron olympic game french president mass gathering least three keep people told radio back back day said come first week time past three five month eight hour season would fight covid would need want make',\n",
       " 'deputy prime swee keat heng swee minister heng prime minister keat said supplementary budget minister finance fortitude budget said deputy finance minister thursday march help business future generation announced budget sgunited traineeship emerging stronger bank account heng also also finance resilience budget bridging loan budget announced measure help help singapore longer term keep worker singaporean aged save job support business said parliament singapore economy training programme trade association wage worker local worker worker business parliament yesterday stay afloat cash flow bishan payoh help firm national broadcast heng added help singaporean announced last business leader help company property rebate nine month',\n",
       " 'resume work start work building construction construction authority construction worker return work construction sector health safety construction work dorm operator work site home owner permit pas housing board work said worker staying first batch allowed leave safety measure worker work worker dorm worker tested work well construction site worker employer rest day board flat employer must ministry manpower covid symptom said authority work permit twice daily staying dormitory sore throat construction industry said worker residential property resume operation second minister worker also work also employer also tested covid said firm worker must green light implement measure able return able resume',\n",
       " 'central bank basis point bank said european central federal reserve financial market monetary policy bank japan reserve bank government bond fiscal stimulus financial system bank also emerging market euro zone bond market finance minister government central trillion trillion fiscal monetary point cent largest economy global economy foreign exchange global market short term budget deficit since global impact coronavirus support economy global growth lowest since global recession trillion dollar finance ministry caused pandemic stimulus measure financial institution stock market economic fallout three time record cent chief economist government spending market condition trillion billion economic outlook fallout coronavirus economic growth recent week',\n",
       " 'purpose built factory converted built dormitory converted dormitory dormitory operator dorm operator manpower minister minister josephine worker dormitory isolation area ministry manpower agency task inter agency worker said gazetted isolation living condition josephine said dormitory said dormitory punggol construction site said worker manpower ministry worker also said ministry number worker worker essential worker dorm worker centre permit pas among worker recent week medical team number infected manpower said governmental organisation essential worker next phase worker living worker stay worker well work site dormitory cluster care pack since april construction sector taken care employer must construction work westlite guan construction worker',\n",
       " 'islamic religious council singapore religious council muis said singapore muis muslim community friday prayer month ramadan minister charge religious gathering holy month place worship masagos zulkifli commerce industry chamber commerce fasting month play part community said people association worker family fund raising minister state loved one temperature taking senior parliamentary parliamentary secretary said masagos preventive measure immediate family financial assistance part time member public local business transmission virus home affair curb spread support another masagos said video link fund support community also remain closed prevent spread singapore said large cluster least five ministry culture health safety measure reduce physical interaction',\n",
       " 'police officer public servant enforcement officer court heard said police back court distancing ambassador public prosecutor five people george floyd security officer jail term orchard road home essential around april police force return home void deck hundred people nose mouth african american delivery rider singaporean also day later remain home family friend institute mental officer said confirmed infected long line left home social gathering four day monday june border control seven year facebook user also face public space food centre could face last december became first first person charged court across country said singaporean home april test positive johor baru',\n",
       " 'case coronavirus first case reported case coronavirus death reported first coronavirus country confirmed first first coronavirus tuesday march year woman monday march announced case saturday march contracted virus recorded case first confirmed announced first three case thursday march first death total case earlier week suspected case friday march since first positive coronavirus late last statement friday reported total state reported preventive measure measure taken staff member joko widodo bring total case novel said patient case reported nearly case said case panic buying wednesday march case virus president joko death case first country country case member tested half million second largest',\n",
       " 'health official washington state state health health department local health recent week said health antibody test official also infected person community transmission middle east positive virus three death testing kit populous state suspected case many state underlying health health condition senior health large gathering coming day government health york nytimes slow spread department said medical officer first death said state state local people tested chief medical declared state department health country including public gathering spread disease test result person person south wale according official record number death coronavirus cluster infection cause death flattening curve reported infection said briefing chinese national',\n",
       " 'government said said saturday said government government also state government british government month government saturday april government would federal government indian government united kingdom lockdown began measure imposed week government foreign national city government case saturday government source coronavirus government international trade measure government said since coronavirus restriction week quarantine medium platform outbreak began outbreak government said measure self isolate government spokesman across country health system help company said people border closure part time passenger flight restaurant cafe partial lockdown still allowed people think said last case people said website worst affected statement friday said late since lockdown decide whether',\n",
       " 'news conference told news said news foreign minister said adding daily news news briefing berlin reuters minister said wearing mask economic impact public life health expert czech republic next step last night interior minister cherry blossom restaurant bar said saturday mike ryan madrid reuters week since science technology border control said daily allowed open testing capacity foreseeable future government would shopping mall government spokesman reuters coronavirus hancock said transport minister number death also told something like daily number people also said case coming day death case medical expert chief medical blasio said cent monday treatment coronavirus recent day sporting event',\n",
       " 'past week case community average case week average case week worker living average past unlinked case singaporean permanent living dormitory isolation facility community isolation permanent resident case singapore number unlinked sungei kadut tuas view cared community patient discharged linked known isolated cared known cluster case among community facility also announced another patient discharged hospital well still case cent clinically well still test living dorm still hospital community also among case critical condition complication covid covid infection condition intensive fully recovered hospital community test positive week number stable improving hospital stable year singaporean case past daily average daily update singapore largest',\n",
       " 'million people infected million country million nearly million fourth populous world fourth people globally around million president joko people killed joko widodo home million city million west java virus infected ten million population million populous nation case scenario populous country people work large scale central java health expert five million almost million three million coronavirus infected reuters tally first case people could according reuters spread disease people around world bank people live capital jakarta said million said many scale social people worldwide least people rapid test official figure people living lost job lose job distancing restriction partial lockdown highest south',\n",
       " 'noor hisham hisham abdullah director general general noor abdullah said ministry director star asia positive case active case health director news network said health asia news petaling jaya rate cent health ministry cent total medium briefing patient recovered outbreak began said daily recovered covid covid positive patient treated said malaysia case detected double digit since outbreak said ministry care unit said patient health facility malaysia reported country health fatality rate infection country testing capacity said country covid infection sunday april case thursday first week local transmission single digit mass gathering datuk seri reported covid cent covid break chain test done',\n",
       " 'fell cent dropped cent retail sale year earlier cent last cent billion cent march declined cent cent million cent fall cent january cent decline plunged cent cent april cent lower cent share data showed cent february cent compared data released decline since increased cent cent higher lost cent fall cent year march cent drop january march compared period according data compared year basis point unemployment rate drop cent compared cent cent rise cent total food beverage global market grew cent third quarter april year reported cent surged cent year china le cent department said cent respectively data show first day',\n",
       " 'polling station time slot respiratory symptom self quarantine election department president moon home quarantine quarantine order election held year term risk infection ruling party quarantine facility safety measure least apart special arrangement temperature screening strict measure measure place health risk safe distance four year local time three minute democratic party infected people virus still public facility government handling coronavirus infected people country approval rating south korean protective gear bishan payoh home abroad half hour leave home second round much possible temperature taken seoul south mask glove quarantine home must also social distance contact people article edited election covid ensure safety',\n",
       " 'secretary state state mike mike pompeo pompeo said trump administration state department national security chinese communist communist party origin virus chinese official conspiracy theory said china chinese people intellectual property china said handling coronavirus virus originated virus china washington post wuhan virus said interview global pandemic chinese government president jinping global time said trump wuhan china chinese virus president trump administration official washington reuters said united response covid rest world infection death health assembly global economy international community part china handling pandemic chinese state international organisation said chinese said think international study cast doubt people daily china country chinese foreign',\n",
       " 'nucleic acid acid test high risk xinfadi market risk area capital city wholesale market mass testing food market city million fruit vegetable nearly month emergency response across city cluster infection hubei province risk group testing capacity said year protective suit since april tested coronavirus felt like first detected asymptomatic case chinese people testing kit second highest asymptomatic patient could leave chinese year south west world second came back antibody test risk coronavirus city official move around ramp testing test result china daily infection since second largest saturday morning quarantine day wave infection quarantined day test coronavirus genetic material lifting lockdown',\n",
       " 'cent year year year minus cent month month shrink cent year million rose cent year cent grew cent year billion data showed cent month year april cent growth year earlier year last global demand data released cent march coming month month cent april cent plunged cent contract cent drop cent year first according data climbed cent decline cent year according reuters poll largest economy cent contraction year compared forecast cent global trade major economy cent drop retail sale cent february cent total global economy surged cent month year chief economist compared period economy could senior economist rise cent ministry trade',\n",
       " 'community case died cause average number community facility covid complication remaining case recovered disease case reported living dormitory place visited positive died number unlinked singapore total patient fully worker living discharged yesterday number daily permanent resident fully recovered case also health closely case discharged school staff monitor health active case past week remained stable total patient public place hospital including previous case fairprice outlet singaporean permanent ministry health case already currently unlinked began december year infected tested positive death covid december last daily average said ministry migrant worker covid died work pas patient discharged also increased outbreak began patient still',\n",
       " 'crew member aircraft carrier passenger crew port authority cabin crew return home back home online concert physical distancing covid restriction wrote twitter diamond princess family friend tested negative local authority authority singapore allowed enter cent world home said khaw said national government pandemic began singapore said financial time friday april south africa world trade local official film maker wearing face early next soon possible could potentially come home precautionary measure would remain like many would difficult returning home keep distance transport minister since world several month covid also april first test negative positive case regional government communication information infected virus',\n",
       " 'private hire hire driver transport minister minister khaw khaw boon taxi private land transport khaw said transport authority boon said taxi driver ride hailing peak hour food grocery cent since said move east coast association said facebook post deliver food cross border since april within minute take effect april year housing board affected pandemic said currently operator said said staff also announced singapore would time slot increased demand delivery service enforcement action heng said working hour last thursday april last another month fallen cent university student cent covid support package online shopping least cent march april face fine time period',\n",
       " 'rose cent wall street time index japan nikkei singapore strait point cent index cent cent barrel gained cent brent crude local time jumped cent cent singapore cent local closed cent federal reserve cent south lost cent strait time climbed cent cent higher cent lower stock market cent monday cent week highest since worth billion sydney reuters basis point economic damage asset management china trade trade deal shaped recovery goldman sachs bond market market also jobless claim ocbc bank record cent surged cent seven week global recession york reuters fell cent second quarter global market almost cent tokyo reuters stock exchange',\n",
       " 'interest rate percentage point federal reserve rate cent credit card said bank bank also home owner monetary policy term loan impact coronavirus overseas bank united overseas balance sheet spreading coronavirus shaped recovery government bond stock market cent first reserve bank chief economist cent last economic impact rest year ocbc bank state federal billion loan trillion trillion longer term fast spreading trillion yuan said move economic growth goldman sachs wall street contraction since said made financial system basis point bridging loan could lead economy shrank support economy cent since think would almost cent several month senior economist china economy bank singapore',\n",
       " 'health ministry according health total death coronavirus death said total patient recovered ministry data reported death bringing total ministry spokesman president jair jair bolsonaro ministry also total infection ministry official past hour april reported said health daily increase confirmed infection ministry director death according also reported total case infected people case health number fatality closed school death infection data showed latin america said televised toll coronavirus said saturday case bringing saturday march sanchez said recorded case pedro sanchez last hour reported infection minister pedro official figure infected coronavirus latest figure reported coronavirus yesterday reported test people case country rodrigo duterte',\n",
       " 'number people people infected large number infected coronavirus infected virus herd immunity people allowed limit number people tested said people prof cook infected covid jobless claim people going unemployment benefit said number remain open middle east association said cent people interior ministry related coronavirus killed people service centre cent population first death number death paris reuters people still friday june outside home case total limited number department said prolonged period people working know many nearly people health protocol said early people become unemployment rate community service increase number labour market health system point time increasing number reduced number contain outbreak',\n",
       " 'ardern said jacinda ardern minister jacinda alert level prime minister said news five million community transmission lockdown measure active case border control seven week late march many country global pandemic closed border strict lockdown australia zealand week lockdown first country bar restaurant national emergency told radio country world said government self isolate physical distancing professional sport economic impact transmission virus highest level saturday march said earlier news conference restaurant cafe restriction would school essential said country around country four week lockdown rule said televised taking total country including nationwide lockdown public gathering remain place restriction people quarantine facility month lockdown',\n",
       " 'bangkok reuters reuters thailand thailand reported since outbreak centre covid reported coronavirus patient recovered case fatality total case reported total previous case linked previous outbreak began april reported infection death bringing total outbreak started coronavirus case case three single digit total confirmed said since billion baht three death year woman case patient covid situation religious gathering case death total death daily infection east asian case found thursday april case infection case reported three case case four infection rate shopping mall consecutive day week case disease said tally case friday april asian nation restriction business case first passenger flight sunday april',\n",
       " 'south china wang said china said international study foreign policy east asian asean country said china china also senior fellow aircraft carrier president rodrigo rodrigo duterte foreign minister fight covid said last international community covid said china south china would study said chinese government foreign secretary state china national security president jinping official also china united also announced music video state said year china would want take advantage presidential election china last said chinese trading partner business usual push back global covid also increased coronavirus epidemic chinese president asian insider cent south united nation asian country china india world biggest',\n",
       " 'coronavirus patient private hospital hospital bed public hospital patient said medical centre treat coronavirus save life treatment coronavirus malaria drug medical staff severe case used treat patient mild infected coronavirus said patient mild symptom emergency room patient hospital patient severe turned away care patient medical facility serious case disease specialist severe covid hospital said patient also patient covid patient treated college london pregnant woman healthcare system admitted hospital doctor nurse fight disease york nytimes study published cent patient patient need protective suit said hospital critical care patient infected could used many country centre said clinical trial health system china italy',\n",
       " 'self isolation self isolate good health tested negative screen time seven day young child self isolating negative coronavirus testing positive queen elizabeth social gathering leave absence good time digital economy came back negative covid least people family singapore like many quarantine rule positive coronavirus league match self quarantine keep distance time together confined home sore throat people across child also prevent spread would also week quarantine help child statement added stay healthy left behind daily routine three child mental well mild symptom negative virus according statement online class wednesday march minister said home coronavirus thursday march eight year said family',\n",
       " 'full time armed force military training national serviceman time national singapore armed ministry defence national service training centre home team defence force take care home affair fresh graduate ministry added reduce risk latest measure said ministry risk infection part time police force loved one singapore police separate statement essential activity common area vulnerable group precautionary measure final year defence minister unpaid leave extension circuit yesterday ministry month circuit safety measure april singapore least month also able measure curb singapore strait part measure sgunited traineeship measure place measure implemented statement yesterday minister office senior parliamentary parliamentary secretary immediate effect break chain',\n",
       " 'travel restriction international travel restriction imposed restriction lifted global travel mixed martial singapore airline martial art border restriction cancelled postponed business travel international transport transport association return home soon possible customer service essential travel could still tourism industry northern italy said global self isolate restriction place tourism sector travel industry singapore malaysia border closure china south home country european country travel plan measure place domestic helper hard coronavirus employment agency travel history said singapore united kingdom would make within next recent travel make sense stay afloat global economic singapore singapore body said cross border service centre domestic travel also suspended',\n",
       " 'north america last weekend europe north ticket sale saturday night movie theatre cent last concern coronavirus asia europe much cent said interview good news four week people going lockdown measure remain open fear coronavirus coronavirus lockdown least week across europe fewer people still cent feel safe essential business ryan said million last last time european country remained open lowest level thursday march safety protocol newspaper reported china south since start april also million euro home quarantine month june week earlier ground halt ten thousand start year cent according cent respectively year earlier first round coronavirus spread look like said sale',\n",
       " 'said heng heng said heng also finance minister also finance said deputy heng added singapore together deputy prime minister heng heng swee swee keat said singapore minister said local worker emerging stronger longer term said government emerge stronger prime minister business leader support business artificial intelligence support package keat said global economy four budget singapore must minister finance make best job skill research development worker party come together difficult time next five business worker government provide aviation sector create job training opportunity package help year budget many job life livelihood affected outbreak told parliament bounce back billion package also urged',\n",
       " 'mainland china hubei province case mainland commission said epicentre outbreak beijing reuters health commission outbreak china imported infection locally transmitted china also traveller arriving march country national health chinese national case earlier china hong outside china brings total china coronavirus three time research centre number confirmed emergency response chinese government china reported thursday march travel history confirmed coronavirus city million four case number imported virus china wuhan city case outside case thursday percentage point containment measure lowest since come time recent week phone call china said case sunday reported monday first round transmitted case total infection done well late thursday',\n",
       " 'senior minister coordinating minister tharman shanmugaratnam national broadcast minister state minister tharman minister national chee hean job council national job hsien loong minister hsien minister social national security said singapore lower income public sector singapore post post coronavirus help singaporean trade industry singapore together said government effort help job skill public service said senior sgunited job private sector development lawrence training opportunity industry chan singapore must minister trade home team income family national effort early childhood save job chun sing year come chan chun emerge stronger national development labour force lawrence wong aged older worker dormitory global economy emerging stronger',\n",
       " 'case linked linked cluster guan dormitory total case local case westlite guan community isolation isolation facility worker dormitory isolation area hospital community cluster dormitory dormitory punggol still hospital case case critical condition case announced condition intensive hospital stable discharged hospital cluster case four case stable improving still test five case case still case cluster previous case gazetted isolation linked previous clinically well three case test positive mustafa centre singapore reported well still linked case fully recovered sungei kadut case total case yesterday staff member dormitory cluster gone work isolated cared announced yesterday bring total mount elizabeth patient discharged case imported',\n",
       " 'close contact people close infected person identified close come close contact covid contact confirmed quarantine order contact infected close proximity contact people smart nation chinese national suspected case digital tool positive test monitor health risk infection respiratory symptom likely infected social contact feeling unwell minister charge infected patient three day airline flight placed quarantine false information covid positive self isolate local authority enclosed space mild symptom covid infection first confirmed confirmed infected eight case young child vivian balakrishnan activity resume transmission covid showing symptom infected coronavirus xinfadi market tested negative physical contact entertainment outlet fatality rate player staff asymptomatic case',\n",
       " 'angela merkel chancellor angela merkel said german chancellor president emmanuel emmanuel macron berlin reuters french president lockdown measure infection rate state premier public life gathering people step step slow spread italy spain italy france rescue package distancing rule spain italy european central death rate video conference ease restriction healthcare system since world government spokesman football league care bed biggest economy border control return normal remain place reuters bloomberg german government coming week spain france government also number infection normal life president vladimir public gathering vladimir putin regional government world leader federal government first step france germany lift restriction said adding',\n",
       " 'health worker doctor nurse health care mexico city medical worker health system healthcare system medical staff care worker protective gear worker infected within day across country medical mask discharged hospital world bank admitted hospital hospital bed risk factor diagnosed covid government also essential worker said twitter public hospital said hospital south america made available looking forward doctor said earlier week worker essential medical association medical professional treating covid city government local health safety health private hospital according world medical personnel protective equipment hospital staff medical centre rate infection fight coronavirus queen elizabeth covid symptom country health general public mask protective',\n",
       " 'young people people singapore school closure fresh graduate people aged time like people must home singapore past year labour market daily life people think need help least week whole world construction site challenging time cent total every time news medium said million also launched assistant professor within month cent people worker would socially responsible older people training programme say year herd immunity post pandemic would taken university student sgunited traineeship help others minister state even pandemic workforce singapore community also year work make best take advantage back home time come time also people work year say announced would facebook group',\n",
       " 'novel coronavirus spread novel case novel caused novel across country monday april according reuters reuters tally respiratory disease slow spread york reuters researcher said covid respiratory highly contagious study published united kingdom said study trading partner coronavirus said vaccine developed help prevent coronavirus first saturday april coronavirus killed reuters china tuesday june medicine said containment measure case country infected million virus spread illness caused south west disease caused saturday june announcement came test carried spread disease le likely centre said small group friday june across world became first reported case coronavirus also monday june recorded case coronavirus spread according study',\n",
       " 'number case highest number case reported said number case rose healthcare system case could rise number recent day high number case number case community single digit number daily daily number case singapore metropolitan area second highest majority case lowest number case daily prof cook cent case rise case record number daily case spike case case since million test health system case increased infection since vladimir putin president vladimir since april coming week latin america germany france total number hospital bed said case measure place flatten curve increase number lower number spike number case confirmed case among official figure case health',\n",
       " 'virus outbreak outbreak said china virus pandemic forced spending time outside china cent last eight year even virus response virus state owned year since said china since last video posted tuesday march tokyo olympic blog post tourism industry time work trillion yuan company also profit organisation almost cent aircraft carrier trade deal said expects said video deadly virus financial market short term said year foreign exchange global growth take longer outbreak china medium platform december last outbreak also surged cent amid global sick leave global economy year cent growth forecast rapid spread border control global economic real time stay indoors',\n",
       " 'domestic worker employment agency rest day foreign domestic ministry manpower return home said employer domestic helper employer must work pass manpower said public space work permit meet friend serve stay said ministry last sunday told paper employer also young child large group elderly parent home said singapore foreign back home come back practise social must also facebook user returning home entering singapore must stay year daughter group five human resource singapore said day said eight year country covid singapore reopening dormitory operator phase singapore facebook group infection among child aged physical contact child home come contact wanted known parent grandparent',\n",
       " 'club said first team football league football club virus infected training session infected people player staff said saturday singapore pool league club said website bayern munich berlin reuters tote board positive coronavirus second tier professional football league suspended said player paris reuters suspended march coronavirus shutdown ensure safety player coach small group resume june training centre family friend said twitter saturday april four month league match player tested would continue said first later date test coronavirus already started play game borussia dortmund people globally manchester city like virus covid test limited number medium reported season would decision made bukit batok',\n",
       " 'imported case number imported locally transmitted local transmission term pas transmitted case resident long case reported border control case singapore term visitor case involving local case previous case linked previous health check hubei province safra jurong singapore confirmed number infected singapore resident pas holder wednesday march case case chinese national traveller arriving check podcast case local dedicated facility case tuesday listen health announced yesterday infected patient late january recent day brings total condition intensive case recorded remaining case europe north last day serve stay case imported cluster linked imported infection people daily case wednesday case three still hospital health commission',\n",
       " 'cent said cent respondent around cent found cent percentage point survey conducted cent april unemployment rate minus cent compared cent year cent family friend research centre said felt also found safe distance cent march three quarter human resource keep safe distance others return normal le likely survey showed continue working month cent showed cent impact covid labour market would take rate cent measure introduced people aged job lost tuesday april feel safe said need every week economic impact would want said president wall street fallen cent public relation general population council said million worker nearly cent people across people live',\n",
       " 'prof wang medical school duke medical emerging infectious neutralising antibody wang said disease programme said prof live virus infectious disease genetic material personal hygiene public hygiene herd immunity science technology school said sars virus technology research said test hundred thousand cause covid virus cause test said green pulse infected virus several day health science test carried vaccine candidate environment agency including singapore business continuity national environment vaccine development virus infected could also virus also deputy director said masagos also help infected case minister environment said professor border control research fellow much better first week serological test masagos zulkifli shopping mall',\n",
       " 'general hospital singapore general teng fong fong general tock seng seng hospital university hospital woman child child hospital national university teck puat puat hospital khoo teck three child emergency department national centre isolation room centre infectious hospital said isolation ward infection control senior consultant line healthcare show appreciation contracted virus day later confirmed covid medical officer hospital staff among case front liner complication covid donated million doctor said sore throat case said said work child aged trying time said able table tennis known case public healthcare pandemic singapore healthcare institution human resource medical worker returning singapore also known difficult period',\n",
       " 'economic activity global economy activity resume second quarter major economy unemployment rate reopen economy look like global economic lockdown measure chief economist stock market economic recovery labour market federal reserve reuters poll easing restriction percentage point consumer spending service sector would make world second across country cent contraction minus cent slow spread nearly half global trade global recession shrink cent longer term economy recover people would easing lockdown largest economy unemployment benefit measure contain week lockdown jobless claim global growth economy said shaped recovery economic output goldman sachs great depression economy would place like government announced daily increase record cent',\n",
       " 'managing director said company online sale human resource business owner singapore said fresh graduate emerging market commerce platform shopping mall department store service said enterprise singapore video conference said firm said online facebook instagram singapore malaysia chief operating operating officer third quarter deemed essential said business said customer brick mortar large scale said also restriction imposed china said south west online platform community chest said circuit remote working since last financial service company also phase post digital marketing general manager told paper staff work cruise line post circuit week said current situation online store said family response query make cent',\n",
       " 'total number bringing total number infection number death number confirmed patient recovered cent total infection country case bringing yesterday bringing said total death coronavirus case yesterday patient discharged total patient past hour total fatality number fatality april reported case saturday rate cent fatality rate bring total malaysia reported total death also reported sunday june brings total infection reported confirmed infection negative virus case imported death country recovered covid recovered patient reported coronavirus also announced number patient announced case last hour reported death toll coronavirus tested negative korea reported highest south case friday highest daily positive case case wednesday department health',\n",
       " 'people said people familiar according people declined comment familiar matter matter said said people wall street york bloomberg billion dollar said bank person said said time state owned private equity north carolina news reported impact coronavirus said company bloomberg news longer term trump administration economic impact much cent london bloomberg asset management manager said world largest least five year according caused pandemic country largest phone call people close goldman sachs said made even pandemic market value term loan recent week said last made public health care euro zone said week executive officer lockdown march said also republican senator world biggest',\n",
       " 'communication information infocomm medium iswaran said development authority medium development minister communication digital economy digital solution digital technology enterprise singapore commerce platform service provider digital tool minister state joint venture centre market income household home office work study digital marketing digital platform trade industry left behind public servant senior minister financial support food beverage time many create job disruption caused facebook live smart nation effort help national effort restriction lifted partial lockdown institute higher higher learning tech company local medium community centre press briefing singapore also online sale medium company said covid took part early year digital transformation friend family',\n",
       " 'john hopkins hopkins university according data according tally death according death rate university said number death coronavirus death data compiled antibody test april according infection death case according south asian time reported asian nation highest number death coronavirus case infection confirmed infection university washington number confirmed killed people much higher global health health care billion people increase number recorded death half million part country according latest thursday april spain italy total fatality much cent home million known case pandemic killed super spreader first round rate infection help said economic damage tuesday morning york time across country widespread testing protective gear',\n",
       " 'precautionary measure early childhood childhood development development agency staff child leave absence school staff thorough cleaning health check cleaning disinfection child school staff member staff tested incubation period group activity parent working temperature screening school child temporarily closed monitor situation large group placed quarantine continue monitor working essential temporary closure four day student care closure school school closed said child measure include last wednesday child parent young child situation closely care centre developed symptom back school school also april april washing hand ensure safety temperature check also suspended school teacher temperature taking agency said check podcast said school keep child',\n",
       " 'agency said environment agency national environment town council dengue case construction site singapore food food agency swimming pool said agency control measure food establishment last digit health agency service provider measure taken housing board minister state period last green pulse peak period five people service said scientific evidence assistance scheme last three around million food drink also look still early pulse podcast people action jurong west third highest action party health concern environment water nric number agency also advisory issued increasing number people infected best practice popular market council said residential area since february outbreak said water resource case reported',\n",
       " 'reusable mask vending machine community club resident committee wearing mask people association cloth mask international student show symptom community centre singapore resident hsien loong minister hsien took place association said said mask mask said singapore would people infected home period working together living dormitory across island sunday april time three worker living temperature taking three week medium channel resident also primary pupil centre said vice chairman overcome challenge mask made next tuesday loong said april government community spread technological university nanyang technological science technology across singapore statement thursday said public week period really need check podcast staying dormitory government announced',\n",
       " 'metro manila rodrigo duterte president rodrigo essential good home million lost job commerce industry chamber commerce lockdown restriction food medicine worker home quarantine measure restriction eased case infection half country month long lockdown march home except lockdown measure flattening curve domestic flight million worker till april economy said lose job health emergency government also slow spread easing lockdown lockdown said would also unemployment rate revive economy said said million job source income job lost told stay five million said meeting infection death least million said government ease lockdown find way patient covid making sure nearly half highest level self quarantine',\n",
       " 'would like security council united nation league title take opportunity time would time also time like video game permanent resident time family play part cherry blossom singaporean permanent look forward hard work year covid institute technical technical education fellow singaporean family singapore regular season challenging time people would trying time want know come forward school teacher domestic helper lose job three people much time malaysian government april april really want month covid tackling covid delivery rider want make family service manchester city safe said said need take month singapore citizen since covid system would pacific region work done limited number',\n",
       " 'health crisis global health health emergency crisis said infection rate international cooperation governing body medical equipment crisis government much needed private sector production line school close develop vaccine open letter crisis also football association response coronavirus crisis many medium outlet slow spread washington post national team current crisis coronavirus related economic crisis pandemic could asian insider world bank coronavirus people people work national emergency political party fatality rate secretary general political leader still working held april combat covid said world crisis could infected coronavirus time crisis global public health expert many country pandemic government make sense medical professional york time',\n",
       " 'olympic committee international olympic tokyo olympics tokyo game olympic game organising committee thomas bach tokyo olympic game would world championship minister shinzo sporting event japanese prime committee said table tennis japanese government scheduled july four year yuriko koike sport event governor yuriko tokyo governor final decision ahead planned playing field governing body july august additional cost four week level playing world champion postponed cancelled cost billion quoted saying going ahead decision whether decision made tokyo reuters make decision year coronavirus board member four month year long like virus organiser said singapore national event cancelled public broadcaster would take right thing',\n",
       " 'control order movement control malaysia movement star asia muhyiddin yassin minister muhyiddin malaysian worker johor baru petaling jaya perikatan nasional news network asia news chief minister movement curb movement restriction prevention control malaysian government police chief pakatan harapan singapore malaysia mahathir mohamad malaysia said unpaid leave control measure allowed operate leave home march april beauty salon said malaysia jail term national security security council school essential high commission operating procedure said state datuk seri standard operating restricted movement essential business another week stimulus package contain covid wednesday march extended april facebook post remain shut travel country business reopen wrote facebook',\n",
       " 'rental waiver month rental eligible tenant four month rental relief month rent taxi driver relief package level playing playing field commercial property profit organisation four week cash grant cash flow first month food beverage month circuit budget announced month june another month government agency operator said five month nine month association said monitor situation least cent continue monitor private hire healthcare service cent march till june half month said parliament extended circuit month government bill passed workplace school centre market resilience budget would continue recent month said hope said able correction note month month help small beverage outlet time soon',\n",
       " 'year said said adding past year said year looking forward time year take year said also best practice showing symptom year coronavirus wanted known pandemic also last december group said time week said chan association said later year said added could take said study every week three time said however earlier year also look time said said world world champion said industry said plan week said said worried virtual meeting service said tuesday night said business pandemic said child said also looking academic year help said said earlier last time said know primary pupil food centre strict lockdown nationwide lockdown',\n",
       " 'coffee shop day week facebook group bukit batok stay order food beverage taxi driver would open remain open takeaway delivery disease covid beverage outlet remain home false information marina sand would make security officer four month member public checkpoint authority immigration checkpoint extended june public hygiene arrived singapore shop restaurant hygiene standard returned singapore text message little india march said public prosecutor taking step returning singapore food establishment home april first person plead guilty back court month government measure place delivery service measure would enhanced measure five day said done take action said april started april also offer singapore would',\n",
       " 'right issue raise billion singapore airline balance sheet billion year national carrier cash flow fund raising within month march last general meeting cent last financial year announced march singapore exchange share closed association singapore also issued aviation sector global travel year billion full year also given unprecedented crisis saying would loss million human right high level cent stake aviation industry amid covid cost cutting singapore singapore ended march cutting measure business time control measure recovery said would allow first four green light four year vast majority wage cut also includes response question amid pandemic essential supply never seen thursday said',\n",
       " 'primary school high school secondary school online learning school student education minister ministry education face face online class return school back school minister kung education ministry primary pupil said school school closure school said junior college school also primary secondary school holiday many parent final year school teacher year student child home school closed income family education said school close student school school reopen said student school would student care help student reopening school child school internet access care centre school child secondary student said parent student also graduating cohort academic year child aged small group said child year high',\n",
       " 'medical supply work together essential good medical equipment fight covid fight coronavirus short supply singapore china good service global economy essential item rapid spread health economic healthcare system best practice phone call asean country working together video conference need work country also china also chinese official spread disease developing country testing kit said country battle coronavirus largest economy fight virus donated million research development spread country international cooperation international community world also protective gear world largest movement people help fight united nation minister also come back working group beijing china early stage overcome challenge restrictive measure across world chinese government',\n",
       " 'death toll coronavirus death covid death highest death daily death number death toll rose toll coronavirus official death toll covid past hour total death italy spain second highest jair bolsonaro highest world country death third highest president jair lockdown measure said death death rate worst country sanchez said infection death worst affected last hour pedro sanchez much higher number fatality minister pedro number confirmed death case world second recorded death death reported people dying hardest country death coronavirus official data official figure minister giuseppe latest figure care home country europe giuseppe conte nationwide lockdown death recorded scientific adviser right wing',\n",
       " 'second half first half half year world largest bayern munich second quarter data showed head research five minute labour market half month five month reserve bank year earlier empty stadium borussia dortmund added said could help cent march analyst said cent first economic contraction production line eight week thursday june economy shrank vaccine covid global economic chief economist private home impact covid online class containment measure first major government data said speech conte said said expect covid vaccine around cent month covid lost job general manager cent drop raising concern risk spreading said singapore said medium spreading virus first announced',\n",
       " 'case covid covid infection covid death reported case recorded case first case suspected case including death known case mask glove fatality rate number covid country million viral load month ramadan community transmission country recorded rate cent temperature screening increased risk small number fight disease south america largest city general population essential travel patient discharged infection rate confirmed first death country tested covid risk factor data collected minister said confirmed covid covid country holy month reported first highly contagious severe case across country total fatality korea reported three case care home medical personnel response virus according study many time heart disease',\n",
       " 'local government central government trillion yuan communist party billion yuan local authority growth target yuan billion local official state local premier keqiang global time state medium president jinping hubei province chinese communist chinese people said china state owned government official world second economic growth china economy chinese government people daily year china middle class economic development said local infrastructure project emergency response budget deficit large scale economy shrank shrank cent chinese president government bond second largest financial system control measure china first prevention control china would theme park chinese official china daily hundred thousand time said decision making second biggest',\n",
       " 'told reuters source told official told tokyo reuters condition anonymity tokyo game ruling party washington reuters game changer feel like declined comment paris reuters governing body vast majority five week million dos bank japan board said reuters coronavirus malaria drug aircraft carrier need continue government official four year high profile said reuters reuters japan come back would take also plan announced thursday would also said last back track across world reuters reported spokesman told near term data show ride hailing april said queen elizabeth fight pandemic distancing rule board member said police surge demand month later film maker positive covid',\n",
       " 'originally scheduled scheduled april coronavirus situation amid coronavirus singer songwriter world championship table tennis concern coronavirus scheduled take pushed back look forward saturday night cancelled postponed singapore national later date month june movie theatre late night come first mass gathering singapore international also cancelled tokyo olympic situation singapore past year scheduled july best known case south health safety late february state britain statement said friday april stay safe event organiser across different governing body many singaporean place april announced friday safety well tokyo olympics getting back sporting event year would estimate cent graduating cohort singapore grand reopen economy mixed martial',\n",
       " 'singapore press press holding medium group warren fernandez editor chief strait time take part deputy chief daily news affected covid stay safe primary secondary time said digital platform time business group said secondary school school student radio station news report online platform could make fairprice outlet public service individual family said covid difficult time challenge posed also used courage fund senior management financial service singapore singapore people home home stay make sense keep people year history medium company said world singapore first time also also made singapore people take effect across asia financial year taxi driver challenging time look forward',\n",
       " 'golf course golf club time major country club south carolina covid relief general manager five time first round south korean three time first four rest year four year second round said year first major year last become first friday june public facility almost every distancing guideline world number said hope limit number look forward national service additional reporting feel like raise money keep going said news past month friday said reduce number said singapore professional sport health safety month covid organiser said business usual temperature screening today said thursday june also used bank account three five singapore permanent coming together',\n",
       " 'social service service agency fund raising tote board community chest service office rental flat vulnerable group lower income courage fund income family community service social worker food bank care hotline national care family service affected covid financial support service centre solidarity payment raised million need help profit organisation fund help month long standard chartered service sector executive director internet access digital solution income household covid support challenging time individual family financial assistance month three part time minister office come together minister finance help student community said sgunited job must also circuit breaker service said community youth housing board government agency',\n",
       " 'family violence domestic violence social worker family service service centre individual family seek help parliamentary secretary senior parliamentary care hotline home affair cent increase national care family development social family united nation said seen ministry social said received worker said said social said cent past week week since police also high risk pandemic including time said surge demand help said covid lockdown help prevent took effect centre said caused pandemic called government time covid amid pandemic help support human service including singapore come forward possible said march year also plan want make could lead service agency period last also seen',\n",
       " 'streaming service film festival coronavirus epidemic film maker theme park raise fund talk show walt disney movie theatre seven year service also raise money video game raised million also made saturday night past week late night temporary closure said still stuck home affected coronavirus living room cent increase medium platform caused coronavirus wednesday said every time contain spread service said real life across globe also includes start circuit declined comment also offer cent since worst affected said like record million growth cent postponed cancelled tuesday night million american month ahead least april people think look like look forward global coronavirus',\n",
       " 'fake news false information panic buying trust government conspiracy theory facebook post action taken human right home affair right group digital technology member public secondary student delivery rider defence minister minister said shanmugam said disease outbreak people know urged people take action spread disease effort curb outbreak response public relation people think found cent chinese national government source coronavirus related related covid response outbreak said government minister shanmugam communication information current situation family friend news medium took effect affair minister supreme court case people three time covid coronavirus life said singapore country related coronavirus ismail sabri said first also important',\n",
       " 'international flight civil aviation aviation authority passenger flight flight china international airport domestic flight late march foreign tourist tourism industry chinese national chinese student return home border control people travel commercial flight entering country test positive coronavirus restriction state medium government order coming back beijing reuters week quarantine come home quarantine facility japan south united arab arab emirate thursday june national carrier chinese government billion baht upon arrival covid restriction said passenger home said remain suspended closing border part world newspaper said medium reported come back international travel international student coronavirus related three hour quarantine rule germany france consecutive day',\n",
       " 'mobile phone bank account credit card massage parlour solidarity payment facebook live smart nation real life take away online concert location data cash payouts home quarantine ten thousand point view nric number online shopping said even vivian balakrishnan travel history sunday night minister charge time covid blood pressure ensure people silver lining artificial intelligence tamil nadu text message also used tech giant official also thousand people contact covid spend time need help nanyang technological technological university together said study published last sunday related covid four month income household heart disease rural area singaporean aged made clear said year press release',\n",
       " 'italian football football federation semi final inter milan match played sport minister positive test green light team training return training test positive training session small group training camp season suspended complete season giuseppe conte minister giuseppe return action month coronavirus suspended march resume june training centre conte said next season league resume health protocol finish season pandemic killed suspended since week quarantine league said player staff game played player would national team positive case video conference quarantine day player tested resume training test negative football association killed people league suspended football league test covid monday night season would team also',\n",
       " 'youtube channel music video living room online concert facebook youtube also offer video posted south asian feel like profit organisation raise fund national service contracted virus artistic director film maker year say chicken rice business leader school holiday also available care support donated million year national worker community time home went viral sector including including united domestic worker also launched singapore time infected patient till june three time physical contact stuck home every week border restriction part singapore today said pandemic began could potentially week also worker including daily routine work also office worker keep safe medical staff thing said',\n",
       " 'school public hock school swee hock associate professor prof said singapore swee said prof prof cook national university university singapore said associate professor ying professor yang ying dean alex cook disease programme said professor public health health said public policy dale fisher school medicine community transmission director national healthcare system executive director expert said professor kenneth said expert director medical medical service director centre unlinked case number infection health science senior health infected person higher risk people might said singapore university hospital worker dormitory said virus expert warned herd immunity case community people infected school said virus cause infection control',\n",
       " 'narendra modi minister narendra nationwide lockdown chief minister state government tamil nadu billion people daily wage south asia prime minister federal government said india country billion including death south asian indian government southern state week lockdown back home financial capital case including medical research return home three week lockdown began coronavirus lockdown rural area health expert hundred thousand government official since lockdown domestic flight stringent lockdown said state health system densely populated world biggest lockdown since second populous late march lockdown imposed worst affected healthcare system week long lockdown march surge case hospital bed wage worker asian nation according government',\n",
       " 'temporary measure covid temporary contractual obligation home affair shanmugam said minister shanmugam affair minister individual business legal action finance company cash flow temporary relief residential property business individual time period also increased month rent least month would also month later extended another said home bill passed told parliament parliament yesterday jail term four month financial impact another month economy also face fine control order said ministry party said home owner month april april april also includes property owner video link government decided said firm could done among thing property rebate government need member public also able estimated billion stricter measure']"
      ]
     },
     "execution_count": 142,
     "metadata": {},
     "output_type": "execute_result"
    }
   ],
   "source": [
    "nmf_topics"
   ]
  },
  {
   "cell_type": "code",
   "execution_count": 145,
   "metadata": {
    "hidden": true
   },
   "outputs": [],
   "source": [
    "# # TO SAVE\n",
    "with open('models/nmf_vectorizer_bigrams.pk', 'wb') as fin:\n",
    "    pickle.dump(tfidf_vectorizer, fin)\n",
    "with open('models/nmf_vectors_bigrams.pk', 'wb') as fin:\n",
    "    pickle.dump(tfidf_vectors, fin)\n",
    "with open('models/nmf_tfidf_vec_bigrams.pk', 'wb') as fin:\n",
    "    pickle.dump(nmf_tfidf_vec, fin)\n",
    "with open('models/nmf_topics.txt', \"w\") as fin: \n",
    "    fin.writelines(\"%s\\n\" % p for p in nmf_topics)\n"
   ]
  },
  {
   "cell_type": "markdown",
   "metadata": {
    "colab_type": "text",
    "heading_collapsed": true,
    "id": "tYnPgYLv91X8"
   },
   "source": [
    "## Node List"
   ]
  },
  {
   "cell_type": "code",
   "execution_count": 152,
   "metadata": {
    "colab": {},
    "colab_type": "code",
    "executionInfo": {
     "elapsed": 477,
     "status": "ok",
     "timestamp": 1598398417298,
     "user": {
      "displayName": "Yennie Jun",
      "photoUrl": "https://lh3.googleusercontent.com/a-/AOh14Ghq9YbwAPVv0DbwYiBidTSaejUC5xQMVp78N4Ek2g=s64",
      "userId": "01503012861379704934"
     },
     "user_tz": 300
    },
    "hidden": true,
    "id": "x8CRxqjXFgs1"
   },
   "outputs": [],
   "source": [
    "with open('models/nmf_vectors_bigrams.pk', 'rb') as fin:\n",
    "    vectors = pickle.load(fin)\n",
    "with open('models/nmf_tfidf_vec_bigrams.pk', 'rb') as fin:\n",
    "    vec = pickle.load(fin)\n",
    "topics = pd.read_csv('models/nmf_topics.txt', header=None)"
   ]
  },
  {
   "cell_type": "code",
   "execution_count": 153,
   "metadata": {
    "colab": {},
    "colab_type": "code",
    "executionInfo": {
     "elapsed": 1155,
     "status": "ok",
     "timestamp": 1598398450384,
     "user": {
      "displayName": "Yennie Jun",
      "photoUrl": "https://lh3.googleusercontent.com/a-/AOh14Ghq9YbwAPVv0DbwYiBidTSaejUC5xQMVp78N4Ek2g=s64",
      "userId": "01503012861379704934"
     },
     "user_tz": 300
    },
    "hidden": true,
    "id": "SLf0r3pV9yaA"
   },
   "outputs": [],
   "source": [
    "num_articles = len(df)\n",
    "# num_articles = 10000 # This is for a small subset for playing around\n",
    "\n",
    "documents = [''.join(a) for a in df[0:num_articles].text_proc] \n",
    "sources = df[0:num_articles].source\n",
    "\n",
    "n_components = 300"
   ]
  },
  {
   "cell_type": "code",
   "execution_count": 154,
   "metadata": {
    "colab": {
     "base_uri": "https://localhost:8080/",
     "height": 105
    },
    "colab_type": "code",
    "executionInfo": {
     "elapsed": 2060,
     "status": "ok",
     "timestamp": 1598398472532,
     "user": {
      "displayName": "Yennie Jun",
      "photoUrl": "https://lh3.googleusercontent.com/a-/AOh14Ghq9YbwAPVv0DbwYiBidTSaejUC5xQMVp78N4Ek2g=s64",
      "userId": "01503012861379704934"
     },
     "user_tz": 300
    },
    "hidden": true,
    "id": "aieE7S-09ycf",
    "outputId": "f8b3ede7-2897-43c1-9642-ad8220e86fc3"
   },
   "outputs": [
    {
     "name": "stderr",
     "output_type": "stream",
     "text": [
      "/usr/local/lib/python3.8/site-packages/numpy/core/fromnumeric.py:3372: RuntimeWarning: Mean of empty slice.\n",
      "  return _methods._mean(a, axis=axis, dtype=dtype,\n",
      "/usr/local/lib/python3.8/site-packages/numpy/core/_methods.py:170: RuntimeWarning: invalid value encountered in double_scalars\n",
      "  ret = ret.dtype.type(ret / rcount)\n"
     ]
    }
   ],
   "source": [
    "# Build the document-topic matrix\n",
    "# https://medium.com/@yanlinc/how-to-build-a-lda-topic-model-using-from-text-601cdcbfd3a6\n",
    "\n",
    "topicnames = [\"Topic\" + str(i) for i in range(n_components)]\n",
    "docnames = [\"Doc\" + str(i) for i in range(len(documents))] # Index names\n",
    "doc_top_matrix = pd.DataFrame(np.round(vec, 3), columns=topicnames, index=docnames)\n",
    "mean = doc_top_matrix.apply(lambda row: np.mean(row.values[np.nonzero(row.values)]),axis=1)\n",
    "median = doc_top_matrix.apply(lambda row: np.median(row.values[np.nonzero(row.values)]),axis=1)\n",
    "doc_top_matrix.loc[:, \"mean\"] = mean\n",
    "doc_top_matrix.loc[:, \"median\"] = median"
   ]
  },
  {
   "cell_type": "markdown",
   "metadata": {
    "colab_type": "text",
    "hidden": true,
    "id": "1WTCpukJihr4"
   },
   "source": [
    "Plot the distribution of one document"
   ]
  },
  {
   "cell_type": "code",
   "execution_count": 157,
   "metadata": {
    "colab": {
     "base_uri": "https://localhost:8080/",
     "height": 282
    },
    "colab_type": "code",
    "executionInfo": {
     "elapsed": 466,
     "status": "ok",
     "timestamp": 1598398539170,
     "user": {
      "displayName": "Yennie Jun",
      "photoUrl": "https://lh3.googleusercontent.com/a-/AOh14Ghq9YbwAPVv0DbwYiBidTSaejUC5xQMVp78N4Ek2g=s64",
      "userId": "01503012861379704934"
     },
     "user_tz": 300
    },
    "hidden": true,
    "id": "_1P_Uptlihr4",
    "outputId": "38d580aa-7c59-4240-b9ff-7f5140f49dbb",
    "scrolled": true
   },
   "outputs": [
    {
     "name": "stdout",
     "output_type": "stream",
     "text": [
      "0.010130434782608697\n"
     ]
    },
    {
     "data": {
      "image/png": "[encoded data removed]",
      "text/plain": [
       "<Figure size 432x288 with 1 Axes>"
      ]
     },
     "metadata": {
      "needs_background": "light"
     },
     "output_type": "display_data"
    }
   ],
   "source": [
    "doc  = doc_top_matrix.loc['Doc0'].values\n",
    "fig,ax = plt.subplots()\n",
    "\n",
    "vals = np.nonzero(doc)\n",
    "x = range(0,len(doc[vals]))\n",
    "\n",
    "mean = doc[-2]\n",
    "median = doc[-1]\n",
    "print(mean)\n",
    "means = [mean]*len(doc[vals])\n",
    "medians = [median]*len(doc[vals])\n",
    "\n",
    "ax.scatter(range(0,len(doc[vals])), doc[vals])\n",
    "ax.plot(x, means, linestyle='--', color=\"green\")\n",
    "ax.plot(x, medians, linestyle=\"--\", color=\"orange\")\n",
    "\n",
    "plt.show()"
   ]
  },
  {
   "cell_type": "code",
   "execution_count": 158,
   "metadata": {
    "colab": {
     "base_uri": "https://localhost:8080/",
     "height": 441
    },
    "colab_type": "code",
    "executionInfo": {
     "elapsed": 2679,
     "status": "ok",
     "timestamp": 1598398542521,
     "user": {
      "displayName": "Yennie Jun",
      "photoUrl": "https://lh3.googleusercontent.com/a-/AOh14Ghq9YbwAPVv0DbwYiBidTSaejUC5xQMVp78N4Ek2g=s64",
      "userId": "01503012861379704934"
     },
     "user_tz": 300
    },
    "hidden": true,
    "id": "gGfGt3Urihr6",
    "outputId": "a7189bf3-2f63-4b81-c3dc-124a85db223e"
   },
   "outputs": [
    {
     "data": {
      "image/png": "[encoded data removed]",
      "text/plain": [
       "<Figure size 648x432 with 18 Axes>"
      ]
     },
     "metadata": {},
     "output_type": "display_data"
    }
   ],
   "source": [
    "grid = np.random.rand(4, 4)\n",
    "docs = [f\"Doc{a}\" for a in range(18)]\n",
    "\n",
    "fig, axs = plt.subplots(nrows=3, ncols=6, figsize=(9, 6),\n",
    "                        subplot_kw={'xticks': [], 'yticks': []})\n",
    "\n",
    "for ax, docname in zip(axs.flat, docs):\n",
    "    doc  = doc_top_matrix.loc[docname].values\n",
    "    vals = np.nonzero(doc)\n",
    "    x = range(0,len(doc[vals]))\n",
    "\n",
    "    mean = [doc[-2]]*len(doc[vals])\n",
    "    median = [doc[-1]]*len(doc[vals])\n",
    "\n",
    "    ax.scatter(range(0,len(doc[vals])), doc[vals])\n",
    "    ax.plot(x, mean, linestyle='--', color=\"green\")\n",
    "    ax.plot(x, median, linestyle=\"--\", color=\"orange\")\n",
    "    ax.set_title(docname)\n",
    "\n",
    "plt.tight_layout()\n",
    "plt.show()"
   ]
  },
  {
   "cell_type": "code",
   "execution_count": 160,
   "metadata": {
    "colab": {},
    "colab_type": "code",
    "executionInfo": {
     "elapsed": 11699,
     "status": "ok",
     "timestamp": 1598398552389,
     "user": {
      "displayName": "Yennie Jun",
      "photoUrl": "https://lh3.googleusercontent.com/a-/AOh14Ghq9YbwAPVv0DbwYiBidTSaejUC5xQMVp78N4Ek2g=s64",
      "userId": "01503012861379704934"
     },
     "user_tz": 300
    },
    "hidden": true,
    "id": "pXJINle9ihr8"
   },
   "outputs": [],
   "source": [
    "doc_top_matrix.to_csv(\"proc/doc_top_matrix.csv\")"
   ]
  },
  {
   "cell_type": "code",
   "execution_count": 161,
   "metadata": {
    "colab": {},
    "colab_type": "code",
    "executionInfo": {
     "elapsed": 356,
     "status": "ok",
     "timestamp": 1598398602175,
     "user": {
      "displayName": "Yennie Jun",
      "photoUrl": "https://lh3.googleusercontent.com/a-/AOh14Ghq9YbwAPVv0DbwYiBidTSaejUC5xQMVp78N4Ek2g=s64",
      "userId": "01503012861379704934"
     },
     "user_tz": 300
    },
    "hidden": true,
    "id": "V4-dLhfqihr-"
   },
   "outputs": [],
   "source": [
    "def discretize(row):\n",
    "    if pd.notnull(row['mean']):\n",
    "        row[row < row['mean']] = 0\n",
    "        row[row >= row['mean']] = 1\n",
    "        return row.astype(int)\n",
    "    else: \n",
    "        return row\n",
    "        "
   ]
  },
  {
   "cell_type": "code",
   "execution_count": 178,
   "metadata": {
    "colab": {},
    "colab_type": "code",
    "executionInfo": {
     "elapsed": 85275,
     "status": "ok",
     "timestamp": 1598398687660,
     "user": {
      "displayName": "Yennie Jun",
      "photoUrl": "https://lh3.googleusercontent.com/a-/AOh14Ghq9YbwAPVv0DbwYiBidTSaejUC5xQMVp78N4Ek2g=s64",
      "userId": "01503012861379704934"
     },
     "user_tz": 300
    },
    "hidden": true,
    "id": "rqyq-1n2ihsA"
   },
   "outputs": [],
   "source": [
    "discrete_dtm = doc_top_matrix.copy().apply(lambda row: discretize(row), axis=1)"
   ]
  },
  {
   "cell_type": "code",
   "execution_count": 179,
   "metadata": {
    "colab": {},
    "colab_type": "code",
    "executionInfo": {
     "elapsed": 524,
     "status": "ok",
     "timestamp": 1598398688188,
     "user": {
      "displayName": "Yennie Jun",
      "photoUrl": "https://lh3.googleusercontent.com/a-/AOh14Ghq9YbwAPVv0DbwYiBidTSaejUC5xQMVp78N4Ek2g=s64",
      "userId": "01503012861379704934"
     },
     "user_tz": 300
    },
    "hidden": true,
    "id": "t4-lq9vlihsB"
   },
   "outputs": [],
   "source": [
    "discrete_dtm = discrete_dtm.fillna(0)\n",
    "discrete_dtm = discrete_dtm.astype(int)"
   ]
  },
  {
   "cell_type": "code",
   "execution_count": 180,
   "metadata": {
    "colab": {},
    "colab_type": "code",
    "executionInfo": {
     "elapsed": 655,
     "status": "ok",
     "timestamp": 1598398688346,
     "user": {
      "displayName": "Yennie Jun",
      "photoUrl": "https://lh3.googleusercontent.com/a-/AOh14Ghq9YbwAPVv0DbwYiBidTSaejUC5xQMVp78N4Ek2g=s64",
      "userId": "01503012861379704934"
     },
     "user_tz": 300
    },
    "hidden": true,
    "id": "BCUVi1QeihsH"
   },
   "outputs": [],
   "source": [
    "discrete_dtm.drop(columns=[\"mean\", \"median\"], inplace=True)"
   ]
  },
  {
   "cell_type": "code",
   "execution_count": 181,
   "metadata": {
    "colab": {},
    "colab_type": "code",
    "executionInfo": {
     "elapsed": 1441,
     "status": "ok",
     "timestamp": 1598398862535,
     "user": {
      "displayName": "Yennie Jun",
      "photoUrl": "https://lh3.googleusercontent.com/a-/AOh14Ghq9YbwAPVv0DbwYiBidTSaejUC5xQMVp78N4Ek2g=s64",
      "userId": "01503012861379704934"
     },
     "user_tz": 300
    },
    "hidden": true,
    "id": "ocljFTi5ihsJ"
   },
   "outputs": [],
   "source": [
    "sums = discrete_dtm.sum(axis=0)\n",
    "discrete_dtm['source'] = sources.values"
   ]
  },
  {
   "cell_type": "code",
   "execution_count": 182,
   "metadata": {
    "colab": {
     "base_uri": "https://localhost:8080/",
     "height": 507
    },
    "colab_type": "code",
    "executionInfo": {
     "elapsed": 851,
     "status": "ok",
     "timestamp": 1598398688561,
     "user": {
      "displayName": "Yennie Jun",
      "photoUrl": "https://lh3.googleusercontent.com/a-/AOh14Ghq9YbwAPVv0DbwYiBidTSaejUC5xQMVp78N4Ek2g=s64",
      "userId": "01503012861379704934"
     },
     "user_tz": 300
    },
    "hidden": true,
    "id": "IzTTN6VMihsL",
    "outputId": "77859b35-914a-4f18-bd7f-cc7edc18b922"
   },
   "outputs": [
    {
     "data": {
      "text/html": [
       "<div>\n",
       "<style scoped>\n",
       "    .dataframe tbody tr th:only-of-type {\n",
       "        vertical-align: middle;\n",
       "    }\n",
       "\n",
       "    .dataframe tbody tr th {\n",
       "        vertical-align: top;\n",
       "    }\n",
       "\n",
       "    .dataframe thead th {\n",
       "        text-align: right;\n",
       "    }\n",
       "</style>\n",
       "<table border=\"1\" class=\"dataframe\">\n",
       "  <thead>\n",
       "    <tr style=\"text-align: right;\">\n",
       "      <th></th>\n",
       "      <th>Topic0</th>\n",
       "      <th>Topic1</th>\n",
       "      <th>Topic2</th>\n",
       "      <th>Topic3</th>\n",
       "      <th>Topic4</th>\n",
       "      <th>Topic5</th>\n",
       "      <th>Topic6</th>\n",
       "      <th>Topic7</th>\n",
       "      <th>Topic8</th>\n",
       "      <th>Topic9</th>\n",
       "      <th>...</th>\n",
       "      <th>Topic291</th>\n",
       "      <th>Topic292</th>\n",
       "      <th>Topic293</th>\n",
       "      <th>Topic294</th>\n",
       "      <th>Topic295</th>\n",
       "      <th>Topic296</th>\n",
       "      <th>Topic297</th>\n",
       "      <th>Topic298</th>\n",
       "      <th>Topic299</th>\n",
       "      <th>source</th>\n",
       "    </tr>\n",
       "  </thead>\n",
       "  <tbody>\n",
       "    <tr>\n",
       "      <th>Doc0</th>\n",
       "      <td>0</td>\n",
       "      <td>0</td>\n",
       "      <td>0</td>\n",
       "      <td>0</td>\n",
       "      <td>0</td>\n",
       "      <td>0</td>\n",
       "      <td>0</td>\n",
       "      <td>0</td>\n",
       "      <td>0</td>\n",
       "      <td>0</td>\n",
       "      <td>...</td>\n",
       "      <td>0</td>\n",
       "      <td>0</td>\n",
       "      <td>0</td>\n",
       "      <td>0</td>\n",
       "      <td>0</td>\n",
       "      <td>0</td>\n",
       "      <td>0</td>\n",
       "      <td>0</td>\n",
       "      <td>0</td>\n",
       "      <td>tnp</td>\n",
       "    </tr>\n",
       "    <tr>\n",
       "      <th>Doc1</th>\n",
       "      <td>0</td>\n",
       "      <td>0</td>\n",
       "      <td>0</td>\n",
       "      <td>0</td>\n",
       "      <td>0</td>\n",
       "      <td>0</td>\n",
       "      <td>0</td>\n",
       "      <td>0</td>\n",
       "      <td>0</td>\n",
       "      <td>0</td>\n",
       "      <td>...</td>\n",
       "      <td>1</td>\n",
       "      <td>0</td>\n",
       "      <td>0</td>\n",
       "      <td>0</td>\n",
       "      <td>0</td>\n",
       "      <td>0</td>\n",
       "      <td>0</td>\n",
       "      <td>0</td>\n",
       "      <td>0</td>\n",
       "      <td>tnp</td>\n",
       "    </tr>\n",
       "    <tr>\n",
       "      <th>Doc2</th>\n",
       "      <td>0</td>\n",
       "      <td>0</td>\n",
       "      <td>0</td>\n",
       "      <td>0</td>\n",
       "      <td>0</td>\n",
       "      <td>0</td>\n",
       "      <td>0</td>\n",
       "      <td>0</td>\n",
       "      <td>0</td>\n",
       "      <td>0</td>\n",
       "      <td>...</td>\n",
       "      <td>0</td>\n",
       "      <td>0</td>\n",
       "      <td>0</td>\n",
       "      <td>0</td>\n",
       "      <td>0</td>\n",
       "      <td>0</td>\n",
       "      <td>0</td>\n",
       "      <td>0</td>\n",
       "      <td>0</td>\n",
       "      <td>tnp</td>\n",
       "    </tr>\n",
       "    <tr>\n",
       "      <th>Doc3</th>\n",
       "      <td>0</td>\n",
       "      <td>0</td>\n",
       "      <td>0</td>\n",
       "      <td>0</td>\n",
       "      <td>0</td>\n",
       "      <td>0</td>\n",
       "      <td>0</td>\n",
       "      <td>0</td>\n",
       "      <td>0</td>\n",
       "      <td>0</td>\n",
       "      <td>...</td>\n",
       "      <td>0</td>\n",
       "      <td>0</td>\n",
       "      <td>0</td>\n",
       "      <td>0</td>\n",
       "      <td>0</td>\n",
       "      <td>0</td>\n",
       "      <td>0</td>\n",
       "      <td>0</td>\n",
       "      <td>0</td>\n",
       "      <td>straitstimes</td>\n",
       "    </tr>\n",
       "    <tr>\n",
       "      <th>Doc4</th>\n",
       "      <td>0</td>\n",
       "      <td>0</td>\n",
       "      <td>0</td>\n",
       "      <td>0</td>\n",
       "      <td>0</td>\n",
       "      <td>0</td>\n",
       "      <td>0</td>\n",
       "      <td>0</td>\n",
       "      <td>0</td>\n",
       "      <td>0</td>\n",
       "      <td>...</td>\n",
       "      <td>0</td>\n",
       "      <td>0</td>\n",
       "      <td>0</td>\n",
       "      <td>0</td>\n",
       "      <td>0</td>\n",
       "      <td>0</td>\n",
       "      <td>0</td>\n",
       "      <td>0</td>\n",
       "      <td>0</td>\n",
       "      <td>straitstimes</td>\n",
       "    </tr>\n",
       "  </tbody>\n",
       "</table>\n",
       "<p>5 rows × 301 columns</p>\n",
       "</div>"
      ],
      "text/plain": [
       "      Topic0  Topic1  Topic2  Topic3  Topic4  Topic5  Topic6  Topic7  Topic8  \\\n",
       "Doc0       0       0       0       0       0       0       0       0       0   \n",
       "Doc1       0       0       0       0       0       0       0       0       0   \n",
       "Doc2       0       0       0       0       0       0       0       0       0   \n",
       "Doc3       0       0       0       0       0       0       0       0       0   \n",
       "Doc4       0       0       0       0       0       0       0       0       0   \n",
       "\n",
       "      Topic9  ...  Topic291  Topic292  Topic293  Topic294  Topic295  Topic296  \\\n",
       "Doc0       0  ...         0         0         0         0         0         0   \n",
       "Doc1       0  ...         1         0         0         0         0         0   \n",
       "Doc2       0  ...         0         0         0         0         0         0   \n",
       "Doc3       0  ...         0         0         0         0         0         0   \n",
       "Doc4       0  ...         0         0         0         0         0         0   \n",
       "\n",
       "      Topic297  Topic298  Topic299        source  \n",
       "Doc0         0         0         0           tnp  \n",
       "Doc1         0         0         0           tnp  \n",
       "Doc2         0         0         0           tnp  \n",
       "Doc3         0         0         0  straitstimes  \n",
       "Doc4         0         0         0  straitstimes  \n",
       "\n",
       "[5 rows x 301 columns]"
      ]
     },
     "execution_count": 182,
     "metadata": {},
     "output_type": "execute_result"
    }
   ],
   "source": [
    "discrete_dtm.head()"
   ]
  },
  {
   "cell_type": "code",
   "execution_count": 183,
   "metadata": {
    "colab": {},
    "colab_type": "code",
    "executionInfo": {
     "elapsed": 2439,
     "status": "ok",
     "timestamp": 1598398690156,
     "user": {
      "displayName": "Yennie Jun",
      "photoUrl": "https://lh3.googleusercontent.com/a-/AOh14Ghq9YbwAPVv0DbwYiBidTSaejUC5xQMVp78N4Ek2g=s64",
      "userId": "01503012861379704934"
     },
     "user_tz": 300
    },
    "hidden": true,
    "id": "DZqGpKjSihsN"
   },
   "outputs": [],
   "source": [
    "discrete_dtm.to_csv(\"proc/discrete_dtm.csv\")"
   ]
  },
  {
   "cell_type": "code",
   "execution_count": 184,
   "metadata": {
    "hidden": true
   },
   "outputs": [],
   "source": [
    "discrete_dtm = pd.read_csv(\"proc/discrete_dtm.csv\")"
   ]
  },
  {
   "cell_type": "code",
   "execution_count": 185,
   "metadata": {
    "colab": {},
    "colab_type": "code",
    "executionInfo": {
     "elapsed": 361,
     "status": "ok",
     "timestamp": 1598398696668,
     "user": {
      "displayName": "Yennie Jun",
      "photoUrl": "https://lh3.googleusercontent.com/a-/AOh14Ghq9YbwAPVv0DbwYiBidTSaejUC5xQMVp78N4Ek2g=s64",
      "userId": "01503012861379704934"
     },
     "user_tz": 300
    },
    "hidden": true,
    "id": "UnkE70qMihsP"
   },
   "outputs": [],
   "source": [
    "node_list = discrete_dtm.groupby('source').sum().T"
   ]
  },
  {
   "cell_type": "code",
   "execution_count": 186,
   "metadata": {
    "colab": {
     "base_uri": "https://localhost:8080/",
     "height": 419
    },
    "colab_type": "code",
    "executionInfo": {
     "elapsed": 620,
     "status": "ok",
     "timestamp": 1598398697367,
     "user": {
      "displayName": "Yennie Jun",
      "photoUrl": "https://lh3.googleusercontent.com/a-/AOh14Ghq9YbwAPVv0DbwYiBidTSaejUC5xQMVp78N4Ek2g=s64",
      "userId": "01503012861379704934"
     },
     "user_tz": 300
    },
    "hidden": true,
    "id": "lnLtrPMIihsS",
    "outputId": "55290ba9-ece8-41a0-f024-7c7666ee0311"
   },
   "outputs": [
    {
     "data": {
      "text/html": [
       "<div>\n",
       "<style scoped>\n",
       "    .dataframe tbody tr th:only-of-type {\n",
       "        vertical-align: middle;\n",
       "    }\n",
       "\n",
       "    .dataframe tbody tr th {\n",
       "        vertical-align: top;\n",
       "    }\n",
       "\n",
       "    .dataframe thead th {\n",
       "        text-align: right;\n",
       "    }\n",
       "</style>\n",
       "<table border=\"1\" class=\"dataframe\">\n",
       "  <thead>\n",
       "    <tr style=\"text-align: right;\">\n",
       "      <th>source</th>\n",
       "      <th>straitstimes</th>\n",
       "      <th>tnp</th>\n",
       "    </tr>\n",
       "  </thead>\n",
       "  <tbody>\n",
       "    <tr>\n",
       "      <th>Topic0</th>\n",
       "      <td>279</td>\n",
       "      <td>0</td>\n",
       "    </tr>\n",
       "    <tr>\n",
       "      <th>Topic1</th>\n",
       "      <td>1878</td>\n",
       "      <td>7</td>\n",
       "    </tr>\n",
       "    <tr>\n",
       "      <th>Topic2</th>\n",
       "      <td>598</td>\n",
       "      <td>7</td>\n",
       "    </tr>\n",
       "    <tr>\n",
       "      <th>Topic3</th>\n",
       "      <td>625</td>\n",
       "      <td>57</td>\n",
       "    </tr>\n",
       "    <tr>\n",
       "      <th>Topic4</th>\n",
       "      <td>666</td>\n",
       "      <td>8</td>\n",
       "    </tr>\n",
       "    <tr>\n",
       "      <th>...</th>\n",
       "      <td>...</td>\n",
       "      <td>...</td>\n",
       "    </tr>\n",
       "    <tr>\n",
       "      <th>Topic295</th>\n",
       "      <td>418</td>\n",
       "      <td>20</td>\n",
       "    </tr>\n",
       "    <tr>\n",
       "      <th>Topic296</th>\n",
       "      <td>273</td>\n",
       "      <td>7</td>\n",
       "    </tr>\n",
       "    <tr>\n",
       "      <th>Topic297</th>\n",
       "      <td>383</td>\n",
       "      <td>12</td>\n",
       "    </tr>\n",
       "    <tr>\n",
       "      <th>Topic298</th>\n",
       "      <td>521</td>\n",
       "      <td>7</td>\n",
       "    </tr>\n",
       "    <tr>\n",
       "      <th>Topic299</th>\n",
       "      <td>263</td>\n",
       "      <td>8</td>\n",
       "    </tr>\n",
       "  </tbody>\n",
       "</table>\n",
       "<p>300 rows × 2 columns</p>\n",
       "</div>"
      ],
      "text/plain": [
       "source    straitstimes  tnp\n",
       "Topic0             279    0\n",
       "Topic1            1878    7\n",
       "Topic2             598    7\n",
       "Topic3             625   57\n",
       "Topic4             666    8\n",
       "...                ...  ...\n",
       "Topic295           418   20\n",
       "Topic296           273    7\n",
       "Topic297           383   12\n",
       "Topic298           521    7\n",
       "Topic299           263    8\n",
       "\n",
       "[300 rows x 2 columns]"
      ]
     },
     "execution_count": 186,
     "metadata": {},
     "output_type": "execute_result"
    }
   ],
   "source": [
    "node_list"
   ]
  },
  {
   "cell_type": "code",
   "execution_count": 187,
   "metadata": {
    "colab": {
     "base_uri": "https://localhost:8080/",
     "height": 34
    },
    "colab_type": "code",
    "executionInfo": {
     "elapsed": 275,
     "status": "ok",
     "timestamp": 1598398866593,
     "user": {
      "displayName": "Yennie Jun",
      "photoUrl": "https://lh3.googleusercontent.com/a-/AOh14Ghq9YbwAPVv0DbwYiBidTSaejUC5xQMVp78N4Ek2g=s64",
      "userId": "01503012861379704934"
     },
     "user_tz": 300
    },
    "hidden": true,
    "id": "GG52j1N9ihsV",
    "outputId": "93b2da40-5873-44d4-a0a6-a0ded051bacb"
   },
   "outputs": [
    {
     "data": {
      "text/plain": [
       "300"
      ]
     },
     "execution_count": 187,
     "metadata": {},
     "output_type": "execute_result"
    }
   ],
   "source": [
    "len(sums)"
   ]
  },
  {
   "cell_type": "code",
   "execution_count": 188,
   "metadata": {
    "colab": {
     "base_uri": "https://localhost:8080/",
     "height": 34
    },
    "colab_type": "code",
    "executionInfo": {
     "elapsed": 334,
     "status": "ok",
     "timestamp": 1598398724702,
     "user": {
      "displayName": "Yennie Jun",
      "photoUrl": "https://lh3.googleusercontent.com/a-/AOh14Ghq9YbwAPVv0DbwYiBidTSaejUC5xQMVp78N4Ek2g=s64",
      "userId": "01503012861379704934"
     },
     "user_tz": 300
    },
    "hidden": true,
    "id": "-7xuRe-EihsX",
    "outputId": "fbdb4b7e-7726-4dc4-c5f9-80ebb608ecbf"
   },
   "outputs": [
    {
     "data": {
      "text/plain": [
       "Index(['straitstimes', 'tnp'], dtype='object', name='source')"
      ]
     },
     "execution_count": 188,
     "metadata": {},
     "output_type": "execute_result"
    }
   ],
   "source": [
    "node_list.columns"
   ]
  },
  {
   "cell_type": "code",
   "execution_count": 189,
   "metadata": {
    "colab": {},
    "colab_type": "code",
    "executionInfo": {
     "elapsed": 321,
     "status": "ok",
     "timestamp": 1598398869282,
     "user": {
      "displayName": "Yennie Jun",
      "photoUrl": "https://lh3.googleusercontent.com/a-/AOh14Ghq9YbwAPVv0DbwYiBidTSaejUC5xQMVp78N4Ek2g=s64",
      "userId": "01503012861379704934"
     },
     "user_tz": 300
    },
    "hidden": true,
    "id": "hy3Zk-v7ihsZ"
   },
   "outputs": [],
   "source": [
    "node_list[\"totalcount\"] = sums.values\n",
    "node_list[\"label\"] = topics.values\n",
    "\n",
    "# Change the order\n",
    "node_list = node_list[[\"label\", \"totalcount\", 'straitstimes', 'tnp']]"
   ]
  },
  {
   "cell_type": "code",
   "execution_count": 190,
   "metadata": {
    "colab": {},
    "colab_type": "code",
    "executionInfo": {
     "elapsed": 305,
     "status": "ok",
     "timestamp": 1598398873101,
     "user": {
      "displayName": "Yennie Jun",
      "photoUrl": "https://lh3.googleusercontent.com/a-/AOh14Ghq9YbwAPVv0DbwYiBidTSaejUC5xQMVp78N4Ek2g=s64",
      "userId": "01503012861379704934"
     },
     "user_tz": 300
    },
    "hidden": true,
    "id": "4XPDk449ihsb"
   },
   "outputs": [],
   "source": [
    "node_list.label = node_list.label.apply(lambda row: [re.search(\"\\w+\", a).group(0) for a in row.split()])"
   ]
  },
  {
   "cell_type": "code",
   "execution_count": 191,
   "metadata": {
    "colab": {
     "base_uri": "https://localhost:8080/",
     "height": 1000
    },
    "colab_type": "code",
    "executionInfo": {
     "elapsed": 302,
     "status": "ok",
     "timestamp": 1598398875490,
     "user": {
      "displayName": "Yennie Jun",
      "photoUrl": "https://lh3.googleusercontent.com/a-/AOh14Ghq9YbwAPVv0DbwYiBidTSaejUC5xQMVp78N4Ek2g=s64",
      "userId": "01503012861379704934"
     },
     "user_tz": 300
    },
    "hidden": true,
    "id": "OaIbE3n1ihsc",
    "outputId": "1bc61d47-9ccc-4421-a323-94c7f27f7190"
   },
   "outputs": [
    {
     "data": {
      "text/html": [
       "<div>\n",
       "<style scoped>\n",
       "    .dataframe tbody tr th:only-of-type {\n",
       "        vertical-align: middle;\n",
       "    }\n",
       "\n",
       "    .dataframe tbody tr th {\n",
       "        vertical-align: top;\n",
       "    }\n",
       "\n",
       "    .dataframe thead th {\n",
       "        text-align: right;\n",
       "    }\n",
       "</style>\n",
       "<table border=\"1\" class=\"dataframe\">\n",
       "  <thead>\n",
       "    <tr style=\"text-align: right;\">\n",
       "      <th>source</th>\n",
       "      <th>label</th>\n",
       "      <th>totalcount</th>\n",
       "      <th>straitstimes</th>\n",
       "      <th>tnp</th>\n",
       "    </tr>\n",
       "  </thead>\n",
       "  <tbody>\n",
       "    <tr>\n",
       "      <th>Topic12</th>\n",
       "      <td>[white, house, trump, administration, administ...</td>\n",
       "      <td>2622</td>\n",
       "      <td>2578</td>\n",
       "      <td>44</td>\n",
       "    </tr>\n",
       "    <tr>\n",
       "      <th>Topic1</th>\n",
       "      <td>[united, state, state, china, state, britain, ...</td>\n",
       "      <td>1885</td>\n",
       "      <td>1878</td>\n",
       "      <td>7</td>\n",
       "    </tr>\n",
       "    <tr>\n",
       "      <th>Topic22</th>\n",
       "      <td>[social, distancing, distancing, rule, distanc...</td>\n",
       "      <td>1662</td>\n",
       "      <td>1634</td>\n",
       "      <td>28</td>\n",
       "    </tr>\n",
       "    <tr>\n",
       "      <th>Topic24</th>\n",
       "      <td>[strait, time, told, strait, time, understands...</td>\n",
       "      <td>1597</td>\n",
       "      <td>1572</td>\n",
       "      <td>25</td>\n",
       "    </tr>\n",
       "    <tr>\n",
       "      <th>Topic42</th>\n",
       "      <td>[covid, pandemic, amid, covid, pandemic, said,...</td>\n",
       "      <td>1539</td>\n",
       "      <td>1517</td>\n",
       "      <td>22</td>\n",
       "    </tr>\n",
       "    <tr>\n",
       "      <th>Topic29</th>\n",
       "      <td>[last, year, period, last, late, last, compare...</td>\n",
       "      <td>1534</td>\n",
       "      <td>1508</td>\n",
       "      <td>26</td>\n",
       "    </tr>\n",
       "    <tr>\n",
       "      <th>Topic44</th>\n",
       "      <td>[coronavirus, pandemic, amid, coronavirus, glo...</td>\n",
       "      <td>1511</td>\n",
       "      <td>1499</td>\n",
       "      <td>12</td>\n",
       "    </tr>\n",
       "    <tr>\n",
       "      <th>Topic61</th>\n",
       "      <td>[coronavirus, outbreak, amid, coronavirus, sin...</td>\n",
       "      <td>1427</td>\n",
       "      <td>1385</td>\n",
       "      <td>42</td>\n",
       "    </tr>\n",
       "    <tr>\n",
       "      <th>Topic55</th>\n",
       "      <td>[last, week, said, last, week, said, unemploym...</td>\n",
       "      <td>1353</td>\n",
       "      <td>1317</td>\n",
       "      <td>36</td>\n",
       "    </tr>\n",
       "    <tr>\n",
       "      <th>Topic35</th>\n",
       "      <td>[chief, executive, executive, officer, group, ...</td>\n",
       "      <td>1186</td>\n",
       "      <td>1162</td>\n",
       "      <td>24</td>\n",
       "    </tr>\n",
       "    <tr>\n",
       "      <th>Topic11</th>\n",
       "      <td>[safe, distancing, distancing, ambassador, enf...</td>\n",
       "      <td>1080</td>\n",
       "      <td>1066</td>\n",
       "      <td>14</td>\n",
       "    </tr>\n",
       "    <tr>\n",
       "      <th>Topic58</th>\n",
       "      <td>[confirmed, case, number, confirmed, reported,...</td>\n",
       "      <td>1050</td>\n",
       "      <td>1011</td>\n",
       "      <td>39</td>\n",
       "    </tr>\n",
       "    <tr>\n",
       "      <th>Topic20</th>\n",
       "      <td>[prime, minister, hsien, loong, minister, hsie...</td>\n",
       "      <td>991</td>\n",
       "      <td>974</td>\n",
       "      <td>17</td>\n",
       "    </tr>\n",
       "    <tr>\n",
       "      <th>Topic90</th>\n",
       "      <td>[coronavirus, case, confirmed, coronavirus, nu...</td>\n",
       "      <td>970</td>\n",
       "      <td>953</td>\n",
       "      <td>17</td>\n",
       "    </tr>\n",
       "    <tr>\n",
       "      <th>Topic63</th>\n",
       "      <td>[public, health, health, expert, health, emerg...</td>\n",
       "      <td>932</td>\n",
       "      <td>911</td>\n",
       "      <td>21</td>\n",
       "    </tr>\n",
       "    <tr>\n",
       "      <th>Topic50</th>\n",
       "      <td>[said, statement, statement, said, statement, ...</td>\n",
       "      <td>921</td>\n",
       "      <td>901</td>\n",
       "      <td>20</td>\n",
       "    </tr>\n",
       "    <tr>\n",
       "      <th>Topic83</th>\n",
       "      <td>[spread, coronavirus, curb, spread, contain, s...</td>\n",
       "      <td>884</td>\n",
       "      <td>870</td>\n",
       "      <td>14</td>\n",
       "    </tr>\n",
       "    <tr>\n",
       "      <th>Topic18</th>\n",
       "      <td>[also, said, said, also, home, affair, said, a...</td>\n",
       "      <td>771</td>\n",
       "      <td>752</td>\n",
       "      <td>19</td>\n",
       "    </tr>\n",
       "    <tr>\n",
       "      <th>Topic23</th>\n",
       "      <td>[infectious, disease, disease, expert, centre,...</td>\n",
       "      <td>737</td>\n",
       "      <td>697</td>\n",
       "      <td>40</td>\n",
       "    </tr>\n",
       "    <tr>\n",
       "      <th>Topic71</th>\n",
       "      <td>[around, world, people, around, country, aroun...</td>\n",
       "      <td>708</td>\n",
       "      <td>702</td>\n",
       "      <td>6</td>\n",
       "    </tr>\n",
       "    <tr>\n",
       "      <th>Topic6</th>\n",
       "      <td>[past, reserve, support, package, support, mea...</td>\n",
       "      <td>704</td>\n",
       "      <td>690</td>\n",
       "      <td>14</td>\n",
       "    </tr>\n",
       "    <tr>\n",
       "      <th>Topic89</th>\n",
       "      <td>[three, month, first, three, month, year, last...</td>\n",
       "      <td>687</td>\n",
       "      <td>679</td>\n",
       "      <td>8</td>\n",
       "    </tr>\n",
       "    <tr>\n",
       "      <th>Topic3</th>\n",
       "      <td>[case, year, year, singaporean, travel, histor...</td>\n",
       "      <td>682</td>\n",
       "      <td>625</td>\n",
       "      <td>57</td>\n",
       "    </tr>\n",
       "    <tr>\n",
       "      <th>Topic281</th>\n",
       "      <td>[death, toll, coronavirus, death, covid, death...</td>\n",
       "      <td>677</td>\n",
       "      <td>662</td>\n",
       "      <td>15</td>\n",
       "    </tr>\n",
       "    <tr>\n",
       "      <th>Topic4</th>\n",
       "      <td>[hong, kong, national, security, four, people,...</td>\n",
       "      <td>674</td>\n",
       "      <td>666</td>\n",
       "      <td>8</td>\n",
       "    </tr>\n",
       "    <tr>\n",
       "      <th>Topic88</th>\n",
       "      <td>[first, time, time, since, time, year, time, o...</td>\n",
       "      <td>661</td>\n",
       "      <td>646</td>\n",
       "      <td>15</td>\n",
       "    </tr>\n",
       "    <tr>\n",
       "      <th>Topic170</th>\n",
       "      <td>[remain, closed, allowed, reopen, allowed, res...</td>\n",
       "      <td>653</td>\n",
       "      <td>643</td>\n",
       "      <td>10</td>\n",
       "    </tr>\n",
       "    <tr>\n",
       "      <th>Topic62</th>\n",
       "      <td>[wear, mask, wearing, mask, mask, wearing, mas...</td>\n",
       "      <td>649</td>\n",
       "      <td>636</td>\n",
       "      <td>13</td>\n",
       "    </tr>\n",
       "    <tr>\n",
       "      <th>Topic105</th>\n",
       "      <td>[covid, outbreak, amid, covid, outbreak, said,...</td>\n",
       "      <td>649</td>\n",
       "      <td>637</td>\n",
       "      <td>12</td>\n",
       "    </tr>\n",
       "    <tr>\n",
       "      <th>Topic28</th>\n",
       "      <td>[contact, tracing, personal, data, smart, nati...</td>\n",
       "      <td>610</td>\n",
       "      <td>583</td>\n",
       "      <td>27</td>\n",
       "    </tr>\n",
       "  </tbody>\n",
       "</table>\n",
       "</div>"
      ],
      "text/plain": [
       "source                                                label  totalcount  \\\n",
       "Topic12   [white, house, trump, administration, administ...        2622   \n",
       "Topic1    [united, state, state, china, state, britain, ...        1885   \n",
       "Topic22   [social, distancing, distancing, rule, distanc...        1662   \n",
       "Topic24   [strait, time, told, strait, time, understands...        1597   \n",
       "Topic42   [covid, pandemic, amid, covid, pandemic, said,...        1539   \n",
       "Topic29   [last, year, period, last, late, last, compare...        1534   \n",
       "Topic44   [coronavirus, pandemic, amid, coronavirus, glo...        1511   \n",
       "Topic61   [coronavirus, outbreak, amid, coronavirus, sin...        1427   \n",
       "Topic55   [last, week, said, last, week, said, unemploym...        1353   \n",
       "Topic35   [chief, executive, executive, officer, group, ...        1186   \n",
       "Topic11   [safe, distancing, distancing, ambassador, enf...        1080   \n",
       "Topic58   [confirmed, case, number, confirmed, reported,...        1050   \n",
       "Topic20   [prime, minister, hsien, loong, minister, hsie...         991   \n",
       "Topic90   [coronavirus, case, confirmed, coronavirus, nu...         970   \n",
       "Topic63   [public, health, health, expert, health, emerg...         932   \n",
       "Topic50   [said, statement, statement, said, statement, ...         921   \n",
       "Topic83   [spread, coronavirus, curb, spread, contain, s...         884   \n",
       "Topic18   [also, said, said, also, home, affair, said, a...         771   \n",
       "Topic23   [infectious, disease, disease, expert, centre,...         737   \n",
       "Topic71   [around, world, people, around, country, aroun...         708   \n",
       "Topic6    [past, reserve, support, package, support, mea...         704   \n",
       "Topic89   [three, month, first, three, month, year, last...         687   \n",
       "Topic3    [case, year, year, singaporean, travel, histor...         682   \n",
       "Topic281  [death, toll, coronavirus, death, covid, death...         677   \n",
       "Topic4    [hong, kong, national, security, four, people,...         674   \n",
       "Topic88   [first, time, time, since, time, year, time, o...         661   \n",
       "Topic170  [remain, closed, allowed, reopen, allowed, res...         653   \n",
       "Topic62   [wear, mask, wearing, mask, mask, wearing, mas...         649   \n",
       "Topic105  [covid, outbreak, amid, covid, outbreak, said,...         649   \n",
       "Topic28   [contact, tracing, personal, data, smart, nati...         610   \n",
       "\n",
       "source    straitstimes  tnp  \n",
       "Topic12           2578   44  \n",
       "Topic1            1878    7  \n",
       "Topic22           1634   28  \n",
       "Topic24           1572   25  \n",
       "Topic42           1517   22  \n",
       "Topic29           1508   26  \n",
       "Topic44           1499   12  \n",
       "Topic61           1385   42  \n",
       "Topic55           1317   36  \n",
       "Topic35           1162   24  \n",
       "Topic11           1066   14  \n",
       "Topic58           1011   39  \n",
       "Topic20            974   17  \n",
       "Topic90            953   17  \n",
       "Topic63            911   21  \n",
       "Topic50            901   20  \n",
       "Topic83            870   14  \n",
       "Topic18            752   19  \n",
       "Topic23            697   40  \n",
       "Topic71            702    6  \n",
       "Topic6             690   14  \n",
       "Topic89            679    8  \n",
       "Topic3             625   57  \n",
       "Topic281           662   15  \n",
       "Topic4             666    8  \n",
       "Topic88            646   15  \n",
       "Topic170           643   10  \n",
       "Topic62            636   13  \n",
       "Topic105           637   12  \n",
       "Topic28            583   27  "
      ]
     },
     "execution_count": 191,
     "metadata": {},
     "output_type": "execute_result"
    }
   ],
   "source": [
    "node_list.sort_values(by=\"totalcount\", ascending=False).head(30)"
   ]
  },
  {
   "cell_type": "code",
   "execution_count": 192,
   "metadata": {
    "colab": {},
    "colab_type": "code",
    "executionInfo": {
     "elapsed": 321,
     "status": "ok",
     "timestamp": 1598398919610,
     "user": {
      "displayName": "Yennie Jun",
      "photoUrl": "https://lh3.googleusercontent.com/a-/AOh14Ghq9YbwAPVv0DbwYiBidTSaejUC5xQMVp78N4Ek2g=s64",
      "userId": "01503012861379704934"
     },
     "user_tz": 300
    },
    "hidden": true,
    "id": "LCs-Q665ihse"
   },
   "outputs": [],
   "source": [
    "node_list.reset_index(inplace=True)\n",
    "node_list.rename(columns={\"index\": \"topic\", \"source\": \"index\"}, inplace=True)\n",
    "\n",
    "node_list.to_csv(\"proc/nodelist.csv\")"
   ]
  },
  {
   "cell_type": "code",
   "execution_count": 193,
   "metadata": {
    "colab": {
     "base_uri": "https://localhost:8080/",
     "height": 623
    },
    "colab_type": "code",
    "executionInfo": {
     "elapsed": 342,
     "status": "ok",
     "timestamp": 1598398922654,
     "user": {
      "displayName": "Yennie Jun",
      "photoUrl": "https://lh3.googleusercontent.com/a-/AOh14Ghq9YbwAPVv0DbwYiBidTSaejUC5xQMVp78N4Ek2g=s64",
      "userId": "01503012861379704934"
     },
     "user_tz": 300
    },
    "hidden": true,
    "id": "plDDwmZqihsg",
    "outputId": "1eb613d8-9700-4e3e-aa3c-48135328c38d",
    "scrolled": true
   },
   "outputs": [
    {
     "data": {
      "text/html": [
       "<div>\n",
       "<style scoped>\n",
       "    .dataframe tbody tr th:only-of-type {\n",
       "        vertical-align: middle;\n",
       "    }\n",
       "\n",
       "    .dataframe tbody tr th {\n",
       "        vertical-align: top;\n",
       "    }\n",
       "\n",
       "    .dataframe thead th {\n",
       "        text-align: right;\n",
       "    }\n",
       "</style>\n",
       "<table border=\"1\" class=\"dataframe\">\n",
       "  <thead>\n",
       "    <tr style=\"text-align: right;\">\n",
       "      <th>source</th>\n",
       "      <th>topic</th>\n",
       "      <th>label</th>\n",
       "      <th>totalcount</th>\n",
       "      <th>straitstimes</th>\n",
       "      <th>tnp</th>\n",
       "    </tr>\n",
       "  </thead>\n",
       "  <tbody>\n",
       "    <tr>\n",
       "      <th>0</th>\n",
       "      <td>Topic0</td>\n",
       "      <td>[subscribe, continue, please, subscribe, full,...</td>\n",
       "      <td>279</td>\n",
       "      <td>279</td>\n",
       "      <td>0</td>\n",
       "    </tr>\n",
       "    <tr>\n",
       "      <th>1</th>\n",
       "      <td>Topic1</td>\n",
       "      <td>[united, state, state, china, state, britain, ...</td>\n",
       "      <td>1885</td>\n",
       "      <td>1878</td>\n",
       "      <td>7</td>\n",
       "    </tr>\n",
       "    <tr>\n",
       "      <th>2</th>\n",
       "      <td>Topic2</td>\n",
       "      <td>[circuit, breaker, breaker, measure, measure, ...</td>\n",
       "      <td>605</td>\n",
       "      <td>598</td>\n",
       "      <td>7</td>\n",
       "    </tr>\n",
       "    <tr>\n",
       "      <th>3</th>\n",
       "      <td>Topic3</td>\n",
       "      <td>[case, year, year, singaporean, travel, histor...</td>\n",
       "      <td>682</td>\n",
       "      <td>625</td>\n",
       "      <td>57</td>\n",
       "    </tr>\n",
       "    <tr>\n",
       "      <th>4</th>\n",
       "      <td>Topic4</td>\n",
       "      <td>[hong, kong, national, security, four, people,...</td>\n",
       "      <td>674</td>\n",
       "      <td>666</td>\n",
       "      <td>8</td>\n",
       "    </tr>\n",
       "    <tr>\n",
       "      <th>...</th>\n",
       "      <td>...</td>\n",
       "      <td>...</td>\n",
       "      <td>...</td>\n",
       "      <td>...</td>\n",
       "      <td>...</td>\n",
       "    </tr>\n",
       "    <tr>\n",
       "      <th>295</th>\n",
       "      <td>Topic295</td>\n",
       "      <td>[italian, football, football, federation, semi...</td>\n",
       "      <td>438</td>\n",
       "      <td>418</td>\n",
       "      <td>20</td>\n",
       "    </tr>\n",
       "    <tr>\n",
       "      <th>296</th>\n",
       "      <td>Topic296</td>\n",
       "      <td>[youtube, channel, music, video, living, room,...</td>\n",
       "      <td>280</td>\n",
       "      <td>273</td>\n",
       "      <td>7</td>\n",
       "    </tr>\n",
       "    <tr>\n",
       "      <th>297</th>\n",
       "      <td>Topic297</td>\n",
       "      <td>[school, public, hock, school, swee, hock, ass...</td>\n",
       "      <td>395</td>\n",
       "      <td>383</td>\n",
       "      <td>12</td>\n",
       "    </tr>\n",
       "    <tr>\n",
       "      <th>298</th>\n",
       "      <td>Topic298</td>\n",
       "      <td>[narendra, modi, minister, narendra, nationwid...</td>\n",
       "      <td>528</td>\n",
       "      <td>521</td>\n",
       "      <td>7</td>\n",
       "    </tr>\n",
       "    <tr>\n",
       "      <th>299</th>\n",
       "      <td>Topic299</td>\n",
       "      <td>[temporary, measure, covid, temporary, contrac...</td>\n",
       "      <td>271</td>\n",
       "      <td>263</td>\n",
       "      <td>8</td>\n",
       "    </tr>\n",
       "  </tbody>\n",
       "</table>\n",
       "<p>300 rows × 5 columns</p>\n",
       "</div>"
      ],
      "text/plain": [
       "source     topic                                              label  \\\n",
       "0         Topic0  [subscribe, continue, please, subscribe, full,...   \n",
       "1         Topic1  [united, state, state, china, state, britain, ...   \n",
       "2         Topic2  [circuit, breaker, breaker, measure, measure, ...   \n",
       "3         Topic3  [case, year, year, singaporean, travel, histor...   \n",
       "4         Topic4  [hong, kong, national, security, four, people,...   \n",
       "..           ...                                                ...   \n",
       "295     Topic295  [italian, football, football, federation, semi...   \n",
       "296     Topic296  [youtube, channel, music, video, living, room,...   \n",
       "297     Topic297  [school, public, hock, school, swee, hock, ass...   \n",
       "298     Topic298  [narendra, modi, minister, narendra, nationwid...   \n",
       "299     Topic299  [temporary, measure, covid, temporary, contrac...   \n",
       "\n",
       "source  totalcount  straitstimes  tnp  \n",
       "0              279           279    0  \n",
       "1             1885          1878    7  \n",
       "2              605           598    7  \n",
       "3              682           625   57  \n",
       "4              674           666    8  \n",
       "..             ...           ...  ...  \n",
       "295            438           418   20  \n",
       "296            280           273    7  \n",
       "297            395           383   12  \n",
       "298            528           521    7  \n",
       "299            271           263    8  \n",
       "\n",
       "[300 rows x 5 columns]"
      ]
     },
     "execution_count": 193,
     "metadata": {},
     "output_type": "execute_result"
    }
   ],
   "source": [
    "node_list"
   ]
  },
  {
   "cell_type": "code",
   "execution_count": 197,
   "metadata": {
    "colab": {
     "base_uri": "https://localhost:8080/",
     "height": 131
    },
    "colab_type": "code",
    "executionInfo": {
     "elapsed": 360,
     "status": "ok",
     "timestamp": 1598398950670,
     "user": {
      "displayName": "Yennie Jun",
      "photoUrl": "https://lh3.googleusercontent.com/a-/AOh14Ghq9YbwAPVv0DbwYiBidTSaejUC5xQMVp78N4Ek2g=s64",
      "userId": "01503012861379704934"
     },
     "user_tz": 300
    },
    "hidden": true,
    "id": "xvkEwaekihsj",
    "outputId": "cae1d221-a9dc-44a0-b1a3-6c655700e96b",
    "scrolled": true
   },
   "outputs": [
    {
     "data": {
      "text/html": [
       "<div>\n",
       "<style scoped>\n",
       "    .dataframe tbody tr th:only-of-type {\n",
       "        vertical-align: middle;\n",
       "    }\n",
       "\n",
       "    .dataframe tbody tr th {\n",
       "        vertical-align: top;\n",
       "    }\n",
       "\n",
       "    .dataframe thead th {\n",
       "        text-align: right;\n",
       "    }\n",
       "</style>\n",
       "<table border=\"1\" class=\"dataframe\">\n",
       "  <thead>\n",
       "    <tr style=\"text-align: right;\">\n",
       "      <th>source</th>\n",
       "      <th>topic</th>\n",
       "      <th>label</th>\n",
       "      <th>totalcount</th>\n",
       "      <th>straitstimes</th>\n",
       "      <th>tnp</th>\n",
       "    </tr>\n",
       "  </thead>\n",
       "  <tbody>\n",
       "    <tr>\n",
       "      <th>28</th>\n",
       "      <td>Topic28</td>\n",
       "      <td>[contact, tracing, personal, data, smart, nati...</td>\n",
       "      <td>610</td>\n",
       "      <td>583</td>\n",
       "      <td>27</td>\n",
       "    </tr>\n",
       "  </tbody>\n",
       "</table>\n",
       "</div>"
      ],
      "text/plain": [
       "source    topic                                              label  \\\n",
       "28      Topic28  [contact, tracing, personal, data, smart, nati...   \n",
       "\n",
       "source  totalcount  straitstimes  tnp  \n",
       "28             610           583   27  "
      ]
     },
     "execution_count": 197,
     "metadata": {},
     "output_type": "execute_result"
    }
   ],
   "source": [
    "# Contact tracing ones! \n",
    "node_list.reindex([28])"
   ]
  },
  {
   "cell_type": "markdown",
   "metadata": {
    "colab_type": "text",
    "heading_collapsed": true,
    "id": "YhdzgN4Cihsl"
   },
   "source": [
    "## Edge List"
   ]
  },
  {
   "cell_type": "code",
   "execution_count": 198,
   "metadata": {
    "colab": {},
    "colab_type": "code",
    "executionInfo": {
     "elapsed": 365,
     "status": "ok",
     "timestamp": 1598399114362,
     "user": {
      "displayName": "Yennie Jun",
      "photoUrl": "https://lh3.googleusercontent.com/a-/AOh14Ghq9YbwAPVv0DbwYiBidTSaejUC5xQMVp78N4Ek2g=s64",
      "userId": "01503012861379704934"
     },
     "user_tz": 300
    },
    "hidden": true,
    "id": "8oDbh86Xihsl"
   },
   "outputs": [],
   "source": [
    "from itertools import combinations\n",
    "from collections import OrderedDict \n",
    "from dateutil.parser import parse\n"
   ]
  },
  {
   "cell_type": "code",
   "execution_count": 200,
   "metadata": {
    "colab": {},
    "colab_type": "code",
    "executionInfo": {
     "elapsed": 4006,
     "status": "ok",
     "timestamp": 1598399047505,
     "user": {
      "displayName": "Yennie Jun",
      "photoUrl": "https://lh3.googleusercontent.com/a-/AOh14Ghq9YbwAPVv0DbwYiBidTSaejUC5xQMVp78N4Ek2g=s64",
      "userId": "01503012861379704934"
     },
     "user_tz": 300
    },
    "hidden": true,
    "id": "YZPo-OQQihso"
   },
   "outputs": [],
   "source": [
    "df = pd.read_csv(\"data/text_proc.csv\")\n",
    "doc_top_matrix = pd.read_csv(\"proc/doc_top_matrix.csv\")\n",
    "discrete_dtm = pd.read_csv(\"proc/discrete_dtm.csv\")"
   ]
  },
  {
   "cell_type": "code",
   "execution_count": 201,
   "metadata": {
    "code_folding": [
     0
    ],
    "colab": {},
    "colab_type": "code",
    "executionInfo": {
     "elapsed": 324,
     "status": "ok",
     "timestamp": 1598399048800,
     "user": {
      "displayName": "Yennie Jun",
      "photoUrl": "https://lh3.googleusercontent.com/a-/AOh14Ghq9YbwAPVv0DbwYiBidTSaejUC5xQMVp78N4Ek2g=s64",
      "userId": "01503012861379704934"
     },
     "user_tz": 300
    },
    "hidden": true,
    "id": "8VP2az4Wihsq"
   },
   "outputs": [],
   "source": [
    "def get_weekday(num):\n",
    "    # https://docs.python.org/3/library/datetime.html#datetime.date.isocalendar\n",
    "    if num == 1: return \"Monday\"\n",
    "    if num == 2: return \"Tuesday\"\n",
    "    if num == 3: return \"Wednesday\"\n",
    "    if num == 4: return \"Thursday\"\n",
    "    if num == 5: return \"Friday\"\n",
    "    if num == 6: return \"Saturday\"\n",
    "    if num == 7: return \"Sunday\""
   ]
  },
  {
   "cell_type": "code",
   "execution_count": 202,
   "metadata": {
    "code_folding": [
     0
    ],
    "colab": {},
    "colab_type": "code",
    "hidden": true,
    "id": "wBo594b8ihss"
   },
   "outputs": [],
   "source": [
    "# def get_political(source):\n",
    "#     \"\"\"\n",
    "#     Returns true if liberal, false if conservative\n",
    "#     \"\"\"\n",
    "#     if source in [\"한겨레\", \"경향신문\"]:\n",
    "#         return \"liberal\"\n",
    "#     else: return \"conservative\""
   ]
  },
  {
   "cell_type": "code",
   "execution_count": 203,
   "metadata": {
    "code_folding": [
     0
    ],
    "colab": {},
    "colab_type": "code",
    "executionInfo": {
     "elapsed": 351,
     "status": "ok",
     "timestamp": 1598399057349,
     "user": {
      "displayName": "Yennie Jun",
      "photoUrl": "https://lh3.googleusercontent.com/a-/AOh14Ghq9YbwAPVv0DbwYiBidTSaejUC5xQMVp78N4Ek2g=s64",
      "userId": "01503012861379704934"
     },
     "user_tz": 300
    },
    "hidden": true,
    "id": "WqpbkiFdihst"
   },
   "outputs": [],
   "source": [
    "def choose(n, k):\n",
    "    # https://stackoverflow.com/questions/3025162/statistics-combinations-in-python/3025194#3025194\n",
    "    \"\"\"\n",
    "    A fast way to calculate binomial coefficients by Andrew Dalke (contrib).\n",
    "    \"\"\"\n",
    "    if 0 <= k <= n:\n",
    "        ntok = 1\n",
    "        ktok = 1\n",
    "        for t in range(1, min(k, n - k) + 1):\n",
    "            ntok *= n\n",
    "            ktok *= t\n",
    "            n -= 1\n",
    "        return ntok // ktok\n",
    "    else:\n",
    "        return 0"
   ]
  },
  {
   "cell_type": "code",
   "execution_count": 204,
   "metadata": {
    "colab": {},
    "colab_type": "code",
    "executionInfo": {
     "elapsed": 336,
     "status": "ok",
     "timestamp": 1598399059695,
     "user": {
      "displayName": "Yennie Jun",
      "photoUrl": "https://lh3.googleusercontent.com/a-/AOh14Ghq9YbwAPVv0DbwYiBidTSaejUC5xQMVp78N4Ek2g=s64",
      "userId": "01503012861379704934"
     },
     "user_tz": 300
    },
    "hidden": true,
    "id": "Q4FACbJhihsu"
   },
   "outputs": [],
   "source": [
    "new_columns = discrete_dtm.columns.values\n",
    "discrete_dtm.columns = new_columns"
   ]
  },
  {
   "cell_type": "code",
   "execution_count": 205,
   "metadata": {
    "colab": {},
    "colab_type": "code",
    "executionInfo": {
     "elapsed": 1344,
     "status": "ok",
     "timestamp": 1598399061232,
     "user": {
      "displayName": "Yennie Jun",
      "photoUrl": "https://lh3.googleusercontent.com/a-/AOh14Ghq9YbwAPVv0DbwYiBidTSaejUC5xQMVp78N4Ek2g=s64",
      "userId": "01503012861379704934"
     },
     "user_tz": 300
    },
    "hidden": true,
    "id": "bDi4CkIAihsw"
   },
   "outputs": [],
   "source": [
    "# Number of topics in each document\n",
    "num_topics_per_document_list = discrete_dtm.sum(axis=1).values\n",
    "\n",
    "# Figure out combinations space\n",
    "num_combinations = sum([choose(a, 2) for a in num_topics_per_document_list[:-1]])\n"
   ]
  },
  {
   "cell_type": "code",
   "execution_count": 206,
   "metadata": {
    "colab": {
     "base_uri": "https://localhost:8080/",
     "height": 34
    },
    "colab_type": "code",
    "executionInfo": {
     "elapsed": 205,
     "status": "ok",
     "timestamp": 1598399061620,
     "user": {
      "displayName": "Yennie Jun",
      "photoUrl": "https://lh3.googleusercontent.com/a-/AOh14Ghq9YbwAPVv0DbwYiBidTSaejUC5xQMVp78N4Ek2g=s64",
      "userId": "01503012861379704934"
     },
     "user_tz": 300
    },
    "hidden": true,
    "id": "SXeaUBr9ihsx",
    "outputId": "6add1497-aa86-4df8-bb44-67344d44e149"
   },
   "outputs": [
    {
     "data": {
      "text/plain": [
       "279598"
      ]
     },
     "execution_count": 206,
     "metadata": {},
     "output_type": "execute_result"
    }
   ],
   "source": [
    "num_combinations"
   ]
  },
  {
   "cell_type": "code",
   "execution_count": 208,
   "metadata": {
    "colab": {},
    "colab_type": "code",
    "executionInfo": {
     "elapsed": 451,
     "status": "ok",
     "timestamp": 1598399065154,
     "user": {
      "displayName": "Yennie Jun",
      "photoUrl": "https://lh3.googleusercontent.com/a-/AOh14Ghq9YbwAPVv0DbwYiBidTSaejUC5xQMVp78N4Ek2g=s64",
      "userId": "01503012861379704934"
     },
     "user_tz": 300
    },
    "hidden": true,
    "id": "O4r1eoUSihs0"
   },
   "outputs": [],
   "source": [
    "# Then pre-allocate that much space for the df that will hold the edge list\n",
    "columns = [\"node1\", \"node2\", \"documentId\", \"date\", \"day_of_week\", \"week_of_year\", \"month\", \"newssource\"]\n",
    "edgelist = pd.DataFrame(columns=columns, index=range(num_combinations))\n"
   ]
  },
  {
   "cell_type": "code",
   "execution_count": 210,
   "metadata": {
    "colab": {},
    "colab_type": "code",
    "executionInfo": {
     "elapsed": 391,
     "status": "ok",
     "timestamp": 1598399065606,
     "user": {
      "displayName": "Yennie Jun",
      "photoUrl": "https://lh3.googleusercontent.com/a-/AOh14Ghq9YbwAPVv0DbwYiBidTSaejUC5xQMVp78N4Ek2g=s64",
      "userId": "01503012861379704934"
     },
     "user_tz": 300
    },
    "hidden": true,
    "id": "jQn0bShmihs2"
   },
   "outputs": [],
   "source": [
    "discrete_dtm.loc[:,'num_topics_in_document'] = num_topics_per_document_list"
   ]
  },
  {
   "cell_type": "code",
   "execution_count": 211,
   "metadata": {
    "colab": {},
    "colab_type": "code",
    "executionInfo": {
     "elapsed": 349,
     "status": "ok",
     "timestamp": 1598399067968,
     "user": {
      "displayName": "Yennie Jun",
      "photoUrl": "https://lh3.googleusercontent.com/a-/AOh14Ghq9YbwAPVv0DbwYiBidTSaejUC5xQMVp78N4Ek2g=s64",
      "userId": "01503012861379704934"
     },
     "user_tz": 300
    },
    "hidden": true,
    "id": "XQTh7SOcihs3"
   },
   "outputs": [],
   "source": [
    "df.reset_index(inplace=True, drop=True)"
   ]
  },
  {
   "cell_type": "code",
   "execution_count": null,
   "metadata": {
    "hidden": true
   },
   "outputs": [],
   "source": [
    "i = 0\n",
    "for index, row in discrete_dtm.iterrows():\n",
    "    print(index)\n",
    "    if row.num_topics_in_document > 1:\n",
    "#         print(row.num_topics_in_document)\n",
    "        \n",
    "        documentId = index#int(re.search('\\d+', index).group())\n",
    "        document = df.loc[documentId] # fetch document\n",
    "        newssource = document.source\n",
    "        # political = get_political(newssource)\n",
    "        \n",
    "        date = parse(document.date)\n",
    "#         print(document.source)\n",
    "        _, week_of_year, day_of_week = date.isocalendar()\n",
    "        month = date.month\n",
    "        day_of_week = get_weekday(day_of_week)\n",
    "        \n",
    "        topic_combinations = combinations(row.index[row == 1], 2)\n",
    "        \n",
    "        for node1, node2 in topic_combinations:\n",
    "#             print(node1, node2)\n",
    "            \n",
    "            onerow = pd.Series({\"node1\": node1, \"node2\": node2, \"documentId\": documentId, \n",
    "                                \"date\": date, \"day_of_week\": day_of_week, \"week_of_year\": week_of_year,\n",
    "                                \"month\": month, \"newssource\": newssource})\n",
    "            \n",
    "            edgelist.iloc[i] = onerow\n",
    "            i += 1\n"
   ]
  },
  {
   "cell_type": "code",
   "execution_count": 213,
   "metadata": {
    "colab": {
     "base_uri": "https://localhost:8080/",
     "height": 779
    },
    "colab_type": "code",
    "executionInfo": {
     "elapsed": 398,
     "status": "ok",
     "timestamp": 1598401352429,
     "user": {
      "displayName": "Yennie Jun",
      "photoUrl": "https://lh3.googleusercontent.com/a-/AOh14Ghq9YbwAPVv0DbwYiBidTSaejUC5xQMVp78N4Ek2g=s64",
      "userId": "01503012861379704934"
     },
     "user_tz": 300
    },
    "hidden": true,
    "id": "HJ15P8Lsihs7",
    "outputId": "7281727b-ccfc-48de-af2e-c86df8d23782"
   },
   "outputs": [
    {
     "data": {
      "text/html": [
       "<div>\n",
       "<style scoped>\n",
       "    .dataframe tbody tr th:only-of-type {\n",
       "        vertical-align: middle;\n",
       "    }\n",
       "\n",
       "    .dataframe tbody tr th {\n",
       "        vertical-align: top;\n",
       "    }\n",
       "\n",
       "    .dataframe thead th {\n",
       "        text-align: right;\n",
       "    }\n",
       "</style>\n",
       "<table border=\"1\" class=\"dataframe\">\n",
       "  <thead>\n",
       "    <tr style=\"text-align: right;\">\n",
       "      <th></th>\n",
       "      <th>node1</th>\n",
       "      <th>node2</th>\n",
       "      <th>documentId</th>\n",
       "      <th>date</th>\n",
       "      <th>day_of_week</th>\n",
       "      <th>week_of_year</th>\n",
       "      <th>month</th>\n",
       "      <th>newssource</th>\n",
       "    </tr>\n",
       "  </thead>\n",
       "  <tbody>\n",
       "    <tr>\n",
       "      <th>0</th>\n",
       "      <td>Topic26</td>\n",
       "      <td>Topic116</td>\n",
       "      <td>0</td>\n",
       "      <td>2020-01-09 00:00:00</td>\n",
       "      <td>Thursday</td>\n",
       "      <td>2</td>\n",
       "      <td>1</td>\n",
       "      <td>tnp</td>\n",
       "    </tr>\n",
       "    <tr>\n",
       "      <th>1</th>\n",
       "      <td>Topic26</td>\n",
       "      <td>Topic279</td>\n",
       "      <td>0</td>\n",
       "      <td>2020-01-09 00:00:00</td>\n",
       "      <td>Thursday</td>\n",
       "      <td>2</td>\n",
       "      <td>1</td>\n",
       "      <td>tnp</td>\n",
       "    </tr>\n",
       "    <tr>\n",
       "      <th>2</th>\n",
       "      <td>Topic116</td>\n",
       "      <td>Topic279</td>\n",
       "      <td>0</td>\n",
       "      <td>2020-01-09 00:00:00</td>\n",
       "      <td>Thursday</td>\n",
       "      <td>2</td>\n",
       "      <td>1</td>\n",
       "      <td>tnp</td>\n",
       "    </tr>\n",
       "    <tr>\n",
       "      <th>3</th>\n",
       "      <td>Topic26</td>\n",
       "      <td>Topic260</td>\n",
       "      <td>1</td>\n",
       "      <td>2020-01-10 00:00:00</td>\n",
       "      <td>Friday</td>\n",
       "      <td>2</td>\n",
       "      <td>1</td>\n",
       "      <td>tnp</td>\n",
       "    </tr>\n",
       "    <tr>\n",
       "      <th>4</th>\n",
       "      <td>Topic26</td>\n",
       "      <td>Topic271</td>\n",
       "      <td>1</td>\n",
       "      <td>2020-01-10 00:00:00</td>\n",
       "      <td>Friday</td>\n",
       "      <td>2</td>\n",
       "      <td>1</td>\n",
       "      <td>tnp</td>\n",
       "    </tr>\n",
       "    <tr>\n",
       "      <th>...</th>\n",
       "      <td>...</td>\n",
       "      <td>...</td>\n",
       "      <td>...</td>\n",
       "      <td>...</td>\n",
       "      <td>...</td>\n",
       "      <td>...</td>\n",
       "      <td>...</td>\n",
       "      <td>...</td>\n",
       "    </tr>\n",
       "    <tr>\n",
       "      <th>279593</th>\n",
       "      <td>Topic29</td>\n",
       "      <td>Topic42</td>\n",
       "      <td>15486</td>\n",
       "      <td>2020-06-24 00:00:00</td>\n",
       "      <td>Wednesday</td>\n",
       "      <td>26</td>\n",
       "      <td>6</td>\n",
       "      <td>straitstimes</td>\n",
       "    </tr>\n",
       "    <tr>\n",
       "      <th>279594</th>\n",
       "      <td>Topic29</td>\n",
       "      <td>Topic128</td>\n",
       "      <td>15486</td>\n",
       "      <td>2020-06-24 00:00:00</td>\n",
       "      <td>Wednesday</td>\n",
       "      <td>26</td>\n",
       "      <td>6</td>\n",
       "      <td>straitstimes</td>\n",
       "    </tr>\n",
       "    <tr>\n",
       "      <th>279595</th>\n",
       "      <td>Topic39</td>\n",
       "      <td>Topic42</td>\n",
       "      <td>15486</td>\n",
       "      <td>2020-06-24 00:00:00</td>\n",
       "      <td>Wednesday</td>\n",
       "      <td>26</td>\n",
       "      <td>6</td>\n",
       "      <td>straitstimes</td>\n",
       "    </tr>\n",
       "    <tr>\n",
       "      <th>279596</th>\n",
       "      <td>Topic39</td>\n",
       "      <td>Topic128</td>\n",
       "      <td>15486</td>\n",
       "      <td>2020-06-24 00:00:00</td>\n",
       "      <td>Wednesday</td>\n",
       "      <td>26</td>\n",
       "      <td>6</td>\n",
       "      <td>straitstimes</td>\n",
       "    </tr>\n",
       "    <tr>\n",
       "      <th>279597</th>\n",
       "      <td>Topic42</td>\n",
       "      <td>Topic128</td>\n",
       "      <td>15486</td>\n",
       "      <td>2020-06-24 00:00:00</td>\n",
       "      <td>Wednesday</td>\n",
       "      <td>26</td>\n",
       "      <td>6</td>\n",
       "      <td>straitstimes</td>\n",
       "    </tr>\n",
       "  </tbody>\n",
       "</table>\n",
       "<p>279598 rows × 8 columns</p>\n",
       "</div>"
      ],
      "text/plain": [
       "           node1     node2 documentId                 date day_of_week  \\\n",
       "0        Topic26  Topic116          0  2020-01-09 00:00:00    Thursday   \n",
       "1        Topic26  Topic279          0  2020-01-09 00:00:00    Thursday   \n",
       "2       Topic116  Topic279          0  2020-01-09 00:00:00    Thursday   \n",
       "3        Topic26  Topic260          1  2020-01-10 00:00:00      Friday   \n",
       "4        Topic26  Topic271          1  2020-01-10 00:00:00      Friday   \n",
       "...          ...       ...        ...                  ...         ...   \n",
       "279593   Topic29   Topic42      15486  2020-06-24 00:00:00   Wednesday   \n",
       "279594   Topic29  Topic128      15486  2020-06-24 00:00:00   Wednesday   \n",
       "279595   Topic39   Topic42      15486  2020-06-24 00:00:00   Wednesday   \n",
       "279596   Topic39  Topic128      15486  2020-06-24 00:00:00   Wednesday   \n",
       "279597   Topic42  Topic128      15486  2020-06-24 00:00:00   Wednesday   \n",
       "\n",
       "       week_of_year month    newssource  \n",
       "0                 2     1           tnp  \n",
       "1                 2     1           tnp  \n",
       "2                 2     1           tnp  \n",
       "3                 2     1           tnp  \n",
       "4                 2     1           tnp  \n",
       "...             ...   ...           ...  \n",
       "279593           26     6  straitstimes  \n",
       "279594           26     6  straitstimes  \n",
       "279595           26     6  straitstimes  \n",
       "279596           26     6  straitstimes  \n",
       "279597           26     6  straitstimes  \n",
       "\n",
       "[279598 rows x 8 columns]"
      ]
     },
     "execution_count": 213,
     "metadata": {},
     "output_type": "execute_result"
    }
   ],
   "source": [
    "edgelist"
   ]
  },
  {
   "cell_type": "code",
   "execution_count": 214,
   "metadata": {
    "colab": {},
    "colab_type": "code",
    "executionInfo": {
     "elapsed": 2369,
     "status": "ok",
     "timestamp": 1598401360432,
     "user": {
      "displayName": "Yennie Jun",
      "photoUrl": "https://lh3.googleusercontent.com/a-/AOh14Ghq9YbwAPVv0DbwYiBidTSaejUC5xQMVp78N4Ek2g=s64",
      "userId": "01503012861379704934"
     },
     "user_tz": 300
    },
    "hidden": true,
    "id": "8huM_eD7ihs-"
   },
   "outputs": [],
   "source": [
    "edgelist.to_csv(\"proc/edgelist.csv\")"
   ]
  },
  {
   "cell_type": "code",
   "execution_count": 221,
   "metadata": {
    "colab": {},
    "colab_type": "code",
    "executionInfo": {
     "elapsed": 348,
     "status": "ok",
     "timestamp": 1598401361389,
     "user": {
      "displayName": "Yennie Jun",
      "photoUrl": "https://lh3.googleusercontent.com/a-/AOh14Ghq9YbwAPVv0DbwYiBidTSaejUC5xQMVp78N4Ek2g=s64",
      "userId": "01503012861379704934"
     },
     "user_tz": 300
    },
    "hidden": true,
    "id": "BlVovFD2ihtA"
   },
   "outputs": [],
   "source": [
    "# WEIGHTED EDGE LIST\n",
    "\n",
    "df_weight = edgelist[[\"node1\", \"node2\"]]\n",
    "df_weight = df_weight.groupby(df_weight.columns.tolist(),as_index=False).size().reset_index().rename(columns={'size':'weight'})\n"
   ]
  },
  {
   "cell_type": "code",
   "execution_count": 222,
   "metadata": {
    "hidden": true
   },
   "outputs": [
    {
     "data": {
      "text/html": [
       "<div>\n",
       "<style scoped>\n",
       "    .dataframe tbody tr th:only-of-type {\n",
       "        vertical-align: middle;\n",
       "    }\n",
       "\n",
       "    .dataframe tbody tr th {\n",
       "        vertical-align: top;\n",
       "    }\n",
       "\n",
       "    .dataframe thead th {\n",
       "        text-align: right;\n",
       "    }\n",
       "</style>\n",
       "<table border=\"1\" class=\"dataframe\">\n",
       "  <thead>\n",
       "    <tr style=\"text-align: right;\">\n",
       "      <th></th>\n",
       "      <th>index</th>\n",
       "      <th>node1</th>\n",
       "      <th>node2</th>\n",
       "      <th>weight</th>\n",
       "    </tr>\n",
       "  </thead>\n",
       "  <tbody>\n",
       "    <tr>\n",
       "      <th>0</th>\n",
       "      <td>0</td>\n",
       "      <td>Topic0</td>\n",
       "      <td>Topic1</td>\n",
       "      <td>17</td>\n",
       "    </tr>\n",
       "    <tr>\n",
       "      <th>1</th>\n",
       "      <td>1</td>\n",
       "      <td>Topic0</td>\n",
       "      <td>Topic10</td>\n",
       "      <td>1</td>\n",
       "    </tr>\n",
       "    <tr>\n",
       "      <th>2</th>\n",
       "      <td>2</td>\n",
       "      <td>Topic0</td>\n",
       "      <td>Topic101</td>\n",
       "      <td>4</td>\n",
       "    </tr>\n",
       "    <tr>\n",
       "      <th>3</th>\n",
       "      <td>3</td>\n",
       "      <td>Topic0</td>\n",
       "      <td>Topic105</td>\n",
       "      <td>1</td>\n",
       "    </tr>\n",
       "    <tr>\n",
       "      <th>4</th>\n",
       "      <td>4</td>\n",
       "      <td>Topic0</td>\n",
       "      <td>Topic108</td>\n",
       "      <td>1</td>\n",
       "    </tr>\n",
       "    <tr>\n",
       "      <th>...</th>\n",
       "      <td>...</td>\n",
       "      <td>...</td>\n",
       "      <td>...</td>\n",
       "      <td>...</td>\n",
       "    </tr>\n",
       "    <tr>\n",
       "      <th>24660</th>\n",
       "      <td>24660</td>\n",
       "      <td>Topic99</td>\n",
       "      <td>Topic282</td>\n",
       "      <td>1</td>\n",
       "    </tr>\n",
       "    <tr>\n",
       "      <th>24661</th>\n",
       "      <td>24661</td>\n",
       "      <td>Topic99</td>\n",
       "      <td>Topic289</td>\n",
       "      <td>1</td>\n",
       "    </tr>\n",
       "    <tr>\n",
       "      <th>24662</th>\n",
       "      <td>24662</td>\n",
       "      <td>Topic99</td>\n",
       "      <td>Topic290</td>\n",
       "      <td>1</td>\n",
       "    </tr>\n",
       "    <tr>\n",
       "      <th>24663</th>\n",
       "      <td>24663</td>\n",
       "      <td>Topic99</td>\n",
       "      <td>Topic291</td>\n",
       "      <td>2</td>\n",
       "    </tr>\n",
       "    <tr>\n",
       "      <th>24664</th>\n",
       "      <td>24664</td>\n",
       "      <td>Topic99</td>\n",
       "      <td>Topic294</td>\n",
       "      <td>2</td>\n",
       "    </tr>\n",
       "  </tbody>\n",
       "</table>\n",
       "<p>24665 rows × 4 columns</p>\n",
       "</div>"
      ],
      "text/plain": [
       "       index    node1     node2  weight\n",
       "0          0   Topic0    Topic1      17\n",
       "1          1   Topic0   Topic10       1\n",
       "2          2   Topic0  Topic101       4\n",
       "3          3   Topic0  Topic105       1\n",
       "4          4   Topic0  Topic108       1\n",
       "...      ...      ...       ...     ...\n",
       "24660  24660  Topic99  Topic282       1\n",
       "24661  24661  Topic99  Topic289       1\n",
       "24662  24662  Topic99  Topic290       1\n",
       "24663  24663  Topic99  Topic291       2\n",
       "24664  24664  Topic99  Topic294       2\n",
       "\n",
       "[24665 rows x 4 columns]"
      ]
     },
     "execution_count": 222,
     "metadata": {},
     "output_type": "execute_result"
    }
   ],
   "source": [
    "df_weight"
   ]
  },
  {
   "cell_type": "code",
   "execution_count": 223,
   "metadata": {
    "colab": {
     "base_uri": "https://localhost:8080/",
     "height": 419
    },
    "colab_type": "code",
    "executionInfo": {
     "elapsed": 487,
     "status": "ok",
     "timestamp": 1598401363403,
     "user": {
      "displayName": "Yennie Jun",
      "photoUrl": "https://lh3.googleusercontent.com/a-/AOh14Ghq9YbwAPVv0DbwYiBidTSaejUC5xQMVp78N4Ek2g=s64",
      "userId": "01503012861379704934"
     },
     "user_tz": 300
    },
    "hidden": true,
    "id": "ir2NLc_BihtC",
    "outputId": "c76e9496-8923-442d-f881-579d0200da90"
   },
   "outputs": [
    {
     "data": {
      "text/html": [
       "<div>\n",
       "<style scoped>\n",
       "    .dataframe tbody tr th:only-of-type {\n",
       "        vertical-align: middle;\n",
       "    }\n",
       "\n",
       "    .dataframe tbody tr th {\n",
       "        vertical-align: top;\n",
       "    }\n",
       "\n",
       "    .dataframe thead th {\n",
       "        text-align: right;\n",
       "    }\n",
       "</style>\n",
       "<table border=\"1\" class=\"dataframe\">\n",
       "  <thead>\n",
       "    <tr style=\"text-align: right;\">\n",
       "      <th></th>\n",
       "      <th>index</th>\n",
       "      <th>node1</th>\n",
       "      <th>node2</th>\n",
       "      <th>weight</th>\n",
       "    </tr>\n",
       "  </thead>\n",
       "  <tbody>\n",
       "    <tr>\n",
       "      <th>0</th>\n",
       "      <td>0</td>\n",
       "      <td>Topic0</td>\n",
       "      <td>Topic1</td>\n",
       "      <td>17</td>\n",
       "    </tr>\n",
       "    <tr>\n",
       "      <th>2</th>\n",
       "      <td>2</td>\n",
       "      <td>Topic0</td>\n",
       "      <td>Topic101</td>\n",
       "      <td>4</td>\n",
       "    </tr>\n",
       "    <tr>\n",
       "      <th>5</th>\n",
       "      <td>5</td>\n",
       "      <td>Topic0</td>\n",
       "      <td>Topic111</td>\n",
       "      <td>2</td>\n",
       "    </tr>\n",
       "    <tr>\n",
       "      <th>7</th>\n",
       "      <td>7</td>\n",
       "      <td>Topic0</td>\n",
       "      <td>Topic114</td>\n",
       "      <td>3</td>\n",
       "    </tr>\n",
       "    <tr>\n",
       "      <th>8</th>\n",
       "      <td>8</td>\n",
       "      <td>Topic0</td>\n",
       "      <td>Topic115</td>\n",
       "      <td>2</td>\n",
       "    </tr>\n",
       "    <tr>\n",
       "      <th>...</th>\n",
       "      <td>...</td>\n",
       "      <td>...</td>\n",
       "      <td>...</td>\n",
       "      <td>...</td>\n",
       "    </tr>\n",
       "    <tr>\n",
       "      <th>24653</th>\n",
       "      <td>24653</td>\n",
       "      <td>Topic99</td>\n",
       "      <td>Topic159</td>\n",
       "      <td>2</td>\n",
       "    </tr>\n",
       "    <tr>\n",
       "      <th>24656</th>\n",
       "      <td>24656</td>\n",
       "      <td>Topic99</td>\n",
       "      <td>Topic193</td>\n",
       "      <td>3</td>\n",
       "    </tr>\n",
       "    <tr>\n",
       "      <th>24658</th>\n",
       "      <td>24658</td>\n",
       "      <td>Topic99</td>\n",
       "      <td>Topic259</td>\n",
       "      <td>2</td>\n",
       "    </tr>\n",
       "    <tr>\n",
       "      <th>24663</th>\n",
       "      <td>24663</td>\n",
       "      <td>Topic99</td>\n",
       "      <td>Topic291</td>\n",
       "      <td>2</td>\n",
       "    </tr>\n",
       "    <tr>\n",
       "      <th>24664</th>\n",
       "      <td>24664</td>\n",
       "      <td>Topic99</td>\n",
       "      <td>Topic294</td>\n",
       "      <td>2</td>\n",
       "    </tr>\n",
       "  </tbody>\n",
       "</table>\n",
       "<p>19971 rows × 4 columns</p>\n",
       "</div>"
      ],
      "text/plain": [
       "       index    node1     node2  weight\n",
       "0          0   Topic0    Topic1      17\n",
       "2          2   Topic0  Topic101       4\n",
       "5          5   Topic0  Topic111       2\n",
       "7          7   Topic0  Topic114       3\n",
       "8          8   Topic0  Topic115       2\n",
       "...      ...      ...       ...     ...\n",
       "24653  24653  Topic99  Topic159       2\n",
       "24656  24656  Topic99  Topic193       3\n",
       "24658  24658  Topic99  Topic259       2\n",
       "24663  24663  Topic99  Topic291       2\n",
       "24664  24664  Topic99  Topic294       2\n",
       "\n",
       "[19971 rows x 4 columns]"
      ]
     },
     "execution_count": 223,
     "metadata": {},
     "output_type": "execute_result"
    }
   ],
   "source": [
    "df_weight[df_weight['weight'] > 1]"
   ]
  },
  {
   "cell_type": "code",
   "execution_count": 224,
   "metadata": {
    "colab": {},
    "colab_type": "code",
    "executionInfo": {
     "elapsed": 442,
     "status": "ok",
     "timestamp": 1598401365437,
     "user": {
      "displayName": "Yennie Jun",
      "photoUrl": "https://lh3.googleusercontent.com/a-/AOh14Ghq9YbwAPVv0DbwYiBidTSaejUC5xQMVp78N4Ek2g=s64",
      "userId": "01503012861379704934"
     },
     "user_tz": 300
    },
    "hidden": true,
    "id": "pJawoPo-ihtF"
   },
   "outputs": [],
   "source": [
    "df_weight.sort_values(\"weight\", ascending=False, inplace=True)\n",
    "weights = df_weight.sort_values(\"weight\", ascending=False).weight.values\n"
   ]
  },
  {
   "cell_type": "code",
   "execution_count": 225,
   "metadata": {
    "colab": {
     "base_uri": "https://localhost:8080/",
     "height": 469
    },
    "colab_type": "code",
    "executionInfo": {
     "elapsed": 506,
     "status": "ok",
     "timestamp": 1598401365879,
     "user": {
      "displayName": "Yennie Jun",
      "photoUrl": "https://lh3.googleusercontent.com/a-/AOh14Ghq9YbwAPVv0DbwYiBidTSaejUC5xQMVp78N4Ek2g=s64",
      "userId": "01503012861379704934"
     },
     "user_tz": 300
    },
    "hidden": true,
    "id": "VFXGO4JaihtH",
    "outputId": "d22a9740-11f9-42c2-f50e-404c4a7b1cee"
   },
   "outputs": [
    {
     "data": {
      "text/plain": [
       "(array([11., 16., 12.,  7.,  4.,  9.,  4.,  5.,  1.,  4.,  4.,  4.,  2.,\n",
       "         0.,  5.,  2.,  2.,  1.,  0.,  4.,  0.,  0.,  1.,  0.,  0.,  1.,\n",
       "         0.,  0.,  0.,  1.]),\n",
       " array([125. , 132.2, 139.4, 146.6, 153.8, 161. , 168.2, 175.4, 182.6,\n",
       "        189.8, 197. , 204.2, 211.4, 218.6, 225.8, 233. , 240.2, 247.4,\n",
       "        254.6, 261.8, 269. , 276.2, 283.4, 290.6, 297.8, 305. , 312.2,\n",
       "        319.4, 326.6, 333.8, 341. ]),\n",
       " <BarContainer object of 30 artists>)"
      ]
     },
     "execution_count": 225,
     "metadata": {},
     "output_type": "execute_result"
    },
    {
     "data": {
      "image/png": "[encoded data removed]",
      "text/plain": [
       "<Figure size 432x288 with 1 Axes>"
      ]
     },
     "metadata": {
      "needs_background": "light"
     },
     "output_type": "display_data"
    }
   ],
   "source": [
    "plt.hist(weights[:100], bins = 30)"
   ]
  },
  {
   "cell_type": "code",
   "execution_count": 226,
   "metadata": {
    "colab": {
     "base_uri": "https://localhost:8080/",
     "height": 419
    },
    "colab_type": "code",
    "executionInfo": {
     "elapsed": 473,
     "status": "ok",
     "timestamp": 1598401373350,
     "user": {
      "displayName": "Yennie Jun",
      "photoUrl": "https://lh3.googleusercontent.com/a-/AOh14Ghq9YbwAPVv0DbwYiBidTSaejUC5xQMVp78N4Ek2g=s64",
      "userId": "01503012861379704934"
     },
     "user_tz": 300
    },
    "hidden": true,
    "id": "FFGxDNWBihtI",
    "outputId": "ed4acdfe-5e6d-42b5-80ae-bc9e8b3f8bd6"
   },
   "outputs": [
    {
     "data": {
      "text/html": [
       "<div>\n",
       "<style scoped>\n",
       "    .dataframe tbody tr th:only-of-type {\n",
       "        vertical-align: middle;\n",
       "    }\n",
       "\n",
       "    .dataframe tbody tr th {\n",
       "        vertical-align: top;\n",
       "    }\n",
       "\n",
       "    .dataframe thead th {\n",
       "        text-align: right;\n",
       "    }\n",
       "</style>\n",
       "<table border=\"1\" class=\"dataframe\">\n",
       "  <thead>\n",
       "    <tr style=\"text-align: right;\">\n",
       "      <th></th>\n",
       "      <th>index</th>\n",
       "      <th>node1</th>\n",
       "      <th>node2</th>\n",
       "      <th>weight</th>\n",
       "    </tr>\n",
       "  </thead>\n",
       "  <tbody>\n",
       "    <tr>\n",
       "      <th>314</th>\n",
       "      <td>314</td>\n",
       "      <td>Topic1</td>\n",
       "      <td>Topic7</td>\n",
       "      <td>341</td>\n",
       "    </tr>\n",
       "    <tr>\n",
       "      <th>263</th>\n",
       "      <td>263</td>\n",
       "      <td>Topic1</td>\n",
       "      <td>Topic29</td>\n",
       "      <td>310</td>\n",
       "    </tr>\n",
       "    <tr>\n",
       "      <th>195</th>\n",
       "      <td>195</td>\n",
       "      <td>Topic1</td>\n",
       "      <td>Topic22</td>\n",
       "      <td>290</td>\n",
       "    </tr>\n",
       "    <tr>\n",
       "      <th>13297</th>\n",
       "      <td>13297</td>\n",
       "      <td>Topic29</td>\n",
       "      <td>Topic42</td>\n",
       "      <td>268</td>\n",
       "    </tr>\n",
       "    <tr>\n",
       "      <th>305</th>\n",
       "      <td>305</td>\n",
       "      <td>Topic1</td>\n",
       "      <td>Topic61</td>\n",
       "      <td>264</td>\n",
       "    </tr>\n",
       "    <tr>\n",
       "      <th>...</th>\n",
       "      <td>...</td>\n",
       "      <td>...</td>\n",
       "      <td>...</td>\n",
       "      <td>...</td>\n",
       "    </tr>\n",
       "    <tr>\n",
       "      <th>4471</th>\n",
       "      <td>4471</td>\n",
       "      <td>Topic133</td>\n",
       "      <td>Topic195</td>\n",
       "      <td>1</td>\n",
       "    </tr>\n",
       "    <tr>\n",
       "      <th>4472</th>\n",
       "      <td>4472</td>\n",
       "      <td>Topic133</td>\n",
       "      <td>Topic197</td>\n",
       "      <td>1</td>\n",
       "    </tr>\n",
       "    <tr>\n",
       "      <th>4473</th>\n",
       "      <td>4473</td>\n",
       "      <td>Topic133</td>\n",
       "      <td>Topic208</td>\n",
       "      <td>1</td>\n",
       "    </tr>\n",
       "    <tr>\n",
       "      <th>16825</th>\n",
       "      <td>16825</td>\n",
       "      <td>Topic49</td>\n",
       "      <td>Topic65</td>\n",
       "      <td>1</td>\n",
       "    </tr>\n",
       "    <tr>\n",
       "      <th>10073</th>\n",
       "      <td>10073</td>\n",
       "      <td>Topic21</td>\n",
       "      <td>Topic292</td>\n",
       "      <td>1</td>\n",
       "    </tr>\n",
       "  </tbody>\n",
       "</table>\n",
       "<p>24665 rows × 4 columns</p>\n",
       "</div>"
      ],
      "text/plain": [
       "       index     node1     node2  weight\n",
       "314      314    Topic1    Topic7     341\n",
       "263      263    Topic1   Topic29     310\n",
       "195      195    Topic1   Topic22     290\n",
       "13297  13297   Topic29   Topic42     268\n",
       "305      305    Topic1   Topic61     264\n",
       "...      ...       ...       ...     ...\n",
       "4471    4471  Topic133  Topic195       1\n",
       "4472    4472  Topic133  Topic197       1\n",
       "4473    4473  Topic133  Topic208       1\n",
       "16825  16825   Topic49   Topic65       1\n",
       "10073  10073   Topic21  Topic292       1\n",
       "\n",
       "[24665 rows x 4 columns]"
      ]
     },
     "execution_count": 226,
     "metadata": {},
     "output_type": "execute_result"
    }
   ],
   "source": [
    "df_weight"
   ]
  },
  {
   "cell_type": "code",
   "execution_count": 227,
   "metadata": {
    "colab": {},
    "colab_type": "code",
    "executionInfo": {
     "elapsed": 297,
     "status": "ok",
     "timestamp": 1598401375651,
     "user": {
      "displayName": "Yennie Jun",
      "photoUrl": "https://lh3.googleusercontent.com/a-/AOh14Ghq9YbwAPVv0DbwYiBidTSaejUC5xQMVp78N4Ek2g=s64",
      "userId": "01503012861379704934"
     },
     "user_tz": 300
    },
    "hidden": true,
    "id": "6ajHeTKfihtJ"
   },
   "outputs": [],
   "source": [
    "df_weight.to_csv(\"proc/edgelist_weight.csv\")"
   ]
  },
  {
   "cell_type": "markdown",
   "metadata": {
    "colab": {},
    "colab_type": "code",
    "id": "F5uKlzJ5Fgn0"
   },
   "source": [
    "## Filtering, finding articles to analyze"
   ]
  },
  {
   "cell_type": "code",
   "execution_count": 239,
   "metadata": {
    "code_folding": [
     0
    ]
   },
   "outputs": [],
   "source": [
    "def list_flatten(l, a=None):\n",
    "    #check a\n",
    "    if a is None:\n",
    "        #initialize with empty list\n",
    "        a = []\n",
    "\n",
    "    for i in l:\n",
    "        if isinstance(i, list):\n",
    "            list_flatten(i, a)\n",
    "        else:\n",
    "            if (len(i) != 1): a.append(i)\n",
    "    return a"
   ]
  },
  {
   "cell_type": "code",
   "execution_count": 240,
   "metadata": {
    "colab": {},
    "colab_type": "code",
    "id": "aBr5W5RuFge9"
   },
   "outputs": [],
   "source": [
    "df = pd.read_csv(\"data/text_proc.csv\")\n",
    "edgelist_full = pd.read_csv(\"proc/edgelist.csv\")\n",
    "\n",
    "edgelist = pd.read_csv(\"proc/edgelist_weight.csv\")\n",
    "edgelist.drop(columns=\"Unnamed: 0\", inplace=True)\n",
    "\n",
    "nodelist = pd.read_csv(\"proc/nodelist.csv\")\n",
    "nodelist.drop(columns=\"Unnamed: 0\", inplace=True)"
   ]
  },
  {
   "cell_type": "code",
   "execution_count": 230,
   "metadata": {
    "colab": {},
    "colab_type": "code",
    "id": "ZHx_5w0r01Pw"
   },
   "outputs": [],
   "source": [
    "topics = pd.read_csv('models/nmf_topics.txt', header=None)"
   ]
  },
  {
   "cell_type": "code",
   "execution_count": 231,
   "metadata": {},
   "outputs": [
    {
     "data": {
      "text/html": [
       "<div>\n",
       "<style scoped>\n",
       "    .dataframe tbody tr th:only-of-type {\n",
       "        vertical-align: middle;\n",
       "    }\n",
       "\n",
       "    .dataframe tbody tr th {\n",
       "        vertical-align: top;\n",
       "    }\n",
       "\n",
       "    .dataframe thead th {\n",
       "        text-align: right;\n",
       "    }\n",
       "</style>\n",
       "<table border=\"1\" class=\"dataframe\">\n",
       "  <thead>\n",
       "    <tr style=\"text-align: right;\">\n",
       "      <th></th>\n",
       "      <th>0</th>\n",
       "    </tr>\n",
       "  </thead>\n",
       "  <tbody>\n",
       "    <tr>\n",
       "      <th>0</th>\n",
       "      <td>subscribe continue please subscribe full artic...</td>\n",
       "    </tr>\n",
       "    <tr>\n",
       "      <th>1</th>\n",
       "      <td>united state state china state britain across ...</td>\n",
       "    </tr>\n",
       "    <tr>\n",
       "      <th>2</th>\n",
       "      <td>circuit breaker breaker measure measure kicked...</td>\n",
       "    </tr>\n",
       "    <tr>\n",
       "      <th>3</th>\n",
       "      <td>case year year singaporean travel history rece...</td>\n",
       "    </tr>\n",
       "    <tr>\n",
       "      <th>4</th>\n",
       "      <td>hong kong national security four people china ...</td>\n",
       "    </tr>\n",
       "    <tr>\n",
       "      <th>...</th>\n",
       "      <td>...</td>\n",
       "    </tr>\n",
       "    <tr>\n",
       "      <th>295</th>\n",
       "      <td>italian football football federation semi fina...</td>\n",
       "    </tr>\n",
       "    <tr>\n",
       "      <th>296</th>\n",
       "      <td>youtube channel music video living room online...</td>\n",
       "    </tr>\n",
       "    <tr>\n",
       "      <th>297</th>\n",
       "      <td>school public hock school swee hock associate ...</td>\n",
       "    </tr>\n",
       "    <tr>\n",
       "      <th>298</th>\n",
       "      <td>narendra modi minister narendra nationwide loc...</td>\n",
       "    </tr>\n",
       "    <tr>\n",
       "      <th>299</th>\n",
       "      <td>temporary measure covid temporary contractual ...</td>\n",
       "    </tr>\n",
       "  </tbody>\n",
       "</table>\n",
       "<p>300 rows × 1 columns</p>\n",
       "</div>"
      ],
      "text/plain": [
       "                                                     0\n",
       "0    subscribe continue please subscribe full artic...\n",
       "1    united state state china state britain across ...\n",
       "2    circuit breaker breaker measure measure kicked...\n",
       "3    case year year singaporean travel history rece...\n",
       "4    hong kong national security four people china ...\n",
       "..                                                 ...\n",
       "295  italian football football federation semi fina...\n",
       "296  youtube channel music video living room online...\n",
       "297  school public hock school swee hock associate ...\n",
       "298  narendra modi minister narendra nationwide loc...\n",
       "299  temporary measure covid temporary contractual ...\n",
       "\n",
       "[300 rows x 1 columns]"
      ]
     },
     "execution_count": 231,
     "metadata": {},
     "output_type": "execute_result"
    }
   ],
   "source": [
    "topics"
   ]
  },
  {
   "cell_type": "code",
   "execution_count": 232,
   "metadata": {},
   "outputs": [
    {
     "data": {
      "text/html": [
       "<div>\n",
       "<style scoped>\n",
       "    .dataframe tbody tr th:only-of-type {\n",
       "        vertical-align: middle;\n",
       "    }\n",
       "\n",
       "    .dataframe tbody tr th {\n",
       "        vertical-align: top;\n",
       "    }\n",
       "\n",
       "    .dataframe thead th {\n",
       "        text-align: right;\n",
       "    }\n",
       "</style>\n",
       "<table border=\"1\" class=\"dataframe\">\n",
       "  <thead>\n",
       "    <tr style=\"text-align: right;\">\n",
       "      <th></th>\n",
       "      <th>0</th>\n",
       "    </tr>\n",
       "  </thead>\n",
       "  <tbody>\n",
       "    <tr>\n",
       "      <th>28</th>\n",
       "      <td>contact tracing personal data smart nation che...</td>\n",
       "    </tr>\n",
       "  </tbody>\n",
       "</table>\n",
       "</div>"
      ],
      "text/plain": [
       "                                                    0\n",
       "28  contact tracing personal data smart nation che..."
      ]
     },
     "execution_count": 232,
     "metadata": {},
     "output_type": "execute_result"
    }
   ],
   "source": [
    "topics.reindex([28])"
   ]
  },
  {
   "cell_type": "code",
   "execution_count": 233,
   "metadata": {},
   "outputs": [],
   "source": [
    "# Contact tracing indexes\n",
    "ct_idxs = [\"Topic28\"]\n",
    "\n",
    "ct_topics = edgelist[edgelist['node1'].isin(ct_idxs)]\n",
    "ct_topics = ct_topics.append(edgelist[edgelist['node2'].isin(ct_idxs)])\n",
    "ct_topics = ct_topics.sort_values(by=\"weight\", ascending=False)"
   ]
  },
  {
   "cell_type": "code",
   "execution_count": 234,
   "metadata": {},
   "outputs": [
    {
     "data": {
      "text/html": [
       "<div>\n",
       "<style scoped>\n",
       "    .dataframe tbody tr th:only-of-type {\n",
       "        vertical-align: middle;\n",
       "    }\n",
       "\n",
       "    .dataframe tbody tr th {\n",
       "        vertical-align: top;\n",
       "    }\n",
       "\n",
       "    .dataframe thead th {\n",
       "        text-align: right;\n",
       "    }\n",
       "</style>\n",
       "<table border=\"1\" class=\"dataframe\">\n",
       "  <thead>\n",
       "    <tr style=\"text-align: right;\">\n",
       "      <th></th>\n",
       "      <th>index</th>\n",
       "      <th>node1</th>\n",
       "      <th>node2</th>\n",
       "      <th>weight</th>\n",
       "    </tr>\n",
       "  </thead>\n",
       "  <tbody>\n",
       "    <tr>\n",
       "      <th>90</th>\n",
       "      <td>10348</td>\n",
       "      <td>Topic22</td>\n",
       "      <td>Topic28</td>\n",
       "      <td>130</td>\n",
       "    </tr>\n",
       "    <tr>\n",
       "      <th>103</th>\n",
       "      <td>12949</td>\n",
       "      <td>Topic28</td>\n",
       "      <td>Topic58</td>\n",
       "      <td>121</td>\n",
       "    </tr>\n",
       "    <tr>\n",
       "      <th>171</th>\n",
       "      <td>1762</td>\n",
       "      <td>Topic11</td>\n",
       "      <td>Topic28</td>\n",
       "      <td>103</td>\n",
       "    </tr>\n",
       "    <tr>\n",
       "      <th>177</th>\n",
       "      <td>13549</td>\n",
       "      <td>Topic3</td>\n",
       "      <td>Topic28</td>\n",
       "      <td>102</td>\n",
       "    </tr>\n",
       "    <tr>\n",
       "      <th>180</th>\n",
       "      <td>12954</td>\n",
       "      <td>Topic28</td>\n",
       "      <td>Topic63</td>\n",
       "      <td>102</td>\n",
       "    </tr>\n",
       "    <tr>\n",
       "      <th>...</th>\n",
       "      <td>...</td>\n",
       "      <td>...</td>\n",
       "      <td>...</td>\n",
       "      <td>...</td>\n",
       "    </tr>\n",
       "    <tr>\n",
       "      <th>21073</th>\n",
       "      <td>12841</td>\n",
       "      <td>Topic28</td>\n",
       "      <td>Topic168</td>\n",
       "      <td>1</td>\n",
       "    </tr>\n",
       "    <tr>\n",
       "      <th>21070</th>\n",
       "      <td>12861</td>\n",
       "      <td>Topic28</td>\n",
       "      <td>Topic223</td>\n",
       "      <td>1</td>\n",
       "    </tr>\n",
       "    <tr>\n",
       "      <th>21068</th>\n",
       "      <td>12795</td>\n",
       "      <td>Topic28</td>\n",
       "      <td>Topic118</td>\n",
       "      <td>1</td>\n",
       "    </tr>\n",
       "    <tr>\n",
       "      <th>21053</th>\n",
       "      <td>12786</td>\n",
       "      <td>Topic28</td>\n",
       "      <td>Topic109</td>\n",
       "      <td>1</td>\n",
       "    </tr>\n",
       "    <tr>\n",
       "      <th>21016</th>\n",
       "      <td>12868</td>\n",
       "      <td>Topic28</td>\n",
       "      <td>Topic239</td>\n",
       "      <td>1</td>\n",
       "    </tr>\n",
       "  </tbody>\n",
       "</table>\n",
       "<p>231 rows × 4 columns</p>\n",
       "</div>"
      ],
      "text/plain": [
       "       index    node1     node2  weight\n",
       "90     10348  Topic22   Topic28     130\n",
       "103    12949  Topic28   Topic58     121\n",
       "171     1762  Topic11   Topic28     103\n",
       "177    13549   Topic3   Topic28     102\n",
       "180    12954  Topic28   Topic63     102\n",
       "...      ...      ...       ...     ...\n",
       "21073  12841  Topic28  Topic168       1\n",
       "21070  12861  Topic28  Topic223       1\n",
       "21068  12795  Topic28  Topic118       1\n",
       "21053  12786  Topic28  Topic109       1\n",
       "21016  12868  Topic28  Topic239       1\n",
       "\n",
       "[231 rows x 4 columns]"
      ]
     },
     "execution_count": 234,
     "metadata": {},
     "output_type": "execute_result"
    }
   ],
   "source": [
    "ct_topics"
   ]
  },
  {
   "cell_type": "code",
   "execution_count": 235,
   "metadata": {},
   "outputs": [],
   "source": [
    "edges = ct_topics[:15]"
   ]
  },
  {
   "cell_type": "code",
   "execution_count": 245,
   "metadata": {},
   "outputs": [],
   "source": [
    "topics = list(set(list_flatten(edges[['node1', 'node2']].values.tolist())))\n",
    "\n",
    "# dictionary mapping topic to name\n",
    "topic_name_dict = nodelist[nodelist.topic.isin(topics)]\n",
    "topic_name_dict.loc[:,\"label\"] = topic_name_dict.label.apply(lambda a: ast.literal_eval(a))"
   ]
  },
  {
   "cell_type": "code",
   "execution_count": 247,
   "metadata": {},
   "outputs": [
    {
     "data": {
      "text/html": [
       "<div>\n",
       "<style scoped>\n",
       "    .dataframe tbody tr th:only-of-type {\n",
       "        vertical-align: middle;\n",
       "    }\n",
       "\n",
       "    .dataframe tbody tr th {\n",
       "        vertical-align: top;\n",
       "    }\n",
       "\n",
       "    .dataframe thead th {\n",
       "        text-align: right;\n",
       "    }\n",
       "</style>\n",
       "<table border=\"1\" class=\"dataframe\">\n",
       "  <thead>\n",
       "    <tr style=\"text-align: right;\">\n",
       "      <th></th>\n",
       "      <th>index</th>\n",
       "      <th>topic</th>\n",
       "      <th>label</th>\n",
       "      <th>totalcount</th>\n",
       "      <th>straitstimes</th>\n",
       "      <th>tnp</th>\n",
       "    </tr>\n",
       "  </thead>\n",
       "  <tbody>\n",
       "    <tr>\n",
       "      <th>29</th>\n",
       "      <td>28</td>\n",
       "      <td>Topic28</td>\n",
       "      <td>['contact', 'tracing', 'personal', 'data', 'sm...</td>\n",
       "      <td>610</td>\n",
       "      <td>583</td>\n",
       "      <td>27</td>\n",
       "    </tr>\n",
       "  </tbody>\n",
       "</table>\n",
       "</div>"
      ],
      "text/plain": [
       "    index    topic                                              label  \\\n",
       "29     28  Topic28  ['contact', 'tracing', 'personal', 'data', 'sm...   \n",
       "\n",
       "    totalcount  straitstimes  tnp  \n",
       "29         610           583   27  "
      ]
     },
     "execution_count": 247,
     "metadata": {},
     "output_type": "execute_result"
    }
   ],
   "source": [
    "nodelist_weighted = nodelist.sort_values(by=\"totalcount\", ascending=False)\n",
    "nodelist_weighted.reset_index(drop=False, inplace=True)\n",
    "nodelist_weighted[nodelist_weighted.topic.isin(ct_idxs)]"
   ]
  },
  {
   "cell_type": "code",
   "execution_count": 248,
   "metadata": {},
   "outputs": [
    {
     "data": {
      "image/png": "[encoded data removed]",
      "text/plain": [
       "<Figure size 432x288 with 1 Axes>"
      ]
     },
     "metadata": {
      "needs_background": "light"
     },
     "output_type": "display_data"
    }
   ],
   "source": [
    "weights = nodelist_weighted[nodelist_weighted.totalcount != 0]\n",
    "weights = weights[weights.totalcount < 3000].totalcount.values\n",
    "\n",
    "result = plt.hist(weights, 50, color='c')\n",
    "result = plt.axvline(230, color='k', linestyle='dashed', linewidth=1) # 91 - 接觸者 追蹤\n",
    "result = plt.title(\"Distribution of Node Weights\")"
   ]
  },
  {
   "cell_type": "code",
   "execution_count": 250,
   "metadata": {},
   "outputs": [
    {
     "data": {
      "image/png": "[encoded data removed]",
      "text/plain": [
       "<Figure size 432x288 with 1 Axes>"
      ]
     },
     "metadata": {
      "needs_background": "light"
     },
     "output_type": "display_data"
    }
   ],
   "source": [
    "e_weights = edgelist[edgelist.weight > 100]\n",
    "e_weights = e_weights.weight.values\n",
    "\n",
    "result = plt.hist(e_weights, 100, color = 'purple')\n",
    "result = plt.title(\"Distribution of Edge Weights\")"
   ]
  },
  {
   "cell_type": "code",
   "execution_count": 251,
   "metadata": {},
   "outputs": [
    {
     "data": {
      "image/png": "[encoded data removed]",
      "text/plain": [
       "<Figure size 432x288 with 1 Axes>"
      ]
     },
     "metadata": {
      "needs_background": "light"
     },
     "output_type": "display_data"
    }
   ],
   "source": [
    "result = plt.hist(ct_topics.weight.values, 100, color = 'orange')\n",
    "result = plt.title(\"Distribution of Edge Weights of Contact Tracing Node\")"
   ]
  },
  {
   "cell_type": "code",
   "execution_count": 252,
   "metadata": {},
   "outputs": [
    {
     "data": {
      "text/plain": [
       "231"
      ]
     },
     "execution_count": 252,
     "metadata": {},
     "output_type": "execute_result"
    }
   ],
   "source": [
    "len(ct_topics)"
   ]
  },
  {
   "cell_type": "code",
   "execution_count": 257,
   "metadata": {},
   "outputs": [
    {
     "name": "stdout",
     "output_type": "stream",
     "text": [
      "49 87 115\n"
     ]
    }
   ],
   "source": [
    "print(\n",
    "    len(ct_topics[ct_topics.weight > 30]),\n",
    "    len(ct_topics[ct_topics.weight > 15]), \n",
    "    len(ct_topics[ct_topics.weight > 10]) \n",
    ")"
   ]
  },
  {
   "cell_type": "code",
   "execution_count": 283,
   "metadata": {},
   "outputs": [],
   "source": [
    "threshold = 30\n",
    "# threshold = 15\n",
    "# threshold = 10\n",
    "\n",
    "top_edges = ct_topics[ct_topics.weight > threshold]\n",
    "\n",
    "# top_edges"
   ]
  },
  {
   "cell_type": "code",
   "execution_count": null,
   "metadata": {},
   "outputs": [],
   "source": [
    "os.makedirs(f\"texts_to_analyze_{threshold}\")\n"
   ]
  },
  {
   "cell_type": "code",
   "execution_count": 271,
   "metadata": {},
   "outputs": [
    {
     "name": "stdout",
     "output_type": "stream",
     "text": [
      "[130]Topic22-Topic28.csv\n",
      "[121]Topic28-Topic58.csv\n",
      "[103]Topic11-Topic28.csv\n",
      "[102]Topic3-Topic28.csv\n",
      "[102]Topic28-Topic63.csv\n",
      "[91]Topic23-Topic28.csv\n",
      "[84]Topic24-Topic28.csv\n",
      "[83]Topic28-Topic90.csv\n",
      "[75]Topic1-Topic28.csv\n",
      "[69]Topic28-Topic55.csv\n",
      "[68]Topic28-Topic61.csv\n",
      "[66]Topic28-Topic170.csv\n",
      "[60]Topic25-Topic28.csv\n",
      "[59]Topic20-Topic28.csv\n",
      "[56]Topic28-Topic143.csv\n",
      "[55]Topic28-Topic283.csv\n",
      "[54]Topic10-Topic28.csv\n",
      "[53]Topic28-Topic108.csv\n",
      "[51]Topic28-Topic294.csv\n",
      "[51]Topic28-Topic83.csv\n",
      "[50]Topic28-Topic62.csv\n",
      "[48]Topic28-Topic106.csv\n",
      "[48]Topic28-Topic129.csv\n",
      "[46]Topic28-Topic297.csv\n",
      "[44]Topic28-Topic248.csv\n",
      "[43]Topic28-Topic112.csv\n",
      "[43]Topic2-Topic28.csv\n",
      "[42]Topic28-Topic29.csv\n",
      "[42]Topic28-Topic155.csv\n",
      "[41]Topic18-Topic28.csv\n",
      "[41]Topic28-Topic104.csv\n",
      "[41]Topic28-Topic94.csv\n",
      "[41]Topic28-Topic76.csv\n",
      "[41]Topic28-Topic42.csv\n",
      "[39]Topic28-Topic35.csv\n",
      "[39]Topic28-Topic163.csv\n",
      "[39]Topic28-Topic150.csv\n",
      "[38]Topic28-Topic50.csv\n",
      "[37]Topic28-Topic267.csv\n",
      "[37]Topic28-Topic263.csv\n",
      "[36]Topic6-Topic28.csv\n",
      "[34]Topic14-Topic28.csv\n",
      "[34]Topic28-Topic101.csv\n",
      "[33]Topic27-Topic28.csv\n",
      "[33]Topic28-Topic298.csv\n",
      "[32]Topic28-Topic73.csv\n",
      "[31]Topic28-Topic71.csv\n",
      "[31]Topic28-Topic68.csv\n",
      "[31]Topic28-Topic52.csv\n",
      "[30]Topic28-Topic113.csv\n",
      "[29]Topic28-Topic114.csv\n",
      "[28]Topic28-Topic45.csv\n",
      "[28]Topic28-Topic183.csv\n",
      "[28]Topic28-Topic281.csv\n",
      "[27]Topic28-Topic257.csv\n",
      "[27]Topic28-Topic43.csv\n",
      "[27]Topic28-Topic44.csv\n",
      "[27]Topic28-Topic88.csv\n",
      "[26]Topic28-Topic105.csv\n",
      "[25]Topic17-Topic28.csv\n",
      "[25]Topic28-Topic77.csv\n",
      "[25]Topic28-Topic147.csv\n",
      "[24]Topic4-Topic28.csv\n",
      "[24]Topic28-Topic177.csv\n",
      "[23]Topic28-Topic272.csv\n",
      "[22]Topic28-Topic142.csv\n",
      "[21]Topic28-Topic139.csv\n",
      "[20]Topic28-Topic175.csv\n",
      "[20]Topic28-Topic125.csv\n",
      "[20]Topic28-Topic40.csv\n",
      "[20]Topic28-Topic140.csv\n",
      "[20]Topic28-Topic279.csv\n",
      "[19]Topic28-Topic120.csv\n",
      "[19]Topic28-Topic98.csv\n",
      "[19]Topic28-Topic30.csv\n",
      "[19]Topic28-Topic110.csv\n",
      "[18]Topic28-Topic145.csv\n",
      "[18]Topic28-Topic280.csv\n",
      "[18]Topic28-Topic276.csv\n",
      "[18]Topic28-Topic260.csv\n",
      "[17]Topic28-Topic156.csv\n",
      "[17]Topic28-Topic127.csv\n",
      "[16]Topic28-Topic81.csv\n",
      "[16]Topic28-Topic284.csv\n",
      "[16]Topic28-Topic299.csv\n",
      "[16]Topic28-Topic116.csv\n",
      "[16]Topic28-Topic121.csv\n",
      "[15]Topic28-Topic54.csv\n",
      "[15]Topic28-Topic292.csv\n",
      "[15]Topic28-Topic171.csv\n",
      "[15]Topic28-Topic154.csv\n",
      "[15]Topic28-Topic138.csv\n",
      "[14]Topic28-Topic137.csv\n",
      "[14]Topic28-Topic162.csv\n",
      "[14]Topic28-Topic124.csv\n",
      "[14]Topic28-Topic119.csv\n",
      "[13]Topic28-Topic253.csv\n",
      "[13]Topic28-Topic172.csv\n",
      "[13]Topic28-Topic176.csv\n",
      "[13]Topic26-Topic28.csv\n",
      "[13]Topic28-Topic79.csv\n",
      "[12]Topic28-Topic247.csv\n",
      "[12]Topic28-Topic250.csv\n",
      "[12]Topic28-Topic95.csv\n",
      "[12]Topic28-Topic115.csv\n",
      "[11]Topic28-Topic293.csv\n",
      "[11]Topic28-Topic164.csv\n",
      "[11]Topic28-Topic180.csv\n",
      "[11]Topic28-Topic80.csv\n",
      "[11]Topic28-Topic59.csv\n",
      "[11]Topic7-Topic28.csv\n",
      "[11]Topic28-Topic282.csv\n",
      "[11]Topic28-Topic229.csv\n",
      "[11]Topic28-Topic277.csv\n",
      "[11]Topic28-Topic37.csv\n"
     ]
    }
   ],
   "source": [
    "for index, row in top_edges.iterrows():\n",
    "    # Find all the edges that include this specific edge\n",
    "    edges = edgelist_full[(edgelist_full.node1 == row.node1) & (edgelist_full.node2 == row.node2)]\n",
    "    \n",
    "    # Get the document ids\n",
    "    docIds = edges.documentId.values\n",
    "    \n",
    "    # Get the documents corresponding to these edges\n",
    "    documents = df[df.index.isin(docIds)][[\"title\", \"date\", \"url\", \"keyword\", \"text\", \"source\"]]\n",
    "    documents.reset_index(inplace=True)\n",
    "    \n",
    "    textfile = f\"[{len(edges)}]{row.node1}-{row.node2}.csv\"\n",
    "    print(textfile)\n",
    "    \n",
    "    documents.to_csv(f\"texts_to_analyze_{threshold}/{textfile}\")"
   ]
  },
  {
   "cell_type": "code",
   "execution_count": 286,
   "metadata": {},
   "outputs": [],
   "source": [
    "# get the list of nodes/topics\n",
    "topics = list(set(list_flatten(top_edges[['node1', 'node2']].values.tolist())))\n",
    "\n",
    "# dictionary mapping topic to name\n",
    "topic_name_dict = nodelist[nodelist.topic.isin(topics)]\n",
    "topic_name_dict.loc[:,\"label\"] = topic_name_dict.label.apply(lambda a: ast.literal_eval(a))"
   ]
  },
  {
   "cell_type": "code",
   "execution_count": 288,
   "metadata": {},
   "outputs": [],
   "source": [
    "node1_bow = []\n",
    "node2_bow = []\n",
    "\n",
    "for index, row in top_edges.iterrows():\n",
    "    bow = topic_name_dict[topic_name_dict.topic == row.node1].label.values[0]\n",
    "    node1_bow.append(' '.join([\"-\".join(bow[i:i+2]) for i in range(0, len(bow), 2)]))\n",
    "    \n",
    "    bow = topic_name_dict[topic_name_dict.topic == row.node2].label.values[0]\n",
    "    node2_bow.append(' '.join([\"-\".join(bow[i:i+2]) for i in range(0, len(bow), 2)]))\n",
    "    \n",
    "    \n",
    "top_edges.loc[:, \"node1_bow\"] = node1_bow\n",
    "top_edges.loc[:, \"node2_bow\"] = node2_bow"
   ]
  },
  {
   "cell_type": "code",
   "execution_count": 289,
   "metadata": {},
   "outputs": [],
   "source": [
    "top_edges.to_csv(f\"texts_to_analyze_{threshold}/top_edges_table.csv\")"
   ]
  }
 ],
 "metadata": {
  "kernelspec": {
   "display_name": "Python 3",
   "language": "python",
   "name": "python3"
  },
  "language_info": {
   "codemirror_mode": {
    "name": "ipython",
    "version": 3
   },
   "file_extension": ".py",
   "mimetype": "text/x-python",
   "name": "python",
   "nbconvert_exporter": "python",
   "pygments_lexer": "ipython3",
   "version": "3.8.5"
  }
 },
 "nbformat": 4,
 "nbformat_minor": 4
}
