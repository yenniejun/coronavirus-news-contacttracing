{
 "cells": [
  {
   "cell_type": "code",
   "execution_count": 3,
   "metadata": {},
   "outputs": [],
   "source": [
    "import pandas as pd\n",
    "import numpy as np\n",
    "import string\n",
    "import re\n",
    "import matplotlib.pyplot as plt\n",
    "import pickle\n",
    "import nltk\n",
    "from collections import Counter\n",
    "from scipy import stats\n",
    "import ast\n",
    "import matplotlib.pyplot as plt\n",
    "from operator import itemgetter"
   ]
  },
  {
   "cell_type": "markdown",
   "metadata": {
    "heading_collapsed": true
   },
   "source": [
    "# Scraping"
   ]
  },
  {
   "cell_type": "code",
   "execution_count": null,
   "metadata": {
    "hidden": true
   },
   "outputs": [],
   "source": [
    "import requests\n",
    "from bs4 import BeautifulSoup\n",
    "import urllib.request, urllib.parse\n",
    "import time\n",
    "from datetime import datetime\n"
   ]
  },
  {
   "cell_type": "markdown",
   "metadata": {
    "heading_collapsed": true,
    "hidden": true
   },
   "source": [
    "## CNN"
   ]
  },
  {
   "cell_type": "code",
   "execution_count": 1,
   "metadata": {
    "hidden": true
   },
   "outputs": [],
   "source": [
    "headlines, dates, bodies, urls = [], [], [], []"
   ]
  },
  {
   "cell_type": "code",
   "execution_count": null,
   "metadata": {
    "hidden": true
   },
   "outputs": [],
   "source": [
    "pagenum = 1\n",
    "url = f'https://search.api.cnn.io/content?size={size}&q=coronavirus,covid&page={pagenum}&sort=newest&from={(pagenum-1)*size}'\n",
    "json_data = requests.get(url).json()\n",
    "data = json_data['result']"
   ]
  },
  {
   "cell_type": "code",
   "execution_count": null,
   "metadata": {
    "hidden": true
   },
   "outputs": [],
   "source": [
    "query = \"coronavirus\"\n",
    "query = \"covid\" #6000 results"
   ]
  },
  {
   "cell_type": "code",
   "execution_count": null,
   "metadata": {
    "hidden": true
   },
   "outputs": [],
   "source": [
    "# Collect the URLs\n",
    "for pagenum in range(1,60): \n",
    "    url = f'https://search.api.cnn.io/content?size={size}&q={query}&page={pagenum}&sort=newest&from={(pagenum-1)*size}'\n",
    "    json_data = requests.get(url).json()\n",
    "    data = json_data['result']\n",
    "\n",
    "    for d in data:\n",
    "        headlines.append(d['headline'])\n",
    "        dates.append(d['firstPublishDate'])\n",
    "        bodies.append(d['body'])\n",
    "        urls.append(d['url'])\n"
   ]
  },
  {
   "cell_type": "code",
   "execution_count": null,
   "metadata": {
    "hidden": true
   },
   "outputs": [],
   "source": [
    "cnn = pd.DataFrame.transpose(pd.DataFrame([headlines, dates, urls, bodies]))\n",
    "cnn.columns = ['title','date', 'url', 'text']"
   ]
  },
  {
   "cell_type": "code",
   "execution_count": null,
   "metadata": {
    "hidden": true
   },
   "outputs": [],
   "source": [
    "cnn.to_csv('data/raw_data/cnn.csv')"
   ]
  },
  {
   "cell_type": "markdown",
   "metadata": {
    "heading_collapsed": true,
    "hidden": true
   },
   "source": [
    "## Fox"
   ]
  },
  {
   "cell_type": "code",
   "execution_count": null,
   "metadata": {
    "hidden": true
   },
   "outputs": [],
   "source": [
    "# https://www.w3resource.com/python-exercises/date-time-exercise/python-date-time-exercise-50.php\n",
    "from datetime import timedelta, date\n",
    "\n",
    "def daterange(date1, date2):\n",
    "    for n in range(int ((date2 - date1).days)+1):\n",
    "        yield date1 + timedelta(n)"
   ]
  },
  {
   "cell_type": "code",
   "execution_count": null,
   "metadata": {
    "hidden": true
   },
   "outputs": [],
   "source": [
    "dates = []\n",
    "start_dt = date(2020, 1, 1)\n",
    "end_dt = date(2020, 6, 23)\n",
    "for dt in daterange(start_dt, end_dt):\n",
    "    dates.append(dt.strftime(\"%Y%m%d\"))\n",
    "\n",
    "daterange = []\n",
    "for i in range(len(dates)-1):\n",
    "    daterange.append((int(dates[i]), int(dates[i+1])))"
   ]
  },
  {
   "cell_type": "code",
   "execution_count": null,
   "metadata": {
    "hidden": true
   },
   "outputs": [],
   "source": [
    "titles = []\n",
    "links = []\n",
    "\n",
    "# query=\"coronavirus\"\n",
    "query=\"covid\""
   ]
  },
  {
   "cell_type": "code",
   "execution_count": null,
   "metadata": {
    "hidden": true
   },
   "outputs": [],
   "source": [
    "# Get the links\n",
    "for date in daterange:\n",
    "    for page in range(0,10): \n",
    "        startdate, enddate = date\n",
    "        print(startdate, enddate)\n",
    "        url = f\"https://api.foxnews.com/search/web?q={query}+more:pagemap:metatags-pagetype:article+more:pagemap:metatags-dc.type:Text.Article&siteSearch=foxnews.com&siteSearchFilter=i&sort=date:r:{startdate}:{enddate}&start={page*10}&callback=__jp{page+1}\"\n",
    "\n",
    "        req = requests.get(url)\n",
    "        t = re.findall(r'\\s\"og:title\":\\s\"(.*)\"',req.text)\n",
    "        urls = re.findall(r'\\s\"link\":\\s\"(.*)\"',req.text)\n",
    "        titles.extend(t)\n",
    "        links.extend(urls)\n",
    "        print(page, len(t), len(urls))\n",
    "        \n",
    "        if len(t) < 10:\n",
    "            break\n",
    "        \n",
    "#         time.sleep(5)"
   ]
  },
  {
   "cell_type": "code",
   "execution_count": null,
   "metadata": {
    "hidden": true
   },
   "outputs": [],
   "source": [
    "# Get the text\n",
    "bodies = []\n",
    "dates = []\n",
    "\n",
    "index = 1\n",
    "for url in links[1677:]:\n",
    "    print(index)\n",
    "    index += 1\n",
    "    req = urllib.request.Request(url)\n",
    "\n",
    "    html = urllib.request.urlopen(req).read()\n",
    "    soup = BeautifulSoup(html, 'lxml')\n",
    "    \n",
    "    if not (\"radio\" in url or \"video\" in url or \"watch/\" in url or \"c/brooke-crothers\" in url \n",
    "            or \"shows/ingraham\" in url or \"w-abby-hornacek\" in url) :\n",
    "        date = soup.find(\"div\", attrs = {\"class\": \"article-date\"}).text\n",
    "        date = re.match(r'Published\\s(.*)', date).group(1)\n",
    "        dates.append(date)\n",
    "        a = soup.find(\"div\", attrs = {\"class\": \"article-body\"})\n",
    "        text = [b.text for b in a.findAll(\"p\")]\n",
    "        bodies.append(text)\n",
    "    else:\n",
    "        bodies.append(\"NA\")\n",
    "        dates.append(\"NA\")\n",
    "        "
   ]
  },
  {
   "cell_type": "code",
   "execution_count": 188,
   "metadata": {
    "hidden": true,
    "scrolled": true
   },
   "outputs": [
    {
     "data": {
      "text/plain": [
       "(3120, 3120, 3120, 3120)"
      ]
     },
     "execution_count": 188,
     "metadata": {},
     "output_type": "execute_result"
    }
   ],
   "source": [
    "len(titles), len(links), len(dates), len(bodies)"
   ]
  },
  {
   "cell_type": "code",
   "execution_count": null,
   "metadata": {
    "hidden": true
   },
   "outputs": [],
   "source": [
    "fox = pd.DataFrame.transpose(pd.DataFrame([titles, dates, links, bodies]))\n",
    "fox.columns = ['title','date', 'url', 'text']"
   ]
  },
  {
   "cell_type": "code",
   "execution_count": null,
   "metadata": {
    "hidden": true
   },
   "outputs": [],
   "source": [
    "# Fix the dates\n",
    "# https://stackoverflow.com/questions/47246143/changing-relative-times-to-actual-dates-in-a-pandas-dataframe\n",
    "\n",
    "fox.date = fox.date.astype(str) + ' 2020'\n",
    "absolute_date = pd.to_datetime(fox.date, errors=\"coerce\")\n",
    "relative_date = (datetime.today() - \n",
    "                 fox.date.str.extract(\"(.*) ago\", expand=False).apply(pd.Timedelta))\n",
    "\n",
    "date = relative_date.combine_first(absolute_date)\n",
    "\n",
    "\n",
    "fox.date = date.dt.date"
   ]
  },
  {
   "cell_type": "code",
   "execution_count": null,
   "metadata": {
    "hidden": true
   },
   "outputs": [],
   "source": [
    "fox.to_csv(\"data/raw_data/fox_covid.csv\")"
   ]
  },
  {
   "cell_type": "markdown",
   "metadata": {
    "hidden": true
   },
   "source": [
    "## NYT"
   ]
  },
  {
   "cell_type": "code",
   "execution_count": null,
   "metadata": {
    "hidden": true
   },
   "outputs": [],
   "source": [
    "# https://www.w3resource.com/python-exercises/date-time-exercise/python-date-time-exercise-50.php\n",
    "from datetime import timedelta, date\n",
    "\n",
    "def get_dates_in_range(date1, date2):\n",
    "    for n in range(int ((date2 - date1).days)+1):\n",
    "        yield date1 + timedelta(n)\n"
   ]
  },
  {
   "cell_type": "code",
   "execution_count": null,
   "metadata": {
    "hidden": true
   },
   "outputs": [],
   "source": [
    "dates = []\n",
    "start_dt = date(2020, 1, 1)\n",
    "end_dt = date(2020, 6, 25)\n",
    "for dt in get_dates_in_range(start_dt, end_dt):\n",
    "    dates.append(dt.strftime(\"%Y%m%d\"))\n",
    "\n",
    "# Date range of 5 days\n",
    "daterange = []\n",
    "for i in range(0, len(dates)-5, 5):\n",
    "    daterange.append((int(dates[i]), int(dates[i+5])))"
   ]
  },
  {
   "cell_type": "code",
   "execution_count": null,
   "metadata": {
    "hidden": true
   },
   "outputs": [],
   "source": [
    "titles, dates, urls = [], [], []\n",
    "apikey = \"I1EX29cHWoOBYDsre22OfzeTkxYujx0B\"\n",
    "\n",
    "query = \"coronavirus\"\n",
    "# query = \"covid\""
   ]
  },
  {
   "cell_type": "code",
   "execution_count": null,
   "metadata": {
    "hidden": true
   },
   "outputs": [],
   "source": [
    "for date in daterange:\n",
    "    \n",
    "    count = 0\n",
    "    for page in range(100):\n",
    "        startdate, enddate = date\n",
    "        url = f'https://api.nytimes.com/svc/search/v2/articlesearch.json?q={query}&sort=best&begin_date={startdate}&end_date={enddate}&page={page}&api-key={apikey}'\n",
    "        print(url)\n",
    "        time.sleep(5)\n",
    "        req = requests.get(url)\n",
    "        \n",
    "        while (req.status_code != 200):\n",
    "            print(\"Trying again\")\n",
    "            time.sleep(10)\n",
    "            req = requests.get(url)\n",
    "\n",
    "        \n",
    "        if (len(req.json()['response']['docs']) == 0):\n",
    "            break\n",
    "        \n",
    "        print(\"num hits\", req.json()['response']['meta']['hits'])\n",
    "        print(startdate, enddate)\n",
    "        \n",
    "        for j in req.json()['response']['docs']:\n",
    "            titles.append(j['headline']['main'])\n",
    "            dates.append(j['pub_date'])\n",
    "            urls.append(j['web_url'])"
   ]
  },
  {
   "cell_type": "code",
   "execution_count": 311,
   "metadata": {
    "hidden": true
   },
   "outputs": [
    {
     "data": {
      "text/plain": [
       "(21711, 21711, 21711)"
      ]
     },
     "execution_count": 311,
     "metadata": {},
     "output_type": "execute_result"
    }
   ],
   "source": [
    "len(titles), len(dates), len(urls)"
   ]
  },
  {
   "cell_type": "code",
   "execution_count": 312,
   "metadata": {
    "hidden": true,
    "scrolled": true
   },
   "outputs": [
    {
     "data": {
      "text/html": [
       "<div>\n",
       "<style scoped>\n",
       "    .dataframe tbody tr th:only-of-type {\n",
       "        vertical-align: middle;\n",
       "    }\n",
       "\n",
       "    .dataframe tbody tr th {\n",
       "        vertical-align: top;\n",
       "    }\n",
       "\n",
       "    .dataframe thead th {\n",
       "        text-align: right;\n",
       "    }\n",
       "</style>\n",
       "<table border=\"1\" class=\"dataframe\">\n",
       "  <thead>\n",
       "    <tr style=\"text-align: right;\">\n",
       "      <th></th>\n",
       "      <th>title</th>\n",
       "      <th>date</th>\n",
       "      <th>url</th>\n",
       "    </tr>\n",
       "  </thead>\n",
       "  <tbody>\n",
       "    <tr>\n",
       "      <th>0</th>\n",
       "      <td>China Identifies New Virus Causing Pneumoniali...</td>\n",
       "      <td>2020-01-09T02:48:29+0000</td>\n",
       "      <td>https://www.nytimes.com/2020/01/08/health/chin...</td>\n",
       "    </tr>\n",
       "    <tr>\n",
       "      <th>1</th>\n",
       "      <td>China Reports First Death From New Virus</td>\n",
       "      <td>2020-01-11T01:41:56+0000</td>\n",
       "      <td>https://www.nytimes.com/2020/01/10/world/asia/...</td>\n",
       "    </tr>\n",
       "    <tr>\n",
       "      <th>2</th>\n",
       "      <td>Japan and Thailand Confirm New Cases of Chines...</td>\n",
       "      <td>2020-01-16T03:29:27+0000</td>\n",
       "      <td>https://www.nytimes.com/2020/01/15/world/asia/...</td>\n",
       "    </tr>\n",
       "    <tr>\n",
       "      <th>3</th>\n",
       "      <td>China Reports First Death From New Virus</td>\n",
       "      <td>2020-01-11T01:41:56+0000</td>\n",
       "      <td>https://www.nytimes.com/2020/01/10/world/asia/...</td>\n",
       "    </tr>\n",
       "    <tr>\n",
       "      <th>4</th>\n",
       "      <td>The Coronavirus: What Scientists Have Learned ...</td>\n",
       "      <td>2020-01-21T20:06:18+0000</td>\n",
       "      <td>https://www.nytimes.com/article/what-is-corona...</td>\n",
       "    </tr>\n",
       "    <tr>\n",
       "      <th>...</th>\n",
       "      <td>...</td>\n",
       "      <td>...</td>\n",
       "      <td>...</td>\n",
       "    </tr>\n",
       "    <tr>\n",
       "      <th>21706</th>\n",
       "      <td>Atlanta Mourns Rayshard Brooks in a Sanctuary ...</td>\n",
       "      <td>2020-06-23T17:35:36+0000</td>\n",
       "      <td>https://www.nytimes.com/2020/06/23/us/rayshard...</td>\n",
       "    </tr>\n",
       "    <tr>\n",
       "      <th>21707</th>\n",
       "      <td>The Second Defeat of Bernie Sanders</td>\n",
       "      <td>2020-06-23T09:00:22+0000</td>\n",
       "      <td>https://www.nytimes.com/2020/06/23/opinion/ber...</td>\n",
       "    </tr>\n",
       "    <tr>\n",
       "      <th>21708</th>\n",
       "      <td>PGA Tour's Monahan Warns Players After Positiv...</td>\n",
       "      <td>2020-06-24T20:22:46+0000</td>\n",
       "      <td>https://www.nytimes.com/reuters/2020/06/24/spo...</td>\n",
       "    </tr>\n",
       "    <tr>\n",
       "      <th>21709</th>\n",
       "      <td>Florida Election Results: Live Presidential Pr...</td>\n",
       "      <td>2020-06-24T17:36:20+0000</td>\n",
       "      <td>https://www.nytimes.com/interactive/2020/03/17...</td>\n",
       "    </tr>\n",
       "    <tr>\n",
       "      <th>21710</th>\n",
       "      <td>Gen Z Will Not Save Us</td>\n",
       "      <td>2020-06-22T19:00:10+0000</td>\n",
       "      <td>https://www.nytimes.com/2020/06/22/opinion/tru...</td>\n",
       "    </tr>\n",
       "  </tbody>\n",
       "</table>\n",
       "<p>21711 rows × 3 columns</p>\n",
       "</div>"
      ],
      "text/plain": [
       "                                                   title  \\\n",
       "0      China Identifies New Virus Causing Pneumoniali...   \n",
       "1               China Reports First Death From New Virus   \n",
       "2      Japan and Thailand Confirm New Cases of Chines...   \n",
       "3               China Reports First Death From New Virus   \n",
       "4      The Coronavirus: What Scientists Have Learned ...   \n",
       "...                                                  ...   \n",
       "21706  Atlanta Mourns Rayshard Brooks in a Sanctuary ...   \n",
       "21707                The Second Defeat of Bernie Sanders   \n",
       "21708  PGA Tour's Monahan Warns Players After Positiv...   \n",
       "21709  Florida Election Results: Live Presidential Pr...   \n",
       "21710                             Gen Z Will Not Save Us   \n",
       "\n",
       "                           date  \\\n",
       "0      2020-01-09T02:48:29+0000   \n",
       "1      2020-01-11T01:41:56+0000   \n",
       "2      2020-01-16T03:29:27+0000   \n",
       "3      2020-01-11T01:41:56+0000   \n",
       "4      2020-01-21T20:06:18+0000   \n",
       "...                         ...   \n",
       "21706  2020-06-23T17:35:36+0000   \n",
       "21707  2020-06-23T09:00:22+0000   \n",
       "21708  2020-06-24T20:22:46+0000   \n",
       "21709  2020-06-24T17:36:20+0000   \n",
       "21710  2020-06-22T19:00:10+0000   \n",
       "\n",
       "                                                     url  \n",
       "0      https://www.nytimes.com/2020/01/08/health/chin...  \n",
       "1      https://www.nytimes.com/2020/01/10/world/asia/...  \n",
       "2      https://www.nytimes.com/2020/01/15/world/asia/...  \n",
       "3      https://www.nytimes.com/2020/01/10/world/asia/...  \n",
       "4      https://www.nytimes.com/article/what-is-corona...  \n",
       "...                                                  ...  \n",
       "21706  https://www.nytimes.com/2020/06/23/us/rayshard...  \n",
       "21707  https://www.nytimes.com/2020/06/23/opinion/ber...  \n",
       "21708  https://www.nytimes.com/reuters/2020/06/24/spo...  \n",
       "21709  https://www.nytimes.com/interactive/2020/03/17...  \n",
       "21710  https://www.nytimes.com/2020/06/22/opinion/tru...  \n",
       "\n",
       "[21711 rows x 3 columns]"
      ]
     },
     "execution_count": 312,
     "metadata": {},
     "output_type": "execute_result"
    }
   ],
   "source": [
    "nyt = pd.DataFrame.transpose(pd.DataFrame([titles, dates, urls]))\n",
    "nyt.columns = ['title', 'date','url']\n",
    "nyt"
   ]
  },
  {
   "cell_type": "code",
   "execution_count": null,
   "metadata": {
    "hidden": true
   },
   "outputs": [],
   "source": [
    "# REMOVE DUPLICATES\n",
    "nyt.drop_duplicates(inplace=True)\n",
    "nyt[\"keyword\"] = query\n",
    "\n",
    "nyt.reset_index(inplace=True, drop=True)"
   ]
  },
  {
   "cell_type": "code",
   "execution_count": null,
   "metadata": {
    "hidden": true
   },
   "outputs": [],
   "source": [
    "for index, row in nyt.iterrows():\n",
    "    print(index, row.url)\n",
    "    req = urllib.request.Request(row.url)\n",
    "    html = urllib.request.urlopen(req).read()\n",
    "    soup = BeautifulSoup(html, 'lxml')\n",
    "\n",
    "    # date = soup.find(\"time\")[\"datetime\"]\n",
    "    a = soup.find(\"section\", attrs={\"name\": \"articleBody\"})\n",
    "    if a:\n",
    "        body = ' '.join([c.text for c in a.findAll(\"p\")][:-3])\n",
    "        nyt.loc[index, 'body'] = body\n",
    "    \n",
    "    time.sleep(5)\n"
   ]
  },
  {
   "cell_type": "code",
   "execution_count": null,
   "metadata": {
    "hidden": true
   },
   "outputs": [],
   "source": [
    "nyt.to_csv(f\"data/nyt_{query}.csv\")"
   ]
  },
  {
   "cell_type": "markdown",
   "metadata": {
    "hidden": true
   },
   "source": [
    "## Washington Post"
   ]
  },
  {
   "cell_type": "markdown",
   "metadata": {
    "hidden": true
   },
   "source": [
    "There were too many to scrape all in one go so I had to do them in batches\n"
   ]
  },
  {
   "cell_type": "code",
   "execution_count": 2,
   "metadata": {
    "hidden": true
   },
   "outputs": [],
   "source": [
    "urls = []"
   ]
  },
  {
   "cell_type": "code",
   "execution_count": null,
   "metadata": {
    "hidden": true
   },
   "outputs": [],
   "source": [
    "for start in range(0, 3000, 100):\n",
    "\n",
    "    if start == 0: url = \"https://sitesearchapp.washingtonpost.com/sitesearch-api/v2/search.json?count=500&datefilter=displaydatetime:%5B*+TO+NOW%2FDAY%2B1DAY%5D&facets.fields=%7B!ex%3Dinclude%7Dcontenttype,%7B!ex%3Dinclude%7Dname&highlight.fields=headline,body&highlight.on=true&highlight.snippets=1&query=contact+tracing&sort=&startat=1&callback=angular.callbacks._0\"\n",
    "    else:          url = f\"https://sitesearchapp.washingtonpost.com/sitesearch-api/v2/search.json?count=500&datefilter=displaydatetime:%5BNOW%2FDAY-1YEAR+TO+NOW%2FDAY%2B1DAY%5D&facets.fields=%7B!ex%3Dinclude%7Dcontenttype,%7B!ex%3Dinclude%7Dname&highlight.fields=headline,body&highlight.on=true&highlight.snippets=1&query=contact+tracing&sort=&startat={start}&callback=angular.callbacks._0\"\n",
    "\n",
    "    req = urllib.request.Request(url)\n",
    "\n",
    "    html = urllib.request.urlopen(req).read()\n",
    "    soup = BeautifulSoup(html, 'lxml')\n",
    "\n",
    "    c = re.findall(r'https://www.washingtonpost.com(.*?)\"', soup.text)\n",
    "    print(start, len(c))\n",
    "\n",
    "    urls.extend([\"https://www.washingtonpost.com\" + b for b in c])"
   ]
  },
  {
   "cell_type": "code",
   "execution_count": null,
   "metadata": {
    "hidden": true
   },
   "outputs": [],
   "source": [
    "titles = []\n",
    "dates = []\n",
    "bodies = []"
   ]
  },
  {
   "cell_type": "code",
   "execution_count": null,
   "metadata": {
    "hidden": true
   },
   "outputs": [],
   "source": [
    "for url in urls:\n",
    "    # url = \"https://www.washingtonpost.com/national/contact-tracing-is-best-tool-we-have-until-theres-a-vaccine-say-health-experts/2020/06/13/94f42ffa-a73b-11ea-bb20-ebf0921f3bbd_story.html\"\n",
    "\n",
    "    if \"video\" in url:\n",
    "        title = \"NA\"\n",
    "        date = \"NA\"\n",
    "        body = \"NA\"\n",
    "    else:\n",
    "        try:\n",
    "            req = urllib.request.Request(url)\n",
    "            html = urllib.request.urlopen(req).read()\n",
    "            soup = BeautifulSoup(html, 'lxml')\n",
    "\n",
    "            title = soup.find(\"h1\").text\n",
    "\n",
    "            d = soup.find(\"div\", attrs={\"class\": \"display-date\"})\n",
    "            if d:\n",
    "                date = d.text\n",
    "            else:\n",
    "                d = soup.find(\"span\", attrs={\"class\": \"author-timestamp\"})\n",
    "                if d:\n",
    "                    date = d[\"content\"]\n",
    "                else: date = \"NA\"\n",
    "\n",
    "            body = ' '.join([b.text for b in soup.findAll(\"p\")])\n",
    "\n",
    "        except:\n",
    "            body = 'NA'\n",
    "            date = 'NA'\n",
    "            title = 'NA'\n",
    "\n",
    "\n",
    "    print(index, title, date)\n",
    "    bodies.append(body)\n",
    "    titles.append(title)\n",
    "    dates.append(date)\n",
    "\n",
    "    index += 1\n",
    "    time.sleep(1)\n"
   ]
  },
  {
   "cell_type": "code",
   "execution_count": null,
   "metadata": {
    "hidden": true
   },
   "outputs": [],
   "source": [
    "wp = pd.DataFrame.transpose(pd.DataFrame([titles, dates, urls, bodies]))\n",
    "wp.columns = ['title', 'date','url', 'text']\n",
    "wp.drop_duplicates(inplace=True)\n",
    "wp.to_csv(f\"data/raw_data/washingtonpost{range_end}.csv\")"
   ]
  },
  {
   "cell_type": "markdown",
   "metadata": {
    "hidden": true
   },
   "source": [
    "### Then, Concat"
   ]
  },
  {
   "cell_type": "code",
   "execution_count": null,
   "metadata": {
    "hidden": true
   },
   "outputs": [],
   "source": [
    "from os import listdir\n",
    "from os.path import isfile, join"
   ]
  },
  {
   "cell_type": "code",
   "execution_count": null,
   "metadata": {
    "hidden": true
   },
   "outputs": [],
   "source": [
    "wp_csvs = [\"data/raw_data/\"+f for f in listdir(\"data/raw_data\") if \".csv\" in f]\n",
    "dfs = [pd.read_csv(a) for a in wp_csvs]"
   ]
  },
  {
   "cell_type": "code",
   "execution_count": null,
   "metadata": {
    "hidden": true
   },
   "outputs": [],
   "source": [
    "null_urls = df[df.text.isnull()].url.values\n",
    "print(len(null_urls))"
   ]
  },
  {
   "cell_type": "code",
   "execution_count": null,
   "metadata": {
    "hidden": true
   },
   "outputs": [],
   "source": [
    "# Drop the null values\n",
    "df = pd.concat(dfs)\n",
    "df = df[df.date.notna()]\n",
    "df = df[df.text.notna()]\n",
    "\n",
    "df.reset_index(drop=True, inplace=True)\n",
    "df.drop(columns=\"Unnamed: 0\", inplace=True)\n"
   ]
  },
  {
   "cell_type": "code",
   "execution_count": null,
   "metadata": {
    "hidden": true
   },
   "outputs": [],
   "source": [
    "# Fix the dates\n",
    "df['date2'] = pd.to_datetime(df.date, errors=\"coerce\")\n",
    "a = df[df['date2'].isnull()].date.str.extract(\"(.*)T\", expand=False)\n",
    "df.loc[a.index, \"date2\"] = a.values\n",
    "\n",
    "df[df['date2'].isnull()]\n",
    "\n",
    "df['date'] = pd.to_datetime(df['date2'], utc=True).dt.date\n",
    "df.drop(columns=\"date2\", inplace=True)"
   ]
  },
  {
   "cell_type": "code",
   "execution_count": null,
   "metadata": {
    "hidden": true
   },
   "outputs": [],
   "source": [
    "df.to_csv(\"data/raw_data/washingtonpost.csv\")"
   ]
  },
  {
   "cell_type": "markdown",
   "metadata": {
    "hidden": true
   },
   "source": [
    "## Merging"
   ]
  },
  {
   "cell_type": "code",
   "execution_count": null,
   "metadata": {
    "hidden": true
   },
   "outputs": [],
   "source": [
    "nyt = pd.read_csv(f\"{PATH}/nyt.csv\")\n",
    "nyt[\"source\"] = \"nyt\"\n",
    "fox = pd.read_csv(f\"{PATH}/fox.csv\")\n",
    "fox[\"source\"] = \"fox\"\n",
    "breit = pd.read_csv(f\"{PATH}/breitbart.csv\")\n",
    "breit[\"source\"] = \"breitbart\"\n",
    "cnn = pd.read_csv(f\"{PATH}/cnn.csv\")\n",
    "cnn[\"source\"] = \"cnn\"\n",
    "wp = pd.read_csv(f\"{PATH}/wp.csv\")\n",
    "wp[\"source\"] = \"wp\"\n",
    "dc = pd.read_csv(f\"{PATH}/dailycaller.csv\")\n",
    "dc[\"source\"] = \"daily caller\"\n",
    "\n",
    "nyt.rename(columns={\"body\": \"text\"}, inplace=True)"
   ]
  },
  {
   "cell_type": "code",
   "execution_count": null,
   "metadata": {
    "hidden": true
   },
   "outputs": [],
   "source": [
    "# Fix dailycaller dates\n",
    "# correct_dailycaller_dates = [re.search(r\"\\d\\d\\d\\d/\\d\\d/\\d\\d\", a).group() for a in dc.url.values]\n",
    "# df.loc[df.source==\"daily caller\", 'date'] = correct_dailycaller_dates\n",
    "# df['date'] = pd.to_datetime(df['date'], utc=True).dt.date"
   ]
  },
  {
   "cell_type": "code",
   "execution_count": null,
   "metadata": {
    "hidden": true
   },
   "outputs": [],
   "source": [
    "def clean_fox(text):\n",
    "    res = re.search(r'\\[(.*)\\]', text) # Remove text in square brackets\n",
    "    ea = eval(res.group(1))\n",
    "    st = ' '.join([a for a in ea])\n",
    "    cleaned = re.sub(r'\\b[A-Z]+\\b', '', st) # Remove ALL caps\n",
    "    cleaned = re.sub(\"Fox News Flash top headlines are here. Check out what's clicking on Foxnews.com.\", '', cleaned)\n",
    "    return cleaned"
   ]
  },
  {
   "cell_type": "code",
   "execution_count": null,
   "metadata": {
    "hidden": true
   },
   "outputs": [],
   "source": [
    "fox['text'] = fox['text'].map(lambda x: clean_fox(x))"
   ]
  },
  {
   "cell_type": "code",
   "execution_count": null,
   "metadata": {
    "hidden": true
   },
   "outputs": [],
   "source": [
    "df = pd.concat([nyt, fox, breit, cnn, wp, dc])"
   ]
  },
  {
   "cell_type": "code",
   "execution_count": null,
   "metadata": {
    "hidden": true
   },
   "outputs": [],
   "source": [
    "df.drop(columns=\"Unnamed: 0\", inplace=True)\n",
    "df['date'] = pd.to_datetime(df['date'], utc=True).dt.date\n",
    "df.reset_index(drop=True, inplace=True)\n",
    "\n",
    "len(df)"
   ]
  },
  {
   "cell_type": "code",
   "execution_count": null,
   "metadata": {
    "hidden": true
   },
   "outputs": [],
   "source": [
    "len(df[df['date'].isnull()]), len(df[df['text'].isnull()])"
   ]
  },
  {
   "cell_type": "code",
   "execution_count": null,
   "metadata": {
    "colab": {
     "base_uri": "https://localhost:8080/",
     "height": 51
    },
    "colab_type": "code",
    "hidden": true,
    "id": "-WDTW9IYm1F6",
    "outputId": "39e8dc92-5999-4f1c-a146-22ee20666aa3",
    "scrolled": true
   },
   "outputs": [
    {
     "name": "stdout",
     "output_type": "stream",
     "text": [
      "Num null text items: 9\n"
     ]
    },
    {
     "data": {
      "text/plain": [
       "61661"
      ]
     },
     "execution_count": 810,
     "metadata": {
      "tags": []
     },
     "output_type": "execute_result"
    }
   ],
   "source": [
    "# Null things. not a lot so i'll just drop them\n",
    "print(\"Num null text items:\", len(df[df.text.isnull()]))\n",
    "\n",
    "df = df[df.text.notnull()]\n",
    "len(df)"
   ]
  },
  {
   "cell_type": "code",
   "execution_count": null,
   "metadata": {
    "colab": {
     "base_uri": "https://localhost:8080/",
     "height": 34
    },
    "colab_type": "code",
    "hidden": true,
    "id": "Gwl6XIb8m1GA",
    "outputId": "bf2441a2-67fb-4a81-e4e2-b95f17b38626",
    "scrolled": true
   },
   "outputs": [
    {
     "data": {
      "text/plain": [
       "(0, 0)"
      ]
     },
     "execution_count": 811,
     "metadata": {
      "tags": []
     },
     "output_type": "execute_result"
    }
   ],
   "source": [
    "len(df[df['date'].isnull()]), len(df[df['text'].isnull()])"
   ]
  },
  {
   "cell_type": "code",
   "execution_count": null,
   "metadata": {
    "hidden": true
   },
   "outputs": [],
   "source": [
    "df.sort_values(by=\"date\", inplace=True)\n",
    "\n",
    "# Drop the things before 2020-01-01\n",
    "df = df.loc[df.date > pd.to_datetime(\"2020-01-01\").date()]\n",
    "df.reset_index(inplace=True, drop=True)\n",
    "len(df)"
   ]
  },
  {
   "cell_type": "code",
   "execution_count": null,
   "metadata": {
    "hidden": true
   },
   "outputs": [],
   "source": [
    "df.to_pickle(\"data/us_news_raw.pkl\")"
   ]
  },
  {
   "cell_type": "markdown",
   "metadata": {
    "heading_collapsed": true
   },
   "source": [
    "# Clean, Tokenize, Lemmatize"
   ]
  },
  {
   "cell_type": "code",
   "execution_count": null,
   "metadata": {
    "hidden": true
   },
   "outputs": [],
   "source": [
    "import nltk\n",
    "nltk.download('wordnet')\n",
    "nltk.download('punkt') # tokenizer\n",
    "nltk.download('stopwords')\n",
    "\n",
    "from nltk.stem import WordNetLemmatizer, SnowballStemmer\n",
    "from nltk.corpus import stopwords;\n",
    "from nltk.tokenize import word_tokenize\n",
    "STOPWORDS = stopwords.words(\"english\")\n",
    "\n",
    "# stemmer = SnowballStemmer('english')\n",
    "lemmatizer = WordNetLemmatizer()"
   ]
  },
  {
   "cell_type": "code",
   "execution_count": null,
   "metadata": {
    "hidden": true
   },
   "outputs": [],
   "source": [
    "STOPWORDS.extend([\"said\", \"also\", \"would\", \"like\"] )"
   ]
  },
  {
   "cell_type": "code",
   "execution_count": 4,
   "metadata": {
    "hidden": true
   },
   "outputs": [],
   "source": [
    "df = pd.read_pickle(\"data/us_news_raw.pkl\")"
   ]
  },
  {
   "cell_type": "code",
   "execution_count": 5,
   "metadata": {
    "code_folding": [
     0
    ],
    "hidden": true
   },
   "outputs": [],
   "source": [
    "def clean_text(text):\n",
    "    remove_char = string.punctuation + '…' + '\\xa0' + '·' + '\\n' + \\\n",
    "        '※' + '‘' + '’' + '\\'' + '▲' + '∼' + \"△\" + \"“\" + \"”\" + \"▶\" + \"․\" + \\\n",
    "        \"▸\"\n",
    "    text = re.sub('http[s]?://\\S+', '', text) # Remove http urls\n",
    "    text = re.sub('\\S*@\\S*\\s?', '', text) # Remove emails\n",
    "    text = re.sub(r'\\[.*?\\]', '', text) # Remove text in square brackets\n",
    "    text = re.sub(r'[%s]' % re.escape(remove_char), '', text) # Remove punctuation\n",
    "    text = re.sub(r'\\w*\\d\\w*', '', text) # Remove words containing numbers\n",
    "    text = re.sub('\\'', '', text)\n",
    "    text = re.sub('\\n', ' ', text)\n",
    "    text = re.sub('\\s+', ' ', text)\n",
    "    return text.lower()\n"
   ]
  },
  {
   "cell_type": "code",
   "execution_count": null,
   "metadata": {
    "hidden": true
   },
   "outputs": [],
   "source": [
    "df['clean_text'] = df['text'].map(lambda x: clean_text(x))"
   ]
  },
  {
   "cell_type": "code",
   "execution_count": null,
   "metadata": {
    "hidden": true
   },
   "outputs": [],
   "source": [
    "# Number mentioning \"contact tracing\"\n",
    "contact_tracing = df[df.text.str.contains(\"contact tracing|contact-tracing|contact tracking|contact-tracking\")]\n",
    "len(contact_tracing)"
   ]
  },
  {
   "cell_type": "code",
   "execution_count": 6,
   "metadata": {
    "hidden": true
   },
   "outputs": [],
   "source": [
    "def preprocess(text):\n",
    "    result = []\n",
    "    for token in word_tokenize(text):\n",
    "        if token not in STOPWORDS and len(token) > 3:\n",
    "            result.append(lemmatizer.lemmatize(token))\n",
    "    return result"
   ]
  },
  {
   "cell_type": "code",
   "execution_count": null,
   "metadata": {
    "hidden": true
   },
   "outputs": [],
   "source": [
    "# Tokenize and remove stopwords (this takes a while)\n",
    "df['text_proc_token'] = df['clean_text'].map(preprocess)\n"
   ]
  },
  {
   "cell_type": "code",
   "execution_count": null,
   "metadata": {
    "colab": {
     "base_uri": "https://localhost:8080/",
     "height": 476
    },
    "colab_type": "code",
    "hidden": true,
    "id": "8i0jrkS-AjrN",
    "outputId": "836f3e7f-8710-44d5-fa0e-87781af8d6e4",
    "scrolled": true
   },
   "outputs": [
    {
     "data": {
      "text/html": [
       "<div>\n",
       "<style scoped>\n",
       "    .dataframe tbody tr th:only-of-type {\n",
       "        vertical-align: middle;\n",
       "    }\n",
       "\n",
       "    .dataframe tbody tr th {\n",
       "        vertical-align: top;\n",
       "    }\n",
       "\n",
       "    .dataframe thead th {\n",
       "        text-align: right;\n",
       "    }\n",
       "</style>\n",
       "<table border=\"1\" class=\"dataframe\">\n",
       "  <thead>\n",
       "    <tr style=\"text-align: right;\">\n",
       "      <th></th>\n",
       "      <th>title</th>\n",
       "      <th>date</th>\n",
       "      <th>url</th>\n",
       "      <th>keyword</th>\n",
       "      <th>text</th>\n",
       "      <th>source</th>\n",
       "      <th>clean_text</th>\n",
       "      <th>text_proc_token</th>\n",
       "      <th>text_proc</th>\n",
       "    </tr>\n",
       "  </thead>\n",
       "  <tbody>\n",
       "    <tr>\n",
       "      <th>0</th>\n",
       "      <td>Official Says 121 Countries Have Asked South K...</td>\n",
       "      <td>2020-01-04</td>\n",
       "      <td>https://dailycaller.com/2020/04/01/countries-a...</td>\n",
       "      <td>NaN</td>\n",
       "      <td>121 countries have asked South Korea for novel...</td>\n",
       "      <td>daily caller</td>\n",
       "      <td>countries have asked south korea for novel co...</td>\n",
       "      <td>[country, asked, south, korea, novel, coronavi...</td>\n",
       "      <td>country asked south korea novel coronavirus te...</td>\n",
       "    </tr>\n",
       "    <tr>\n",
       "      <th>1</th>\n",
       "      <td>How China’s Mystery Pneumonia Illness is Diffe...</td>\n",
       "      <td>2020-01-07</td>\n",
       "      <td>https://www.washingtonpost.com/business/how-ch...</td>\n",
       "      <td>coronavirus</td>\n",
       "      <td>An outbreak of pneumonia in central China is c...</td>\n",
       "      <td>wp</td>\n",
       "      <td>an outbreak of pneumonia in central china is c...</td>\n",
       "      <td>[outbreak, pneumonia, central, china, causing,...</td>\n",
       "      <td>outbreak pneumonia central china causing alarm...</td>\n",
       "    </tr>\n",
       "    <tr>\n",
       "      <th>2</th>\n",
       "      <td>Upgrade your home workout with this top-rated ...</td>\n",
       "      <td>2020-01-08</td>\n",
       "      <td>https://www.cnn.com/2020/01/08/cnn-underscored...</td>\n",
       "      <td>coronavirus</td>\n",
       "      <td>While the past few weeks have seen us all star...</td>\n",
       "      <td>cnn</td>\n",
       "      <td>while the past few weeks have seen us all star...</td>\n",
       "      <td>[past, week, seen, start, continuously, saniti...</td>\n",
       "      <td>past week seen start continuously sanitize eve...</td>\n",
       "    </tr>\n",
       "    <tr>\n",
       "      <th>3</th>\n",
       "      <td>Specter of possible new virus emerging from ce...</td>\n",
       "      <td>2020-01-08</td>\n",
       "      <td>https://www.washingtonpost.com/world/asia_paci...</td>\n",
       "      <td>coronavirus</td>\n",
       "      <td>BEIJING — An outbreak of an unidentified and p...</td>\n",
       "      <td>wp</td>\n",
       "      <td>beijing — an outbreak of an unidentified and p...</td>\n",
       "      <td>[beijing, outbreak, unidentified, possibly, vi...</td>\n",
       "      <td>beijing outbreak unidentified possibly viral d...</td>\n",
       "    </tr>\n",
       "    <tr>\n",
       "      <th>4</th>\n",
       "      <td>How China’s Mystery Pneumonia Illness is Diffe...</td>\n",
       "      <td>2020-01-09</td>\n",
       "      <td>https://www.washingtonpost.com/business/how-ch...</td>\n",
       "      <td>coronavirus</td>\n",
       "      <td>A mysterious outbreak of pneumonia in central ...</td>\n",
       "      <td>wp</td>\n",
       "      <td>a mysterious outbreak of pneumonia in central ...</td>\n",
       "      <td>[mysterious, outbreak, pneumonia, central, chi...</td>\n",
       "      <td>mysterious outbreak pneumonia central china ca...</td>\n",
       "    </tr>\n",
       "  </tbody>\n",
       "</table>\n",
       "</div>"
      ],
      "text/plain": [
       "                                               title        date  \\\n",
       "0  Official Says 121 Countries Have Asked South K...  2020-01-04   \n",
       "1  How China’s Mystery Pneumonia Illness is Diffe...  2020-01-07   \n",
       "2  Upgrade your home workout with this top-rated ...  2020-01-08   \n",
       "3  Specter of possible new virus emerging from ce...  2020-01-08   \n",
       "4  How China’s Mystery Pneumonia Illness is Diffe...  2020-01-09   \n",
       "\n",
       "                                                 url      keyword  \\\n",
       "0  https://dailycaller.com/2020/04/01/countries-a...          NaN   \n",
       "1  https://www.washingtonpost.com/business/how-ch...  coronavirus   \n",
       "2  https://www.cnn.com/2020/01/08/cnn-underscored...  coronavirus   \n",
       "3  https://www.washingtonpost.com/world/asia_paci...  coronavirus   \n",
       "4  https://www.washingtonpost.com/business/how-ch...  coronavirus   \n",
       "\n",
       "                                                text        source  \\\n",
       "0  121 countries have asked South Korea for novel...  daily caller   \n",
       "1  An outbreak of pneumonia in central China is c...            wp   \n",
       "2  While the past few weeks have seen us all star...           cnn   \n",
       "3  BEIJING — An outbreak of an unidentified and p...            wp   \n",
       "4  A mysterious outbreak of pneumonia in central ...            wp   \n",
       "\n",
       "                                          clean_text  \\\n",
       "0   countries have asked south korea for novel co...   \n",
       "1  an outbreak of pneumonia in central china is c...   \n",
       "2  while the past few weeks have seen us all star...   \n",
       "3  beijing — an outbreak of an unidentified and p...   \n",
       "4  a mysterious outbreak of pneumonia in central ...   \n",
       "\n",
       "                                     text_proc_token  \\\n",
       "0  [country, asked, south, korea, novel, coronavi...   \n",
       "1  [outbreak, pneumonia, central, china, causing,...   \n",
       "2  [past, week, seen, start, continuously, saniti...   \n",
       "3  [beijing, outbreak, unidentified, possibly, vi...   \n",
       "4  [mysterious, outbreak, pneumonia, central, chi...   \n",
       "\n",
       "                                           text_proc  \n",
       "0  country asked south korea novel coronavirus te...  \n",
       "1  outbreak pneumonia central china causing alarm...  \n",
       "2  past week seen start continuously sanitize eve...  \n",
       "3  beijing outbreak unidentified possibly viral d...  \n",
       "4  mysterious outbreak pneumonia central china ca...  "
      ]
     },
     "execution_count": 827,
     "metadata": {
      "tags": []
     },
     "output_type": "execute_result"
    }
   ],
   "source": [
    "df['text_proc'] = df['text_proc_token'].apply(lambda a: ' '.join(a))\n",
    "\n",
    "df.head()"
   ]
  },
  {
   "cell_type": "code",
   "execution_count": null,
   "metadata": {
    "hidden": true
   },
   "outputs": [],
   "source": [
    "# More cleaning\n",
    "df.text_proc = df.text_proc.str.replace(\"contact tracking\", \"contact tracing\")\n",
    "df.text_proc = df.text_proc.str.replace(\"contacttracking\", \"contact tracing\")\n",
    "df.text_proc = df.text_proc.str.replace(\"contact tracked\", \"contact tracing\")\n",
    "df.text_proc = df.text_proc.str.replace(\"contact track\", \"contact tracing\")\n",
    "df.text_proc = df.text_proc.str.replace(\"contact tracer\", \"contact tracing\")\n",
    "df.text_proc = df.text_proc.str.replace(\"contact trace\", \"contact tracing\")\n",
    "df.text_proc = df.text_proc.str.replace(\"contacttracer\", \"contact tracing\")\n",
    "df.text_proc = df.text_proc.str.replace(\"contacttracing\", \"contact tracing\")\n",
    "df.text_proc = df.text_proc.str.replace(\"contacttrace\", \"contact tracing\")\n"
   ]
  },
  {
   "cell_type": "code",
   "execution_count": null,
   "metadata": {
    "hidden": true
   },
   "outputs": [],
   "source": [
    "### TO DO : fix daily caller dates :0 \n",
    "dailycaller = pd.read_csv(f\"{PATH}/old/dailycaller.csv\")\n",
    "correct_dailycaller_dates = [re.search(r\"\\d\\d\\d\\d/\\d\\d/\\d\\d\", a).group() for a in dailycaller.url.values]\n",
    "df.loc[df.source==\"daily caller\", 'date'] =  pd.to_datetime(correct_dailycaller_dates, utc=True).date\n"
   ]
  },
  {
   "cell_type": "code",
   "execution_count": null,
   "metadata": {
    "colab": {},
    "colab_type": "code",
    "hidden": true,
    "id": "0SqXl9yMdkO1",
    "outputId": "b58d8be5-85ea-4098-a8bc-dd996ccec0d2",
    "scrolled": true
   },
   "outputs": [
    {
     "data": {
      "text/plain": [
       "51541"
      ]
     },
     "execution_count": 51,
     "metadata": {
      "tags": []
     },
     "output_type": "execute_result"
    }
   ],
   "source": [
    "df = df.drop_duplicates('text_proc')\n",
    "df.reset_index(drop=True, inplace=True)\n",
    "len(df)"
   ]
  },
  {
   "cell_type": "code",
   "execution_count": null,
   "metadata": {
    "hidden": true
   },
   "outputs": [],
   "source": [
    "df.to_pickle(\"data/us_proc.pkl\")"
   ]
  },
  {
   "cell_type": "markdown",
   "metadata": {},
   "source": [
    "# Topic Modeling"
   ]
  },
  {
   "cell_type": "code",
   "execution_count": null,
   "metadata": {},
   "outputs": [],
   "source": [
    "from sklearn.feature_extraction.text import TfidfTransformer, TfidfVectorizer\n",
    "from sklearn.decomposition import LatentDirichletAllocation\n",
    "from sklearn.decomposition import NMF;\n",
    "from sklearn.preprocessing import normalize;"
   ]
  },
  {
   "cell_type": "code",
   "execution_count": 10,
   "metadata": {},
   "outputs": [],
   "source": [
    "df = pd.read_pickle(\"data/us_proc.pkl\")"
   ]
  },
  {
   "cell_type": "markdown",
   "metadata": {
    "heading_collapsed": true
   },
   "source": [
    "## Helper Functions"
   ]
  },
  {
   "cell_type": "code",
   "execution_count": null,
   "metadata": {
    "hidden": true
   },
   "outputs": [],
   "source": [
    "def show_topics(a, vocab, num_top_words):\n",
    "    top_words = lambda t: [vocab[i] for i in np.argsort(t)[:-num_top_words-1:-1]]\n",
    "    topic_words = ([top_words(t) for t in a])\n",
    "    return [' '.join(t) for t in topic_words]"
   ]
  },
  {
   "cell_type": "code",
   "execution_count": null,
   "metadata": {
    "hidden": true
   },
   "outputs": [],
   "source": [
    "# https://medium.com/@yanlinc/how-to-build-a-lda-topic-model-using-from-text-601cdcbfd3a6\n",
    "def document_topic_matrix(model, data, n_components):\n",
    "    # column names\n",
    "    topicnames = [\"Topic\" + str(i) for i in range(n_components)]\n",
    "    # index names\n",
    "    docnames = [\"Doc\" + str(i) for i in range(len(data))]\n",
    "    # Make the pandas dataframe\n",
    "    df_document_topic = pd.DataFrame(np.round(model, 2), columns=topicnames, index=docnames)\n",
    "    # Get dominant topic for each document\n",
    "    dominant_topic = np.argmax(df_document_topic.values, axis=1)\n",
    "    df_document_topic[\"dominant_topic\"] = dominant_topic\n",
    "    return df_document_topic"
   ]
  },
  {
   "cell_type": "code",
   "execution_count": null,
   "metadata": {
    "hidden": true
   },
   "outputs": [],
   "source": [
    "def topic_keyword_matrix(model, vectorizer):\n",
    "    # Topic-Keyword Matrix\n",
    "    df_topic_keywords = pd.DataFrame(model.components_)\n",
    "    # Assign Column and Index\n",
    "    df_topic_keywords.columns = vectorizer.get_feature_names()\n",
    "    topicnames = [\"Topic\" + str(i) for i in range(n_components)]\n",
    "\n",
    "    df_topic_keywords.index = topicnames\n",
    "    # View\n",
    "    df_topic_keywords.head()\n",
    "    return df_topic_keywords"
   ]
  },
  {
   "cell_type": "code",
   "execution_count": null,
   "metadata": {
    "hidden": true
   },
   "outputs": [],
   "source": [
    "def topic_keyword_matrix(model, vectorizer):\n",
    "    # Topic-Keyword Matrix\n",
    "    df_topic_keywords = pd.DataFrame(model.components_)\n",
    "    # Assign Column and Index\n",
    "    df_topic_keywords.columns = vectorizer.get_feature_names()\n",
    "    topicnames = [\"Topic\" + str(i) for i in range(n_components)]\n",
    "\n",
    "    df_topic_keywords.index = topicnames\n",
    "    # View\n",
    "    df_topic_keywords.head()\n",
    "    return df_topic_keywords"
   ]
  },
  {
   "cell_type": "code",
   "execution_count": null,
   "metadata": {
    "hidden": true
   },
   "outputs": [],
   "source": [
    "def top_tfidf_feats(row, features, top_n=25):\n",
    "    topn_ids = np.argsort(row)[::-1][:top_n]\n",
    "    top_feats = [(features[i], row[i]) for i in topn_ids]\n",
    "    df = pd.DataFrame(top_feats)\n",
    "    df.columns = ['feature', 'tfidf']\n",
    "    return df"
   ]
  },
  {
   "cell_type": "code",
   "execution_count": null,
   "metadata": {
    "hidden": true
   },
   "outputs": [],
   "source": [
    "def top_feats_in_doc(Xtr, features, row_id, top_n=25):\n",
    "    row = vectors[row_id].T.todense()\n",
    "    return top_tfidf_feats(row, features, top_n)"
   ]
  },
  {
   "cell_type": "markdown",
   "metadata": {
    "heading_collapsed": true
   },
   "source": [
    "## Run LDA"
   ]
  },
  {
   "cell_type": "code",
   "execution_count": null,
   "metadata": {
    "hidden": true
   },
   "outputs": [],
   "source": [
    "contact_tracing = df[df.text_proc.str.contains(\"contact tracing\")]"
   ]
  },
  {
   "cell_type": "code",
   "execution_count": null,
   "metadata": {
    "hidden": true
   },
   "outputs": [],
   "source": [
    "num_articles = len(df)\n",
    "# num_articles = 10000 # This is for a small subset for playing around\n",
    "\n",
    "documents = [''.join(a) for a in df[0:num_articles].text_proc] \n",
    "sources = df[0:num_articles].source\n",
    "\n",
    "n_components = 500"
   ]
  },
  {
   "cell_type": "code",
   "execution_count": null,
   "metadata": {
    "hidden": true
   },
   "outputs": [],
   "source": [
    "nmf = NMF(n_components=n_components, random_state=1, init='nndsvd')\n",
    "tfidf_vectorizer = TfidfVectorizer(min_df=1, max_df = 0.8, ngram_range = (2,2), lowercase=False, max_features=5000)\n",
    "tfidf_vectors = tfidf_vectorizer.fit_transform(documents)"
   ]
  },
  {
   "cell_type": "code",
   "execution_count": null,
   "metadata": {
    "hidden": true
   },
   "outputs": [],
   "source": [
    "# CHECK: Make sure that contact tracing exists in the vectorizer's feature names\n",
    "\"contact tracing\" in tfidf_vectorizer.get_feature_names() "
   ]
  },
  {
   "cell_type": "code",
   "execution_count": null,
   "metadata": {
    "colab": {},
    "colab_type": "code",
    "hidden": true,
    "id": "UkvClreFdkRi",
    "outputId": "d76cd0be-cb82-4244-8063-d7419fde829c",
    "scrolled": true
   },
   "outputs": [
    {
     "name": "stdout",
     "output_type": "stream",
     "text": [
      "CPU times: user 1h 18min 18s, sys: 1min 8s, total: 1h 19min 26s\n",
      "Wall time: 1h 23min 34s\n"
     ]
    }
   ],
   "source": [
    "%time nmf_tfidf_vec = nmf.fit_transform(tfidf_vectors)"
   ]
  },
  {
   "cell_type": "code",
   "execution_count": null,
   "metadata": {
    "hidden": true
   },
   "outputs": [],
   "source": [
    "vocab = np.array(tfidf_vectorizer.get_feature_names())\n",
    "num_top_words = 50\n",
    "nmf_topics = show_topics(nmf.components_, vocab, num_top_words)"
   ]
  },
  {
   "cell_type": "code",
   "execution_count": null,
   "metadata": {
    "hidden": true
   },
   "outputs": [],
   "source": [
    "# TO SAVE\n",
    "# with open(f'{PATH}/models/nmf_vectorizer_bigrams.pk', 'wb') as fin:\n",
    "#     pickle.dump(tfidf_vectorizer, fin)\n",
    "# with open(f'{PATH}/models/nmf_vectors_bigrams.pk', 'wb') as fin:\n",
    "#     pickle.dump(tfidf_vectors, fin)\n",
    "# with open(f'{PATH}/models/nmf_tfidf_vec_bigrams.pk', 'wb') as fin:\n",
    "#     pickle.dump(nmf_tfidf_vec, fin)\n",
    "\n",
    "# with open('{PATH}/models/nmf_topics.txt', \"w\") as fin: \n",
    "#     fin.write(nmf_topics) "
   ]
  },
  {
   "cell_type": "markdown",
   "metadata": {},
   "source": [
    "# Node List"
   ]
  },
  {
   "cell_type": "code",
   "execution_count": 4,
   "metadata": {
    "colab": {},
    "colab_type": "code",
    "id": "n-Mo11WpdkRw"
   },
   "outputs": [
    {
     "name": "stderr",
     "output_type": "stream",
     "text": [
      "/usr/local/lib/python3.8/site-packages/sklearn/base.py:329: UserWarning: Trying to unpickle estimator TfidfTransformer from version 0.22.2.post1 when using version 0.23.2. This might lead to breaking code or invalid results. Use at your own risk.\n",
      "  warnings.warn(\n",
      "/usr/local/lib/python3.8/site-packages/sklearn/base.py:329: UserWarning: Trying to unpickle estimator TfidfVectorizer from version 0.22.2.post1 when using version 0.23.2. This might lead to breaking code or invalid results. Use at your own risk.\n",
      "  warnings.warn(\n"
     ]
    }
   ],
   "source": [
    "# TO LOAD\n",
    "with open(f'models/nmf_vectorizer_bigrams.pk', 'rb') as file:\n",
    "    vectorizer = pickle.load(file)\n",
    "with open(f'models/nmf_vectors_bigrams.pk', 'rb') as file:\n",
    "    vectors = pickle.load(file)\n",
    "with open(f'models/nmf_tfidf_vec_bigrams.pk', 'rb') as file:\n",
    "    vec = pickle.load(file)"
   ]
  },
  {
   "cell_type": "code",
   "execution_count": 7,
   "metadata": {
    "colab": {},
    "colab_type": "code",
    "id": "JkPF2xiddkRz"
   },
   "outputs": [],
   "source": [
    "topics = pd.read_csv('models/nmf_topics.txt', sep=\",\", header=None)[0]"
   ]
  },
  {
   "cell_type": "code",
   "execution_count": 11,
   "metadata": {},
   "outputs": [],
   "source": [
    "num_articles = len(df)\n",
    "documents = [''.join(a) for a in df[0:num_articles].text_proc] \n",
    "sources = df[0:num_articles].source\n",
    "n_components = 500"
   ]
  },
  {
   "cell_type": "code",
   "execution_count": 12,
   "metadata": {
    "colab": {},
    "colab_type": "code",
    "id": "XWIOw7ZBdkSG",
    "outputId": "2958479d-6f36-484e-9b4e-4dafd685f094"
   },
   "outputs": [
    {
     "name": "stderr",
     "output_type": "stream",
     "text": [
      "/usr/local/lib/python3.8/site-packages/numpy/core/fromnumeric.py:3372: RuntimeWarning: Mean of empty slice.\n",
      "  return _methods._mean(a, axis=axis, dtype=dtype,\n",
      "/usr/local/lib/python3.8/site-packages/numpy/core/_methods.py:170: RuntimeWarning: invalid value encountered in double_scalars\n",
      "  ret = ret.dtype.type(ret / rcount)\n"
     ]
    }
   ],
   "source": [
    "# Build the document-topic matrix\n",
    "# https://medium.com/@yanlinc/how-to-build-a-lda-topic-model-using-from-text-601cdcbfd3a6\n",
    "\n",
    "topicnames = [\"Topic\" + str(i) for i in range(n_components)]\n",
    "docnames = [\"Doc\" + str(i) for i in range(len(documents))] # Index names\n",
    "doc_top_matrix = pd.DataFrame(np.round(vec, 3), columns=topicnames, index=docnames)\n",
    "mean = doc_top_matrix.apply(lambda row: np.mean(row.values[np.nonzero(row.values)]),axis=1)\n",
    "median = doc_top_matrix.apply(lambda row: np.median(row.values[np.nonzero(row.values)]),axis=1)\n",
    "doc_top_matrix[\"mean\"] = mean\n",
    "doc_top_matrix[\"median\"] = median"
   ]
  },
  {
   "cell_type": "code",
   "execution_count": null,
   "metadata": {
    "colab": {},
    "colab_type": "code",
    "id": "4K3LwXMTdkSJ",
    "outputId": "d154c60a-2156-48ba-944a-41b64d17b167"
   },
   "outputs": [
    {
     "data": {
      "text/html": [
       "<div>\n",
       "<style scoped>\n",
       "    .dataframe tbody tr th:only-of-type {\n",
       "        vertical-align: middle;\n",
       "    }\n",
       "\n",
       "    .dataframe tbody tr th {\n",
       "        vertical-align: top;\n",
       "    }\n",
       "\n",
       "    .dataframe thead th {\n",
       "        text-align: right;\n",
       "    }\n",
       "</style>\n",
       "<table border=\"1\" class=\"dataframe\">\n",
       "  <thead>\n",
       "    <tr style=\"text-align: right;\">\n",
       "      <th></th>\n",
       "      <th>Topic0</th>\n",
       "      <th>Topic1</th>\n",
       "      <th>Topic2</th>\n",
       "      <th>Topic3</th>\n",
       "      <th>Topic4</th>\n",
       "      <th>Topic5</th>\n",
       "      <th>Topic6</th>\n",
       "      <th>Topic7</th>\n",
       "      <th>Topic8</th>\n",
       "      <th>Topic9</th>\n",
       "      <th>...</th>\n",
       "      <th>Topic492</th>\n",
       "      <th>Topic493</th>\n",
       "      <th>Topic494</th>\n",
       "      <th>Topic495</th>\n",
       "      <th>Topic496</th>\n",
       "      <th>Topic497</th>\n",
       "      <th>Topic498</th>\n",
       "      <th>Topic499</th>\n",
       "      <th>mean</th>\n",
       "      <th>median</th>\n",
       "    </tr>\n",
       "  </thead>\n",
       "  <tbody>\n",
       "    <tr>\n",
       "      <th>Doc0</th>\n",
       "      <td>0.000</td>\n",
       "      <td>0.000</td>\n",
       "      <td>0.0</td>\n",
       "      <td>0.000</td>\n",
       "      <td>0.000</td>\n",
       "      <td>0.0</td>\n",
       "      <td>0.0</td>\n",
       "      <td>0.0</td>\n",
       "      <td>0.0</td>\n",
       "      <td>0.0</td>\n",
       "      <td>...</td>\n",
       "      <td>0.000</td>\n",
       "      <td>0.000</td>\n",
       "      <td>0.0</td>\n",
       "      <td>0.0</td>\n",
       "      <td>0.000</td>\n",
       "      <td>0.002</td>\n",
       "      <td>0.0</td>\n",
       "      <td>0.000</td>\n",
       "      <td>0.010158</td>\n",
       "      <td>0.0030</td>\n",
       "    </tr>\n",
       "    <tr>\n",
       "      <th>Doc1</th>\n",
       "      <td>0.000</td>\n",
       "      <td>0.023</td>\n",
       "      <td>0.0</td>\n",
       "      <td>0.000</td>\n",
       "      <td>0.000</td>\n",
       "      <td>0.0</td>\n",
       "      <td>0.0</td>\n",
       "      <td>0.0</td>\n",
       "      <td>0.0</td>\n",
       "      <td>0.0</td>\n",
       "      <td>...</td>\n",
       "      <td>0.017</td>\n",
       "      <td>0.000</td>\n",
       "      <td>0.0</td>\n",
       "      <td>0.0</td>\n",
       "      <td>0.000</td>\n",
       "      <td>0.008</td>\n",
       "      <td>0.0</td>\n",
       "      <td>0.000</td>\n",
       "      <td>0.011600</td>\n",
       "      <td>0.0035</td>\n",
       "    </tr>\n",
       "    <tr>\n",
       "      <th>Doc2</th>\n",
       "      <td>0.002</td>\n",
       "      <td>0.000</td>\n",
       "      <td>0.0</td>\n",
       "      <td>0.000</td>\n",
       "      <td>0.000</td>\n",
       "      <td>0.0</td>\n",
       "      <td>0.0</td>\n",
       "      <td>0.0</td>\n",
       "      <td>0.0</td>\n",
       "      <td>0.0</td>\n",
       "      <td>...</td>\n",
       "      <td>0.000</td>\n",
       "      <td>0.000</td>\n",
       "      <td>0.0</td>\n",
       "      <td>0.0</td>\n",
       "      <td>0.000</td>\n",
       "      <td>0.000</td>\n",
       "      <td>0.0</td>\n",
       "      <td>0.000</td>\n",
       "      <td>0.010320</td>\n",
       "      <td>0.0020</td>\n",
       "    </tr>\n",
       "    <tr>\n",
       "      <th>Doc3</th>\n",
       "      <td>0.000</td>\n",
       "      <td>0.013</td>\n",
       "      <td>0.0</td>\n",
       "      <td>0.000</td>\n",
       "      <td>0.000</td>\n",
       "      <td>0.0</td>\n",
       "      <td>0.0</td>\n",
       "      <td>0.0</td>\n",
       "      <td>0.0</td>\n",
       "      <td>0.0</td>\n",
       "      <td>...</td>\n",
       "      <td>0.000</td>\n",
       "      <td>0.000</td>\n",
       "      <td>0.0</td>\n",
       "      <td>0.0</td>\n",
       "      <td>0.001</td>\n",
       "      <td>0.001</td>\n",
       "      <td>0.0</td>\n",
       "      <td>0.000</td>\n",
       "      <td>0.006805</td>\n",
       "      <td>0.0020</td>\n",
       "    </tr>\n",
       "    <tr>\n",
       "      <th>Doc4</th>\n",
       "      <td>0.000</td>\n",
       "      <td>0.022</td>\n",
       "      <td>0.0</td>\n",
       "      <td>0.000</td>\n",
       "      <td>0.000</td>\n",
       "      <td>0.0</td>\n",
       "      <td>0.0</td>\n",
       "      <td>0.0</td>\n",
       "      <td>0.0</td>\n",
       "      <td>0.0</td>\n",
       "      <td>...</td>\n",
       "      <td>0.015</td>\n",
       "      <td>0.000</td>\n",
       "      <td>0.0</td>\n",
       "      <td>0.0</td>\n",
       "      <td>0.000</td>\n",
       "      <td>0.007</td>\n",
       "      <td>0.0</td>\n",
       "      <td>0.000</td>\n",
       "      <td>0.010773</td>\n",
       "      <td>0.0055</td>\n",
       "    </tr>\n",
       "    <tr>\n",
       "      <th>...</th>\n",
       "      <td>...</td>\n",
       "      <td>...</td>\n",
       "      <td>...</td>\n",
       "      <td>...</td>\n",
       "      <td>...</td>\n",
       "      <td>...</td>\n",
       "      <td>...</td>\n",
       "      <td>...</td>\n",
       "      <td>...</td>\n",
       "      <td>...</td>\n",
       "      <td>...</td>\n",
       "      <td>...</td>\n",
       "      <td>...</td>\n",
       "      <td>...</td>\n",
       "      <td>...</td>\n",
       "      <td>...</td>\n",
       "      <td>...</td>\n",
       "      <td>...</td>\n",
       "      <td>...</td>\n",
       "      <td>...</td>\n",
       "      <td>...</td>\n",
       "    </tr>\n",
       "    <tr>\n",
       "      <th>Doc51536</th>\n",
       "      <td>0.000</td>\n",
       "      <td>0.000</td>\n",
       "      <td>0.0</td>\n",
       "      <td>0.000</td>\n",
       "      <td>0.000</td>\n",
       "      <td>0.0</td>\n",
       "      <td>0.0</td>\n",
       "      <td>0.0</td>\n",
       "      <td>0.0</td>\n",
       "      <td>0.0</td>\n",
       "      <td>...</td>\n",
       "      <td>0.000</td>\n",
       "      <td>0.000</td>\n",
       "      <td>0.0</td>\n",
       "      <td>0.0</td>\n",
       "      <td>0.000</td>\n",
       "      <td>0.000</td>\n",
       "      <td>0.0</td>\n",
       "      <td>0.001</td>\n",
       "      <td>0.002727</td>\n",
       "      <td>0.0010</td>\n",
       "    </tr>\n",
       "    <tr>\n",
       "      <th>Doc51537</th>\n",
       "      <td>0.000</td>\n",
       "      <td>0.000</td>\n",
       "      <td>0.0</td>\n",
       "      <td>0.000</td>\n",
       "      <td>0.000</td>\n",
       "      <td>0.0</td>\n",
       "      <td>0.0</td>\n",
       "      <td>0.0</td>\n",
       "      <td>0.0</td>\n",
       "      <td>0.0</td>\n",
       "      <td>...</td>\n",
       "      <td>0.000</td>\n",
       "      <td>0.000</td>\n",
       "      <td>0.0</td>\n",
       "      <td>0.0</td>\n",
       "      <td>0.000</td>\n",
       "      <td>0.001</td>\n",
       "      <td>0.0</td>\n",
       "      <td>0.000</td>\n",
       "      <td>0.014905</td>\n",
       "      <td>0.0020</td>\n",
       "    </tr>\n",
       "    <tr>\n",
       "      <th>Doc51538</th>\n",
       "      <td>0.000</td>\n",
       "      <td>0.000</td>\n",
       "      <td>0.0</td>\n",
       "      <td>0.000</td>\n",
       "      <td>0.000</td>\n",
       "      <td>0.0</td>\n",
       "      <td>0.0</td>\n",
       "      <td>0.0</td>\n",
       "      <td>0.0</td>\n",
       "      <td>0.0</td>\n",
       "      <td>...</td>\n",
       "      <td>0.000</td>\n",
       "      <td>0.000</td>\n",
       "      <td>0.0</td>\n",
       "      <td>0.0</td>\n",
       "      <td>0.000</td>\n",
       "      <td>0.000</td>\n",
       "      <td>0.0</td>\n",
       "      <td>0.000</td>\n",
       "      <td>0.011750</td>\n",
       "      <td>0.0060</td>\n",
       "    </tr>\n",
       "    <tr>\n",
       "      <th>Doc51539</th>\n",
       "      <td>0.000</td>\n",
       "      <td>0.000</td>\n",
       "      <td>0.0</td>\n",
       "      <td>0.194</td>\n",
       "      <td>0.001</td>\n",
       "      <td>0.0</td>\n",
       "      <td>0.0</td>\n",
       "      <td>0.0</td>\n",
       "      <td>0.0</td>\n",
       "      <td>0.0</td>\n",
       "      <td>...</td>\n",
       "      <td>0.013</td>\n",
       "      <td>0.001</td>\n",
       "      <td>0.0</td>\n",
       "      <td>0.0</td>\n",
       "      <td>0.000</td>\n",
       "      <td>0.000</td>\n",
       "      <td>0.0</td>\n",
       "      <td>0.000</td>\n",
       "      <td>0.014783</td>\n",
       "      <td>0.0020</td>\n",
       "    </tr>\n",
       "    <tr>\n",
       "      <th>Doc51540</th>\n",
       "      <td>0.000</td>\n",
       "      <td>0.000</td>\n",
       "      <td>0.0</td>\n",
       "      <td>0.000</td>\n",
       "      <td>0.001</td>\n",
       "      <td>0.0</td>\n",
       "      <td>0.0</td>\n",
       "      <td>0.0</td>\n",
       "      <td>0.0</td>\n",
       "      <td>0.0</td>\n",
       "      <td>...</td>\n",
       "      <td>0.000</td>\n",
       "      <td>0.000</td>\n",
       "      <td>0.0</td>\n",
       "      <td>0.0</td>\n",
       "      <td>0.000</td>\n",
       "      <td>0.000</td>\n",
       "      <td>0.0</td>\n",
       "      <td>0.000</td>\n",
       "      <td>0.013240</td>\n",
       "      <td>0.0010</td>\n",
       "    </tr>\n",
       "  </tbody>\n",
       "</table>\n",
       "<p>51541 rows × 502 columns</p>\n",
       "</div>"
      ],
      "text/plain": [
       "          Topic0  Topic1  Topic2  Topic3  Topic4  Topic5  Topic6  Topic7  \\\n",
       "Doc0       0.000   0.000     0.0   0.000   0.000     0.0     0.0     0.0   \n",
       "Doc1       0.000   0.023     0.0   0.000   0.000     0.0     0.0     0.0   \n",
       "Doc2       0.002   0.000     0.0   0.000   0.000     0.0     0.0     0.0   \n",
       "Doc3       0.000   0.013     0.0   0.000   0.000     0.0     0.0     0.0   \n",
       "Doc4       0.000   0.022     0.0   0.000   0.000     0.0     0.0     0.0   \n",
       "...          ...     ...     ...     ...     ...     ...     ...     ...   \n",
       "Doc51536   0.000   0.000     0.0   0.000   0.000     0.0     0.0     0.0   \n",
       "Doc51537   0.000   0.000     0.0   0.000   0.000     0.0     0.0     0.0   \n",
       "Doc51538   0.000   0.000     0.0   0.000   0.000     0.0     0.0     0.0   \n",
       "Doc51539   0.000   0.000     0.0   0.194   0.001     0.0     0.0     0.0   \n",
       "Doc51540   0.000   0.000     0.0   0.000   0.001     0.0     0.0     0.0   \n",
       "\n",
       "          Topic8  Topic9  ...  Topic492  Topic493  Topic494  Topic495  \\\n",
       "Doc0         0.0     0.0  ...     0.000     0.000       0.0       0.0   \n",
       "Doc1         0.0     0.0  ...     0.017     0.000       0.0       0.0   \n",
       "Doc2         0.0     0.0  ...     0.000     0.000       0.0       0.0   \n",
       "Doc3         0.0     0.0  ...     0.000     0.000       0.0       0.0   \n",
       "Doc4         0.0     0.0  ...     0.015     0.000       0.0       0.0   \n",
       "...          ...     ...  ...       ...       ...       ...       ...   \n",
       "Doc51536     0.0     0.0  ...     0.000     0.000       0.0       0.0   \n",
       "Doc51537     0.0     0.0  ...     0.000     0.000       0.0       0.0   \n",
       "Doc51538     0.0     0.0  ...     0.000     0.000       0.0       0.0   \n",
       "Doc51539     0.0     0.0  ...     0.013     0.001       0.0       0.0   \n",
       "Doc51540     0.0     0.0  ...     0.000     0.000       0.0       0.0   \n",
       "\n",
       "          Topic496  Topic497  Topic498  Topic499      mean  median  \n",
       "Doc0         0.000     0.002       0.0     0.000  0.010158  0.0030  \n",
       "Doc1         0.000     0.008       0.0     0.000  0.011600  0.0035  \n",
       "Doc2         0.000     0.000       0.0     0.000  0.010320  0.0020  \n",
       "Doc3         0.001     0.001       0.0     0.000  0.006805  0.0020  \n",
       "Doc4         0.000     0.007       0.0     0.000  0.010773  0.0055  \n",
       "...            ...       ...       ...       ...       ...     ...  \n",
       "Doc51536     0.000     0.000       0.0     0.001  0.002727  0.0010  \n",
       "Doc51537     0.000     0.001       0.0     0.000  0.014905  0.0020  \n",
       "Doc51538     0.000     0.000       0.0     0.000  0.011750  0.0060  \n",
       "Doc51539     0.000     0.000       0.0     0.000  0.014783  0.0020  \n",
       "Doc51540     0.000     0.000       0.0     0.000  0.013240  0.0010  \n",
       "\n",
       "[51541 rows x 502 columns]"
      ]
     },
     "execution_count": 93,
     "metadata": {
      "tags": []
     },
     "output_type": "execute_result"
    }
   ],
   "source": [
    "doc_top_matrix"
   ]
  },
  {
   "cell_type": "markdown",
   "metadata": {
    "colab_type": "text",
    "id": "oWnHd0XqdkSM"
   },
   "source": [
    "Plot the distribution of one document"
   ]
  },
  {
   "cell_type": "code",
   "execution_count": 20,
   "metadata": {
    "colab": {},
    "colab_type": "code",
    "id": "cES17_aUdkSN",
    "outputId": "9af5c498-e31f-4f5b-fe5c-c6a2d21943da"
   },
   "outputs": [
    {
     "name": "stdout",
     "output_type": "stream",
     "text": [
      "0.010157894736842105\n"
     ]
    },
    {
     "data": {
      "image/png": "[encoded data removed]",
      "text/plain": [
       "<Figure size 432x288 with 1 Axes>"
      ]
     },
     "metadata": {
      "needs_background": "light"
     },
     "output_type": "display_data"
    }
   ],
   "source": [
    "doc  = doc_top_matrix.loc['Doc0'].values\n",
    "print\n",
    "fig,ax = plt.subplots()\n",
    "\n",
    "vals = np.nonzero(doc)\n",
    "x = range(0,len(doc[vals]))\n",
    "\n",
    "mean = doc[-2]\n",
    "median = doc[-1]\n",
    "print(mean)\n",
    "means = [mean]*len(doc[vals])\n",
    "medians = [median]*len(doc[vals])\n",
    "\n",
    "ax.scatter(range(0,len(doc[vals])), doc[vals])\n",
    "ax.plot(x, means, linestyle='--', color=\"green\", label=\"mean\")\n",
    "ax.plot(x, medians, linestyle=\"--\", color=\"orange\", label=\"median\")\n",
    "ax.set_title(\"Distribution of Topics in Document 0\")\n",
    "\n",
    "\n",
    "ax.legend()\n",
    "\n",
    "plt.xlabel(\"Non-Zero Topics\")\n",
    "plt.ylabel(\"Topic weight\")\n",
    "plt.show()"
   ]
  },
  {
   "cell_type": "markdown",
   "metadata": {
    "colab_type": "text",
    "id": "COgAZzmPdkSP"
   },
   "source": [
    "In general, it seems like mean is higher than median ... For now, will use mean for a more stringent cut-off. If this seems to be choking off the Contact Tracing topic, then I can resort to using the median."
   ]
  },
  {
   "cell_type": "code",
   "execution_count": null,
   "metadata": {
    "colab": {},
    "colab_type": "code",
    "id": "odbM40dsdkSQ",
    "outputId": "fd59d9ea-c522-4463-fae2-3c9bcaebd53b"
   },
   "outputs": [
    {
     "data": {
      "image/png": "[encoded data removed]",
      "text/plain": [
       "<Figure size 648x432 with 18 Axes>"
      ]
     },
     "metadata": {
      "tags": []
     },
     "output_type": "display_data"
    }
   ],
   "source": [
    "grid = np.random.rand(4, 4)\n",
    "docs = [f\"Doc{a}\" for a in range(18)]\n",
    "\n",
    "fig, axs = plt.subplots(nrows=3, ncols=6, figsize=(9, 6),\n",
    "                        subplot_kw={'xticks': [], 'yticks': []})\n",
    "\n",
    "for ax, docname in zip(axs.flat, docs):\n",
    "    doc  = doc_top_matrix.loc[docname].values\n",
    "    vals = np.nonzero(doc)\n",
    "    x = range(0,len(doc[vals]))\n",
    "\n",
    "    mean = [doc[-2]]*len(doc[vals])\n",
    "    median = [doc[-1]]*len(doc[vals])\n",
    "\n",
    "    ax.scatter(range(0,len(doc[vals])), doc[vals])\n",
    "    ax.plot(x, mean, linestyle='--', color=\"green\")\n",
    "    ax.plot(x, median, linestyle=\"--\", color=\"orange\")\n",
    "    ax.set_title(docname)\n",
    "\n",
    "plt.tight_layout()\n",
    "plt.show()"
   ]
  },
  {
   "cell_type": "code",
   "execution_count": null,
   "metadata": {
    "colab": {},
    "colab_type": "code",
    "id": "7Or8Sau5dkST"
   },
   "outputs": [],
   "source": [
    "doc_top_matrix.to_csv(\"/proc/doc_top_matrix.csv\")"
   ]
  },
  {
   "cell_type": "markdown",
   "metadata": {
    "colab_type": "text",
    "id": "6ri48aNndkSU"
   },
   "source": [
    "Discretize the topic-document matrix so that those above the mean cutoff are mapped to 1, 0 otherwise"
   ]
  },
  {
   "cell_type": "code",
   "execution_count": null,
   "metadata": {
    "colab": {},
    "colab_type": "code",
    "id": "7cm_DuoSdkSU"
   },
   "outputs": [],
   "source": [
    "def discretize(row):\n",
    "    if pd.notnull(row['mean']):\n",
    "        row[row < row['mean']] = 0\n",
    "        row[row >= row['mean']] = 1\n",
    "        return row.astype(int)\n",
    "    else: \n",
    "        return row\n",
    "        "
   ]
  },
  {
   "cell_type": "code",
   "execution_count": null,
   "metadata": {
    "colab": {},
    "colab_type": "code",
    "id": "8XqdUBw0dkSX"
   },
   "outputs": [],
   "source": [
    "discrete_dtm = doc_top_matrix.copy().apply(lambda row: discretize(row), axis=1)"
   ]
  },
  {
   "cell_type": "code",
   "execution_count": null,
   "metadata": {
    "colab": {},
    "colab_type": "code",
    "id": "s4j07QO5dkSY"
   },
   "outputs": [],
   "source": [
    "discrete_dtm = discrete_dtm.fillna(0)"
   ]
  },
  {
   "cell_type": "code",
   "execution_count": null,
   "metadata": {
    "colab": {},
    "colab_type": "code",
    "id": "44yYaEASdkSb"
   },
   "outputs": [],
   "source": [
    "discrete_dtm = discrete_dtm.astype(int)"
   ]
  },
  {
   "cell_type": "code",
   "execution_count": null,
   "metadata": {
    "colab": {},
    "colab_type": "code",
    "id": "5esqXJ9pdkSd",
    "outputId": "2938f56f-f0e3-4744-e902-5069a394e567",
    "scrolled": true
   },
   "outputs": [
    {
     "data": {
      "text/html": [
       "<div>\n",
       "<style scoped>\n",
       "    .dataframe tbody tr th:only-of-type {\n",
       "        vertical-align: middle;\n",
       "    }\n",
       "\n",
       "    .dataframe tbody tr th {\n",
       "        vertical-align: top;\n",
       "    }\n",
       "\n",
       "    .dataframe thead th {\n",
       "        text-align: right;\n",
       "    }\n",
       "</style>\n",
       "<table border=\"1\" class=\"dataframe\">\n",
       "  <thead>\n",
       "    <tr style=\"text-align: right;\">\n",
       "      <th></th>\n",
       "      <th>Topic0</th>\n",
       "      <th>Topic1</th>\n",
       "      <th>Topic2</th>\n",
       "      <th>Topic3</th>\n",
       "      <th>Topic4</th>\n",
       "      <th>Topic5</th>\n",
       "      <th>Topic6</th>\n",
       "      <th>Topic7</th>\n",
       "      <th>Topic8</th>\n",
       "      <th>Topic9</th>\n",
       "      <th>...</th>\n",
       "      <th>Topic492</th>\n",
       "      <th>Topic493</th>\n",
       "      <th>Topic494</th>\n",
       "      <th>Topic495</th>\n",
       "      <th>Topic496</th>\n",
       "      <th>Topic497</th>\n",
       "      <th>Topic498</th>\n",
       "      <th>Topic499</th>\n",
       "      <th>mean</th>\n",
       "      <th>median</th>\n",
       "    </tr>\n",
       "  </thead>\n",
       "  <tbody>\n",
       "    <tr>\n",
       "      <th>Doc0</th>\n",
       "      <td>0</td>\n",
       "      <td>0</td>\n",
       "      <td>0</td>\n",
       "      <td>0</td>\n",
       "      <td>0</td>\n",
       "      <td>0</td>\n",
       "      <td>0</td>\n",
       "      <td>0</td>\n",
       "      <td>0</td>\n",
       "      <td>0</td>\n",
       "      <td>...</td>\n",
       "      <td>0</td>\n",
       "      <td>0</td>\n",
       "      <td>0</td>\n",
       "      <td>0</td>\n",
       "      <td>0</td>\n",
       "      <td>0</td>\n",
       "      <td>0</td>\n",
       "      <td>0</td>\n",
       "      <td>1</td>\n",
       "      <td>0</td>\n",
       "    </tr>\n",
       "    <tr>\n",
       "      <th>Doc1</th>\n",
       "      <td>0</td>\n",
       "      <td>1</td>\n",
       "      <td>0</td>\n",
       "      <td>0</td>\n",
       "      <td>0</td>\n",
       "      <td>0</td>\n",
       "      <td>0</td>\n",
       "      <td>0</td>\n",
       "      <td>0</td>\n",
       "      <td>0</td>\n",
       "      <td>...</td>\n",
       "      <td>1</td>\n",
       "      <td>0</td>\n",
       "      <td>0</td>\n",
       "      <td>0</td>\n",
       "      <td>0</td>\n",
       "      <td>0</td>\n",
       "      <td>0</td>\n",
       "      <td>0</td>\n",
       "      <td>1</td>\n",
       "      <td>0</td>\n",
       "    </tr>\n",
       "    <tr>\n",
       "      <th>Doc2</th>\n",
       "      <td>0</td>\n",
       "      <td>0</td>\n",
       "      <td>0</td>\n",
       "      <td>0</td>\n",
       "      <td>0</td>\n",
       "      <td>0</td>\n",
       "      <td>0</td>\n",
       "      <td>0</td>\n",
       "      <td>0</td>\n",
       "      <td>0</td>\n",
       "      <td>...</td>\n",
       "      <td>0</td>\n",
       "      <td>0</td>\n",
       "      <td>0</td>\n",
       "      <td>0</td>\n",
       "      <td>0</td>\n",
       "      <td>0</td>\n",
       "      <td>0</td>\n",
       "      <td>0</td>\n",
       "      <td>1</td>\n",
       "      <td>0</td>\n",
       "    </tr>\n",
       "    <tr>\n",
       "      <th>Doc3</th>\n",
       "      <td>0</td>\n",
       "      <td>1</td>\n",
       "      <td>0</td>\n",
       "      <td>0</td>\n",
       "      <td>0</td>\n",
       "      <td>0</td>\n",
       "      <td>0</td>\n",
       "      <td>0</td>\n",
       "      <td>0</td>\n",
       "      <td>0</td>\n",
       "      <td>...</td>\n",
       "      <td>0</td>\n",
       "      <td>0</td>\n",
       "      <td>0</td>\n",
       "      <td>0</td>\n",
       "      <td>0</td>\n",
       "      <td>0</td>\n",
       "      <td>0</td>\n",
       "      <td>0</td>\n",
       "      <td>1</td>\n",
       "      <td>0</td>\n",
       "    </tr>\n",
       "    <tr>\n",
       "      <th>Doc4</th>\n",
       "      <td>0</td>\n",
       "      <td>1</td>\n",
       "      <td>0</td>\n",
       "      <td>0</td>\n",
       "      <td>0</td>\n",
       "      <td>0</td>\n",
       "      <td>0</td>\n",
       "      <td>0</td>\n",
       "      <td>0</td>\n",
       "      <td>0</td>\n",
       "      <td>...</td>\n",
       "      <td>1</td>\n",
       "      <td>0</td>\n",
       "      <td>0</td>\n",
       "      <td>0</td>\n",
       "      <td>0</td>\n",
       "      <td>0</td>\n",
       "      <td>0</td>\n",
       "      <td>0</td>\n",
       "      <td>1</td>\n",
       "      <td>0</td>\n",
       "    </tr>\n",
       "    <tr>\n",
       "      <th>...</th>\n",
       "      <td>...</td>\n",
       "      <td>...</td>\n",
       "      <td>...</td>\n",
       "      <td>...</td>\n",
       "      <td>...</td>\n",
       "      <td>...</td>\n",
       "      <td>...</td>\n",
       "      <td>...</td>\n",
       "      <td>...</td>\n",
       "      <td>...</td>\n",
       "      <td>...</td>\n",
       "      <td>...</td>\n",
       "      <td>...</td>\n",
       "      <td>...</td>\n",
       "      <td>...</td>\n",
       "      <td>...</td>\n",
       "      <td>...</td>\n",
       "      <td>...</td>\n",
       "      <td>...</td>\n",
       "      <td>...</td>\n",
       "      <td>...</td>\n",
       "    </tr>\n",
       "    <tr>\n",
       "      <th>Doc51536</th>\n",
       "      <td>0</td>\n",
       "      <td>0</td>\n",
       "      <td>0</td>\n",
       "      <td>0</td>\n",
       "      <td>0</td>\n",
       "      <td>0</td>\n",
       "      <td>0</td>\n",
       "      <td>0</td>\n",
       "      <td>0</td>\n",
       "      <td>0</td>\n",
       "      <td>...</td>\n",
       "      <td>0</td>\n",
       "      <td>0</td>\n",
       "      <td>0</td>\n",
       "      <td>0</td>\n",
       "      <td>0</td>\n",
       "      <td>0</td>\n",
       "      <td>0</td>\n",
       "      <td>0</td>\n",
       "      <td>1</td>\n",
       "      <td>0</td>\n",
       "    </tr>\n",
       "    <tr>\n",
       "      <th>Doc51537</th>\n",
       "      <td>0</td>\n",
       "      <td>0</td>\n",
       "      <td>0</td>\n",
       "      <td>0</td>\n",
       "      <td>0</td>\n",
       "      <td>0</td>\n",
       "      <td>0</td>\n",
       "      <td>0</td>\n",
       "      <td>0</td>\n",
       "      <td>0</td>\n",
       "      <td>...</td>\n",
       "      <td>0</td>\n",
       "      <td>0</td>\n",
       "      <td>0</td>\n",
       "      <td>0</td>\n",
       "      <td>0</td>\n",
       "      <td>0</td>\n",
       "      <td>0</td>\n",
       "      <td>0</td>\n",
       "      <td>1</td>\n",
       "      <td>0</td>\n",
       "    </tr>\n",
       "    <tr>\n",
       "      <th>Doc51538</th>\n",
       "      <td>0</td>\n",
       "      <td>0</td>\n",
       "      <td>0</td>\n",
       "      <td>0</td>\n",
       "      <td>0</td>\n",
       "      <td>0</td>\n",
       "      <td>0</td>\n",
       "      <td>0</td>\n",
       "      <td>0</td>\n",
       "      <td>0</td>\n",
       "      <td>...</td>\n",
       "      <td>0</td>\n",
       "      <td>0</td>\n",
       "      <td>0</td>\n",
       "      <td>0</td>\n",
       "      <td>0</td>\n",
       "      <td>0</td>\n",
       "      <td>0</td>\n",
       "      <td>0</td>\n",
       "      <td>1</td>\n",
       "      <td>0</td>\n",
       "    </tr>\n",
       "    <tr>\n",
       "      <th>Doc51539</th>\n",
       "      <td>0</td>\n",
       "      <td>0</td>\n",
       "      <td>0</td>\n",
       "      <td>1</td>\n",
       "      <td>0</td>\n",
       "      <td>0</td>\n",
       "      <td>0</td>\n",
       "      <td>0</td>\n",
       "      <td>0</td>\n",
       "      <td>0</td>\n",
       "      <td>...</td>\n",
       "      <td>0</td>\n",
       "      <td>0</td>\n",
       "      <td>0</td>\n",
       "      <td>0</td>\n",
       "      <td>0</td>\n",
       "      <td>0</td>\n",
       "      <td>0</td>\n",
       "      <td>0</td>\n",
       "      <td>1</td>\n",
       "      <td>0</td>\n",
       "    </tr>\n",
       "    <tr>\n",
       "      <th>Doc51540</th>\n",
       "      <td>0</td>\n",
       "      <td>0</td>\n",
       "      <td>0</td>\n",
       "      <td>0</td>\n",
       "      <td>0</td>\n",
       "      <td>0</td>\n",
       "      <td>0</td>\n",
       "      <td>0</td>\n",
       "      <td>0</td>\n",
       "      <td>0</td>\n",
       "      <td>...</td>\n",
       "      <td>0</td>\n",
       "      <td>0</td>\n",
       "      <td>0</td>\n",
       "      <td>0</td>\n",
       "      <td>0</td>\n",
       "      <td>0</td>\n",
       "      <td>0</td>\n",
       "      <td>0</td>\n",
       "      <td>1</td>\n",
       "      <td>0</td>\n",
       "    </tr>\n",
       "  </tbody>\n",
       "</table>\n",
       "<p>51541 rows × 502 columns</p>\n",
       "</div>"
      ],
      "text/plain": [
       "          Topic0  Topic1  Topic2  Topic3  Topic4  Topic5  Topic6  Topic7  \\\n",
       "Doc0           0       0       0       0       0       0       0       0   \n",
       "Doc1           0       1       0       0       0       0       0       0   \n",
       "Doc2           0       0       0       0       0       0       0       0   \n",
       "Doc3           0       1       0       0       0       0       0       0   \n",
       "Doc4           0       1       0       0       0       0       0       0   \n",
       "...          ...     ...     ...     ...     ...     ...     ...     ...   \n",
       "Doc51536       0       0       0       0       0       0       0       0   \n",
       "Doc51537       0       0       0       0       0       0       0       0   \n",
       "Doc51538       0       0       0       0       0       0       0       0   \n",
       "Doc51539       0       0       0       1       0       0       0       0   \n",
       "Doc51540       0       0       0       0       0       0       0       0   \n",
       "\n",
       "          Topic8  Topic9  ...  Topic492  Topic493  Topic494  Topic495  \\\n",
       "Doc0           0       0  ...         0         0         0         0   \n",
       "Doc1           0       0  ...         1         0         0         0   \n",
       "Doc2           0       0  ...         0         0         0         0   \n",
       "Doc3           0       0  ...         0         0         0         0   \n",
       "Doc4           0       0  ...         1         0         0         0   \n",
       "...          ...     ...  ...       ...       ...       ...       ...   \n",
       "Doc51536       0       0  ...         0         0         0         0   \n",
       "Doc51537       0       0  ...         0         0         0         0   \n",
       "Doc51538       0       0  ...         0         0         0         0   \n",
       "Doc51539       0       0  ...         0         0         0         0   \n",
       "Doc51540       0       0  ...         0         0         0         0   \n",
       "\n",
       "          Topic496  Topic497  Topic498  Topic499  mean  median  \n",
       "Doc0             0         0         0         0     1       0  \n",
       "Doc1             0         0         0         0     1       0  \n",
       "Doc2             0         0         0         0     1       0  \n",
       "Doc3             0         0         0         0     1       0  \n",
       "Doc4             0         0         0         0     1       0  \n",
       "...            ...       ...       ...       ...   ...     ...  \n",
       "Doc51536         0         0         0         0     1       0  \n",
       "Doc51537         0         0         0         0     1       0  \n",
       "Doc51538         0         0         0         0     1       0  \n",
       "Doc51539         0         0         0         0     1       0  \n",
       "Doc51540         0         0         0         0     1       0  \n",
       "\n",
       "[51541 rows x 502 columns]"
      ]
     },
     "execution_count": 218,
     "metadata": {
      "tags": []
     },
     "output_type": "execute_result"
    }
   ],
   "source": [
    "discrete_dtm"
   ]
  },
  {
   "cell_type": "code",
   "execution_count": null,
   "metadata": {
    "colab": {},
    "colab_type": "code",
    "id": "opbeqMhDdkSg"
   },
   "outputs": [],
   "source": [
    "discrete_dtm.drop(columns=[\"mean\", \"median\"], inplace=True)\n"
   ]
  },
  {
   "cell_type": "code",
   "execution_count": null,
   "metadata": {},
   "outputs": [],
   "source": [
    "sums = discrete_dtm.sum(axis=0)[:-1]\n",
    "discrete_dtm['source'] = sources.values"
   ]
  },
  {
   "cell_type": "code",
   "execution_count": null,
   "metadata": {
    "colab": {},
    "colab_type": "code",
    "id": "7SaEk-iidkSr"
   },
   "outputs": [],
   "source": [
    "discrete_dtm.to_csv(\"/proc/discrete_dtm.csv\")"
   ]
  },
  {
   "cell_type": "code",
   "execution_count": null,
   "metadata": {
    "colab": {},
    "colab_type": "code",
    "id": "8i7epzA0dkSu"
   },
   "outputs": [],
   "source": [
    "node_list = discrete_dtm.groupby('source').sum().T"
   ]
  },
  {
   "cell_type": "code",
   "execution_count": null,
   "metadata": {
    "colab": {},
    "colab_type": "code",
    "id": "Bt00iK6-dkSw",
    "outputId": "ef798e89-6f21-4cae-e18b-bd4c198f6bf5"
   },
   "outputs": [
    {
     "data": {
      "text/html": [
       "<div>\n",
       "<style scoped>\n",
       "    .dataframe tbody tr th:only-of-type {\n",
       "        vertical-align: middle;\n",
       "    }\n",
       "\n",
       "    .dataframe tbody tr th {\n",
       "        vertical-align: top;\n",
       "    }\n",
       "\n",
       "    .dataframe thead th {\n",
       "        text-align: right;\n",
       "    }\n",
       "</style>\n",
       "<table border=\"1\" class=\"dataframe\">\n",
       "  <thead>\n",
       "    <tr style=\"text-align: right;\">\n",
       "      <th>source</th>\n",
       "      <th>breitbart</th>\n",
       "      <th>cnn</th>\n",
       "      <th>daily caller</th>\n",
       "      <th>fox</th>\n",
       "      <th>nyt</th>\n",
       "      <th>wp</th>\n",
       "    </tr>\n",
       "  </thead>\n",
       "  <tbody>\n",
       "    <tr>\n",
       "      <th>Topic0</th>\n",
       "      <td>2</td>\n",
       "      <td>8</td>\n",
       "      <td>0</td>\n",
       "      <td>3</td>\n",
       "      <td>5138</td>\n",
       "      <td>1</td>\n",
       "    </tr>\n",
       "    <tr>\n",
       "      <th>Topic1</th>\n",
       "      <td>0</td>\n",
       "      <td>0</td>\n",
       "      <td>0</td>\n",
       "      <td>0</td>\n",
       "      <td>0</td>\n",
       "      <td>13434</td>\n",
       "    </tr>\n",
       "    <tr>\n",
       "      <th>Topic2</th>\n",
       "      <td>0</td>\n",
       "      <td>2</td>\n",
       "      <td>0</td>\n",
       "      <td>0</td>\n",
       "      <td>1</td>\n",
       "      <td>4600</td>\n",
       "    </tr>\n",
       "    <tr>\n",
       "      <th>Topic3</th>\n",
       "      <td>391</td>\n",
       "      <td>795</td>\n",
       "      <td>5</td>\n",
       "      <td>157</td>\n",
       "      <td>663</td>\n",
       "      <td>1096</td>\n",
       "    </tr>\n",
       "    <tr>\n",
       "      <th>Topic4</th>\n",
       "      <td>1</td>\n",
       "      <td>0</td>\n",
       "      <td>0</td>\n",
       "      <td>0</td>\n",
       "      <td>0</td>\n",
       "      <td>1</td>\n",
       "    </tr>\n",
       "    <tr>\n",
       "      <th>...</th>\n",
       "      <td>...</td>\n",
       "      <td>...</td>\n",
       "      <td>...</td>\n",
       "      <td>...</td>\n",
       "      <td>...</td>\n",
       "      <td>...</td>\n",
       "    </tr>\n",
       "    <tr>\n",
       "      <th>Topic495</th>\n",
       "      <td>44</td>\n",
       "      <td>178</td>\n",
       "      <td>1</td>\n",
       "      <td>31</td>\n",
       "      <td>186</td>\n",
       "      <td>190</td>\n",
       "    </tr>\n",
       "    <tr>\n",
       "      <th>Topic496</th>\n",
       "      <td>31</td>\n",
       "      <td>137</td>\n",
       "      <td>0</td>\n",
       "      <td>4</td>\n",
       "      <td>205</td>\n",
       "      <td>128</td>\n",
       "    </tr>\n",
       "    <tr>\n",
       "      <th>Topic497</th>\n",
       "      <td>178</td>\n",
       "      <td>451</td>\n",
       "      <td>6</td>\n",
       "      <td>95</td>\n",
       "      <td>381</td>\n",
       "      <td>342</td>\n",
       "    </tr>\n",
       "    <tr>\n",
       "      <th>Topic498</th>\n",
       "      <td>45</td>\n",
       "      <td>198</td>\n",
       "      <td>0</td>\n",
       "      <td>14</td>\n",
       "      <td>297</td>\n",
       "      <td>220</td>\n",
       "    </tr>\n",
       "    <tr>\n",
       "      <th>Topic499</th>\n",
       "      <td>65</td>\n",
       "      <td>128</td>\n",
       "      <td>0</td>\n",
       "      <td>30</td>\n",
       "      <td>210</td>\n",
       "      <td>312</td>\n",
       "    </tr>\n",
       "  </tbody>\n",
       "</table>\n",
       "<p>500 rows × 6 columns</p>\n",
       "</div>"
      ],
      "text/plain": [
       "source    breitbart  cnn  daily caller  fox   nyt     wp\n",
       "Topic0            2    8             0    3  5138      1\n",
       "Topic1            0    0             0    0     0  13434\n",
       "Topic2            0    2             0    0     1   4600\n",
       "Topic3          391  795             5  157   663   1096\n",
       "Topic4            1    0             0    0     0      1\n",
       "...             ...  ...           ...  ...   ...    ...\n",
       "Topic495         44  178             1   31   186    190\n",
       "Topic496         31  137             0    4   205    128\n",
       "Topic497        178  451             6   95   381    342\n",
       "Topic498         45  198             0   14   297    220\n",
       "Topic499         65  128             0   30   210    312\n",
       "\n",
       "[500 rows x 6 columns]"
      ]
     },
     "execution_count": 359,
     "metadata": {
      "tags": []
     },
     "output_type": "execute_result"
    }
   ],
   "source": [
    "node_list"
   ]
  },
  {
   "cell_type": "code",
   "execution_count": null,
   "metadata": {
    "colab": {},
    "colab_type": "code",
    "id": "YkI7lJ9EdkS2"
   },
   "outputs": [],
   "source": [
    "node_list[\"totalcount\"] = sums.values\n",
    "node_list[\"label\"] = topics.values\n",
    "\n",
    "# Change the order\n",
    "node_list = node_list[[\"label\", \"totalcount\", \"breitbart\", \"cnn\", \"fox\", \"nyt\", \"wp\"]]"
   ]
  },
  {
   "cell_type": "code",
   "execution_count": null,
   "metadata": {
    "colab": {},
    "colab_type": "code",
    "id": "NQpJ79f3dkS3",
    "outputId": "20611c4b-4c0b-4c9e-9a35-7605e8756a1a"
   },
   "outputs": [
    {
     "name": "stderr",
     "output_type": "stream",
     "text": [
      "/usr/local/lib/python3.7/site-packages/pandas/core/generic.py:5303: SettingWithCopyWarning:\n",
      "\n",
      "\n",
      "A value is trying to be set on a copy of a slice from a DataFrame.\n",
      "Try using .loc[row_indexer,col_indexer] = value instead\n",
      "\n",
      "See the caveats in the documentation: https://pandas.pydata.org/pandas-docs/stable/user_guide/indexing.html#returning-a-view-versus-a-copy\n",
      "\n"
     ]
    }
   ],
   "source": [
    "node_list.label = node_list.label.apply(lambda row: [re.search(\"\\w+\", a).group(0) for a in row.split()])"
   ]
  },
  {
   "cell_type": "code",
   "execution_count": null,
   "metadata": {
    "colab": {},
    "colab_type": "code",
    "id": "9No9RjKrdkS5",
    "outputId": "972159a6-5645-429b-938b-9636662e784d"
   },
   "outputs": [
    {
     "data": {
      "text/html": [
       "<div>\n",
       "<style scoped>\n",
       "    .dataframe tbody tr th:only-of-type {\n",
       "        vertical-align: middle;\n",
       "    }\n",
       "\n",
       "    .dataframe tbody tr th {\n",
       "        vertical-align: top;\n",
       "    }\n",
       "\n",
       "    .dataframe thead th {\n",
       "        text-align: right;\n",
       "    }\n",
       "</style>\n",
       "<table border=\"1\" class=\"dataframe\">\n",
       "  <thead>\n",
       "    <tr style=\"text-align: right;\">\n",
       "      <th>source</th>\n",
       "      <th>label</th>\n",
       "      <th>totalcount</th>\n",
       "      <th>breitbart</th>\n",
       "      <th>cnn</th>\n",
       "      <th>fox</th>\n",
       "      <th>nyt</th>\n",
       "      <th>wp</th>\n",
       "    </tr>\n",
       "  </thead>\n",
       "  <tbody>\n",
       "    <tr>\n",
       "      <th>Topic0</th>\n",
       "      <td>[paid, leave, unemployment, rate, surface, sea...</td>\n",
       "      <td>5152</td>\n",
       "      <td>2</td>\n",
       "      <td>8</td>\n",
       "      <td>3</td>\n",
       "      <td>5138</td>\n",
       "      <td>1</td>\n",
       "    </tr>\n",
       "    <tr>\n",
       "      <th>Topic1</th>\n",
       "      <td>[important, news, editor, delivered, signing, ...</td>\n",
       "      <td>13434</td>\n",
       "      <td>0</td>\n",
       "      <td>0</td>\n",
       "      <td>0</td>\n",
       "      <td>0</td>\n",
       "      <td>13434</td>\n",
       "    </tr>\n",
       "    <tr>\n",
       "      <th>Topic2</th>\n",
       "      <td>[case, death, update, coronavirus, live, updat...</td>\n",
       "      <td>4603</td>\n",
       "      <td>0</td>\n",
       "      <td>2</td>\n",
       "      <td>0</td>\n",
       "      <td>1</td>\n",
       "      <td>4600</td>\n",
       "    </tr>\n",
       "    <tr>\n",
       "      <th>Topic3</th>\n",
       "      <td>[oval, office, travel, europe, address, nation...</td>\n",
       "      <td>3107</td>\n",
       "      <td>391</td>\n",
       "      <td>795</td>\n",
       "      <td>157</td>\n",
       "      <td>663</td>\n",
       "      <td>1096</td>\n",
       "    </tr>\n",
       "    <tr>\n",
       "      <th>Topic4</th>\n",
       "      <td>[white, house, house, official, trump, white, ...</td>\n",
       "      <td>2</td>\n",
       "      <td>1</td>\n",
       "      <td>0</td>\n",
       "      <td>0</td>\n",
       "      <td>0</td>\n",
       "      <td>1</td>\n",
       "    </tr>\n",
       "    <tr>\n",
       "      <th>...</th>\n",
       "      <td>...</td>\n",
       "      <td>...</td>\n",
       "      <td>...</td>\n",
       "      <td>...</td>\n",
       "      <td>...</td>\n",
       "      <td>...</td>\n",
       "      <td>...</td>\n",
       "    </tr>\n",
       "    <tr>\n",
       "      <th>Topic495</th>\n",
       "      <td>[rhode, island, york, jersey, jersey, connecti...</td>\n",
       "      <td>630</td>\n",
       "      <td>44</td>\n",
       "      <td>178</td>\n",
       "      <td>31</td>\n",
       "      <td>186</td>\n",
       "      <td>190</td>\n",
       "    </tr>\n",
       "    <tr>\n",
       "      <th>Topic496</th>\n",
       "      <td>[finance, minister, economic, fallout, economi...</td>\n",
       "      <td>505</td>\n",
       "      <td>31</td>\n",
       "      <td>137</td>\n",
       "      <td>4</td>\n",
       "      <td>205</td>\n",
       "      <td>128</td>\n",
       "    </tr>\n",
       "    <tr>\n",
       "      <th>Topic497</th>\n",
       "      <td>[across, world, across, globe, people, across,...</td>\n",
       "      <td>1453</td>\n",
       "      <td>178</td>\n",
       "      <td>451</td>\n",
       "      <td>95</td>\n",
       "      <td>381</td>\n",
       "      <td>342</td>\n",
       "    </tr>\n",
       "    <tr>\n",
       "      <th>Topic498</th>\n",
       "      <td>[video, call, video, conferencing, zoom, call,...</td>\n",
       "      <td>774</td>\n",
       "      <td>45</td>\n",
       "      <td>198</td>\n",
       "      <td>14</td>\n",
       "      <td>297</td>\n",
       "      <td>220</td>\n",
       "    </tr>\n",
       "    <tr>\n",
       "      <th>Topic499</th>\n",
       "      <td>[golf, course, golf, club, palm, beach, trump,...</td>\n",
       "      <td>745</td>\n",
       "      <td>65</td>\n",
       "      <td>128</td>\n",
       "      <td>30</td>\n",
       "      <td>210</td>\n",
       "      <td>312</td>\n",
       "    </tr>\n",
       "  </tbody>\n",
       "</table>\n",
       "<p>500 rows × 7 columns</p>\n",
       "</div>"
      ],
      "text/plain": [
       "source                                                label totalcount  \\\n",
       "Topic0    [paid, leave, unemployment, rate, surface, sea...       5152   \n",
       "Topic1    [important, news, editor, delivered, signing, ...      13434   \n",
       "Topic2    [case, death, update, coronavirus, live, updat...       4603   \n",
       "Topic3    [oval, office, travel, europe, address, nation...       3107   \n",
       "Topic4    [white, house, house, official, trump, white, ...          2   \n",
       "...                                                     ...        ...   \n",
       "Topic495  [rhode, island, york, jersey, jersey, connecti...        630   \n",
       "Topic496  [finance, minister, economic, fallout, economi...        505   \n",
       "Topic497  [across, world, across, globe, people, across,...       1453   \n",
       "Topic498  [video, call, video, conferencing, zoom, call,...        774   \n",
       "Topic499  [golf, course, golf, club, palm, beach, trump,...        745   \n",
       "\n",
       "source    breitbart  cnn  fox   nyt     wp  \n",
       "Topic0            2    8    3  5138      1  \n",
       "Topic1            0    0    0     0  13434  \n",
       "Topic2            0    2    0     1   4600  \n",
       "Topic3          391  795  157   663   1096  \n",
       "Topic4            1    0    0     0      1  \n",
       "...             ...  ...  ...   ...    ...  \n",
       "Topic495         44  178   31   186    190  \n",
       "Topic496         31  137    4   205    128  \n",
       "Topic497        178  451   95   381    342  \n",
       "Topic498         45  198   14   297    220  \n",
       "Topic499         65  128   30   210    312  \n",
       "\n",
       "[500 rows x 7 columns]"
      ]
     },
     "execution_count": 373,
     "metadata": {
      "tags": []
     },
     "output_type": "execute_result"
    }
   ],
   "source": [
    "node_list"
   ]
  },
  {
   "cell_type": "code",
   "execution_count": null,
   "metadata": {
    "colab": {},
    "colab_type": "code",
    "id": "nyMSXtKTdkS7",
    "outputId": "d3026c70-11f0-43eb-fd36-aeedc24883b3"
   },
   "outputs": [
    {
     "data": {
      "text/html": [
       "<div>\n",
       "<style scoped>\n",
       "    .dataframe tbody tr th:only-of-type {\n",
       "        vertical-align: middle;\n",
       "    }\n",
       "\n",
       "    .dataframe tbody tr th {\n",
       "        vertical-align: top;\n",
       "    }\n",
       "\n",
       "    .dataframe thead th {\n",
       "        text-align: right;\n",
       "    }\n",
       "</style>\n",
       "<table border=\"1\" class=\"dataframe\">\n",
       "  <thead>\n",
       "    <tr style=\"text-align: right;\">\n",
       "      <th>source</th>\n",
       "      <th>label</th>\n",
       "      <th>totalcount</th>\n",
       "      <th>breitbart</th>\n",
       "      <th>cnn</th>\n",
       "      <th>fox</th>\n",
       "      <th>nyt</th>\n",
       "      <th>wp</th>\n",
       "    </tr>\n",
       "  </thead>\n",
       "  <tbody>\n",
       "    <tr>\n",
       "      <th>Topic1</th>\n",
       "      <td>[important, news, editor, delivered, signing, ...</td>\n",
       "      <td>13434</td>\n",
       "      <td>0</td>\n",
       "      <td>0</td>\n",
       "      <td>0</td>\n",
       "      <td>0</td>\n",
       "      <td>13434</td>\n",
       "    </tr>\n",
       "    <tr>\n",
       "      <th>Topic74</th>\n",
       "      <td>[president, trump, trump, called, pandemic, pr...</td>\n",
       "      <td>8871</td>\n",
       "      <td>968</td>\n",
       "      <td>822</td>\n",
       "      <td>611</td>\n",
       "      <td>2248</td>\n",
       "      <td>4220</td>\n",
       "    </tr>\n",
       "    <tr>\n",
       "      <th>Topic23</th>\n",
       "      <td>[donald, trump, president, donald, trump, pres...</td>\n",
       "      <td>6926</td>\n",
       "      <td>1741</td>\n",
       "      <td>2947</td>\n",
       "      <td>118</td>\n",
       "      <td>781</td>\n",
       "      <td>1313</td>\n",
       "    </tr>\n",
       "    <tr>\n",
       "      <th>Topic0</th>\n",
       "      <td>[paid, leave, unemployment, rate, surface, sea...</td>\n",
       "      <td>5152</td>\n",
       "      <td>2</td>\n",
       "      <td>8</td>\n",
       "      <td>3</td>\n",
       "      <td>5138</td>\n",
       "      <td>1</td>\n",
       "    </tr>\n",
       "    <tr>\n",
       "      <th>Topic7</th>\n",
       "      <td>[coronavirus, pandemic, caused, coronavirus, o...</td>\n",
       "      <td>4842</td>\n",
       "      <td>783</td>\n",
       "      <td>1488</td>\n",
       "      <td>260</td>\n",
       "      <td>1102</td>\n",
       "      <td>1205</td>\n",
       "    </tr>\n",
       "    <tr>\n",
       "      <th>Topic2</th>\n",
       "      <td>[case, death, update, coronavirus, live, updat...</td>\n",
       "      <td>4603</td>\n",
       "      <td>0</td>\n",
       "      <td>2</td>\n",
       "      <td>0</td>\n",
       "      <td>1</td>\n",
       "      <td>4600</td>\n",
       "    </tr>\n",
       "    <tr>\n",
       "      <th>Topic134</th>\n",
       "      <td>[million, people, nearly, million, infected, m...</td>\n",
       "      <td>4554</td>\n",
       "      <td>396</td>\n",
       "      <td>1067</td>\n",
       "      <td>246</td>\n",
       "      <td>1468</td>\n",
       "      <td>1373</td>\n",
       "    </tr>\n",
       "    <tr>\n",
       "      <th>Topic275</th>\n",
       "      <td>[number, people, large, number, people, infect...</td>\n",
       "      <td>3853</td>\n",
       "      <td>406</td>\n",
       "      <td>949</td>\n",
       "      <td>231</td>\n",
       "      <td>1049</td>\n",
       "      <td>1217</td>\n",
       "    </tr>\n",
       "    <tr>\n",
       "      <th>Topic156</th>\n",
       "      <td>[spread, virus, contain, spread, curb, spread,...</td>\n",
       "      <td>3788</td>\n",
       "      <td>480</td>\n",
       "      <td>928</td>\n",
       "      <td>245</td>\n",
       "      <td>883</td>\n",
       "      <td>1251</td>\n",
       "    </tr>\n",
       "    <tr>\n",
       "      <th>Topic64</th>\n",
       "      <td>[vice, president, former, vice, president, bid...</td>\n",
       "      <td>3585</td>\n",
       "      <td>309</td>\n",
       "      <td>771</td>\n",
       "      <td>130</td>\n",
       "      <td>737</td>\n",
       "      <td>1635</td>\n",
       "    </tr>\n",
       "    <tr>\n",
       "      <th>Topic124</th>\n",
       "      <td>[dont, know, know, dont, know, going, know, kn...</td>\n",
       "      <td>3518</td>\n",
       "      <td>284</td>\n",
       "      <td>811</td>\n",
       "      <td>166</td>\n",
       "      <td>939</td>\n",
       "      <td>1318</td>\n",
       "    </tr>\n",
       "    <tr>\n",
       "      <th>Topic111</th>\n",
       "      <td>[many, people, know, many, time, many, people,...</td>\n",
       "      <td>3464</td>\n",
       "      <td>312</td>\n",
       "      <td>744</td>\n",
       "      <td>144</td>\n",
       "      <td>1020</td>\n",
       "      <td>1242</td>\n",
       "    </tr>\n",
       "    <tr>\n",
       "      <th>Topic54</th>\n",
       "      <td>[washington, post, fact, checker, told, washin...</td>\n",
       "      <td>3417</td>\n",
       "      <td>114</td>\n",
       "      <td>253</td>\n",
       "      <td>96</td>\n",
       "      <td>257</td>\n",
       "      <td>2690</td>\n",
       "    </tr>\n",
       "    <tr>\n",
       "      <th>Topic308</th>\n",
       "      <td>[staying, home, people, staying, home, coronav...</td>\n",
       "      <td>3395</td>\n",
       "      <td>401</td>\n",
       "      <td>885</td>\n",
       "      <td>159</td>\n",
       "      <td>1001</td>\n",
       "      <td>947</td>\n",
       "    </tr>\n",
       "    <tr>\n",
       "      <th>Topic105</th>\n",
       "      <td>[confirmed, case, number, confirmed, reported,...</td>\n",
       "      <td>3367</td>\n",
       "      <td>464</td>\n",
       "      <td>865</td>\n",
       "      <td>336</td>\n",
       "      <td>647</td>\n",
       "      <td>1049</td>\n",
       "    </tr>\n",
       "    <tr>\n",
       "      <th>Topic128</th>\n",
       "      <td>[across, country, people, across, city, across...</td>\n",
       "      <td>3342</td>\n",
       "      <td>325</td>\n",
       "      <td>903</td>\n",
       "      <td>214</td>\n",
       "      <td>774</td>\n",
       "      <td>1125</td>\n",
       "    </tr>\n",
       "    <tr>\n",
       "      <th>Topic103</th>\n",
       "      <td>[spread, coronavirus, curb, spread, contain, s...</td>\n",
       "      <td>3240</td>\n",
       "      <td>494</td>\n",
       "      <td>931</td>\n",
       "      <td>229</td>\n",
       "      <td>627</td>\n",
       "      <td>956</td>\n",
       "    </tr>\n",
       "    <tr>\n",
       "      <th>Topic3</th>\n",
       "      <td>[oval, office, travel, europe, address, nation...</td>\n",
       "      <td>3107</td>\n",
       "      <td>391</td>\n",
       "      <td>795</td>\n",
       "      <td>157</td>\n",
       "      <td>663</td>\n",
       "      <td>1096</td>\n",
       "    </tr>\n",
       "    <tr>\n",
       "      <th>Topic94</th>\n",
       "      <td>[chief, executive, executive, officer, chief, ...</td>\n",
       "      <td>3105</td>\n",
       "      <td>90</td>\n",
       "      <td>185</td>\n",
       "      <td>21</td>\n",
       "      <td>1374</td>\n",
       "      <td>1435</td>\n",
       "    </tr>\n",
       "    <tr>\n",
       "      <th>Topic337</th>\n",
       "      <td>[reported, case, case, reported, increase, cas...</td>\n",
       "      <td>3012</td>\n",
       "      <td>269</td>\n",
       "      <td>779</td>\n",
       "      <td>257</td>\n",
       "      <td>746</td>\n",
       "      <td>958</td>\n",
       "    </tr>\n",
       "    <tr>\n",
       "      <th>Topic24</th>\n",
       "      <td>[protective, equipment, personal, protective, ...</td>\n",
       "      <td>2958</td>\n",
       "      <td>271</td>\n",
       "      <td>765</td>\n",
       "      <td>139</td>\n",
       "      <td>742</td>\n",
       "      <td>1040</td>\n",
       "    </tr>\n",
       "    <tr>\n",
       "      <th>Topic299</th>\n",
       "      <td>[wear, mask, mask, public, people, wear, requi...</td>\n",
       "      <td>2805</td>\n",
       "      <td>263</td>\n",
       "      <td>603</td>\n",
       "      <td>133</td>\n",
       "      <td>837</td>\n",
       "      <td>969</td>\n",
       "    </tr>\n",
       "    <tr>\n",
       "      <th>Topic492</th>\n",
       "      <td>[thousand, people, ten, thousand, hundred, tho...</td>\n",
       "      <td>2770</td>\n",
       "      <td>297</td>\n",
       "      <td>567</td>\n",
       "      <td>99</td>\n",
       "      <td>814</td>\n",
       "      <td>993</td>\n",
       "    </tr>\n",
       "    <tr>\n",
       "      <th>Topic76</th>\n",
       "      <td>[stayathome, order, state, stayathome, statewi...</td>\n",
       "      <td>2341</td>\n",
       "      <td>255</td>\n",
       "      <td>656</td>\n",
       "      <td>167</td>\n",
       "      <td>404</td>\n",
       "      <td>858</td>\n",
       "    </tr>\n",
       "    <tr>\n",
       "      <th>Topic72</th>\n",
       "      <td>[wall, street, street, journal, goldman, sachs...</td>\n",
       "      <td>2307</td>\n",
       "      <td>131</td>\n",
       "      <td>476</td>\n",
       "      <td>74</td>\n",
       "      <td>563</td>\n",
       "      <td>1061</td>\n",
       "    </tr>\n",
       "    <tr>\n",
       "      <th>Topic162</th>\n",
       "      <td>[news, conference, daily, news, conference, fr...</td>\n",
       "      <td>2298</td>\n",
       "      <td>113</td>\n",
       "      <td>530</td>\n",
       "      <td>96</td>\n",
       "      <td>550</td>\n",
       "      <td>1005</td>\n",
       "    </tr>\n",
       "    <tr>\n",
       "      <th>Topic141</th>\n",
       "      <td>[dont, want, want, people, want, take, want, m...</td>\n",
       "      <td>2278</td>\n",
       "      <td>240</td>\n",
       "      <td>517</td>\n",
       "      <td>101</td>\n",
       "      <td>565</td>\n",
       "      <td>852</td>\n",
       "    </tr>\n",
       "    <tr>\n",
       "      <th>Topic335</th>\n",
       "      <td>[wuhan, virus, china, virus, virus, originated...</td>\n",
       "      <td>2214</td>\n",
       "      <td>725</td>\n",
       "      <td>420</td>\n",
       "      <td>172</td>\n",
       "      <td>406</td>\n",
       "      <td>486</td>\n",
       "    </tr>\n",
       "    <tr>\n",
       "      <th>Topic50</th>\n",
       "      <td>[unemployment, benefit, unemployment, insuranc...</td>\n",
       "      <td>2180</td>\n",
       "      <td>163</td>\n",
       "      <td>493</td>\n",
       "      <td>71</td>\n",
       "      <td>644</td>\n",
       "      <td>807</td>\n",
       "    </tr>\n",
       "    <tr>\n",
       "      <th>Topic146</th>\n",
       "      <td>[first, time, time, since, time, year, time, h...</td>\n",
       "      <td>2146</td>\n",
       "      <td>159</td>\n",
       "      <td>530</td>\n",
       "      <td>67</td>\n",
       "      <td>657</td>\n",
       "      <td>732</td>\n",
       "    </tr>\n",
       "  </tbody>\n",
       "</table>\n",
       "</div>"
      ],
      "text/plain": [
       "source                                                label totalcount  \\\n",
       "Topic1    [important, news, editor, delivered, signing, ...      13434   \n",
       "Topic74   [president, trump, trump, called, pandemic, pr...       8871   \n",
       "Topic23   [donald, trump, president, donald, trump, pres...       6926   \n",
       "Topic0    [paid, leave, unemployment, rate, surface, sea...       5152   \n",
       "Topic7    [coronavirus, pandemic, caused, coronavirus, o...       4842   \n",
       "Topic2    [case, death, update, coronavirus, live, updat...       4603   \n",
       "Topic134  [million, people, nearly, million, infected, m...       4554   \n",
       "Topic275  [number, people, large, number, people, infect...       3853   \n",
       "Topic156  [spread, virus, contain, spread, curb, spread,...       3788   \n",
       "Topic64   [vice, president, former, vice, president, bid...       3585   \n",
       "Topic124  [dont, know, know, dont, know, going, know, kn...       3518   \n",
       "Topic111  [many, people, know, many, time, many, people,...       3464   \n",
       "Topic54   [washington, post, fact, checker, told, washin...       3417   \n",
       "Topic308  [staying, home, people, staying, home, coronav...       3395   \n",
       "Topic105  [confirmed, case, number, confirmed, reported,...       3367   \n",
       "Topic128  [across, country, people, across, city, across...       3342   \n",
       "Topic103  [spread, coronavirus, curb, spread, contain, s...       3240   \n",
       "Topic3    [oval, office, travel, europe, address, nation...       3107   \n",
       "Topic94   [chief, executive, executive, officer, chief, ...       3105   \n",
       "Topic337  [reported, case, case, reported, increase, cas...       3012   \n",
       "Topic24   [protective, equipment, personal, protective, ...       2958   \n",
       "Topic299  [wear, mask, mask, public, people, wear, requi...       2805   \n",
       "Topic492  [thousand, people, ten, thousand, hundred, tho...       2770   \n",
       "Topic76   [stayathome, order, state, stayathome, statewi...       2341   \n",
       "Topic72   [wall, street, street, journal, goldman, sachs...       2307   \n",
       "Topic162  [news, conference, daily, news, conference, fr...       2298   \n",
       "Topic141  [dont, want, want, people, want, take, want, m...       2278   \n",
       "Topic335  [wuhan, virus, china, virus, virus, originated...       2214   \n",
       "Topic50   [unemployment, benefit, unemployment, insuranc...       2180   \n",
       "Topic146  [first, time, time, since, time, year, time, h...       2146   \n",
       "\n",
       "source    breitbart   cnn  fox   nyt     wp  \n",
       "Topic1            0     0    0     0  13434  \n",
       "Topic74         968   822  611  2248   4220  \n",
       "Topic23        1741  2947  118   781   1313  \n",
       "Topic0            2     8    3  5138      1  \n",
       "Topic7          783  1488  260  1102   1205  \n",
       "Topic2            0     2    0     1   4600  \n",
       "Topic134        396  1067  246  1468   1373  \n",
       "Topic275        406   949  231  1049   1217  \n",
       "Topic156        480   928  245   883   1251  \n",
       "Topic64         309   771  130   737   1635  \n",
       "Topic124        284   811  166   939   1318  \n",
       "Topic111        312   744  144  1020   1242  \n",
       "Topic54         114   253   96   257   2690  \n",
       "Topic308        401   885  159  1001    947  \n",
       "Topic105        464   865  336   647   1049  \n",
       "Topic128        325   903  214   774   1125  \n",
       "Topic103        494   931  229   627    956  \n",
       "Topic3          391   795  157   663   1096  \n",
       "Topic94          90   185   21  1374   1435  \n",
       "Topic337        269   779  257   746    958  \n",
       "Topic24         271   765  139   742   1040  \n",
       "Topic299        263   603  133   837    969  \n",
       "Topic492        297   567   99   814    993  \n",
       "Topic76         255   656  167   404    858  \n",
       "Topic72         131   476   74   563   1061  \n",
       "Topic162        113   530   96   550   1005  \n",
       "Topic141        240   517  101   565    852  \n",
       "Topic335        725   420  172   406    486  \n",
       "Topic50         163   493   71   644    807  \n",
       "Topic146        159   530   67   657    732  "
      ]
     },
     "execution_count": 374,
     "metadata": {
      "tags": []
     },
     "output_type": "execute_result"
    }
   ],
   "source": [
    "node_list.sort_values(by=\"totalcount\", ascending=False).head(30)"
   ]
  },
  {
   "cell_type": "code",
   "execution_count": null,
   "metadata": {
    "colab": {},
    "colab_type": "code",
    "id": "IOHvXxU7dkS9",
    "outputId": "869d95a3-9a6e-41e3-e96b-845f1d3d5fdb"
   },
   "outputs": [
    {
     "data": {
      "text/plain": [
       "source\n",
       "label         [contact, tracing, apple, google, testing, con...\n",
       "totalcount                                                 1438\n",
       "breitbart                                                   109\n",
       "cnn                                                         349\n",
       "fox                                                          69\n",
       "nyt                                                         322\n",
       "wp                                                          589\n",
       "Name: Topic75, dtype: object"
      ]
     },
     "execution_count": 376,
     "metadata": {
      "tags": []
     },
     "output_type": "execute_result"
    }
   ],
   "source": [
    "node_list.loc[\"Topic75\"]"
   ]
  },
  {
   "cell_type": "code",
   "execution_count": null,
   "metadata": {
    "colab": {},
    "colab_type": "code",
    "id": "fS0GOhISdkS_"
   },
   "outputs": [],
   "source": [
    "node_list.reset_index(inplace=True)\n",
    "node_list.rename(columns={\"index\": \"topic\", \"source\": \"index\"}, inplace=True)"
   ]
  },
  {
   "cell_type": "code",
   "execution_count": null,
   "metadata": {
    "colab": {},
    "colab_type": "code",
    "id": "XTRnXzMbdkTB"
   },
   "outputs": [],
   "source": [
    "node_list.to_csv(\"proc/us_nodelist.csv\")"
   ]
  },
  {
   "cell_type": "markdown",
   "metadata": {
    "colab_type": "text",
    "id": "b_QRoHLHdkTD"
   },
   "source": [
    "# Edge List"
   ]
  },
  {
   "cell_type": "code",
   "execution_count": null,
   "metadata": {
    "colab": {},
    "colab_type": "code",
    "id": "HfaY8LHtdkTE"
   },
   "outputs": [],
   "source": [
    "from itertools import combinations\n",
    "from collections import OrderedDict "
   ]
  },
  {
   "cell_type": "code",
   "execution_count": null,
   "metadata": {
    "colab": {},
    "colab_type": "code",
    "id": "QlhUnXKbdkTG"
   },
   "outputs": [],
   "source": [
    "df = pd.read_pickle(\"data/us_proc.pkl\")\n",
    "doc_top_matrix = pd.read_csv(\"/proc/doc_top_matrix.csv\")\n",
    "discrete_dtm = pd.read_csv(\"/proc/discrete_dtm.csv\")"
   ]
  },
  {
   "cell_type": "code",
   "execution_count": null,
   "metadata": {
    "code_folding": [
     0
    ],
    "colab": {},
    "colab_type": "code",
    "id": "-cAPQQQQdkTH"
   },
   "outputs": [],
   "source": [
    "def get_weekday(num):\n",
    "    # https://docs.python.org/3/library/datetime.html#datetime.date.isocalendar\n",
    "    if num == 1: return \"Monday\"\n",
    "    if num == 2: return \"Tuesday\"\n",
    "    if num == 3: return \"Wednesday\"\n",
    "    if num == 4: return \"Thursday\"\n",
    "    if num == 5: return \"Friday\"\n",
    "    if num == 6: return \"Saturday\"\n",
    "    if num == 7: return \"Sunday\""
   ]
  },
  {
   "cell_type": "code",
   "execution_count": null,
   "metadata": {
    "code_folding": [
     0
    ],
    "colab": {},
    "colab_type": "code",
    "id": "e1ozJk5BdkTI"
   },
   "outputs": [],
   "source": [
    "def get_political(source):\n",
    "    \"\"\"\n",
    "    Returns true if liberal, false if conservative\n",
    "    \"\"\"\n",
    "    if source in [\"cnn\", \"wp\" ,\"nyt\"]:\n",
    "        return \"liberal\"\n",
    "    else: return \"conservative\""
   ]
  },
  {
   "cell_type": "code",
   "execution_count": null,
   "metadata": {
    "code_folding": [
     0
    ],
    "colab": {},
    "colab_type": "code",
    "id": "JHnn7bWrdkTJ"
   },
   "outputs": [],
   "source": [
    "def choose(n, k):\n",
    "    # https://stackoverflow.com/questions/3025162/statistics-combinations-in-python/3025194#3025194\n",
    "    \"\"\"\n",
    "    A fast way to calculate binomial coefficients by Andrew Dalke (contrib).\n",
    "    \"\"\"\n",
    "    if 0 <= k <= n:\n",
    "        ntok = 1\n",
    "        ktok = 1\n",
    "        for t in range(1, min(k, n - k) + 1):\n",
    "            ntok *= n\n",
    "            ktok *= t\n",
    "            n -= 1\n",
    "        return ntok // ktok\n",
    "    else:\n",
    "        return 0"
   ]
  },
  {
   "cell_type": "code",
   "execution_count": null,
   "metadata": {
    "colab": {},
    "colab_type": "code",
    "id": "a9uE-_7adkTn"
   },
   "outputs": [],
   "source": [
    "new_columns = discrete_dtm.columns.values\n",
    "discrete_dtm.columns = new_columns"
   ]
  },
  {
   "cell_type": "code",
   "execution_count": null,
   "metadata": {
    "colab": {},
    "colab_type": "code",
    "id": "6wdRZqWjdkTo"
   },
   "outputs": [],
   "source": [
    "# Number of topics in each document\n",
    "num_topics_per_document_list = discrete_dtm.sum(axis=1).values\n",
    "\n",
    "# Figure out combinations space\n",
    "num_combinations = sum([choose(a, 2) for a in num_topics_per_document_list[:-1]])\n"
   ]
  },
  {
   "cell_type": "code",
   "execution_count": null,
   "metadata": {
    "colab": {},
    "colab_type": "code",
    "id": "9ZkTOgQvdkTq",
    "outputId": "67574b2a-c579-418c-a321-edbd9e2810ec"
   },
   "outputs": [
    {
     "data": {
      "text/plain": [
       "1709368"
      ]
     },
     "execution_count": 14,
     "metadata": {
      "tags": []
     },
     "output_type": "execute_result"
    }
   ],
   "source": [
    "num_combinations"
   ]
  },
  {
   "cell_type": "code",
   "execution_count": null,
   "metadata": {
    "colab": {},
    "colab_type": "code",
    "id": "1pcmfzqJdkTw"
   },
   "outputs": [],
   "source": [
    "# Then pre-allocate that much space for the df that will hold the edge list\n",
    "columns = [\"node1\", \"node2\", \"documentId\", \"date\", \"day_of_week\", \"week_of_year\", \"month\", \"newssource\", \"political\"]\n",
    "edgelist = pd.DataFrame(columns=columns, index=range(num_combinations))\n"
   ]
  },
  {
   "cell_type": "code",
   "execution_count": null,
   "metadata": {
    "colab": {},
    "colab_type": "code",
    "id": "8NYJ_GzbdkTy"
   },
   "outputs": [],
   "source": [
    "discrete_dtm['num_topics_in_document'] = num_topics_per_document_list"
   ]
  },
  {
   "cell_type": "code",
   "execution_count": null,
   "metadata": {},
   "outputs": [],
   "source": [
    "i = 0\n",
    "for index, row in discrete_dtm.iterrows():\n",
    "    print(index)\n",
    "    if row.num_topics_in_document > 1:\n",
    "#         print(row.num_topics_in_document)\n",
    "        \n",
    "        documentId = index#int(re.search('\\d+', index).group())\n",
    "        document = df.loc[documentId] # fetch document\n",
    "        newssource = document.source\n",
    "        political = get_political(newssource)\n",
    "        \n",
    "        date = document.date\n",
    "#         print(document.source)\n",
    "        _, week_of_year, day_of_week = date.isocalendar()\n",
    "        month = document.date.month\n",
    "        day_of_week = get_weekday(day_of_week)\n",
    "        \n",
    "        topic_combinations = combinations(row.index[row == 1], 2)\n",
    "        \n",
    "        for node1, node2 in topic_combinations:\n",
    "#             print(node1, node2)\n",
    "            \n",
    "            onerow = pd.Series({\"node1\": node1, \"node2\": node2, \"documentId\": documentId, \n",
    "                                \"date\": date, \"day_of_week\": day_of_week, \"week_of_year\": week_of_year,\n",
    "                                \"month\": month, \"newssource\": newssource, \"political\": political})\n",
    "            \n",
    "            edgelist.iloc[i] = onerow\n",
    "            i += 1\n"
   ]
  },
  {
   "cell_type": "code",
   "execution_count": null,
   "metadata": {
    "colab": {},
    "colab_type": "code",
    "id": "oAjH0fdQdkT-",
    "outputId": "6db3045d-cba4-4bf3-9833-fc3845a5b906"
   },
   "outputs": [
    {
     "data": {
      "text/html": [
       "<div>\n",
       "<style scoped>\n",
       "    .dataframe tbody tr th:only-of-type {\n",
       "        vertical-align: middle;\n",
       "    }\n",
       "\n",
       "    .dataframe tbody tr th {\n",
       "        vertical-align: top;\n",
       "    }\n",
       "\n",
       "    .dataframe thead th {\n",
       "        text-align: right;\n",
       "    }\n",
       "</style>\n",
       "<table border=\"1\" class=\"dataframe\">\n",
       "  <thead>\n",
       "    <tr style=\"text-align: right;\">\n",
       "      <th></th>\n",
       "      <th>node1</th>\n",
       "      <th>node2</th>\n",
       "      <th>documentId</th>\n",
       "      <th>date</th>\n",
       "      <th>day_of_week</th>\n",
       "      <th>week_of_year</th>\n",
       "      <th>month</th>\n",
       "      <th>newssource</th>\n",
       "      <th>political</th>\n",
       "    </tr>\n",
       "  </thead>\n",
       "  <tbody>\n",
       "    <tr>\n",
       "      <th>0</th>\n",
       "      <td>Topic23</td>\n",
       "      <td>Topic68</td>\n",
       "      <td>0</td>\n",
       "      <td>2020-01-24</td>\n",
       "      <td>Friday</td>\n",
       "      <td>4</td>\n",
       "      <td>1</td>\n",
       "      <td>daily caller</td>\n",
       "      <td>conservative</td>\n",
       "    </tr>\n",
       "    <tr>\n",
       "      <th>1</th>\n",
       "      <td>Topic23</td>\n",
       "      <td>Topic80</td>\n",
       "      <td>0</td>\n",
       "      <td>2020-01-24</td>\n",
       "      <td>Friday</td>\n",
       "      <td>4</td>\n",
       "      <td>1</td>\n",
       "      <td>daily caller</td>\n",
       "      <td>conservative</td>\n",
       "    </tr>\n",
       "    <tr>\n",
       "      <th>2</th>\n",
       "      <td>Topic23</td>\n",
       "      <td>Topic167</td>\n",
       "      <td>0</td>\n",
       "      <td>2020-01-24</td>\n",
       "      <td>Friday</td>\n",
       "      <td>4</td>\n",
       "      <td>1</td>\n",
       "      <td>daily caller</td>\n",
       "      <td>conservative</td>\n",
       "    </tr>\n",
       "    <tr>\n",
       "      <th>3</th>\n",
       "      <td>Topic23</td>\n",
       "      <td>Topic170</td>\n",
       "      <td>0</td>\n",
       "      <td>2020-01-24</td>\n",
       "      <td>Friday</td>\n",
       "      <td>4</td>\n",
       "      <td>1</td>\n",
       "      <td>daily caller</td>\n",
       "      <td>conservative</td>\n",
       "    </tr>\n",
       "    <tr>\n",
       "      <th>4</th>\n",
       "      <td>Topic23</td>\n",
       "      <td>Topic203</td>\n",
       "      <td>0</td>\n",
       "      <td>2020-01-24</td>\n",
       "      <td>Friday</td>\n",
       "      <td>4</td>\n",
       "      <td>1</td>\n",
       "      <td>daily caller</td>\n",
       "      <td>conservative</td>\n",
       "    </tr>\n",
       "    <tr>\n",
       "      <th>...</th>\n",
       "      <td>...</td>\n",
       "      <td>...</td>\n",
       "      <td>...</td>\n",
       "      <td>...</td>\n",
       "      <td>...</td>\n",
       "      <td>...</td>\n",
       "      <td>...</td>\n",
       "      <td>...</td>\n",
       "      <td>...</td>\n",
       "    </tr>\n",
       "    <tr>\n",
       "      <th>1709363</th>\n",
       "      <td>Topic54</td>\n",
       "      <td>Topic393</td>\n",
       "      <td>51539</td>\n",
       "      <td>2020-05-11</td>\n",
       "      <td>Monday</td>\n",
       "      <td>20</td>\n",
       "      <td>5</td>\n",
       "      <td>daily caller</td>\n",
       "      <td>conservative</td>\n",
       "    </tr>\n",
       "    <tr>\n",
       "      <th>1709364</th>\n",
       "      <td>Topic54</td>\n",
       "      <td>Topic471</td>\n",
       "      <td>51539</td>\n",
       "      <td>2020-05-11</td>\n",
       "      <td>Monday</td>\n",
       "      <td>20</td>\n",
       "      <td>5</td>\n",
       "      <td>daily caller</td>\n",
       "      <td>conservative</td>\n",
       "    </tr>\n",
       "    <tr>\n",
       "      <th>1709365</th>\n",
       "      <td>Topic188</td>\n",
       "      <td>Topic393</td>\n",
       "      <td>51539</td>\n",
       "      <td>2020-05-11</td>\n",
       "      <td>Monday</td>\n",
       "      <td>20</td>\n",
       "      <td>5</td>\n",
       "      <td>daily caller</td>\n",
       "      <td>conservative</td>\n",
       "    </tr>\n",
       "    <tr>\n",
       "      <th>1709366</th>\n",
       "      <td>Topic188</td>\n",
       "      <td>Topic471</td>\n",
       "      <td>51539</td>\n",
       "      <td>2020-05-11</td>\n",
       "      <td>Monday</td>\n",
       "      <td>20</td>\n",
       "      <td>5</td>\n",
       "      <td>daily caller</td>\n",
       "      <td>conservative</td>\n",
       "    </tr>\n",
       "    <tr>\n",
       "      <th>1709367</th>\n",
       "      <td>Topic393</td>\n",
       "      <td>Topic471</td>\n",
       "      <td>51539</td>\n",
       "      <td>2020-05-11</td>\n",
       "      <td>Monday</td>\n",
       "      <td>20</td>\n",
       "      <td>5</td>\n",
       "      <td>daily caller</td>\n",
       "      <td>conservative</td>\n",
       "    </tr>\n",
       "  </tbody>\n",
       "</table>\n",
       "<p>1709368 rows × 9 columns</p>\n",
       "</div>"
      ],
      "text/plain": [
       "            node1     node2 documentId        date day_of_week week_of_year  \\\n",
       "0         Topic23   Topic68          0  2020-01-24      Friday            4   \n",
       "1         Topic23   Topic80          0  2020-01-24      Friday            4   \n",
       "2         Topic23  Topic167          0  2020-01-24      Friday            4   \n",
       "3         Topic23  Topic170          0  2020-01-24      Friday            4   \n",
       "4         Topic23  Topic203          0  2020-01-24      Friday            4   \n",
       "...           ...       ...        ...         ...         ...          ...   \n",
       "1709363   Topic54  Topic393      51539  2020-05-11      Monday           20   \n",
       "1709364   Topic54  Topic471      51539  2020-05-11      Monday           20   \n",
       "1709365  Topic188  Topic393      51539  2020-05-11      Monday           20   \n",
       "1709366  Topic188  Topic471      51539  2020-05-11      Monday           20   \n",
       "1709367  Topic393  Topic471      51539  2020-05-11      Monday           20   \n",
       "\n",
       "        month    newssource     political  \n",
       "0           1  daily caller  conservative  \n",
       "1           1  daily caller  conservative  \n",
       "2           1  daily caller  conservative  \n",
       "3           1  daily caller  conservative  \n",
       "4           1  daily caller  conservative  \n",
       "...       ...           ...           ...  \n",
       "1709363     5  daily caller  conservative  \n",
       "1709364     5  daily caller  conservative  \n",
       "1709365     5  daily caller  conservative  \n",
       "1709366     5  daily caller  conservative  \n",
       "1709367     5  daily caller  conservative  \n",
       "\n",
       "[1709368 rows x 9 columns]"
      ]
     },
     "execution_count": 84,
     "metadata": {
      "tags": []
     },
     "output_type": "execute_result"
    }
   ],
   "source": [
    "edgelist"
   ]
  },
  {
   "cell_type": "code",
   "execution_count": null,
   "metadata": {
    "colab": {},
    "colab_type": "code",
    "id": "sPPEbzeodkUA",
    "outputId": "9d57613a-c557-4735-c453-d418961620c5"
   },
   "outputs": [
    {
     "data": {
      "text/plain": [
       "node1             Topic299\n",
       "node2             Topic342\n",
       "documentId              29\n",
       "date            2020-01-20\n",
       "day_of_week         Monday\n",
       "week_of_year             4\n",
       "month                    1\n",
       "newssource              wp\n",
       "political          liberal\n",
       "Name: 1000, dtype: object"
      ]
     },
     "execution_count": 22,
     "metadata": {
      "tags": []
     },
     "output_type": "execute_result"
    }
   ],
   "source": [
    "edgelist.loc[1000]"
   ]
  },
  {
   "cell_type": "code",
   "execution_count": null,
   "metadata": {
    "colab": {},
    "colab_type": "code",
    "id": "t-No0EBkdkUC"
   },
   "outputs": [],
   "source": [
    "edgelist.to_csv(f\"proc/us_edgelist.csv\")"
   ]
  },
  {
   "cell_type": "code",
   "execution_count": null,
   "metadata": {
    "colab": {},
    "colab_type": "code",
    "id": "CFkKwq-wdkUF"
   },
   "outputs": [],
   "source": [
    "edgelist.to_pickle(f\"proc/us_edgelist.pkl\")\n"
   ]
  },
  {
   "cell_type": "code",
   "execution_count": null,
   "metadata": {
    "colab": {},
    "colab_type": "code",
    "id": "FNaelnL4dkUH"
   },
   "outputs": [],
   "source": [
    "# WEIGHTED EDGE LIST"
   ]
  },
  {
   "cell_type": "code",
   "execution_count": null,
   "metadata": {
    "colab": {},
    "colab_type": "code",
    "id": "DKvyQMRbdkUL"
   },
   "outputs": [],
   "source": [
    "df_weight = edgelist[[\"node1\", \"node2\"]]"
   ]
  },
  {
   "cell_type": "code",
   "execution_count": null,
   "metadata": {
    "colab": {},
    "colab_type": "code",
    "id": "N994DPJXdkUN"
   },
   "outputs": [],
   "source": [
    "df_weight = df_weight.groupby(df_weight.columns.tolist(),as_index=False).size().reset_index().rename(columns={0:'weight'})"
   ]
  },
  {
   "cell_type": "code",
   "execution_count": null,
   "metadata": {
    "colab": {},
    "colab_type": "code",
    "id": "lLJIvl4GdkUQ",
    "outputId": "f3a7896e-45b7-42d2-dc95-3cec3f7395e9",
    "scrolled": true
   },
   "outputs": [
    {
     "data": {
      "text/html": [
       "<div>\n",
       "<style scoped>\n",
       "    .dataframe tbody tr th:only-of-type {\n",
       "        vertical-align: middle;\n",
       "    }\n",
       "\n",
       "    .dataframe tbody tr th {\n",
       "        vertical-align: top;\n",
       "    }\n",
       "\n",
       "    .dataframe thead th {\n",
       "        text-align: right;\n",
       "    }\n",
       "</style>\n",
       "<table border=\"1\" class=\"dataframe\">\n",
       "  <thead>\n",
       "    <tr style=\"text-align: right;\">\n",
       "      <th></th>\n",
       "      <th>node1</th>\n",
       "      <th>node2</th>\n",
       "      <th>weight</th>\n",
       "    </tr>\n",
       "  </thead>\n",
       "  <tbody>\n",
       "    <tr>\n",
       "      <th>1</th>\n",
       "      <td>Topic0</td>\n",
       "      <td>Topic10</td>\n",
       "      <td>151</td>\n",
       "    </tr>\n",
       "    <tr>\n",
       "      <th>2</th>\n",
       "      <td>Topic0</td>\n",
       "      <td>Topic100</td>\n",
       "      <td>207</td>\n",
       "    </tr>\n",
       "    <tr>\n",
       "      <th>3</th>\n",
       "      <td>Topic0</td>\n",
       "      <td>Topic101</td>\n",
       "      <td>156</td>\n",
       "    </tr>\n",
       "    <tr>\n",
       "      <th>4</th>\n",
       "      <td>Topic0</td>\n",
       "      <td>Topic102</td>\n",
       "      <td>146</td>\n",
       "    </tr>\n",
       "    <tr>\n",
       "      <th>5</th>\n",
       "      <td>Topic0</td>\n",
       "      <td>Topic103</td>\n",
       "      <td>130</td>\n",
       "    </tr>\n",
       "    <tr>\n",
       "      <th>...</th>\n",
       "      <td>...</td>\n",
       "      <td>...</td>\n",
       "      <td>...</td>\n",
       "    </tr>\n",
       "    <tr>\n",
       "      <th>64094</th>\n",
       "      <td>Topic99</td>\n",
       "      <td>Topic275</td>\n",
       "      <td>2</td>\n",
       "    </tr>\n",
       "    <tr>\n",
       "      <th>64096</th>\n",
       "      <td>Topic99</td>\n",
       "      <td>Topic299</td>\n",
       "      <td>2</td>\n",
       "    </tr>\n",
       "    <tr>\n",
       "      <th>64098</th>\n",
       "      <td>Topic99</td>\n",
       "      <td>Topic308</td>\n",
       "      <td>4</td>\n",
       "    </tr>\n",
       "    <tr>\n",
       "      <th>64106</th>\n",
       "      <td>Topic99</td>\n",
       "      <td>Topic338</td>\n",
       "      <td>2</td>\n",
       "    </tr>\n",
       "    <tr>\n",
       "      <th>64119</th>\n",
       "      <td>Topic99</td>\n",
       "      <td>Topic498</td>\n",
       "      <td>2</td>\n",
       "    </tr>\n",
       "  </tbody>\n",
       "</table>\n",
       "<p>54258 rows × 3 columns</p>\n",
       "</div>"
      ],
      "text/plain": [
       "         node1     node2  weight\n",
       "1       Topic0   Topic10     151\n",
       "2       Topic0  Topic100     207\n",
       "3       Topic0  Topic101     156\n",
       "4       Topic0  Topic102     146\n",
       "5       Topic0  Topic103     130\n",
       "...        ...       ...     ...\n",
       "64094  Topic99  Topic275       2\n",
       "64096  Topic99  Topic299       2\n",
       "64098  Topic99  Topic308       4\n",
       "64106  Topic99  Topic338       2\n",
       "64119  Topic99  Topic498       2\n",
       "\n",
       "[54258 rows x 3 columns]"
      ]
     },
     "execution_count": 90,
     "metadata": {
      "tags": []
     },
     "output_type": "execute_result"
    }
   ],
   "source": [
    "df_weight[df_weight['weight'] > 1]"
   ]
  },
  {
   "cell_type": "code",
   "execution_count": null,
   "metadata": {
    "colab": {},
    "colab_type": "code",
    "id": "SnD44W0WdkUR"
   },
   "outputs": [],
   "source": [
    "df_weight.sort_values(\"weight\", ascending=False, inplace=True)"
   ]
  },
  {
   "cell_type": "code",
   "execution_count": null,
   "metadata": {
    "colab": {},
    "colab_type": "code",
    "id": "LyALHcDedkUS"
   },
   "outputs": [],
   "source": [
    "weights = df_weight.sort_values(\"weight\", ascending=False).weight.values"
   ]
  },
  {
   "cell_type": "code",
   "execution_count": null,
   "metadata": {
    "colab": {},
    "colab_type": "code",
    "id": "Zg4ltqYodkUT",
    "outputId": "b140558c-01df-4174-c8cc-f05ca608aedd"
   },
   "outputs": [
    {
     "data": {
      "text/plain": [
       "(array([76., 17.,  4.,  1.,  0.,  0.,  0.,  1.,  0.,  1.]),\n",
       " array([ 557. ,  958.6, 1360.2, 1761.8, 2163.4, 2565. , 2966.6, 3368.2,\n",
       "        3769.8, 4171.4, 4573. ]),\n",
       " <a list of 10 Patch objects>)"
      ]
     },
     "execution_count": 94,
     "metadata": {
      "tags": []
     },
     "output_type": "execute_result"
    },
    {
     "data": {
      "image/png": "[encoded data removed]",
      "text/plain": [
       "<Figure size 432x288 with 1 Axes>"
      ]
     },
     "metadata": {
      "needs_background": "light",
      "tags": []
     },
     "output_type": "display_data"
    }
   ],
   "source": [
    "plt.hist(weights[:100], bins = 10)"
   ]
  },
  {
   "cell_type": "code",
   "execution_count": null,
   "metadata": {
    "colab": {},
    "colab_type": "code",
    "id": "SDIgfsRUdkUU",
    "outputId": "b763d69d-ba0e-4144-ea74-aa4ab01f778c",
    "scrolled": true
   },
   "outputs": [
    {
     "data": {
      "text/html": [
       "<div>\n",
       "<style scoped>\n",
       "    .dataframe tbody tr th:only-of-type {\n",
       "        vertical-align: middle;\n",
       "    }\n",
       "\n",
       "    .dataframe tbody tr th {\n",
       "        vertical-align: top;\n",
       "    }\n",
       "\n",
       "    .dataframe thead th {\n",
       "        text-align: right;\n",
       "    }\n",
       "</style>\n",
       "<table border=\"1\" class=\"dataframe\">\n",
       "  <thead>\n",
       "    <tr style=\"text-align: right;\">\n",
       "      <th></th>\n",
       "      <th>node1</th>\n",
       "      <th>node2</th>\n",
       "      <th>weight</th>\n",
       "    </tr>\n",
       "  </thead>\n",
       "  <tbody>\n",
       "    <tr>\n",
       "      <th>57985</th>\n",
       "      <td>Topic75</td>\n",
       "      <td>Topic156</td>\n",
       "      <td>269</td>\n",
       "    </tr>\n",
       "    <tr>\n",
       "      <th>58092</th>\n",
       "      <td>Topic75</td>\n",
       "      <td>Topic275</td>\n",
       "      <td>267</td>\n",
       "    </tr>\n",
       "    <tr>\n",
       "      <th>57963</th>\n",
       "      <td>Topic75</td>\n",
       "      <td>Topic134</td>\n",
       "      <td>263</td>\n",
       "    </tr>\n",
       "    <tr>\n",
       "      <th>58110</th>\n",
       "      <td>Topic75</td>\n",
       "      <td>Topic299</td>\n",
       "      <td>258</td>\n",
       "    </tr>\n",
       "    <tr>\n",
       "      <th>57939</th>\n",
       "      <td>Topic75</td>\n",
       "      <td>Topic105</td>\n",
       "      <td>219</td>\n",
       "    </tr>\n",
       "  </tbody>\n",
       "</table>\n",
       "</div>"
      ],
      "text/plain": [
       "         node1     node2  weight\n",
       "57985  Topic75  Topic156     269\n",
       "58092  Topic75  Topic275     267\n",
       "57963  Topic75  Topic134     263\n",
       "58110  Topic75  Topic299     258\n",
       "57939  Topic75  Topic105     219"
      ]
     },
     "execution_count": 95,
     "metadata": {
      "tags": []
     },
     "output_type": "execute_result"
    }
   ],
   "source": [
    "df_weight[df_weight.node1 == \"Topic75\"].head()"
   ]
  },
  {
   "cell_type": "code",
   "execution_count": null,
   "metadata": {
    "colab": {},
    "colab_type": "code",
    "id": "7AkSVQWjdkUW",
    "outputId": "138452c9-256e-4412-acb6-f34c6bc36a48"
   },
   "outputs": [
    {
     "data": {
      "text/html": [
       "<div>\n",
       "<style scoped>\n",
       "    .dataframe tbody tr th:only-of-type {\n",
       "        vertical-align: middle;\n",
       "    }\n",
       "\n",
       "    .dataframe tbody tr th {\n",
       "        vertical-align: top;\n",
       "    }\n",
       "\n",
       "    .dataframe thead th {\n",
       "        text-align: right;\n",
       "    }\n",
       "</style>\n",
       "<table border=\"1\" class=\"dataframe\">\n",
       "  <thead>\n",
       "    <tr style=\"text-align: right;\">\n",
       "      <th></th>\n",
       "      <th>node1</th>\n",
       "      <th>node2</th>\n",
       "      <th>weight</th>\n",
       "    </tr>\n",
       "  </thead>\n",
       "  <tbody>\n",
       "    <tr>\n",
       "      <th>731</th>\n",
       "      <td>Topic1</td>\n",
       "      <td>Topic75</td>\n",
       "      <td>457</td>\n",
       "    </tr>\n",
       "    <tr>\n",
       "      <th>57914</th>\n",
       "      <td>Topic74</td>\n",
       "      <td>Topic75</td>\n",
       "      <td>390</td>\n",
       "    </tr>\n",
       "    <tr>\n",
       "      <th>25056</th>\n",
       "      <td>Topic2</td>\n",
       "      <td>Topic75</td>\n",
       "      <td>266</td>\n",
       "    </tr>\n",
       "    <tr>\n",
       "      <th>33041</th>\n",
       "      <td>Topic24</td>\n",
       "      <td>Topic75</td>\n",
       "      <td>229</td>\n",
       "    </tr>\n",
       "    <tr>\n",
       "      <th>31297</th>\n",
       "      <td>Topic23</td>\n",
       "      <td>Topic75</td>\n",
       "      <td>201</td>\n",
       "    </tr>\n",
       "  </tbody>\n",
       "</table>\n",
       "</div>"
      ],
      "text/plain": [
       "         node1    node2  weight\n",
       "731     Topic1  Topic75     457\n",
       "57914  Topic74  Topic75     390\n",
       "25056   Topic2  Topic75     266\n",
       "33041  Topic24  Topic75     229\n",
       "31297  Topic23  Topic75     201"
      ]
     },
     "execution_count": 96,
     "metadata": {
      "tags": []
     },
     "output_type": "execute_result"
    }
   ],
   "source": [
    "df_weight[df_weight.node2 == \"Topic75\"].head()"
   ]
  },
  {
   "cell_type": "code",
   "execution_count": null,
   "metadata": {
    "colab": {},
    "colab_type": "code",
    "id": "vyTwWxNSdkUY",
    "outputId": "3c096ebd-28b7-42f5-90c6-a03881e0b08f"
   },
   "outputs": [
    {
     "data": {
      "text/html": [
       "<div>\n",
       "<style scoped>\n",
       "    .dataframe tbody tr th:only-of-type {\n",
       "        vertical-align: middle;\n",
       "    }\n",
       "\n",
       "    .dataframe tbody tr th {\n",
       "        vertical-align: top;\n",
       "    }\n",
       "\n",
       "    .dataframe thead th {\n",
       "        text-align: right;\n",
       "    }\n",
       "</style>\n",
       "<table border=\"1\" class=\"dataframe\">\n",
       "  <thead>\n",
       "    <tr style=\"text-align: right;\">\n",
       "      <th></th>\n",
       "      <th>node1</th>\n",
       "      <th>node2</th>\n",
       "      <th>weight</th>\n",
       "    </tr>\n",
       "  </thead>\n",
       "  <tbody>\n",
       "    <tr>\n",
       "      <th>445</th>\n",
       "      <td>Topic1</td>\n",
       "      <td>Topic2</td>\n",
       "      <td>4573</td>\n",
       "    </tr>\n",
       "    <tr>\n",
       "      <th>730</th>\n",
       "      <td>Topic1</td>\n",
       "      <td>Topic74</td>\n",
       "      <td>3485</td>\n",
       "    </tr>\n",
       "    <tr>\n",
       "      <th>710</th>\n",
       "      <td>Topic1</td>\n",
       "      <td>Topic54</td>\n",
       "      <td>1824</td>\n",
       "    </tr>\n",
       "    <tr>\n",
       "      <th>25055</th>\n",
       "      <td>Topic2</td>\n",
       "      <td>Topic74</td>\n",
       "      <td>1703</td>\n",
       "    </tr>\n",
       "    <tr>\n",
       "      <th>31296</th>\n",
       "      <td>Topic23</td>\n",
       "      <td>Topic74</td>\n",
       "      <td>1656</td>\n",
       "    </tr>\n",
       "    <tr>\n",
       "      <th>...</th>\n",
       "      <td>...</td>\n",
       "      <td>...</td>\n",
       "      <td>...</td>\n",
       "    </tr>\n",
       "    <tr>\n",
       "      <th>37491</th>\n",
       "      <td>Topic27</td>\n",
       "      <td>Topic79</td>\n",
       "      <td>1</td>\n",
       "    </tr>\n",
       "    <tr>\n",
       "      <th>37475</th>\n",
       "      <td>Topic27</td>\n",
       "      <td>Topic52</td>\n",
       "      <td>1</td>\n",
       "    </tr>\n",
       "    <tr>\n",
       "      <th>37474</th>\n",
       "      <td>Topic27</td>\n",
       "      <td>Topic50</td>\n",
       "      <td>1</td>\n",
       "    </tr>\n",
       "    <tr>\n",
       "      <th>37470</th>\n",
       "      <td>Topic27</td>\n",
       "      <td>Topic495</td>\n",
       "      <td>1</td>\n",
       "    </tr>\n",
       "    <tr>\n",
       "      <th>0</th>\n",
       "      <td>Topic0</td>\n",
       "      <td>Topic1</td>\n",
       "      <td>1</td>\n",
       "    </tr>\n",
       "  </tbody>\n",
       "</table>\n",
       "<p>64120 rows × 3 columns</p>\n",
       "</div>"
      ],
      "text/plain": [
       "         node1     node2  weight\n",
       "445     Topic1    Topic2    4573\n",
       "730     Topic1   Topic74    3485\n",
       "710     Topic1   Topic54    1824\n",
       "25055   Topic2   Topic74    1703\n",
       "31296  Topic23   Topic74    1656\n",
       "...        ...       ...     ...\n",
       "37491  Topic27   Topic79       1\n",
       "37475  Topic27   Topic52       1\n",
       "37474  Topic27   Topic50       1\n",
       "37470  Topic27  Topic495       1\n",
       "0       Topic0    Topic1       1\n",
       "\n",
       "[64120 rows x 3 columns]"
      ]
     },
     "execution_count": 97,
     "metadata": {
      "tags": []
     },
     "output_type": "execute_result"
    }
   ],
   "source": [
    "df_weight"
   ]
  },
  {
   "cell_type": "code",
   "execution_count": null,
   "metadata": {
    "colab": {},
    "colab_type": "code",
    "id": "EdU4rf7edkUZ"
   },
   "outputs": [],
   "source": [
    "df_weight.to_csv(\"proc/us_edgelist_weight.csv\")"
   ]
  },
  {
   "cell_type": "markdown",
   "metadata": {},
   "source": [
    "# Analysis"
   ]
  },
  {
   "cell_type": "code",
   "execution_count": null,
   "metadata": {},
   "outputs": [],
   "source": [
    "# Topic seventyfive is contact tracing\n",
    "seventyfive = edgelist[edgelist['node1'] == \"Topic75\"]\n",
    "seventyfive = seventyfive.append(edgelist[edgelist['node2'] == \"Topic75\"])\n",
    "seventyfive = seventyfive.sort_values(by=\"weight\", ascending = False)"
   ]
  },
  {
   "cell_type": "code",
   "execution_count": 15,
   "metadata": {
    "colab": {
     "base_uri": "https://localhost:8080/",
     "height": 34
    },
    "colab_type": "code",
    "executionInfo": {
     "elapsed": 3354,
     "status": "ok",
     "timestamp": 1599011179617,
     "user": {
      "displayName": "Yennie Jun",
      "photoUrl": "https://lh3.googleusercontent.com/a-/AOh14Ghq9YbwAPVv0DbwYiBidTSaejUC5xQMVp78N4Ek2g=s64",
      "userId": "01503012861379704934"
     },
     "user_tz": 300
    },
    "id": "3NUA-tC_dkUl",
    "outputId": "53e9282a-2d5c-4504-a5fe-29834b0dc297"
   },
   "outputs": [
    {
     "data": {
      "text/plain": [
       "370"
      ]
     },
     "execution_count": 15,
     "metadata": {
      "tags": []
     },
     "output_type": "execute_result"
    }
   ],
   "source": [
    "len(seventyfive)"
   ]
  },
  {
   "cell_type": "code",
   "execution_count": null,
   "metadata": {
    "colab": {},
    "colab_type": "code",
    "id": "Kd2kwZdKdkUn",
    "outputId": "9b7fb5a8-6cfe-4008-8f2e-fbd7e229c0c2"
   },
   "outputs": [
    {
     "data": {
      "text/html": [
       "<div>\n",
       "<style scoped>\n",
       "    .dataframe tbody tr th:only-of-type {\n",
       "        vertical-align: middle;\n",
       "    }\n",
       "\n",
       "    .dataframe tbody tr th {\n",
       "        vertical-align: top;\n",
       "    }\n",
       "\n",
       "    .dataframe thead th {\n",
       "        text-align: right;\n",
       "    }\n",
       "</style>\n",
       "<table border=\"1\" class=\"dataframe\">\n",
       "  <thead>\n",
       "    <tr style=\"text-align: right;\">\n",
       "      <th></th>\n",
       "      <th>node1</th>\n",
       "      <th>node2</th>\n",
       "      <th>weight</th>\n",
       "    </tr>\n",
       "  </thead>\n",
       "  <tbody>\n",
       "    <tr>\n",
       "      <th>170</th>\n",
       "      <td>Topic1</td>\n",
       "      <td>Topic75</td>\n",
       "      <td>457</td>\n",
       "    </tr>\n",
       "    <tr>\n",
       "      <th>264</th>\n",
       "      <td>Topic74</td>\n",
       "      <td>Topic75</td>\n",
       "      <td>390</td>\n",
       "    </tr>\n",
       "    <tr>\n",
       "      <th>621</th>\n",
       "      <td>Topic75</td>\n",
       "      <td>Topic156</td>\n",
       "      <td>269</td>\n",
       "    </tr>\n",
       "    <tr>\n",
       "      <th>639</th>\n",
       "      <td>Topic75</td>\n",
       "      <td>Topic275</td>\n",
       "      <td>267</td>\n",
       "    </tr>\n",
       "    <tr>\n",
       "      <th>642</th>\n",
       "      <td>Topic2</td>\n",
       "      <td>Topic75</td>\n",
       "      <td>266</td>\n",
       "    </tr>\n",
       "    <tr>\n",
       "      <th>...</th>\n",
       "      <td>...</td>\n",
       "      <td>...</td>\n",
       "      <td>...</td>\n",
       "    </tr>\n",
       "    <tr>\n",
       "      <th>62193</th>\n",
       "      <td>Topic75</td>\n",
       "      <td>Topic493</td>\n",
       "      <td>1</td>\n",
       "    </tr>\n",
       "    <tr>\n",
       "      <th>62201</th>\n",
       "      <td>Topic75</td>\n",
       "      <td>Topic192</td>\n",
       "      <td>1</td>\n",
       "    </tr>\n",
       "    <tr>\n",
       "      <th>62224</th>\n",
       "      <td>Topic75</td>\n",
       "      <td>Topic143</td>\n",
       "      <td>1</td>\n",
       "    </tr>\n",
       "    <tr>\n",
       "      <th>62252</th>\n",
       "      <td>Topic75</td>\n",
       "      <td>Topic284</td>\n",
       "      <td>1</td>\n",
       "    </tr>\n",
       "    <tr>\n",
       "      <th>64021</th>\n",
       "      <td>Topic66</td>\n",
       "      <td>Topic75</td>\n",
       "      <td>1</td>\n",
       "    </tr>\n",
       "  </tbody>\n",
       "</table>\n",
       "<p>370 rows × 3 columns</p>\n",
       "</div>"
      ],
      "text/plain": [
       "         node1     node2  weight\n",
       "170     Topic1   Topic75     457\n",
       "264    Topic74   Topic75     390\n",
       "621    Topic75  Topic156     269\n",
       "639    Topic75  Topic275     267\n",
       "642     Topic2   Topic75     266\n",
       "...        ...       ...     ...\n",
       "62193  Topic75  Topic493       1\n",
       "62201  Topic75  Topic192       1\n",
       "62224  Topic75  Topic143       1\n",
       "62252  Topic75  Topic284       1\n",
       "64021  Topic66   Topic75       1\n",
       "\n",
       "[370 rows x 3 columns]"
      ]
     },
     "execution_count": 13,
     "metadata": {
      "tags": []
     },
     "output_type": "execute_result"
    }
   ],
   "source": [
    "seventyfive"
   ]
  },
  {
   "cell_type": "code",
   "execution_count": null,
   "metadata": {
    "colab": {},
    "colab_type": "code",
    "id": "_5brB37fdkVW"
   },
   "outputs": [],
   "source": [
    "nodelist_weighted = nodelist.sort_values(by=\"totalcount\", ascending=False)\n",
    "nodelist_weighted.reset_index(drop=False, inplace=True)"
   ]
  },
  {
   "cell_type": "code",
   "execution_count": null,
   "metadata": {
    "colab": {},
    "colab_type": "code",
    "id": "Azcdotz1dkVZ",
    "outputId": "5934edcd-fb43-43fa-aea9-4dc644034d5f"
   },
   "outputs": [
    {
     "data": {
      "text/html": [
       "<div>\n",
       "<style scoped>\n",
       "    .dataframe tbody tr th:only-of-type {\n",
       "        vertical-align: middle;\n",
       "    }\n",
       "\n",
       "    .dataframe tbody tr th {\n",
       "        vertical-align: top;\n",
       "    }\n",
       "\n",
       "    .dataframe thead th {\n",
       "        text-align: right;\n",
       "    }\n",
       "</style>\n",
       "<table border=\"1\" class=\"dataframe\">\n",
       "  <thead>\n",
       "    <tr style=\"text-align: right;\">\n",
       "      <th></th>\n",
       "      <th>index</th>\n",
       "      <th>topic</th>\n",
       "      <th>label</th>\n",
       "      <th>totalcount</th>\n",
       "      <th>breitbart</th>\n",
       "      <th>cnn</th>\n",
       "      <th>fox</th>\n",
       "      <th>nyt</th>\n",
       "      <th>wp</th>\n",
       "    </tr>\n",
       "  </thead>\n",
       "  <tbody>\n",
       "    <tr>\n",
       "      <th>72</th>\n",
       "      <td>75</td>\n",
       "      <td>Topic75</td>\n",
       "      <td>['contact', 'tracing', 'apple', 'google', 'tes...</td>\n",
       "      <td>1438</td>\n",
       "      <td>109</td>\n",
       "      <td>349</td>\n",
       "      <td>69</td>\n",
       "      <td>322</td>\n",
       "      <td>589</td>\n",
       "    </tr>\n",
       "  </tbody>\n",
       "</table>\n",
       "</div>"
      ],
      "text/plain": [
       "    index    topic                                              label  \\\n",
       "72     75  Topic75  ['contact', 'tracing', 'apple', 'google', 'tes...   \n",
       "\n",
       "    totalcount  breitbart  cnn  fox  nyt   wp  \n",
       "72        1438        109  349   69  322  589  "
      ]
     },
     "execution_count": 16,
     "metadata": {
      "tags": []
     },
     "output_type": "execute_result"
    }
   ],
   "source": [
    "nodelist_weighted[nodelist_weighted.topic == \"Topic75\"]"
   ]
  },
  {
   "cell_type": "code",
   "execution_count": null,
   "metadata": {
    "colab": {},
    "colab_type": "code",
    "id": "fqcT92_OdkVd",
    "outputId": "80e23394-fefb-4be9-cc53-ff7ed79de7b5"
   },
   "outputs": [
    {
     "data": {
      "text/html": [
       "<div>\n",
       "<style scoped>\n",
       "    .dataframe tbody tr th:only-of-type {\n",
       "        vertical-align: middle;\n",
       "    }\n",
       "\n",
       "    .dataframe tbody tr th {\n",
       "        vertical-align: top;\n",
       "    }\n",
       "\n",
       "    .dataframe thead th {\n",
       "        text-align: right;\n",
       "    }\n",
       "</style>\n",
       "<table border=\"1\" class=\"dataframe\">\n",
       "  <thead>\n",
       "    <tr style=\"text-align: right;\">\n",
       "      <th></th>\n",
       "      <th>index</th>\n",
       "      <th>topic</th>\n",
       "      <th>label</th>\n",
       "      <th>totalcount</th>\n",
       "      <th>breitbart</th>\n",
       "      <th>cnn</th>\n",
       "      <th>fox</th>\n",
       "      <th>nyt</th>\n",
       "      <th>wp</th>\n",
       "    </tr>\n",
       "  </thead>\n",
       "  <tbody>\n",
       "    <tr>\n",
       "      <th>0</th>\n",
       "      <td>1</td>\n",
       "      <td>Topic1</td>\n",
       "      <td>['important', 'news', 'editor', 'delivered', '...</td>\n",
       "      <td>13434</td>\n",
       "      <td>0</td>\n",
       "      <td>0</td>\n",
       "      <td>0</td>\n",
       "      <td>0</td>\n",
       "      <td>13434</td>\n",
       "    </tr>\n",
       "    <tr>\n",
       "      <th>1</th>\n",
       "      <td>74</td>\n",
       "      <td>Topic74</td>\n",
       "      <td>['president', 'trump', 'trump', 'called', 'pan...</td>\n",
       "      <td>8871</td>\n",
       "      <td>968</td>\n",
       "      <td>822</td>\n",
       "      <td>611</td>\n",
       "      <td>2248</td>\n",
       "      <td>4220</td>\n",
       "    </tr>\n",
       "    <tr>\n",
       "      <th>2</th>\n",
       "      <td>23</td>\n",
       "      <td>Topic23</td>\n",
       "      <td>['donald', 'trump', 'president', 'donald', 'tr...</td>\n",
       "      <td>6926</td>\n",
       "      <td>1741</td>\n",
       "      <td>2947</td>\n",
       "      <td>118</td>\n",
       "      <td>781</td>\n",
       "      <td>1313</td>\n",
       "    </tr>\n",
       "    <tr>\n",
       "      <th>3</th>\n",
       "      <td>0</td>\n",
       "      <td>Topic0</td>\n",
       "      <td>['paid', 'leave', 'unemployment', 'rate', 'sur...</td>\n",
       "      <td>5152</td>\n",
       "      <td>2</td>\n",
       "      <td>8</td>\n",
       "      <td>3</td>\n",
       "      <td>5138</td>\n",
       "      <td>1</td>\n",
       "    </tr>\n",
       "    <tr>\n",
       "      <th>4</th>\n",
       "      <td>7</td>\n",
       "      <td>Topic7</td>\n",
       "      <td>['coronavirus', 'pandemic', 'caused', 'coronav...</td>\n",
       "      <td>4842</td>\n",
       "      <td>783</td>\n",
       "      <td>1488</td>\n",
       "      <td>260</td>\n",
       "      <td>1102</td>\n",
       "      <td>1205</td>\n",
       "    </tr>\n",
       "    <tr>\n",
       "      <th>...</th>\n",
       "      <td>...</td>\n",
       "      <td>...</td>\n",
       "      <td>...</td>\n",
       "      <td>...</td>\n",
       "      <td>...</td>\n",
       "      <td>...</td>\n",
       "      <td>...</td>\n",
       "      <td>...</td>\n",
       "      <td>...</td>\n",
       "    </tr>\n",
       "    <tr>\n",
       "      <th>495</th>\n",
       "      <td>315</td>\n",
       "      <td>Topic315</td>\n",
       "      <td>['postal', 'service', 'post', 'office', 'jeff'...</td>\n",
       "      <td>0</td>\n",
       "      <td>0</td>\n",
       "      <td>0</td>\n",
       "      <td>0</td>\n",
       "      <td>0</td>\n",
       "      <td>0</td>\n",
       "    </tr>\n",
       "    <tr>\n",
       "      <th>496</th>\n",
       "      <td>305</td>\n",
       "      <td>Topic305</td>\n",
       "      <td>['remain', 'open', 'nonessential', 'business',...</td>\n",
       "      <td>0</td>\n",
       "      <td>0</td>\n",
       "      <td>0</td>\n",
       "      <td>0</td>\n",
       "      <td>0</td>\n",
       "      <td>0</td>\n",
       "    </tr>\n",
       "    <tr>\n",
       "      <th>497</th>\n",
       "      <td>392</td>\n",
       "      <td>Topic392</td>\n",
       "      <td>['trump', 'administration', 'administration', ...</td>\n",
       "      <td>0</td>\n",
       "      <td>0</td>\n",
       "      <td>0</td>\n",
       "      <td>0</td>\n",
       "      <td>0</td>\n",
       "      <td>0</td>\n",
       "    </tr>\n",
       "    <tr>\n",
       "      <th>498</th>\n",
       "      <td>303</td>\n",
       "      <td>Topic303</td>\n",
       "      <td>['every', 'year', 'year', 'since', 'time', 'ye...</td>\n",
       "      <td>0</td>\n",
       "      <td>0</td>\n",
       "      <td>0</td>\n",
       "      <td>0</td>\n",
       "      <td>0</td>\n",
       "      <td>0</td>\n",
       "    </tr>\n",
       "    <tr>\n",
       "      <th>499</th>\n",
       "      <td>51</td>\n",
       "      <td>Topic51</td>\n",
       "      <td>['task', 'force', 'coronavirus', 'task', 'hous...</td>\n",
       "      <td>0</td>\n",
       "      <td>0</td>\n",
       "      <td>0</td>\n",
       "      <td>0</td>\n",
       "      <td>0</td>\n",
       "      <td>0</td>\n",
       "    </tr>\n",
       "  </tbody>\n",
       "</table>\n",
       "<p>500 rows × 9 columns</p>\n",
       "</div>"
      ],
      "text/plain": [
       "     index     topic                                              label  \\\n",
       "0        1    Topic1  ['important', 'news', 'editor', 'delivered', '...   \n",
       "1       74   Topic74  ['president', 'trump', 'trump', 'called', 'pan...   \n",
       "2       23   Topic23  ['donald', 'trump', 'president', 'donald', 'tr...   \n",
       "3        0    Topic0  ['paid', 'leave', 'unemployment', 'rate', 'sur...   \n",
       "4        7    Topic7  ['coronavirus', 'pandemic', 'caused', 'coronav...   \n",
       "..     ...       ...                                                ...   \n",
       "495    315  Topic315  ['postal', 'service', 'post', 'office', 'jeff'...   \n",
       "496    305  Topic305  ['remain', 'open', 'nonessential', 'business',...   \n",
       "497    392  Topic392  ['trump', 'administration', 'administration', ...   \n",
       "498    303  Topic303  ['every', 'year', 'year', 'since', 'time', 'ye...   \n",
       "499     51   Topic51  ['task', 'force', 'coronavirus', 'task', 'hous...   \n",
       "\n",
       "     totalcount  breitbart   cnn  fox   nyt     wp  \n",
       "0         13434          0     0    0     0  13434  \n",
       "1          8871        968   822  611  2248   4220  \n",
       "2          6926       1741  2947  118   781   1313  \n",
       "3          5152          2     8    3  5138      1  \n",
       "4          4842        783  1488  260  1102   1205  \n",
       "..          ...        ...   ...  ...   ...    ...  \n",
       "495           0          0     0    0     0      0  \n",
       "496           0          0     0    0     0      0  \n",
       "497           0          0     0    0     0      0  \n",
       "498           0          0     0    0     0      0  \n",
       "499           0          0     0    0     0      0  \n",
       "\n",
       "[500 rows x 9 columns]"
      ]
     },
     "execution_count": 470,
     "metadata": {
      "tags": []
     },
     "output_type": "execute_result"
    }
   ],
   "source": [
    "nodelist_weighted"
   ]
  },
  {
   "cell_type": "code",
   "execution_count": null,
   "metadata": {
    "colab": {},
    "colab_type": "code",
    "id": "DCmKeyzrdkVf"
   },
   "outputs": [],
   "source": [
    "# Histogram of node weights"
   ]
  },
  {
   "cell_type": "code",
   "execution_count": null,
   "metadata": {
    "colab": {},
    "colab_type": "code",
    "id": "anyvMOqXdkVm"
   },
   "outputs": [],
   "source": [
    "weights = nodelist_weighted[nodelist_weighted.totalcount != 0]\n",
    "weights = weights[weights.totalcount < 4000].totalcount.values"
   ]
  },
  {
   "cell_type": "code",
   "execution_count": null,
   "metadata": {
    "colab": {},
    "colab_type": "code",
    "id": "x0DaPYfedkVo",
    "outputId": "067e2d99-a630-4c79-b0d4-73111312ef9d"
   },
   "outputs": [
    {
     "data": {
      "image/png": "[encoded data removed]",
      "text/plain": [
       "<Figure size 432x288 with 1 Axes>"
      ]
     },
     "metadata": {
      "needs_background": "light",
      "tags": []
     },
     "output_type": "display_data"
    }
   ],
   "source": [
    "result = plt.hist(weights, 50, color='c')\n",
    "result = plt.axvline(1338, color='k', linestyle='dashed', linewidth=1)\n",
    "result = plt.title(\"Distribution of Node Weights\")\n"
   ]
  },
  {
   "cell_type": "code",
   "execution_count": null,
   "metadata": {
    "colab": {},
    "colab_type": "code",
    "id": "96cU37-idkVp"
   },
   "outputs": [],
   "source": [
    "e_weights = edgelist[edgelist.weight > 500]\n",
    "e_weights = e_weights.weight.values"
   ]
  },
  {
   "cell_type": "code",
   "execution_count": null,
   "metadata": {
    "colab": {},
    "colab_type": "code",
    "id": "t4f7yzMNdkVr",
    "outputId": "533f6b54-3a57-4d29-ba86-396708dcc709"
   },
   "outputs": [
    {
     "data": {
      "image/png": "[encoded data removed]",
      "text/plain": [
       "<Figure size 432x288 with 1 Axes>"
      ]
     },
     "metadata": {
      "needs_background": "light",
      "tags": []
     },
     "output_type": "display_data"
    }
   ],
   "source": [
    "result = plt.hist(e_weights, 100, color = 'purple')\n",
    "# result = plt.axvline(1338, color='k', linestyle='dashed', linewidth=1)\n",
    "result = plt.title(\"Distribution of Edge Weights\")\n"
   ]
  },
  {
   "cell_type": "code",
   "execution_count": null,
   "metadata": {
    "colab": {},
    "colab_type": "code",
    "id": "xP6hJGWJdkVw",
    "outputId": "0dd57e0d-7f6a-44e8-a2cd-6b676aa9b678",
    "scrolled": true
   },
   "outputs": [
    {
     "data": {
      "text/plain": [
       "131"
      ]
     },
     "execution_count": 551,
     "metadata": {
      "tags": []
     },
     "output_type": "execute_result"
    }
   ],
   "source": [
    "len(e_weights)"
   ]
  },
  {
   "cell_type": "code",
   "execution_count": null,
   "metadata": {
    "colab": {},
    "colab_type": "code",
    "id": "PLrxZIckdkVy"
   },
   "outputs": [],
   "source": [
    "# Identify all the edges containing the contact tracing node\n",
    "\n",
    "seventyfive = edgelist[edgelist['node1'] == \"Topic75\"]\n",
    "seventyfive = seventyfive.append(edgelist[edgelist['node2'] == \"Topic75\"])\n",
    "seventyfive = seventyfive.sort_values(by=\"weight\", ascending = False)"
   ]
  },
  {
   "cell_type": "code",
   "execution_count": null,
   "metadata": {
    "colab": {},
    "colab_type": "code",
    "id": "SWOfFup7dkVz",
    "outputId": "26078320-b037-4f7b-d6bf-dae8fab7004f"
   },
   "outputs": [
    {
     "data": {
      "image/png": "[encoded data removed]",
      "text/plain": [
       "<Figure size 432x288 with 1 Axes>"
      ]
     },
     "metadata": {
      "needs_background": "light",
      "tags": []
     },
     "output_type": "display_data"
    }
   ],
   "source": [
    "result = plt.hist(seventyfive.weight.values, 100, color = 'orange')\n",
    "# result = plt.axvline(1338, color='k', linestyle='dashed', linewidth=1)\n",
    "result = plt.title(\"Distribution of Edge Weights of Contact Tracing Node\")\n",
    "\n",
    "\n",
    "\n"
   ]
  },
  {
   "cell_type": "code",
   "execution_count": null,
   "metadata": {
    "colab": {},
    "colab_type": "code",
    "id": "pV2FDlp4dkV0",
    "outputId": "2960b511-0e14-4ce0-963e-72a3d345a89a"
   },
   "outputs": [
    {
     "data": {
      "text/plain": [
       "64120"
      ]
     },
     "execution_count": 588,
     "metadata": {
      "tags": []
     },
     "output_type": "execute_result"
    }
   ],
   "source": [
    "len(edgelist)"
   ]
  },
  {
   "cell_type": "code",
   "execution_count": null,
   "metadata": {
    "colab": {},
    "colab_type": "code",
    "id": "Bgm6zm7HdkV1",
    "outputId": "65cd23df-8403-4ea7-f84d-3c3ac76a4cd9"
   },
   "outputs": [
    {
     "data": {
      "text/plain": [
       "0.12702702702702703"
      ]
     },
     "execution_count": 573,
     "metadata": {
      "tags": []
     },
     "output_type": "execute_result"
    }
   ],
   "source": [
    "# percent of edges are above 100 weight\n",
    "len(seventyfive[seventyfive.weight > 100]) / len(seventyfive)"
   ]
  },
  {
   "cell_type": "code",
   "execution_count": null,
   "metadata": {
    "colab": {},
    "colab_type": "code",
    "id": "CpvD3JMJdkV3",
    "outputId": "cd278308-20d9-49d5-ac66-0f9b5e24be1e",
    "scrolled": true
   },
   "outputs": [
    {
     "data": {
      "text/plain": [
       "11"
      ]
     },
     "execution_count": 595,
     "metadata": {
      "tags": []
     },
     "output_type": "execute_result"
    }
   ],
   "source": [
    "len(seventyfive[seventyfive.weight > 200]) "
   ]
  },
  {
   "cell_type": "code",
   "execution_count": null,
   "metadata": {
    "colab": {},
    "colab_type": "code",
    "id": "8ChLYX4UdkV4",
    "outputId": "ed07d423-7c58-41c7-a40a-98469e019607"
   },
   "outputs": [
    {
     "data": {
      "text/plain": [
       "197"
      ]
     },
     "execution_count": 20,
     "metadata": {
      "tags": []
     },
     "output_type": "execute_result"
    }
   ],
   "source": [
    "len(seventyfive[seventyfive.weight > 20]) "
   ]
  },
  {
   "cell_type": "code",
   "execution_count": null,
   "metadata": {
    "colab": {},
    "colab_type": "code",
    "id": "0Kx-6KGrdkV8",
    "outputId": "b2c20cbc-db26-4a8f-f1ae-0a57c2a3f6d2"
   },
   "outputs": [
    {
     "data": {
      "text/plain": [
       "0.38365564566437926"
      ]
     },
     "execution_count": 590,
     "metadata": {
      "tags": []
     },
     "output_type": "execute_result"
    }
   ],
   "source": [
    "# percent of edges are above 200 weight\n",
    "len(edgelist[edgelist.weight > 400]) / len(edgelist) * 100"
   ]
  },
  {
   "cell_type": "code",
   "execution_count": null,
   "metadata": {
    "colab": {},
    "colab_type": "code",
    "id": "u1nDQtDvdkV9",
    "outputId": "f70ac285-4640-43fa-eda1-153ae4576e70"
   },
   "outputs": [
    {
     "data": {
      "text/plain": [
       "0.2702702702702703"
      ]
     },
     "execution_count": 589,
     "metadata": {
      "tags": []
     },
     "output_type": "execute_result"
    }
   ],
   "source": [
    "# percent of edges are above 100 weight\n",
    "len(seventyfive[seventyfive.weight > 400]) / len(seventyfive) * 100"
   ]
  },
  {
   "cell_type": "code",
   "execution_count": null,
   "metadata": {
    "colab": {},
    "colab_type": "code",
    "id": "DAmtjI5NdkV_",
    "outputId": "d6b368c1-b67c-480c-e090-bfef6ebb4d1f",
    "scrolled": true
   },
   "outputs": [
    {
     "data": {
      "text/html": [
       "<div>\n",
       "<style scoped>\n",
       "    .dataframe tbody tr th:only-of-type {\n",
       "        vertical-align: middle;\n",
       "    }\n",
       "\n",
       "    .dataframe tbody tr th {\n",
       "        vertical-align: top;\n",
       "    }\n",
       "\n",
       "    .dataframe thead th {\n",
       "        text-align: right;\n",
       "    }\n",
       "</style>\n",
       "<table border=\"1\" class=\"dataframe\">\n",
       "  <thead>\n",
       "    <tr style=\"text-align: right;\">\n",
       "      <th></th>\n",
       "      <th>node1</th>\n",
       "      <th>node2</th>\n",
       "      <th>weight</th>\n",
       "    </tr>\n",
       "  </thead>\n",
       "  <tbody>\n",
       "    <tr>\n",
       "      <th>0</th>\n",
       "      <td>Topic1</td>\n",
       "      <td>Topic2</td>\n",
       "      <td>4573</td>\n",
       "    </tr>\n",
       "    <tr>\n",
       "      <th>1</th>\n",
       "      <td>Topic1</td>\n",
       "      <td>Topic74</td>\n",
       "      <td>3485</td>\n",
       "    </tr>\n",
       "    <tr>\n",
       "      <th>2</th>\n",
       "      <td>Topic1</td>\n",
       "      <td>Topic54</td>\n",
       "      <td>1824</td>\n",
       "    </tr>\n",
       "    <tr>\n",
       "      <th>3</th>\n",
       "      <td>Topic2</td>\n",
       "      <td>Topic74</td>\n",
       "      <td>1703</td>\n",
       "    </tr>\n",
       "    <tr>\n",
       "      <th>4</th>\n",
       "      <td>Topic23</td>\n",
       "      <td>Topic74</td>\n",
       "      <td>1656</td>\n",
       "    </tr>\n",
       "    <tr>\n",
       "      <th>...</th>\n",
       "      <td>...</td>\n",
       "      <td>...</td>\n",
       "      <td>...</td>\n",
       "    </tr>\n",
       "    <tr>\n",
       "      <th>1090</th>\n",
       "      <td>Topic13</td>\n",
       "      <td>Topic105</td>\n",
       "      <td>201</td>\n",
       "    </tr>\n",
       "    <tr>\n",
       "      <th>1091</th>\n",
       "      <td>Topic134</td>\n",
       "      <td>Topic310</td>\n",
       "      <td>201</td>\n",
       "    </tr>\n",
       "    <tr>\n",
       "      <th>1092</th>\n",
       "      <td>Topic134</td>\n",
       "      <td>Topic205</td>\n",
       "      <td>201</td>\n",
       "    </tr>\n",
       "    <tr>\n",
       "      <th>1093</th>\n",
       "      <td>Topic136</td>\n",
       "      <td>Topic243</td>\n",
       "      <td>201</td>\n",
       "    </tr>\n",
       "    <tr>\n",
       "      <th>1094</th>\n",
       "      <td>Topic1</td>\n",
       "      <td>Topic324</td>\n",
       "      <td>201</td>\n",
       "    </tr>\n",
       "  </tbody>\n",
       "</table>\n",
       "<p>1095 rows × 3 columns</p>\n",
       "</div>"
      ],
      "text/plain": [
       "         node1     node2  weight\n",
       "0       Topic1    Topic2    4573\n",
       "1       Topic1   Topic74    3485\n",
       "2       Topic1   Topic54    1824\n",
       "3       Topic2   Topic74    1703\n",
       "4      Topic23   Topic74    1656\n",
       "...        ...       ...     ...\n",
       "1090   Topic13  Topic105     201\n",
       "1091  Topic134  Topic310     201\n",
       "1092  Topic134  Topic205     201\n",
       "1093  Topic136  Topic243     201\n",
       "1094    Topic1  Topic324     201\n",
       "\n",
       "[1095 rows x 3 columns]"
      ]
     },
     "execution_count": 578,
     "metadata": {
      "tags": []
     },
     "output_type": "execute_result"
    }
   ],
   "source": [
    "edgelist[edgelist.weight> 200]"
   ]
  },
  {
   "cell_type": "markdown",
   "metadata": {},
   "source": [
    "# Finding Articles to Analyze"
   ]
  },
  {
   "cell_type": "code",
   "execution_count": 5,
   "metadata": {
    "colab": {},
    "colab_type": "code",
    "executionInfo": {
     "elapsed": 612,
     "status": "ok",
     "timestamp": 1599011151772,
     "user": {
      "displayName": "Yennie Jun",
      "photoUrl": "https://lh3.googleusercontent.com/a-/AOh14Ghq9YbwAPVv0DbwYiBidTSaejUC5xQMVp78N4Ek2g=s64",
      "userId": "01503012861379704934"
     },
     "user_tz": 300
    },
    "id": "QA6yKuhsdkWu"
   },
   "outputs": [],
   "source": [
    "threshold = 10"
   ]
  },
  {
   "cell_type": "code",
   "execution_count": 16,
   "metadata": {
    "colab": {},
    "colab_type": "code",
    "executionInfo": {
     "elapsed": 605,
     "status": "ok",
     "timestamp": 1599011183869,
     "user": {
      "displayName": "Yennie Jun",
      "photoUrl": "https://lh3.googleusercontent.com/a-/AOh14Ghq9YbwAPVv0DbwYiBidTSaejUC5xQMVp78N4Ek2g=s64",
      "userId": "01503012861379704934"
     },
     "user_tz": 300
    },
    "id": "nKSoGwbzdkWv"
   },
   "outputs": [],
   "source": [
    "top_edges = seventyfive[seventyfive.weight>threshold]"
   ]
  },
  {
   "cell_type": "code",
   "execution_count": 17,
   "metadata": {
    "colab": {
     "base_uri": "https://localhost:8080/",
     "height": 419
    },
    "colab_type": "code",
    "executionInfo": {
     "elapsed": 1065,
     "status": "ok",
     "timestamp": 1599011187672,
     "user": {
      "displayName": "Yennie Jun",
      "photoUrl": "https://lh3.googleusercontent.com/a-/AOh14Ghq9YbwAPVv0DbwYiBidTSaejUC5xQMVp78N4Ek2g=s64",
      "userId": "01503012861379704934"
     },
     "user_tz": 300
    },
    "id": "2yvyzz4UdkWw",
    "outputId": "c50a1bd7-cfec-41e8-a050-71a0e0762802"
   },
   "outputs": [
    {
     "data": {
      "text/html": [
       "<div>\n",
       "<style scoped>\n",
       "    .dataframe tbody tr th:only-of-type {\n",
       "        vertical-align: middle;\n",
       "    }\n",
       "\n",
       "    .dataframe tbody tr th {\n",
       "        vertical-align: top;\n",
       "    }\n",
       "\n",
       "    .dataframe thead th {\n",
       "        text-align: right;\n",
       "    }\n",
       "</style>\n",
       "<table border=\"1\" class=\"dataframe\">\n",
       "  <thead>\n",
       "    <tr style=\"text-align: right;\">\n",
       "      <th></th>\n",
       "      <th>node1</th>\n",
       "      <th>node2</th>\n",
       "      <th>weight</th>\n",
       "    </tr>\n",
       "  </thead>\n",
       "  <tbody>\n",
       "    <tr>\n",
       "      <th>170</th>\n",
       "      <td>Topic1</td>\n",
       "      <td>Topic75</td>\n",
       "      <td>457</td>\n",
       "    </tr>\n",
       "    <tr>\n",
       "      <th>264</th>\n",
       "      <td>Topic74</td>\n",
       "      <td>Topic75</td>\n",
       "      <td>390</td>\n",
       "    </tr>\n",
       "    <tr>\n",
       "      <th>621</th>\n",
       "      <td>Topic75</td>\n",
       "      <td>Topic156</td>\n",
       "      <td>269</td>\n",
       "    </tr>\n",
       "    <tr>\n",
       "      <th>639</th>\n",
       "      <td>Topic75</td>\n",
       "      <td>Topic275</td>\n",
       "      <td>267</td>\n",
       "    </tr>\n",
       "    <tr>\n",
       "      <th>642</th>\n",
       "      <td>Topic2</td>\n",
       "      <td>Topic75</td>\n",
       "      <td>266</td>\n",
       "    </tr>\n",
       "    <tr>\n",
       "      <th>...</th>\n",
       "      <td>...</td>\n",
       "      <td>...</td>\n",
       "      <td>...</td>\n",
       "    </tr>\n",
       "    <tr>\n",
       "      <th>29169</th>\n",
       "      <td>Topic75</td>\n",
       "      <td>Topic231</td>\n",
       "      <td>11</td>\n",
       "    </tr>\n",
       "    <tr>\n",
       "      <th>28444</th>\n",
       "      <td>Topic75</td>\n",
       "      <td>Topic467</td>\n",
       "      <td>11</td>\n",
       "    </tr>\n",
       "    <tr>\n",
       "      <th>29043</th>\n",
       "      <td>Topic75</td>\n",
       "      <td>Topic295</td>\n",
       "      <td>11</td>\n",
       "    </tr>\n",
       "    <tr>\n",
       "      <th>29074</th>\n",
       "      <td>Topic75</td>\n",
       "      <td>Topic269</td>\n",
       "      <td>11</td>\n",
       "    </tr>\n",
       "    <tr>\n",
       "      <th>29106</th>\n",
       "      <td>Topic75</td>\n",
       "      <td>Topic333</td>\n",
       "      <td>11</td>\n",
       "    </tr>\n",
       "  </tbody>\n",
       "</table>\n",
       "<p>253 rows × 3 columns</p>\n",
       "</div>"
      ],
      "text/plain": [
       "         node1     node2  weight\n",
       "170     Topic1   Topic75     457\n",
       "264    Topic74   Topic75     390\n",
       "621    Topic75  Topic156     269\n",
       "639    Topic75  Topic275     267\n",
       "642     Topic2   Topic75     266\n",
       "...        ...       ...     ...\n",
       "29169  Topic75  Topic231      11\n",
       "28444  Topic75  Topic467      11\n",
       "29043  Topic75  Topic295      11\n",
       "29074  Topic75  Topic269      11\n",
       "29106  Topic75  Topic333      11\n",
       "\n",
       "[253 rows x 3 columns]"
      ]
     },
     "execution_count": 17,
     "metadata": {
      "tags": []
     },
     "output_type": "execute_result"
    }
   ],
   "source": [
    "top_edges"
   ]
  },
  {
   "cell_type": "code",
   "execution_count": 18,
   "metadata": {
    "colab": {},
    "colab_type": "code",
    "executionInfo": {
     "elapsed": 4566,
     "status": "ok",
     "timestamp": 1599011193210,
     "user": {
      "displayName": "Yennie Jun",
      "photoUrl": "https://lh3.googleusercontent.com/a-/AOh14Ghq9YbwAPVv0DbwYiBidTSaejUC5xQMVp78N4Ek2g=s64",
      "userId": "01503012861379704934"
     },
     "user_tz": 300
    },
    "id": "xF1Dsp8pdkWx"
   },
   "outputs": [],
   "source": [
    "edgelist_full = pd.read_csv(\"models/us_edgelist.csv\")"
   ]
  },
  {
   "cell_type": "code",
   "execution_count": 19,
   "metadata": {
    "colab": {},
    "colab_type": "code",
    "executionInfo": {
     "elapsed": 20036,
     "status": "ok",
     "timestamp": 1599011210215,
     "user": {
      "displayName": "Yennie Jun",
      "photoUrl": "https://lh3.googleusercontent.com/a-/AOh14Ghq9YbwAPVv0DbwYiBidTSaejUC5xQMVp78N4Ek2g=s64",
      "userId": "01503012861379704934"
     },
     "user_tz": 300
    },
    "id": "pmO-x61_dkWy"
   },
   "outputs": [],
   "source": [
    "df = pd.read_pickle(\"data/us_proc.pkl\")"
   ]
  },
  {
   "cell_type": "code",
   "execution_count": null,
   "metadata": {
    "colab": {},
    "colab_type": "code",
    "id": "FvTFmmtodkWz"
   },
   "outputs": [],
   "source": [
    "# For each of the 11 edges containing the contact tracing node, \n",
    "# and above an edge weight of 200, \n",
    "# All articles with those two topics"
   ]
  },
  {
   "cell_type": "code",
   "execution_count": 21,
   "metadata": {
    "colab": {
     "base_uri": "https://localhost:8080/",
     "height": 1000
    },
    "colab_type": "code",
    "executionInfo": {
     "elapsed": 61299,
     "status": "ok",
     "timestamp": 1599011285360,
     "user": {
      "displayName": "Yennie Jun",
      "photoUrl": "https://lh3.googleusercontent.com/a-/AOh14Ghq9YbwAPVv0DbwYiBidTSaejUC5xQMVp78N4Ek2g=s64",
      "userId": "01503012861379704934"
     },
     "user_tz": 300
    },
    "id": "CleOqVAQdkW0",
    "outputId": "7bb07462-221d-4e8a-e5ec-9527fa479963"
   },
   "outputs": [
    {
     "name": "stdout",
     "output_type": "stream",
     "text": [
      "[457]Topic1-Topic75.csv\n",
      "[390]Topic74-Topic75.csv\n",
      "[269]Topic75-Topic156.csv\n",
      "[267]Topic75-Topic275.csv\n",
      "[266]Topic2-Topic75.csv\n",
      "[263]Topic75-Topic134.csv\n",
      "[258]Topic75-Topic299.csv\n",
      "[229]Topic24-Topic75.csv\n",
      "[219]Topic75-Topic105.csv\n",
      "[217]Topic75-Topic337.csv\n",
      "[201]Topic23-Topic75.csv\n",
      "[200]Topic75-Topic76.csv\n",
      "[199]Topic75-Topic234.csv\n",
      "[184]Topic75-Topic170.csv\n",
      "[180]Topic75-Topic150.csv\n",
      "[177]Topic75-Topic103.csv\n",
      "[175]Topic54-Topic75.csv\n",
      "[175]Topic75-Topic111.csv\n",
      "[168]Topic75-Topic494.csv\n",
      "[164]Topic75-Topic162.csv\n",
      "[163]Topic75-Topic218.csv\n",
      "[163]Topic75-Topic180.csv\n",
      "[160]Topic75-Topic225.csv\n",
      "[158]Topic75-Topic114.csv\n",
      "[152]Topic0-Topic75.csv\n",
      "[152]Topic75-Topic124.csv\n",
      "[151]Topic75-Topic102.csv\n",
      "[149]Topic75-Topic92.csv\n",
      "[148]Topic75-Topic164.csv\n",
      "[138]Topic75-Topic128.csv\n",
      "[133]Topic75-Topic308.csv\n",
      "[126]Topic75-Topic492.csv\n",
      "[122]Topic22-Topic75.csv\n",
      "[121]Topic75-Topic151.csv\n",
      "[118]Topic75-Topic215.csv\n",
      "[113]Topic75-Topic182.csv\n",
      "[111]Topic7-Topic75.csv\n",
      "[111]Topic75-Topic94.csv\n",
      "[110]Topic34-Topic75.csv\n",
      "[109]Topic75-Topic292.csv\n",
      "[109]Topic64-Topic75.csv\n",
      "[107]Topic75-Topic393.csv\n",
      "[106]Topic75-Topic95.csv\n",
      "[103]Topic13-Topic75.csv\n",
      "[101]Topic28-Topic75.csv\n",
      "[101]Topic75-Topic330.csv\n",
      "[101]Topic75-Topic172.csv\n",
      "[100]Topic75-Topic265.csv\n",
      "[94]Topic63-Topic75.csv\n",
      "[92]Topic75-Topic478.csv\n",
      "[89]Topic75-Topic104.csv\n",
      "[88]Topic3-Topic75.csv\n",
      "[86]Topic75-Topic378.csv\n",
      "[84]Topic75-Topic210.csv\n",
      "[82]Topic75-Topic141.csv\n",
      "[81]Topic75-Topic286.csv\n",
      "[81]Topic75-Topic148.csv\n",
      "[79]Topic75-Topic181.csv\n",
      "[79]Topic72-Topic75.csv\n",
      "[77]Topic75-Topic117.csv\n",
      "[76]Topic75-Topic205.csv\n",
      "[76]Topic75-Topic216.csv\n",
      "[76]Topic46-Topic75.csv\n",
      "[75]Topic75-Topic140.csv\n",
      "[73]Topic75-Topic169.csv\n",
      "[72]Topic75-Topic185.csv\n",
      "[72]Topic75-Topic118.csv\n",
      "[72]Topic75-Topic198.csv\n",
      "[66]Topic75-Topic184.csv\n",
      "[66]Topic75-Topic490.csv\n",
      "[66]Topic75-Topic154.csv\n",
      "[66]Topic67-Topic75.csv\n",
      "[65]Topic75-Topic191.csv\n",
      "[65]Topic75-Topic248.csv\n",
      "[65]Topic75-Topic122.csv\n",
      "[64]Topic75-Topic326.csv\n",
      "[64]Topic75-Topic121.csv\n",
      "[64]Topic69-Topic75.csv\n",
      "[63]Topic75-Topic106.csv\n",
      "[61]Topic75-Topic258.csv\n",
      "[61]Topic75-Topic167.csv\n",
      "[61]Topic75-Topic206.csv\n",
      "[61]Topic75-Topic471.csv\n",
      "[61]Topic50-Topic75.csv\n",
      "[60]Topic75-Topic131.csv\n",
      "[60]Topic75-Topic256.csv\n",
      "[57]Topic38-Topic75.csv\n",
      "[57]Topic75-Topic473.csv\n",
      "[55]Topic75-Topic100.csv\n",
      "[55]Topic62-Topic75.csv\n",
      "[55]Topic75-Topic274.csv\n",
      "[53]Topic25-Topic75.csv\n",
      "[53]Topic75-Topic226.csv\n",
      "[52]Topic75-Topic227.csv\n",
      "[52]Topic75-Topic86.csv\n",
      "[51]Topic75-Topic136.csv\n",
      "[51]Topic75-Topic152.csv\n",
      "[51]Topic75-Topic193.csv\n",
      "[51]Topic75-Topic174.csv\n",
      "[50]Topic75-Topic147.csv\n",
      "[50]Topic75-Topic211.csv\n",
      "[49]Topic75-Topic200.csv\n",
      "[48]Topic75-Topic499.csv\n",
      "[47]Topic75-Topic314.csv\n",
      "[47]Topic10-Topic75.csv\n",
      "[46]Topic75-Topic488.csv\n",
      "[46]Topic75-Topic165.csv\n",
      "[46]Topic75-Topic146.csv\n",
      "[45]Topic75-Topic204.csv\n",
      "[45]Topic75-Topic497.csv\n",
      "[45]Topic75-Topic188.csv\n",
      "[45]Topic42-Topic75.csv\n",
      "[45]Topic75-Topic197.csv\n",
      "[44]Topic75-Topic88.csv\n",
      "[43]Topic75-Topic340.csv\n",
      "[43]Topic75-Topic230.csv\n",
      "[43]Topic70-Topic75.csv\n",
      "[42]Topic75-Topic171.csv\n",
      "[42]Topic75-Topic161.csv\n",
      "[42]Topic75-Topic310.csv\n",
      "[42]Topic75-Topic80.csv\n",
      "[42]Topic40-Topic75.csv\n",
      "[42]Topic31-Topic75.csv\n",
      "[41]Topic75-Topic241.csv\n",
      "[41]Topic75-Topic495.csv\n",
      "[40]Topic75-Topic166.csv\n",
      "[40]Topic68-Topic75.csv\n",
      "[40]Topic75-Topic187.csv\n",
      "[39]Topic56-Topic75.csv\n",
      "[39]Topic58-Topic75.csv\n",
      "[39]Topic75-Topic89.csv\n",
      "[39]Topic75-Topic221.csv\n",
      "[37]Topic5-Topic75.csv\n",
      "[37]Topic75-Topic110.csv\n",
      "[37]Topic75-Topic212.csv\n",
      "[36]Topic75-Topic142.csv\n",
      "[36]Topic75-Topic113.csv\n",
      "[36]Topic75-Topic253.csv\n",
      "[36]Topic15-Topic75.csv\n",
      "[35]Topic75-Topic239.csv\n",
      "[35]Topic21-Topic75.csv\n",
      "[34]Topic75-Topic306.csv\n",
      "[34]Topic75-Topic335.csv\n",
      "[34]Topic75-Topic261.csv\n",
      "[34]Topic75-Topic155.csv\n",
      "[33]Topic75-Topic356.csv\n",
      "[33]Topic75-Topic232.csv\n",
      "[33]Topic75-Topic101.csv\n",
      "[32]Topic75-Topic139.csv\n",
      "[32]Topic75-Topic263.csv\n",
      "[31]Topic75-Topic112.csv\n",
      "[31]Topic75-Topic238.csv\n",
      "[31]Topic75-Topic229.csv\n",
      "[31]Topic75-Topic489.csv\n",
      "[31]Topic75-Topic176.csv\n",
      "[31]Topic75-Topic178.csv\n",
      "[31]Topic75-Topic144.csv\n",
      "[30]Topic26-Topic75.csv\n",
      "[29]Topic75-Topic138.csv\n",
      "[29]Topic75-Topic487.csv\n",
      "[29]Topic75-Topic208.csv\n",
      "[29]Topic71-Topic75.csv\n",
      "[28]Topic47-Topic75.csv\n",
      "[28]Topic75-Topic255.csv\n",
      "[28]Topic75-Topic321.csv\n",
      "[28]Topic75-Topic465.csv\n",
      "[28]Topic75-Topic485.csv\n",
      "[27]Topic75-Topic271.csv\n",
      "[27]Topic75-Topic324.csv\n",
      "[27]Topic43-Topic75.csv\n",
      "[26]Topic75-Topic213.csv\n",
      "[26]Topic75-Topic116.csv\n",
      "[26]Topic75-Topic149.csv\n",
      "[26]Topic75-Topic491.csv\n",
      "[25]Topic75-Topic233.csv\n",
      "[25]Topic75-Topic469.csv\n",
      "[25]Topic75-Topic480.csv\n",
      "[24]Topic75-Topic280.csv\n",
      "[24]Topic75-Topic277.csv\n",
      "[23]Topic75-Topic214.csv\n",
      "[23]Topic8-Topic75.csv\n",
      "[23]Topic75-Topic242.csv\n",
      "[23]Topic75-Topic217.csv\n",
      "[23]Topic75-Topic443.csv\n",
      "[22]Topic75-Topic272.csv\n",
      "[22]Topic75-Topic96.csv\n",
      "[22]Topic75-Topic236.csv\n",
      "[22]Topic75-Topic353.csv\n",
      "[22]Topic75-Topic179.csv\n",
      "[22]Topic75-Topic250.csv\n",
      "[22]Topic61-Topic75.csv\n",
      "[21]Topic75-Topic440.csv\n",
      "[21]Topic75-Topic243.csv\n",
      "[21]Topic75-Topic115.csv\n",
      "[21]Topic75-Topic201.csv\n",
      "[21]Topic75-Topic486.csv\n",
      "[21]Topic75-Topic466.csv\n",
      "[20]Topic75-Topic108.csv\n",
      "[20]Topic75-Topic240.csv\n",
      "[20]Topic75-Topic435.csv\n",
      "[20]Topic75-Topic98.csv\n",
      "[19]Topic75-Topic126.csv\n",
      "[19]Topic75-Topic462.csv\n",
      "[19]Topic75-Topic254.csv\n",
      "[19]Topic75-Topic160.csv\n",
      "[19]Topic75-Topic207.csv\n",
      "[18]Topic75-Topic175.csv\n",
      "[18]Topic75-Topic120.csv\n",
      "[18]Topic75-Topic475.csv\n",
      "[18]Topic16-Topic75.csv\n",
      "[18]Topic75-Topic482.csv\n",
      "[17]Topic75-Topic399.csv\n",
      "[17]Topic75-Topic476.csv\n",
      "[17]Topic75-Topic287.csv\n",
      "[17]Topic75-Topic219.csv\n",
      "[16]Topic75-Topic264.csv\n",
      "[16]Topic75-Topic157.csv\n",
      "[16]Topic75-Topic159.csv\n",
      "[16]Topic75-Topic431.csv\n",
      "[16]Topic75-Topic331.csv\n",
      "[16]Topic75-Topic309.csv\n",
      "[16]Topic75-Topic283.csv\n",
      "[15]Topic75-Topic247.csv\n",
      "[15]Topic75-Topic496.csv\n",
      "[15]Topic75-Topic259.csv\n",
      "[15]Topic75-Topic474.csv\n",
      "[15]Topic75-Topic311.csv\n",
      "[15]Topic75-Topic158.csv\n",
      "[14]Topic75-Topic479.csv\n",
      "[14]Topic75-Topic454.csv\n",
      "[14]Topic75-Topic202.csv\n",
      "[14]Topic75-Topic127.csv\n",
      "[13]Topic75-Topic404.csv\n",
      "[13]Topic75-Topic483.csv\n",
      "[13]Topic75-Topic190.csv\n",
      "[13]Topic30-Topic75.csv\n",
      "[12]Topic75-Topic433.csv\n",
      "[12]Topic14-Topic75.csv\n",
      "[12]Topic75-Topic464.csv\n",
      "[12]Topic75-Topic194.csv\n",
      "[12]Topic75-Topic222.csv\n",
      "[12]Topic75-Topic245.csv\n",
      "[12]Topic75-Topic177.csv\n",
      "[12]Topic75-Topic470.csv\n",
      "[11]Topic6-Topic75.csv\n",
      "[11]Topic75-Topic249.csv\n",
      "[11]Topic75-Topic244.csv\n",
      "[11]Topic75-Topic235.csv\n",
      "[11]Topic75-Topic231.csv\n",
      "[11]Topic75-Topic467.csv\n",
      "[11]Topic75-Topic295.csv\n",
      "[11]Topic75-Topic269.csv\n",
      "[11]Topic75-Topic333.csv\n"
     ]
    }
   ],
   "source": [
    "for index, row in top_edges.iterrows():\n",
    "    # Find all the edges that include this specific edge\n",
    "    edges = edgelist_full[(edgelist_full.node1 == row.node1) & (edgelist_full.node2 == row.node2)]\n",
    "    \n",
    "    # Get the document ids\n",
    "    docIds = edges.documentId.values\n",
    "    \n",
    "    # Get the documents corresponding to these edges\n",
    "    documents = df[df.index.isin(docIds)][[\"title\", \"date\", \"url\", \"keyword\", \"text\", \"source\"]]\n",
    "    documents.reset_index(inplace=True)\n",
    "    \n",
    "    textfile = f\"[{len(edges)}]{row.node1}-{row.node2}.csv\"\n",
    "    print(textfile)\n",
    "    \n",
    "    documents.to_csv(f\"texts_to_analyze_{threshold}/{textfile}\")"
   ]
  },
  {
   "cell_type": "code",
   "execution_count": 22,
   "metadata": {
    "colab": {},
    "colab_type": "code",
    "executionInfo": {
     "elapsed": 58534,
     "status": "ok",
     "timestamp": 1599011285366,
     "user": {
      "displayName": "Yennie Jun",
      "photoUrl": "https://lh3.googleusercontent.com/a-/AOh14Ghq9YbwAPVv0DbwYiBidTSaejUC5xQMVp78N4Ek2g=s64",
      "userId": "01503012861379704934"
     },
     "user_tz": 300
    },
    "id": "In9U1zGmdkW2"
   },
   "outputs": [],
   "source": [
    "#  make a table of those 11 edges, including \n",
    "# a) the two node ids, \n",
    "# b) edge weight,\n",
    "# c) bag of words for each node,"
   ]
  },
  {
   "cell_type": "code",
   "execution_count": 23,
   "metadata": {
    "colab": {
     "base_uri": "https://localhost:8080/",
     "height": 173
    },
    "colab_type": "code",
    "executionInfo": {
     "elapsed": 57903,
     "status": "ok",
     "timestamp": 1599011285568,
     "user": {
      "displayName": "Yennie Jun",
      "photoUrl": "https://lh3.googleusercontent.com/a-/AOh14Ghq9YbwAPVv0DbwYiBidTSaejUC5xQMVp78N4Ek2g=s64",
      "userId": "01503012861379704934"
     },
     "user_tz": 300
    },
    "id": "mUh0RWcadkW3",
    "outputId": "9d37d382-fc2a-4b6e-e3ff-76e3c1def1a6"
   },
   "outputs": [
    {
     "name": "stderr",
     "output_type": "stream",
     "text": [
      "/usr/local/lib/python3.6/dist-packages/ipykernel_launcher.py:6: SettingWithCopyWarning:\n",
      "\n",
      "\n",
      "A value is trying to be set on a copy of a slice from a DataFrame.\n",
      "Try using .loc[row_indexer,col_indexer] = value instead\n",
      "\n",
      "See the caveats in the documentation: https://pandas.pydata.org/pandas-docs/stable/user_guide/indexing.html#returning-a-view-versus-a-copy\n",
      "\n"
     ]
    }
   ],
   "source": [
    "# get the list of nodes/topics\n",
    "topics = list(set(list_flatten(top_edges[['node1', 'node2']].values.tolist())))\n",
    "\n",
    "# dictionary mapping topic to name\n",
    "topic_name_dict = nodelist[nodelist.topic.isin(topics)]\n",
    "topic_name_dict[\"label\"] = topic_name_dict.label.apply(lambda a: ast.literal_eval(a))"
   ]
  },
  {
   "cell_type": "code",
   "execution_count": 24,
   "metadata": {
    "colab": {},
    "colab_type": "code",
    "executionInfo": {
     "elapsed": 56826,
     "status": "ok",
     "timestamp": 1599011285824,
     "user": {
      "displayName": "Yennie Jun",
      "photoUrl": "https://lh3.googleusercontent.com/a-/AOh14Ghq9YbwAPVv0DbwYiBidTSaejUC5xQMVp78N4Ek2g=s64",
      "userId": "01503012861379704934"
     },
     "user_tz": 300
    },
    "id": "tIu_dIhedkW5"
   },
   "outputs": [],
   "source": [
    "node1_bow = []\n",
    "node2_bow = []\n",
    "\n",
    "for index, row in top_edges.iterrows():\n",
    "    bow = topic_name_dict[topic_name_dict.topic == row.node1].label.values[0]\n",
    "    node1_bow.append(' '.join([\"-\".join(bow[i:i+2]) for i in range(0, len(bow), 2)]))\n",
    "    \n",
    "    bow = topic_name_dict[topic_name_dict.topic == row.node2].label.values[0]\n",
    "    node2_bow.append(' '.join([\"-\".join(bow[i:i+2]) for i in range(0, len(bow), 2)]))\n",
    "    \n",
    "    \n"
   ]
  },
  {
   "cell_type": "code",
   "execution_count": null,
   "metadata": {},
   "outputs": [],
   "source": [
    "top_edges[\"node1_bow\"] = node1_bow\n",
    "top_edges[\"node2_bow\"] = node2_bow"
   ]
  },
  {
   "cell_type": "code",
   "execution_count": 27,
   "metadata": {
    "colab": {},
    "colab_type": "code",
    "executionInfo": {
     "elapsed": 1311,
     "status": "ok",
     "timestamp": 1599011348465,
     "user": {
      "displayName": "Yennie Jun",
      "photoUrl": "https://lh3.googleusercontent.com/a-/AOh14Ghq9YbwAPVv0DbwYiBidTSaejUC5xQMVp78N4Ek2g=s64",
      "userId": "01503012861379704934"
     },
     "user_tz": 300
    },
    "id": "-IzTAdnydkW_"
   },
   "outputs": [],
   "source": [
    "top_edges.to_csv(f\"texts_to_analyze_{threshold}/top_edges_table.csv\")"
   ]
  },
  {
   "cell_type": "code",
   "execution_count": null,
   "metadata": {},
   "outputs": [],
   "source": []
  },
  {
   "cell_type": "code",
   "execution_count": null,
   "metadata": {},
   "outputs": [],
   "source": []
  },
  {
   "cell_type": "code",
   "execution_count": null,
   "metadata": {},
   "outputs": [],
   "source": []
  },
  {
   "cell_type": "code",
   "execution_count": null,
   "metadata": {},
   "outputs": [],
   "source": []
  },
  {
   "cell_type": "code",
   "execution_count": null,
   "metadata": {},
   "outputs": [],
   "source": []
  },
  {
   "cell_type": "code",
   "execution_count": null,
   "metadata": {},
   "outputs": [],
   "source": []
  }
 ],
 "metadata": {
  "kernelspec": {
   "display_name": "Python 3",
   "language": "python",
   "name": "python3"
  },
  "language_info": {
   "codemirror_mode": {
    "name": "ipython",
    "version": 3
   },
   "file_extension": ".py",
   "mimetype": "text/x-python",
   "name": "python",
   "nbconvert_exporter": "python",
   "pygments_lexer": "ipython3",
   "version": "3.8.5"
  }
 },
 "nbformat": 4,
 "nbformat_minor": 4
}
