{
 "cells": [
  {
   "cell_type": "markdown",
   "metadata": {},
   "source": [
    "How many articles mention contact tracing (vs. entire coronavirus corpus) per country?"
   ]
  },
  {
   "cell_type": "code",
   "execution_count": 2,
   "metadata": {},
   "outputs": [],
   "source": [
    "import pandas as pd\n",
    "import pickle"
   ]
  },
  {
   "cell_type": "code",
   "execution_count": 4,
   "metadata": {},
   "outputs": [],
   "source": [
    "us = pd.read_pickle(\"us/data/us_proc.pkl\")\n",
    "kor = pd.read_pickle(\"korea/data/korean_proc.pkl\")\n",
    "taiwan = pd.read_csv(\"taiwan/data/text_proc.csv\")\n",
    "hk_eng = pd.read_csv(\"hong kong/data/hk_eng_proc.csv\")\n",
    "hk_ch = pd.read_csv(\"hong kong/data/hk_ch_proc.csv\")"
   ]
  },
  {
   "cell_type": "code",
   "execution_count": 27,
   "metadata": {},
   "outputs": [],
   "source": [
    "us_ct = len(us[us.text_proc.str.contains(\"contact tracing|contact-tracing|contact tracking|contact-tracking\")])\n",
    "kor_ct = len(kor[kor.text_proc.str.contains(\"역학 조사|확진자 추적|컨택트 트레이싱|추적 조사|접촉자 추적|동선 추적\")])\n",
    "taiwan_ct = len(taiwan[taiwan.text_proc.str.contains(\"接觸 追蹤|持續 追蹤|接觸者 追蹤|追蹤 接觸者\")])\n",
    "hk_ch_ct = len(hk_ch[hk_ch.text_proc.str.contains(\"接觸 追蹤|接觸者 追蹤|追蹤 接觸者|流行病學 調查\")])\n",
    "hk_eng_ct = len(hk_eng[hk_eng.text_proc.str.contains(\"contact tracing|contact-tracing|contact tracking|contact-tracking\")])"
   ]
  },
  {
   "cell_type": "code",
   "execution_count": 30,
   "metadata": {},
   "outputs": [],
   "source": [
    "ct_articles = [\n",
    "    [us_ct, len(us)], [kor_ct, len(kor)], [taiwan_ct, len(taiwan)], \n",
    "    [hk_ch_ct, len(hk_ch)], [hk_eng_ct, len(hk_eng)]\n",
    "]"
   ]
  },
  {
   "cell_type": "code",
   "execution_count": 44,
   "metadata": {},
   "outputs": [],
   "source": [
    "df = pd.DataFrame(data=ct_articles,\n",
    "             index=['us', 'korea', 'taiwan', 'hong kong chinese', 'hong kong english'], \n",
    "             columns=['contact tracing articles', 'total articles'])"
   ]
  },
  {
   "cell_type": "code",
   "execution_count": 48,
   "metadata": {},
   "outputs": [],
   "source": [
    "df.loc[:, 'percentage'] = df['contact tracing articles']/df['total articles'] * 100"
   ]
  },
  {
   "cell_type": "code",
   "execution_count": 49,
   "metadata": {},
   "outputs": [
    {
     "data": {
      "text/html": [
       "<div>\n",
       "<style scoped>\n",
       "    .dataframe tbody tr th:only-of-type {\n",
       "        vertical-align: middle;\n",
       "    }\n",
       "\n",
       "    .dataframe tbody tr th {\n",
       "        vertical-align: top;\n",
       "    }\n",
       "\n",
       "    .dataframe thead th {\n",
       "        text-align: right;\n",
       "    }\n",
       "</style>\n",
       "<table border=\"1\" class=\"dataframe\">\n",
       "  <thead>\n",
       "    <tr style=\"text-align: right;\">\n",
       "      <th></th>\n",
       "      <th>contact tracing articles</th>\n",
       "      <th>total articles</th>\n",
       "      <th>percentage</th>\n",
       "    </tr>\n",
       "  </thead>\n",
       "  <tbody>\n",
       "    <tr>\n",
       "      <th>us</th>\n",
       "      <td>1836</td>\n",
       "      <td>51541</td>\n",
       "      <td>3.562213</td>\n",
       "    </tr>\n",
       "    <tr>\n",
       "      <th>korea</th>\n",
       "      <td>2732</td>\n",
       "      <td>51250</td>\n",
       "      <td>5.330732</td>\n",
       "    </tr>\n",
       "    <tr>\n",
       "      <th>taiwan</th>\n",
       "      <td>344</td>\n",
       "      <td>84900</td>\n",
       "      <td>0.405183</td>\n",
       "    </tr>\n",
       "    <tr>\n",
       "      <th>hong kong chinese</th>\n",
       "      <td>135</td>\n",
       "      <td>22525</td>\n",
       "      <td>0.599334</td>\n",
       "    </tr>\n",
       "    <tr>\n",
       "      <th>hong kong english</th>\n",
       "      <td>385</td>\n",
       "      <td>4822</td>\n",
       "      <td>7.984239</td>\n",
       "    </tr>\n",
       "  </tbody>\n",
       "</table>\n",
       "</div>"
      ],
      "text/plain": [
       "                   contact tracing articles  total articles  percentage\n",
       "us                                     1836           51541    3.562213\n",
       "korea                                  2732           51250    5.330732\n",
       "taiwan                                  344           84900    0.405183\n",
       "hong kong chinese                       135           22525    0.599334\n",
       "hong kong english                       385            4822    7.984239"
      ]
     },
     "execution_count": 49,
     "metadata": {},
     "output_type": "execute_result"
    }
   ],
   "source": [
    "df"
   ]
  },
  {
   "cell_type": "code",
   "execution_count": 22,
   "metadata": {},
   "outputs": [],
   "source": []
  },
  {
   "cell_type": "code",
   "execution_count": null,
   "metadata": {},
   "outputs": [],
   "source": []
  }
 ],
 "metadata": {
  "kernelspec": {
   "display_name": "Python 3",
   "language": "python",
   "name": "python3"
  },
  "language_info": {
   "codemirror_mode": {
    "name": "ipython",
    "version": 3
   },
   "file_extension": ".py",
   "mimetype": "text/x-python",
   "name": "python",
   "nbconvert_exporter": "python",
   "pygments_lexer": "ipython3",
   "version": "3.8.5"
  }
 },
 "nbformat": 4,
 "nbformat_minor": 4
}
