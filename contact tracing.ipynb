{
 "cells": [
  {
   "cell_type": "markdown",
   "metadata": {},
   "source": [
    "How many articles mention contact tracing (vs. entire coronavirus corpus) per country?"
   ]
  },
  {
   "cell_type": "code",
   "execution_count": 79,
   "metadata": {},
   "outputs": [],
   "source": [
    "import pandas as pd\n",
    "import pickle\n",
    "from dateutil import parser"
   ]
  },
  {
   "cell_type": "code",
   "execution_count": 4,
   "metadata": {},
   "outputs": [],
   "source": [
    "us = pd.read_pickle(\"us/data/us_proc.pkl\")\n",
    "kor = pd.read_pickle(\"korea/data/korean_proc.pkl\")\n",
    "taiwan = pd.read_csv(\"taiwan/data/text_proc.csv\")\n",
    "hk_eng = pd.read_csv(\"hong kong/data/hk_eng_proc.csv\")\n",
    "hk_ch = pd.read_csv(\"hong kong/data/hk_ch_proc.csv\")"
   ]
  },
  {
   "cell_type": "code",
   "execution_count": 87,
   "metadata": {},
   "outputs": [],
   "source": [
    "kor = kor[~kor.date.isna()]"
   ]
  },
  {
   "cell_type": "code",
   "execution_count": 99,
   "metadata": {
    "code_folding": [
     0
    ]
   },
   "outputs": [],
   "source": [
    "def get_week_of_year(date):\n",
    "    if (type(date) == str):\n",
    "        date = parser.parse(date)\n",
    "    if (type(date) == float):\n",
    "        print(date)\n",
    "    year, week_of_year, day_of_week = date.isocalendar()\n",
    "    return week_of_year"
   ]
  },
  {
   "cell_type": "code",
   "execution_count": null,
   "metadata": {},
   "outputs": [],
   "source": [
    "us.loc[:, 'week_of_year'] = us.date.apply(lambda d: get_week_of_year(d))\n",
    "kor.loc[:, 'week_of_year'] = kor.date.apply(lambda d: get_week_of_year(d))\n",
    "taiwan.loc[:, 'week_of_year'] = taiwan.date.apply(lambda d: get_week_of_year(parser.parse(d)))\n",
    "hk_eng.loc[:, 'week_of_year'] = hk_eng.date.apply(lambda d: get_week_of_year(parser.parse(d)))\n",
    "hk_ch.loc[:, 'week_of_year'] = hk_ch.date.apply(lambda d: get_week_of_year(parser.parse(d)))"
   ]
  },
  {
   "cell_type": "code",
   "execution_count": 123,
   "metadata": {},
   "outputs": [],
   "source": [
    "us.loc[:, \"contact_tracing\"] = us.text_proc.str.contains(\"contact tracing|contact-tracing|contact tracking|contact-tracking\")\n",
    "kor.loc[:, \"contact_tracing\"] = kor.text_proc.str.contains(\"역학 조사|확진자 추적|컨택트 트레이싱|추적 조사|접촉자 추적|동선 추적\")\n",
    "taiwan.loc[:, \"contact_tracing\"] = taiwan.text_proc.str.contains(\"接觸 追蹤|持續 追蹤|接觸者 追蹤|追蹤 接觸者\")\n",
    "hk_ch.loc[:, \"contact_tracing\"] = hk_ch.text_proc.str.contains(\"接觸 追蹤|接觸者 追蹤|追蹤 接觸者|流行病學 調查\")\n",
    "hk_eng.loc[:, \"contact_tracing\"] = hk_eng.text_proc.str.contains(\"contact tracing|contact-tracing|contact tracking|contact-tracking\")\n"
   ]
  },
  {
   "cell_type": "code",
   "execution_count": 130,
   "metadata": {},
   "outputs": [],
   "source": [
    "us_ct = len(us[us.contact_tracing == True])\n",
    "kor_ct = len(kor[kor.contact_tracing == True])\n",
    "taiwan_ct = len(taiwan[taiwan.contact_tracing == True])\n",
    "hk_ch_ct = len(hk_ch[hk_ch.contact_tracing == True])\n",
    "hk_eng_ct = len(hk_eng[hk_eng.contact_tracing == True])"
   ]
  },
  {
   "cell_type": "code",
   "execution_count": 150,
   "metadata": {},
   "outputs": [],
   "source": [
    "country = \"us\"\n",
    "us_discrete_dtm = pd.read_csv(f\"{country}/proc/discrete_dtm.csv\")\n",
    "\n",
    "country = \"korea\"\n",
    "kor_discrete_dtm = pd.read_csv(f\"{country}/proc/discrete_dtm.csv\")\n",
    "\n",
    "country = \"hong kong/\"\n",
    "hk_eng_discrete_dtm = pd.read_csv(f\"{country}/proc/eng/discrete_dtm.csv\")\n",
    "\n",
    "country = \"hong kong\"\n",
    "hk_ch_discrete_dtm = pd.read_csv(f\"{country}/proc/ch/discrete_dtm.csv\")\n",
    "\n",
    "# country = \"taiwan\"\n",
    "# taiwan_discrete_dtm = pd.read_csv(f\"{country}/proc/discrete_dtm.csv\")"
   ]
  },
  {
   "cell_type": "code",
   "execution_count": 156,
   "metadata": {},
   "outputs": [],
   "source": [
    "us_latent_articles = sum(us_discrete_dtm[\"Topic75\"])\n",
    "kor_latent_articles = sum(kor_discrete_dtm[\"Topic214\"])\n",
    "hk_ch_latent_articles = sum(hk_ch_discrete_dtm[\"Topic91\"])\n",
    "hk_eng_latent_articles = sum(hk_eng_discrete_dtm[\"Topic39\"])\n"
   ]
  },
  {
   "cell_type": "code",
   "execution_count": 201,
   "metadata": {},
   "outputs": [],
   "source": [
    "ct_articles = [\n",
    "    [us_ct, us_latent_articles, 500, len(us)], \n",
    "    [kor_ct, kor_latent_articles, 500, len(kor)], \n",
    "    [taiwan_ct, 0, 500, len(taiwan)], \n",
    "    [hk_ch_ct, hk_ch_latent_articles, 500, len(hk_ch)], \n",
    "    [hk_eng_ct, hk_eng_latent_articles, 100, len(hk_eng)]\n",
    "]"
   ]
  },
  {
   "cell_type": "code",
   "execution_count": 202,
   "metadata": {},
   "outputs": [],
   "source": [
    "df = pd.DataFrame(data=ct_articles,\n",
    "             index=['us', 'korea', 'taiwan', 'hong kong chinese', 'hong kong english'], \n",
    "             columns=['contact tracing keyword articles', 'latent topic articles', 'num topics', 'total articles'])"
   ]
  },
  {
   "cell_type": "code",
   "execution_count": 203,
   "metadata": {},
   "outputs": [],
   "source": [
    "df.loc[:, 'P1: keyword articles/total articles'] = df['contact tracing keyword articles']/df['total articles'] * 100\n",
    "df.loc[:, 'P2: latent topic articles/total articles'] = df['latent topic articles']/df['total articles'] * 100\n",
    "df.loc[:, 'P3: latent topic articles/keyword articles'] = df['latent topic articles']/df['contact tracing keyword articles'] * 100\n"
   ]
  },
  {
   "cell_type": "markdown",
   "metadata": {},
   "source": [
    "Proportion 1: Count of articles found by searching keyword / total articles\n",
    "\n",
    "Proportion 2: Count of articles that scored significantly on contact tracing latent topic/ total articles\n",
    "\n",
    "Proportion 3: Count of articles that scored significantly on contact tracing latent topic/ Count of articles found by searching contact tracing keyword (Proportion 2 / Proportion 1). Proportion 3 tells us how sensitive latent topics are, relative to a conventional keyword search."
   ]
  },
  {
   "cell_type": "code",
   "execution_count": 204,
   "metadata": {
    "scrolled": true
   },
   "outputs": [
    {
     "data": {
      "text/html": [
       "<div>\n",
       "<style scoped>\n",
       "    .dataframe tbody tr th:only-of-type {\n",
       "        vertical-align: middle;\n",
       "    }\n",
       "\n",
       "    .dataframe tbody tr th {\n",
       "        vertical-align: top;\n",
       "    }\n",
       "\n",
       "    .dataframe thead th {\n",
       "        text-align: right;\n",
       "    }\n",
       "</style>\n",
       "<table border=\"1\" class=\"dataframe\">\n",
       "  <thead>\n",
       "    <tr style=\"text-align: right;\">\n",
       "      <th></th>\n",
       "      <th>contact tracing keyword articles</th>\n",
       "      <th>latent topic articles</th>\n",
       "      <th>num topics</th>\n",
       "      <th>total articles</th>\n",
       "      <th>P1: keyword articles/total articles</th>\n",
       "      <th>P2: latent topic articles/total articles</th>\n",
       "      <th>P3: latent topic articles/keyword articles</th>\n",
       "    </tr>\n",
       "  </thead>\n",
       "  <tbody>\n",
       "    <tr>\n",
       "      <th>us</th>\n",
       "      <td>1836</td>\n",
       "      <td>1438</td>\n",
       "      <td>500</td>\n",
       "      <td>51541</td>\n",
       "      <td>3.562213</td>\n",
       "      <td>2.790012</td>\n",
       "      <td>78.322440</td>\n",
       "    </tr>\n",
       "    <tr>\n",
       "      <th>korea</th>\n",
       "      <td>2732</td>\n",
       "      <td>1250</td>\n",
       "      <td>500</td>\n",
       "      <td>51194</td>\n",
       "      <td>5.336563</td>\n",
       "      <td>2.441692</td>\n",
       "      <td>45.754026</td>\n",
       "    </tr>\n",
       "    <tr>\n",
       "      <th>taiwan</th>\n",
       "      <td>344</td>\n",
       "      <td>0</td>\n",
       "      <td>500</td>\n",
       "      <td>84900</td>\n",
       "      <td>0.405183</td>\n",
       "      <td>0.000000</td>\n",
       "      <td>0.000000</td>\n",
       "    </tr>\n",
       "    <tr>\n",
       "      <th>hong kong chinese</th>\n",
       "      <td>135</td>\n",
       "      <td>230</td>\n",
       "      <td>500</td>\n",
       "      <td>22525</td>\n",
       "      <td>0.599334</td>\n",
       "      <td>1.021088</td>\n",
       "      <td>170.370370</td>\n",
       "    </tr>\n",
       "    <tr>\n",
       "      <th>hong kong english</th>\n",
       "      <td>385</td>\n",
       "      <td>136</td>\n",
       "      <td>100</td>\n",
       "      <td>4822</td>\n",
       "      <td>7.984239</td>\n",
       "      <td>2.820406</td>\n",
       "      <td>35.324675</td>\n",
       "    </tr>\n",
       "  </tbody>\n",
       "</table>\n",
       "</div>"
      ],
      "text/plain": [
       "                   contact tracing keyword articles  latent topic articles  \\\n",
       "us                                             1836                   1438   \n",
       "korea                                          2732                   1250   \n",
       "taiwan                                          344                      0   \n",
       "hong kong chinese                               135                    230   \n",
       "hong kong english                               385                    136   \n",
       "\n",
       "                   num topics  total articles  \\\n",
       "us                        500           51541   \n",
       "korea                     500           51194   \n",
       "taiwan                    500           84900   \n",
       "hong kong chinese         500           22525   \n",
       "hong kong english         100            4822   \n",
       "\n",
       "                   P1: keyword articles/total articles  \\\n",
       "us                                            3.562213   \n",
       "korea                                         5.336563   \n",
       "taiwan                                        0.405183   \n",
       "hong kong chinese                             0.599334   \n",
       "hong kong english                             7.984239   \n",
       "\n",
       "                   P2: latent topic articles/total articles  \\\n",
       "us                                                 2.790012   \n",
       "korea                                              2.441692   \n",
       "taiwan                                             0.000000   \n",
       "hong kong chinese                                  1.021088   \n",
       "hong kong english                                  2.820406   \n",
       "\n",
       "                   P3: latent topic articles/keyword articles  \n",
       "us                                                  78.322440  \n",
       "korea                                               45.754026  \n",
       "taiwan                                               0.000000  \n",
       "hong kong chinese                                  170.370370  \n",
       "hong kong english                                   35.324675  "
      ]
     },
     "execution_count": 204,
     "metadata": {},
     "output_type": "execute_result"
    }
   ],
   "source": [
    "df"
   ]
  },
  {
   "cell_type": "code",
   "execution_count": null,
   "metadata": {},
   "outputs": [],
   "source": []
  }
 ],
 "metadata": {
  "kernelspec": {
   "display_name": "Python 3",
   "language": "python",
   "name": "python3"
  },
  "language_info": {
   "codemirror_mode": {
    "name": "ipython",
    "version": 3
   },
   "file_extension": ".py",
   "mimetype": "text/x-python",
   "name": "python",
   "nbconvert_exporter": "python",
   "pygments_lexer": "ipython3",
   "version": "3.8.5"
  }
 },
 "nbformat": 4,
 "nbformat_minor": 4
}
